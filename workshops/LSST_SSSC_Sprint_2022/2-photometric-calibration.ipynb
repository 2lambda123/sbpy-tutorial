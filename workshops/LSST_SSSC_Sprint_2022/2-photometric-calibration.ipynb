{
 "cells": [
  {
   "cell_type": "markdown",
   "id": "ab9fb6ce-4330-4240-a7a2-5889ec9a025f",
   "metadata": {},
   "source": [
    "# Photometric calibration"
   ]
  },
  {
   "cell_type": "markdown",
   "id": "7bdfeafe-9809-41e6-b7da-409ecb2790a7",
   "metadata": {},
   "source": [
    "## Mangitudes and physical units\n",
    "\n",
    "astropy includes mangitude units and the AB magnitude system (flux density per unit frequency), to which LSST will be calibrated:"
   ]
  },
  {
   "cell_type": "code",
   "execution_count": 1,
   "id": "2a305b90-8b1e-4dfa-b575-e38f5ca179c6",
   "metadata": {},
   "outputs": [
    {
     "name": "stdout",
     "output_type": "stream",
     "text": [
      "18.0 mag(AB)\n"
     ]
    }
   ],
   "source": [
    "import astropy.units as u\n",
    "\n",
    "m = 18 * u.ABmag\n",
    "print(m)"
   ]
  },
  {
   "cell_type": "code",
   "execution_count": 2,
   "id": "e5a87c3a-119e-4ac8-8d0f-ec14c4125953",
   "metadata": {},
   "outputs": [
    {
     "name": "stdout",
     "output_type": "stream",
     "text": [
      "2.290867652767766e-30 W / (Hz m2)\n"
     ]
    }
   ],
   "source": [
    "fnu = m.to('W/(m2 Hz)')  # convert to linear units\n",
    "print(fnu)"
   ]
  },
  {
   "cell_type": "markdown",
   "id": "45386cdc-e58a-4930-b37b-cf0bb4b8c07d",
   "metadata": {},
   "source": [
    "---\n",
    "When we want to convert to per unit wavelength space, we need a wavelength and the `spectral_density` \"equivalency\" generator:"
   ]
  },
  {
   "cell_type": "code",
   "execution_count": 3,
   "id": "749d89ad-f574-4a61-9ca7-7579fede0d0a",
   "metadata": {},
   "outputs": [
    {
     "name": "stdout",
     "output_type": "stream",
     "text": [
      "2.2703631225650876e-15 W / (m2 um)\n"
     ]
    }
   ],
   "source": [
    "flam = m.to('W/(m2 um)', u.spectral_density(550 * u.nm))\n",
    "print(flam)"
   ]
  },
  {
   "cell_type": "markdown",
   "id": "29cadf6b-3ab0-4db0-aadb-9a5a01f45783",
   "metadata": {},
   "source": [
    "See https://docs.astropy.org/en/stable/units/equivalencies.html for more on unit equivalencies.\n",
    "\n",
    "sbpy introduces the VEGAmag unit, which is calibrated to the spectrum of Vega (0 mag at all wavelengths).  It may be convered to/from physical units using the `spectral_density_vega` equilvalency generator:"
   ]
  },
  {
   "cell_type": "code",
   "execution_count": 4,
   "id": "062058b6-fbbf-4454-8eed-d829e4d8e9b0",
   "metadata": {
    "tags": []
   },
   "outputs": [
    {
     "data": {
      "text/latex": [
       "$2.2379574 \\times 10^{-15} \\; \\mathrm{\\frac{W}{\\mu m\\,m^{2}}}$"
      ],
      "text/plain": [
       "<Quantity 2.23795744e-15 W / (m2 um)>"
      ]
     },
     "execution_count": 4,
     "metadata": {},
     "output_type": "execute_result"
    }
   ],
   "source": [
    "import sbpy.units as sbu\n",
    "\n",
    "m = 18 * sbu.VEGAmag\n",
    "m.to('W/(m2 um)', sbu.spectral_density_vega(550 * u.nm))"
   ]
  },
  {
   "cell_type": "markdown",
   "id": "9de04584-83a5-43a5-9031-a1ecd9e17e74",
   "metadata": {},
   "source": [
    "## Bandpasses\n",
    "\n",
    "sbpy has a few bandpasses defined for convenience:"
   ]
  },
  {
   "cell_type": "code",
   "execution_count": 5,
   "id": "a29e952a-fd50-426e-a9cc-5147e4462524",
   "metadata": {},
   "outputs": [],
   "source": [
    "from sbpy.photometry import bandpass\n",
    "\n",
    "rp1 = bandpass('PS1 r')  # PanSTARRS r-band"
   ]
  },
  {
   "cell_type": "markdown",
   "id": "ade1312a-d95e-4544-877d-6cd747f10b75",
   "metadata": {},
   "source": [
    "sbpy is built upon STScI's synphot, and the returned object is a `synphot.SpectralElement`:"
   ]
  },
  {
   "cell_type": "code",
   "execution_count": 6,
   "id": "a1f79a4c-488c-42e1-84b0-dc5cae1e535b",
   "metadata": {},
   "outputs": [
    {
     "name": "stdout",
     "output_type": "stream",
     "text": [
      "<class 'synphot.spectrum.SpectralElement'>\n"
     ]
    }
   ],
   "source": [
    "print(type(rp1))"
   ]
  },
  {
   "cell_type": "code",
   "execution_count": 7,
   "id": "63b2415c-33b0-4252-8227-2d20f690b99b",
   "metadata": {},
   "outputs": [
    {
     "data": {
      "image/png": "[encoded data removed]",
      "text/plain": [
       "<Figure size 432x288 with 1 Axes>"
      ]
     },
     "metadata": {
      "needs_background": "light"
     },
     "output_type": "display_data"
    }
   ],
   "source": [
    "rp1.plot()"
   ]
  },
  {
   "cell_type": "markdown",
   "id": "9ba46425-c090-4680-a0d5-1d60c167e8e3",
   "metadata": {},
   "source": [
    "See the synphot documentation for more on how to use `SpectralElement`: https://synphot.readthedocs.io/en/latest/synphot/bandpass.html.\n",
    "\n",
    "Here, we use the r-band's pivot wavelength to transform from the AB magnitude system (defined in flux density per unit frequency) to flux density per unit wavelength:"
   ]
  },
  {
   "cell_type": "code",
   "execution_count": 8,
   "id": "89e61bfb-9fe6-4cce-9955-03e80478683e",
   "metadata": {},
   "outputs": [
    {
     "name": "stdout",
     "output_type": "stream",
     "text": [
      "1.7859583290057543e-15 W / (m2 um)\n"
     ]
    }
   ],
   "source": [
    "m = 18 * u.ABmag\n",
    "print(m.to('W/(m2 um)', u.spectral_density(rp1.pivot())))"
   ]
  },
  {
   "cell_type": "markdown",
   "id": "b2c7cd2a-2d17-41b3-b284-042b3771ba45",
   "metadata": {
    "tags": []
   },
   "source": [
    "## Solar spectrum\n",
    "\n",
    "sbpy includes a spectrum of the Sun, and the option to download others, or define your own:"
   ]
  },
  {
   "cell_type": "code",
   "execution_count": 9,
   "id": "c065f923-a4f4-42dd-8db0-fc61046ad3ff",
   "metadata": {},
   "outputs": [
    {
     "name": "stdout",
     "output_type": "stream",
     "text": [
      "<Sun: E490-00a (2014) reference solar spectrum (Table 3)>\n"
     ]
    }
   ],
   "source": [
    "from sbpy.calib import Sun\n",
    "\n",
    "sun = Sun.from_default()\n",
    "print(sun)"
   ]
  },
  {
   "cell_type": "code",
   "execution_count": 10,
   "id": "a05ef3e3-ad6d-457f-b31d-5b0d69318785",
   "metadata": {},
   "outputs": [
    {
     "name": "stdout",
     "output_type": "stream",
     "text": [
      "    name                                description                           \n",
      "------------ -----------------------------------------------------------------\n",
      "Castelli1996      Castelli model, scaled and presented by Colina et al. (1996)\n",
      "   E490_2014                E490-00a (2014) reference solar spectrum (Table 3)\n",
      " E490_2014LR E490-00a (2014) low resolution reference solar spectrum (Table 4)\n",
      "  Kurucz1993               Kurucz (1993) model, scaled by Colina et al. (1996)\n"
     ]
    }
   ],
   "source": [
    "Sun.show_builtin()"
   ]
  },
  {
   "cell_type": "markdown",
   "id": "8bce090f-2d29-46d8-860f-ef242fcc7443",
   "metadata": {},
   "source": [
    "**The URLs for the Castelli and Kurucz will be updated in a future bug-fix.**  Otherwise, one would be able to get these spectra with, e.g., `Sun.from_builtin('Castelli1996')`."
   ]
  },
  {
   "cell_type": "markdown",
   "id": "fd516ec9-61f3-47e7-9a24-ec7846522f7c",
   "metadata": {},
   "source": [
    "Using sbpy's bibliography tracking module, we can get the reference for the data:"
   ]
  },
  {
   "cell_type": "code",
   "execution_count": 11,
   "id": "33252803-956f-4764-aedc-2dba6892a033",
   "metadata": {},
   "outputs": [
    {
     "name": "stdout",
     "output_type": "stream",
     "text": [
      "sbpy:\n",
      "  software: sbpy:\n",
      "    2019JOSS....4.1426M\n",
      "sbpy.calib.core.Sun:\n",
      "  E490-00a (2014) reference solar spectrum (Table 3):\n",
      "    doi:10.1520/E0490\n",
      "\n"
     ]
    }
   ],
   "source": [
    "from sbpy import bib\n",
    "\n",
    "bib.track()\n",
    "sun = Sun.from_default()\n",
    "sun(0.5 * u.um)\n",
    "bib.stop()\n",
    "print(bib.show())  # with the `ads` module set up, use bib.to_text()"
   ]
  },
  {
   "cell_type": "markdown",
   "id": "018057f7-2d35-403e-8c4b-1ecccd6be338",
   "metadata": {},
   "source": [
    "---\n",
    "Observe the Sun through the V-band and PS1 r-band filters:"
   ]
  },
  {
   "cell_type": "code",
   "execution_count": 12,
   "id": "29704033-1025-4614-8a07-83ce188f58b0",
   "metadata": {},
   "outputs": [
    {
     "name": "stdout",
     "output_type": "stream",
     "text": [
      "5502.343574280301 Angstrom 1839.9327322721458 W / (m2 um)\n"
     ]
    }
   ],
   "source": [
    "V = bandpass('Johnson V')\n",
    "lambda_eff, fluxd = sun.observe_bandpass(V)\n",
    "print(lambda_eff, fluxd)"
   ]
  },
  {
   "cell_type": "code",
   "execution_count": 13,
   "id": "3b9449e2-8e60-4d70-94c5-43f1e1c47e90",
   "metadata": {},
   "outputs": [
    {
     "name": "stdout",
     "output_type": "stream",
     "text": [
      "-26.763599066027865 mag(AB)\n"
     ]
    }
   ],
   "source": [
    "lambda_eff, m = sun.observe_bandpass(V, unit=u.ABmag)\n",
    "print(m)"
   ]
  },
  {
   "cell_type": "code",
   "execution_count": 14,
   "id": "f4156064-f612-4c3f-a16f-1809248e430d",
   "metadata": {},
   "outputs": [
    {
     "name": "stdout",
     "output_type": "stream",
     "text": [
      "-26.928330738233477 mag(AB)\n"
     ]
    }
   ],
   "source": [
    "lambda_eff, m = sun.observe_bandpass(rp1, unit=u.ABmag)\n",
    "print(m)"
   ]
  },
  {
   "cell_type": "code",
   "execution_count": 15,
   "id": "832c35d5-48c9-4a38-bba9-dcb8959aeec8",
   "metadata": {},
   "outputs": [
    {
     "data": {
      "image/png": "[encoded data removed]",
      "text/plain": [
       "<Figure size 432x288 with 2 Axes>"
      ]
     },
     "metadata": {
      "needs_background": "light"
     },
     "output_type": "display_data"
    }
   ],
   "source": [
    "import matplotlib.pyplot as plt\n",
    "\n",
    "fig = plt.figure(1)\n",
    "ax = plt.gca()\n",
    "\n",
    "# plot the solar spectrum\n",
    "ax.plot(sun.wave.to('um'), sun.fluxd, label='Solar spectrum')\n",
    "\n",
    "# observe the sun with the PS1 r-band filter and plot the result\n",
    "lambda_eff, fluxd = sun.observe_bandpass(rp1, unit=sun.fluxd.unit)\n",
    "ax.scatter([lambda_eff.to_value('um')], [fluxd.value], color='tab:red', label='Photometry')\n",
    "\n",
    "# plot the filter throughput\n",
    "rax = ax.twinx()\n",
    "w = rp1.waveset.to('um')\n",
    "rax.plot(w, rp1(w), color='tab:orange', label='PS1 r')\n",
    "\n",
    "# define plot parameters\n",
    "plt.setp(ax, xscale='log', yscale='log',\n",
    "         xlim=(0.3, 1.0), ylim=(1e2, 1e4),\n",
    "         xlabel='Wavelength (μm)', ylabel='Spectra flux density (W/m2 μm)')\n",
    "rax.set_ylabel('Filter throughput')\n",
    "fig.legend()\n",
    "plt.tight_layout()"
   ]
  },
  {
   "cell_type": "markdown",
   "id": "43080574-2281-46fa-8852-1d5c661fed75",
   "metadata": {},
   "source": [
    "---\n",
    "\n",
    "As an alternative to computing the brightness of the Sun with a spectrum and bandpass, the calculations of Willmer (2018) are included and may be used throughout sbpy by quoting the bandpass name.  For example:"
   ]
  },
  {
   "cell_type": "code",
   "execution_count": 16,
   "id": "80731a56-0b8c-4304-bb88-c5454d37bcc4",
   "metadata": {},
   "outputs": [
    {
     "name": "stdout",
     "output_type": "stream",
     "text": [
      "-26.933406243563084 mag(AB)\n"
     ]
    }
   ],
   "source": [
    "from sbpy.calib import solar_fluxd\n",
    "\n",
    "lambda_eff, lambda_pivot, m = sun.observe_filter_name('LSST r', unit=u.ABmag)\n",
    "print(m)"
   ]
  },
  {
   "cell_type": "code",
   "execution_count": 17,
   "id": "550eab9c-d802-41a7-971f-0b8de1dcb43c",
   "metadata": {},
   "outputs": [
    {
     "data": {
      "text/plain": [
       "{'2MASS H': <Quantity 23.1206479 erg / (Angstrom cm2 s)>,\n",
       " '2MASS H(lambda pivot)': <Quantity 1.6495 um>,\n",
       " '2MASS H(lambda eff)': <Quantity 1.6424 um>,\n",
       " '2MASS J': <Quantity 46.13175746 erg / (Angstrom cm2 s)>,\n",
       " '2MASS J(lambda pivot)': <Quantity 1.2393 um>,\n",
       " '2MASS J(lambda eff)': <Quantity 1.2321 um>,\n",
       " '2MASS Ks': <Quantity 9.12010839 erg / (Angstrom cm2 s)>,\n",
       " '2MASS Ks(lambda pivot)': <Quantity 2.1638 um>,\n",
       " '2MASS Ks(lambda eff)': <Quantity 2.1558 um>,\n",
       " 'ACS F330W': <Quantity 100. erg / (Angstrom cm2 s)>,\n",
       " 'ACS F330W(lambda pivot)': <Quantity 0.3521 um>,\n",
       " 'ACS F330W(lambda eff)': <Quantity 0.3523 um>,\n",
       " 'ACS F410W': <Quantity 151.35612484 erg / (Angstrom cm2 s)>,\n",
       " 'ACS F410W(lambda pivot)': <Quantity 0.4064 um>,\n",
       " 'ACS F410W(lambda eff)': <Quantity 0.4096 um>,\n",
       " 'ACS F435W': <Quantity 178.64875749 erg / (Angstrom cm2 s)>,\n",
       " 'ACS F435W(lambda pivot)': <Quantity 0.4328 um>,\n",
       " 'ACS F435W(lambda eff)': <Quantity 0.4341 um>,\n",
       " 'ACS F475W': <Quantity 190.5460718 erg / (Angstrom cm2 s)>,\n",
       " 'ACS F475W(lambda pivot)': <Quantity 0.4747 um>,\n",
       " 'ACS F475W(lambda eff)': <Quantity 0.471 um>,\n",
       " 'ACS F555W': <Quantity 187.06821404 erg / (Angstrom cm2 s)>,\n",
       " 'ACS F555W(lambda pivot)': <Quantity 0.5361 um>,\n",
       " 'ACS F555W(lambda eff)': <Quantity 0.5333 um>,\n",
       " 'ACS F606W': <Quantity 170.6082389 erg / (Angstrom cm2 s)>,\n",
       " 'ACS F606W(lambda pivot)': <Quantity 0.5922 um>,\n",
       " 'ACS F606W(lambda eff)': <Quantity 0.5812 um>,\n",
       " 'ACS F625W': <Quantity 164.43717232 erg / (Angstrom cm2 s)>,\n",
       " 'ACS F625W(lambda pivot)': <Quantity 0.6312 um>,\n",
       " 'ACS F625W(lambda eff)': <Quantity 0.6267 um>,\n",
       " 'ACS F775W': <Quantity 121.33888505 erg / (Angstrom cm2 s)>,\n",
       " 'ACS F775W(lambda pivot)': <Quantity 0.7694 um>,\n",
       " 'ACS F775W(lambda eff)': <Quantity 0.7654 um>,\n",
       " 'ACS F814W': <Quantity 111.68632478 erg / (Angstrom cm2 s)>,\n",
       " 'ACS F814W(lambda pivot)': <Quantity 0.8059 um>,\n",
       " 'ACS F814W(lambda eff)': <Quantity 0.7987 um>,\n",
       " 'ACS F850LP': <Quantity 89.53647655 erg / (Angstrom cm2 s)>,\n",
       " 'ACS F850LP(lambda pivot)': <Quantity 0.9016 um>,\n",
       " 'ACS F850LP(lambda eff)': <Quantity 0.8994 um>,\n",
       " 'Bessell 88 H': <Quantity 23.33458062 erg / (Angstrom cm2 s)>,\n",
       " 'Bessell 88 H(lambda pivot)': <Quantity 1.645 um>,\n",
       " 'Bessell 88 H(lambda eff)': <Quantity 1.6365 um>,\n",
       " 'Bessell 88 J': <Quantity 46.55860935 erg / (Angstrom cm2 s)>,\n",
       " 'Bessell 88 J(lambda pivot)': <Quantity 1.2347 um>,\n",
       " 'Bessell 88 J(lambda eff)': <Quantity 1.2258 um>,\n",
       " 'Bessell 88 K': <Quantity 9.12010839 erg / (Angstrom cm2 s)>,\n",
       " 'Bessell 88 K(lambda pivot)': <Quantity 2.1663 um>,\n",
       " 'Bessell 88 K(lambda eff)': <Quantity 2.1574 um>,\n",
       " 'Bessell 88 L': <Quantity 1.55596563 erg / (Angstrom cm2 s)>,\n",
       " 'Bessell 88 L(lambda pivot)': <Quantity 3.4797 um>,\n",
       " 'Bessell 88 L(lambda eff)': <Quantity 3.4602 um>,\n",
       " 'Bessell 88 Lprime': <Quantity 1.07646521 erg / (Angstrom cm2 s)>,\n",
       " 'Bessell 88 Lprime(lambda pivot)': <Quantity 3.8247 um>,\n",
       " 'Bessell 88 Lprime(lambda eff)': <Quantity 3.8063 um>,\n",
       " 'Bessell 88 M': <Quantity 0.45708819 erg / (Angstrom cm2 s)>,\n",
       " 'Bessell 88 M(lambda pivot)': <Quantity 4.7347 um>,\n",
       " 'Bessell 88 M(lambda eff)': <Quantity 4.725 um>,\n",
       " 'Bessell Murphy B': <Quantity 178.64875749 erg / (Angstrom cm2 s)>,\n",
       " 'Bessell Murphy B(lambda pivot)': <Quantity 0.4378 um>,\n",
       " 'Bessell Murphy B(lambda eff)': <Quantity 0.4369 um>,\n",
       " 'Bessell Murphy Bt': <Quantity 165.95869074 erg / (Angstrom cm2 s)>,\n",
       " 'Bessell Murphy Bt(lambda pivot)': <Quantity 0.419 um>,\n",
       " 'Bessell Murphy Bt(lambda eff)': <Quantity 0.4215 um>,\n",
       " 'Bessell Murphy Hp': <Quantity 175.38805018 erg / (Angstrom cm2 s)>,\n",
       " 'Bessell Murphy Hp(lambda pivot)': <Quantity 0.5349 um>,\n",
       " 'Bessell Murphy Hp(lambda eff)': <Quantity 0.5188 um>,\n",
       " 'Bessell Murphy I': <Quantity 113.76272858 erg / (Angstrom cm2 s)>,\n",
       " 'Bessell Murphy I(lambda pivot)': <Quantity 0.7984 um>,\n",
       " 'Bessell Murphy I(lambda eff)': <Quantity 0.7943 um>,\n",
       " 'Bessell Murphy R': <Quantity 155.59656316 erg / (Angstrom cm2 s)>,\n",
       " 'Bessell Murphy R(lambda pivot)': <Quantity 0.6524 um>,\n",
       " 'Bessell Murphy R(lambda eff)': <Quantity 0.6436 um>,\n",
       " 'Bessell Murphy U': <Quantity 103.75284158 erg / (Angstrom cm2 s)>,\n",
       " 'Bessell Murphy U(lambda pivot)': <Quantity 0.3597 um>,\n",
       " 'Bessell Murphy U(lambda eff)': <Quantity 0.3674 um>,\n",
       " 'Bessell Murphy V': <Quantity 183.65383433 erg / (Angstrom cm2 s)>,\n",
       " 'Bessell Murphy V(lambda pivot)': <Quantity 0.5489 um>,\n",
       " 'Bessell Murphy V(lambda eff)': <Quantity 0.5457 um>,\n",
       " 'Bessell Murphy Vt': <Quantity 188.79913491 erg / (Angstrom cm2 s)>,\n",
       " 'Bessell Murphy Vt(lambda pivot)': <Quantity 0.53 um>,\n",
       " 'Bessell Murphy Vt(lambda eff)': <Quantity 0.5266 um>,\n",
       " 'CFHT 12kx8k B': <Quantity 185.35316234 erg / (Angstrom cm2 s)>,\n",
       " 'CFHT 12kx8k B(lambda pivot)': <Quantity 0.4399 um>,\n",
       " 'CFHT 12kx8k B(lambda eff)': <Quantity 0.44 um>,\n",
       " 'CFHT 12kx8k I': <Quantity 108.64256236 erg / (Angstrom cm2 s)>,\n",
       " 'CFHT 12kx8k I(lambda pivot)': <Quantity 0.8159 um>,\n",
       " 'CFHT 12kx8k I(lambda eff)': <Quantity 0.8096 um>,\n",
       " 'CFHT 12kx8k R': <Quantity 154.17004529 erg / (Angstrom cm2 s)>,\n",
       " 'CFHT 12kx8k R(lambda pivot)': <Quantity 0.661 um>,\n",
       " 'CFHT 12kx8k R(lambda eff)': <Quantity 0.6578 um>,\n",
       " 'Cousins I': <Quantity 111.68632478 erg / (Angstrom cm2 s)>,\n",
       " 'Cousins I(lambda pivot)': <Quantity 0.8034 um>,\n",
       " 'Cousins I(lambda eff)': <Quantity 0.7993 um>,\n",
       " 'Cousins R': <Quantity 154.17004529 erg / (Angstrom cm2 s)>,\n",
       " 'Cousins R(lambda pivot)': <Quantity 0.6582 um>,\n",
       " 'Cousins R(lambda eff)': <Quantity 0.6492 um>,\n",
       " 'DES Y': <Quantity 75.1622894 erg / (Angstrom cm2 s)>,\n",
       " 'DES Y(lambda pivot)': <Quantity 0.9866 um>,\n",
       " 'DES Y(lambda eff)': <Quantity 0.983 um>,\n",
       " 'DES g': <Quantity 190.5460718 erg / (Angstrom cm2 s)>,\n",
       " 'DES g(lambda pivot)': <Quantity 0.482 um>,\n",
       " 'DES g(lambda eff)': <Quantity 0.4776 um>,\n",
       " 'DES i': <Quantity 118.03206357 erg / (Angstrom cm2 s)>,\n",
       " 'DES i(lambda pivot)': <Quantity 0.7807 um>,\n",
       " 'DES i(lambda eff)': <Quantity 0.7758 um>,\n",
       " 'DES r': <Quantity 159.95580286 erg / (Angstrom cm2 s)>,\n",
       " 'DES r(lambda pivot)': <Quantity 0.6423 um>,\n",
       " 'DES r(lambda eff)': <Quantity 0.6374 um>,\n",
       " 'DES u': <Quantity 109.64781961 erg / (Angstrom cm2 s)>,\n",
       " 'DES u(lambda pivot)': <Quantity 0.3859 um>,\n",
       " 'DES u(lambda eff)': <Quantity 0.3881 um>,\n",
       " 'DES z': <Quantity 87.096359 erg / (Angstrom cm2 s)>,\n",
       " 'DES z(lambda pivot)': <Quantity 0.9158 um>,\n",
       " 'DES z(lambda eff)': <Quantity 0.9139 um>,\n",
       " 'GALEX FUV': <Quantity 0.02355049 erg / (Angstrom cm2 s)>,\n",
       " 'GALEX FUV(lambda pivot)': <Quantity 0.1535 um>,\n",
       " 'GALEX FUV(lambda eff)': <Quantity 0.1549 um>,\n",
       " 'GALEX NUV': <Quantity 7.58577575 erg / (Angstrom cm2 s)>,\n",
       " 'GALEX NUV(lambda pivot)': <Quantity 0.2301 um>,\n",
       " 'GALEX NUV(lambda eff)': <Quantity 0.2304 um>,\n",
       " 'Hipparcos Hp': <Quantity 172.1868575 erg / (Angstrom cm2 s)>,\n",
       " 'Hipparcos Hp(lambda pivot)': <Quantity 0.5508 um>,\n",
       " 'Hipparcos Hp(lambda eff)': <Quantity 0.5315 um>,\n",
       " 'IRAC 3.6': <Quantity 1.44543977 erg / (Angstrom cm2 s)>,\n",
       " 'IRAC 3.6(lambda pivot)': <Quantity 3.5508 um>,\n",
       " 'IRAC 3.6(lambda eff)': <Quantity 3.5204 um>,\n",
       " 'IRAC 4.5': <Quantity 0.57016427 erg / (Angstrom cm2 s)>,\n",
       " 'IRAC 4.5(lambda pivot)': <Quantity 4.496 um>,\n",
       " 'IRAC 4.5(lambda eff)': <Quantity 4.4543 um>,\n",
       " 'IRAC 5.8': <Quantity 0.22490546 erg / (Angstrom cm2 s)>,\n",
       " 'IRAC 5.8(lambda pivot)': <Quantity 5.7245 um>,\n",
       " 'IRAC 5.8(lambda eff)': <Quantity 5.6564 um>,\n",
       " 'IRAC 8.0': <Quantity 0.06668068 erg / (Angstrom cm2 s)>,\n",
       " 'IRAC 8.0(lambda pivot)': <Quantity 7.8842 um>,\n",
       " 'IRAC 8.0(lambda eff)': <Quantity 7.6741 um>,\n",
       " 'IRAS100': <Quantity 2.51188643e-06 erg / (Angstrom cm2 s)>,\n",
       " 'IRAS100(lambda pivot)': <Quantity 101.1267 um>,\n",
       " 'IRAS100(lambda eff)': <Quantity 96.9972 um>,\n",
       " 'IRAS12': <Quantity 0.01721869 erg / (Angstrom cm2 s)>,\n",
       " 'IRAS12(lambda pivot)': <Quantity 11.3562 um>,\n",
       " 'IRAS12(lambda eff)': <Quantity 10.465 um>,\n",
       " 'IRAS25': <Quantity 0.00089536 erg / (Angstrom cm2 s)>,\n",
       " 'IRAS25(lambda pivot)': <Quantity 23.6079 um>,\n",
       " 'IRAS25(lambda eff)': <Quantity 22.258 um>,\n",
       " 'IRAS60': <Quantity 2.20800473e-05 erg / (Angstrom cm2 s)>,\n",
       " 'IRAS60(lambda pivot)': <Quantity 60.3699 um>,\n",
       " 'IRAS60(lambda eff)': <Quantity 54.5695 um>,\n",
       " 'IRS 16': <Quantity 0.00416869 erg / (Angstrom cm2 s)>,\n",
       " 'IRS 16(lambda pivot)': <Quantity 15.9222 um>,\n",
       " 'IRS 16(lambda eff)': <Quantity 15.402 um>,\n",
       " 'IRS 22': <Quantity 0.00104713 erg / (Angstrom cm2 s)>,\n",
       " 'IRS 22(lambda pivot)': <Quantity 22.4704 um>,\n",
       " 'IRS 22(lambda eff)': <Quantity 21.7563 um>,\n",
       " 'Johnson B': <Quantity 180.30177409 erg / (Angstrom cm2 s)>,\n",
       " 'Johnson B(lambda pivot)': <Quantity 0.4396 um>,\n",
       " 'Johnson B(lambda eff)': <Quantity 0.439 um>,\n",
       " 'Johnson U': <Quantity 104.71285481 erg / (Angstrom cm2 s)>,\n",
       " 'Johnson U(lambda pivot)': <Quantity 0.3611 um>,\n",
       " 'Johnson U(lambda eff)': <Quantity 0.3694 um>,\n",
       " 'Johnson V': <Quantity 183.65383433 erg / (Angstrom cm2 s)>,\n",
       " 'Johnson V(lambda pivot)': <Quantity 0.5511 um>,\n",
       " 'Johnson V(lambda eff)': <Quantity 0.5476 um>,\n",
       " 'LSST g': <Quantity 190.5460718 erg / (Angstrom cm2 s)>,\n",
       " 'LSST g(lambda pivot)': <Quantity 0.4808 um>,\n",
       " 'LSST g(lambda eff)': <Quantity 0.4768 um>,\n",
       " 'LSST i': <Quantity 125.89254118 erg / (Angstrom cm2 s)>,\n",
       " 'LSST i(lambda pivot)': <Quantity 0.7537 um>,\n",
       " 'LSST i(lambda eff)': <Quantity 0.7506 um>,\n",
       " 'LSST r': <Quantity 167.4942876 erg / (Angstrom cm2 s)>,\n",
       " 'LSST r(lambda pivot)': <Quantity 0.621 um>,\n",
       " 'LSST r(lambda eff)': <Quantity 0.6165 um>,\n",
       " 'LSST u': <Quantity 106.65961212 erg / (Angstrom cm2 s)>,\n",
       " 'LSST u(lambda pivot)': <Quantity 0.3665 um>,\n",
       " 'LSST u(lambda eff)': <Quantity 0.3743 um>,\n",
       " 'LSST y': <Quantity 77.98301105 erg / (Angstrom cm2 s)>,\n",
       " 'LSST y(lambda pivot)': <Quantity 0.9705 um>,\n",
       " 'LSST y(lambda eff)': <Quantity 0.9688 um>,\n",
       " 'LSST z': <Quantity 96.38290236 erg / (Angstrom cm2 s)>,\n",
       " 'LSST z(lambda pivot)': <Quantity 0.8686 um>,\n",
       " 'LSST z(lambda eff)': <Quantity 0.868 um>,\n",
       " 'MIPS 160': <Quantity 4.16869383e-07 erg / (Angstrom cm2 s)>,\n",
       " 'MIPS 160(lambda pivot)': <Quantity 156.4274 um>,\n",
       " 'MIPS 160(lambda eff)': <Quantity 153.6888 um>,\n",
       " 'MIPS 24': <Quantity 0.00081658 erg / (Angstrom cm2 s)>,\n",
       " 'MIPS 24(lambda pivot)': <Quantity 23.7592 um>,\n",
       " 'MIPS 24(lambda eff)': <Quantity 23.3583 um>,\n",
       " 'MIPS 70': <Quantity 9.81747943e-06 erg / (Angstrom cm2 s)>,\n",
       " 'MIPS 70(lambda pivot)': <Quantity 71.9861 um>,\n",
       " 'MIPS 70(lambda eff)': <Quantity 69.3644 um>,\n",
       " 'MIRI F1000W': <Quantity 0.0258226 erg / (Angstrom cm2 s)>,\n",
       " 'MIRI F1000W(lambda pivot)': <Quantity 9.9544 um>,\n",
       " 'MIRI F1000W(lambda eff)': <Quantity 9.8806 um>,\n",
       " 'MIRI F1130W': <Quantity 0.015417 erg / (Angstrom cm2 s)>,\n",
       " 'MIRI F1130W(lambda pivot)': <Quantity 11.3087 um>,\n",
       " 'MIRI F1130W(lambda eff)': <Quantity 11.2962 um>,\n",
       " 'MIRI F1500W': <Quantity 0.00501187 erg / (Angstrom cm2 s)>,\n",
       " 'MIRI F1500W(lambda pivot)': <Quantity 15.0651 um>,\n",
       " 'MIRI F1500W(lambda eff)': <Quantity 14.9272 um>,\n",
       " 'MIRI F1800W': <Quantity 0.00244343 erg / (Angstrom cm2 s)>,\n",
       " 'MIRI F1800W(lambda pivot)': <Quantity 17.9865 um>,\n",
       " 'MIRI F1800W(lambda eff)': <Quantity 17.876 um>,\n",
       " 'MIRI F2100W': <Quantity 0.00138038 erg / (Angstrom cm2 s)>,\n",
       " 'MIRI F2100W(lambda pivot)': <Quantity 20.795 um>,\n",
       " 'MIRI F2100W(lambda eff)': <Quantity 20.5607 um>,\n",
       " 'MIRI F2550W': <Quantity 0.00061944 erg / (Angstrom cm2 s)>,\n",
       " 'MIRI F2550W(lambda pivot)': <Quantity 25.3639 um>,\n",
       " 'MIRI F2550W(lambda eff)': <Quantity 25.1519 um>,\n",
       " 'MIRI F560W': <Quantity 0.23768403 erg / (Angstrom cm2 s)>,\n",
       " 'MIRI F560W(lambda pivot)': <Quantity 5.6362 um>,\n",
       " 'MIRI F560W(lambda eff)': <Quantity 5.588 um>,\n",
       " 'MIRI F770W': <Quantity 0.07379042 erg / (Angstrom cm2 s)>,\n",
       " 'MIRI F770W(lambda pivot)': <Quantity 7.6428 um>,\n",
       " 'MIRI F770W(lambda eff)': <Quantity 7.526 um>,\n",
       " 'NIC2 F110W': <Quantity 57.01642723 erg / (Angstrom cm2 s)>,\n",
       " 'NIC2 F110W(lambda pivot)': <Quantity 1.1235 um>,\n",
       " 'NIC2 F110W(lambda eff)': <Quantity 1.084 um>,\n",
       " 'NIC2 F160W': <Quantity 25.11886432 erg / (Angstrom cm2 s)>,\n",
       " 'NIC2 F160W(lambda pivot)': <Quantity 1.603 um>,\n",
       " 'NIC2 F160W(lambda eff)': <Quantity 1.5859 um>,\n",
       " 'NIC3 F110W': <Quantity 57.54399373 erg / (Angstrom cm2 s)>,\n",
       " 'NIC3 F110W(lambda pivot)': <Quantity 1.12 um>,\n",
       " 'NIC3 F110W(lambda eff)': <Quantity 1.0788 um>,\n",
       " 'NIC3 F160W': <Quantity 25.11886432 erg / (Angstrom cm2 s)>,\n",
       " 'NIC3 F160W(lambda pivot)': <Quantity 1.6042 um>,\n",
       " 'NIC3 F160W(lambda eff)': <Quantity 1.5872 um>,\n",
       " 'NIRCAM F070W': <Quantity 140.60475241 erg / (Angstrom cm2 s)>,\n",
       " 'NIRCAM F070W(lambda pivot)': <Quantity 0.7046 um>,\n",
       " 'NIRCAM F070W(lambda eff)': <Quantity 0.6991 um>,\n",
       " 'NIRCAM F090W': <Quantity 89.53647655 erg / (Angstrom cm2 s)>,\n",
       " 'NIRCAM F090W(lambda pivot)': <Quantity 0.9025 um>,\n",
       " 'NIRCAM F090W(lambda eff)': <Quantity 0.8988 um>,\n",
       " 'NIRCAM F115W': <Quantity 53.95106225 erg / (Angstrom cm2 s)>,\n",
       " 'NIRCAM F115W(lambda pivot)': <Quantity 1.1543 um>,\n",
       " 'NIRCAM F115W(lambda eff)': <Quantity 1.1435 um>,\n",
       " 'NIRCAM F140M': <Quantity 35.31831698 erg / (Angstrom cm2 s)>,\n",
       " 'NIRCAM F140M(lambda pivot)': <Quantity 1.4053 um>,\n",
       " 'NIRCAM F140M(lambda eff)': <Quantity 1.4024 um>,\n",
       " 'NIRCAM F150W': <Quantity 29.92264637 erg / (Angstrom cm2 s)>,\n",
       " 'NIRCAM F150W(lambda pivot)': <Quantity 1.5007 um>,\n",
       " 'NIRCAM F150W(lambda eff)': <Quantity 1.4873 um>,\n",
       " 'NIRCAM F150W2': <Quantity 22.08004733 erg / (Angstrom cm2 s)>,\n",
       " 'NIRCAM F150W2(lambda pivot)': <Quantity 1.6588 um>,\n",
       " 'NIRCAM F150W2(lambda eff)': <Quantity 1.4796 um>,\n",
       " 'NIRCAM F162M': <Quantity 24.21029047 erg / (Angstrom cm2 s)>,\n",
       " 'NIRCAM F162M(lambda pivot)': <Quantity 1.6272 um>,\n",
       " 'NIRCAM F162M(lambda eff)': <Quantity 1.6244 um>,\n",
       " 'NIRCAM F164N': <Quantity 23.55049284 erg / (Angstrom cm2 s)>,\n",
       " 'NIRCAM F164N(lambda pivot)': <Quantity 1.6445 um>,\n",
       " 'NIRCAM F164N(lambda eff)': <Quantity 1.6446 um>,\n",
       " 'NIRCAM F182M': <Quantity 16.14358557 erg / (Angstrom cm2 s)>,\n",
       " 'NIRCAM F182M(lambda pivot)': <Quantity 1.8452 um>,\n",
       " 'NIRCAM F182M(lambda eff)': <Quantity 1.8389 um>,\n",
       " 'NIRCAM F187N': <Quantity 15.13561248 erg / (Angstrom cm2 s)>,\n",
       " 'NIRCAM F187N(lambda pivot)': <Quantity 1.8739 um>,\n",
       " 'NIRCAM F187N(lambda eff)': <Quantity 1.8737 um>,\n",
       " 'NIRCAM F200W': <Quantity 12.47383514 erg / (Angstrom cm2 s)>,\n",
       " 'NIRCAM F200W(lambda pivot)': <Quantity 1.9886 um>,\n",
       " 'NIRCAM F200W(lambda eff)': <Quantity 1.9681 um>,\n",
       " 'NIRCAM F210M': <Quantity 10.28016298 erg / (Angstrom cm2 s)>,\n",
       " 'NIRCAM F210M(lambda pivot)': <Quantity 2.0955 um>,\n",
       " 'NIRCAM F210M(lambda eff)': <Quantity 2.0908 um>,\n",
       " 'NIRCAM F250M': <Quantity 5.29663444 erg / (Angstrom cm2 s)>,\n",
       " 'NIRCAM F250M(lambda pivot)': <Quantity 2.5032 um>,\n",
       " 'NIRCAM F250M(lambda eff)': <Quantity 2.5006 um>,\n",
       " 'NIRCAM F277W': <Quantity 3.73250158 erg / (Angstrom cm2 s)>,\n",
       " 'NIRCAM F277W(lambda pivot)': <Quantity 2.7618 um>,\n",
       " 'NIRCAM F277W(lambda eff)': <Quantity 2.728 um>,\n",
       " 'NIRCAM F300M': <Quantity 2.7542287 erg / (Angstrom cm2 s)>,\n",
       " 'NIRCAM F300M(lambda pivot)': <Quantity 2.9892 um>,\n",
       " 'NIRCAM F300M(lambda eff)': <Quantity 2.9819 um>,\n",
       " 'NIRCAM F322W2': <Quantity 2.18776162 erg / (Angstrom cm2 s)>,\n",
       " 'NIRCAM F322W2(lambda pivot)': <Quantity 3.232 um>,\n",
       " 'NIRCAM F322W2(lambda eff)': <Quantity 3.0736 um>,\n",
       " 'NIRCAM F323N': <Quantity 2.03235701 erg / (Angstrom cm2 s)>,\n",
       " 'NIRCAM F323N(lambda pivot)': <Quantity 3.2369 um>,\n",
       " 'NIRCAM F323N(lambda eff)': <Quantity 3.2368 um>,\n",
       " 'NIRCAM F335M': <Quantity 1.7538805 erg / (Angstrom cm2 s)>,\n",
       " 'NIRCAM F335M(lambda pivot)': <Quantity 3.3621 um>,\n",
       " 'NIRCAM F335M(lambda eff)': <Quantity 3.3539 um>,\n",
       " 'NIRCAM F356W': <Quantity 1.41905752 erg / (Angstrom cm2 s)>,\n",
       " 'NIRCAM F356W(lambda pivot)': <Quantity 3.5684 um>,\n",
       " 'NIRCAM F356W(lambda eff)': <Quantity 3.5287 um>,\n",
       " 'NIRCAM F405N': <Quantity 0.85506671 erg / (Angstrom cm2 s)>,\n",
       " 'NIRCAM F405N(lambda pivot)': <Quantity 4.0517 um>,\n",
       " 'NIRCAM F405N(lambda eff)': <Quantity 4.0516 um>,\n",
       " 'NIRCAM F410M': <Quantity 0.83176377 erg / (Angstrom cm2 s)>,\n",
       " 'NIRCAM F410M(lambda pivot)': <Quantity 4.0822 um>,\n",
       " 'NIRCAM F410M(lambda eff)': <Quantity 4.0723 um>,\n",
       " 'NIRCAM F430M': <Quantity 0.68548823 erg / (Angstrom cm2 s)>,\n",
       " 'NIRCAM F430M(lambda pivot)': <Quantity 4.2813 um>,\n",
       " 'NIRCAM F430M(lambda eff)': <Quantity 4.2785 um>,\n",
       " 'NIRCAM F444W': <Quantity 0.62517269 erg / (Angstrom cm2 s)>,\n",
       " 'NIRCAM F444W(lambda pivot)': <Quantity 4.404 um>,\n",
       " 'NIRCAM F444W(lambda eff)': <Quantity 4.3496 um>,\n",
       " 'NIRCAM F460M': <Quantity 0.49659232 erg / (Angstrom cm2 s)>,\n",
       " 'NIRCAM F460M(lambda pivot)': <Quantity 4.6285 um>,\n",
       " 'NIRCAM F460M(lambda eff)': <Quantity 4.6229 um>,\n",
       " 'NIRCAM F466N': <Quantity 0.4830588 erg / (Angstrom cm2 s)>,\n",
       " 'NIRCAM F466N(lambda pivot)': <Quantity 4.6544 um>,\n",
       " 'NIRCAM F466N(lambda eff)': <Quantity 4.654 um>,\n",
       " 'NIRCAM F470N': <Quantity 0.46558609 erg / (Angstrom cm2 s)>,\n",
       " 'NIRCAM F470N(lambda pivot)': <Quantity 4.7078 um>,\n",
       " 'NIRCAM F470N(lambda eff)': <Quantity 4.7078 um>,\n",
       " 'NIRCAM F480M': <Quantity 0.42854852 erg / (Angstrom cm2 s)>,\n",
       " 'NIRCAM F480M(lambda pivot)': <Quantity 4.8167 um>,\n",
       " 'NIRCAM F480M(lambda eff)': <Quantity 4.8094 um>,\n",
       " 'NIRISS F090W': <Quantity 89.53647655 erg / (Angstrom cm2 s)>,\n",
       " 'NIRISS F090W(lambda pivot)': <Quantity 0.9031 um>,\n",
       " 'NIRISS F090W(lambda eff)': <Quantity 0.8985 um>,\n",
       " 'NIRISS F115W': <Quantity 53.95106225 erg / (Angstrom cm2 s)>,\n",
       " 'NIRISS F115W(lambda pivot)': <Quantity 1.1499 um>,\n",
       " 'NIRISS F115W(lambda eff)': <Quantity 1.1388 um>,\n",
       " 'NIRISS F140M': <Quantity 35.31831698 erg / (Angstrom cm2 s)>,\n",
       " 'NIRISS F140M(lambda pivot)': <Quantity 1.4044 um>,\n",
       " 'NIRISS F140M(lambda eff)': <Quantity 1.401 um>,\n",
       " 'NIRISS F150W': <Quantity 30.4789499 erg / (Angstrom cm2 s)>,\n",
       " 'NIRISS F150W(lambda pivot)': <Quantity 1.4936 um>,\n",
       " 'NIRISS F150W(lambda eff)': <Quantity 1.4797 um>,\n",
       " 'NIRISS F158M': <Quantity 26.0615355 erg / (Angstrom cm2 s)>,\n",
       " 'NIRISS F158M(lambda pivot)': <Quantity 1.5825 um>,\n",
       " 'NIRISS F158M(lambda eff)': <Quantity 1.5704 um>,\n",
       " 'NIRISS F200W': <Quantity 12.35947433 erg / (Angstrom cm2 s)>,\n",
       " 'NIRISS F200W(lambda pivot)': <Quantity 1.993 um>,\n",
       " 'NIRISS F200W(lambda eff)': <Quantity 1.9714 um>,\n",
       " 'NIRISS F277W': <Quantity 3.73250158 erg / (Angstrom cm2 s)>,\n",
       " 'NIRISS F277W(lambda pivot)': <Quantity 2.7641 um>,\n",
       " 'NIRISS F277W(lambda eff)': <Quantity 2.711 um>,\n",
       " 'NIRISS F356W': <Quantity 1.3931568 erg / (Angstrom cm2 s)>,\n",
       " 'NIRISS F356W(lambda pivot)': <Quantity 3.5926 um>,\n",
       " 'NIRISS F356W(lambda eff)': <Quantity 3.5326 um>,\n",
       " 'NIRISS F380M': <Quantity 1.07646521 erg / (Angstrom cm2 s)>,\n",
       " 'NIRISS F380M(lambda pivot)': <Quantity 3.8229 um>,\n",
       " 'NIRISS F380M(lambda eff)': <Quantity 3.7742 um>,\n",
       " 'NIRISS F430M': <Quantity 0.69183097 erg / (Angstrom cm2 s)>,\n",
       " 'NIRISS F430M(lambda pivot)': <Quantity 4.2792 um>,\n",
       " 'NIRISS F430M(lambda eff)': <Quantity 4.2303 um>,\n",
       " 'NIRISS F444W': <Quantity 0.61376201 erg / (Angstrom cm2 s)>,\n",
       " 'NIRISS F444W(lambda pivot)': <Quantity 4.427 um>,\n",
       " 'NIRISS F444W(lambda eff)': <Quantity 4.3587 um>,\n",
       " 'NIRISS F480M': <Quantity 0.43251383 erg / (Angstrom cm2 s)>,\n",
       " 'NIRISS F480M(lambda pivot)': <Quantity 4.8113 um>,\n",
       " 'NIRISS F480M(lambda eff)': <Quantity 4.7529 um>,\n",
       " 'OMEGACAM g': <Quantity 190.5460718 erg / (Angstrom cm2 s)>,\n",
       " 'OMEGACAM g(lambda pivot)': <Quantity 0.4735 um>,\n",
       " 'OMEGACAM g(lambda eff)': <Quantity 0.4702 um>,\n",
       " 'OMEGACAM i': <Quantity 127.05741052 erg / (Angstrom cm2 s)>,\n",
       " 'OMEGACAM i(lambda pivot)': <Quantity 0.7495 um>,\n",
       " 'OMEGACAM i(lambda eff)': <Quantity 0.7453 um>,\n",
       " 'OMEGACAM r': <Quantity 164.43717232 erg / (Angstrom cm2 s)>,\n",
       " 'OMEGACAM r(lambda pivot)': <Quantity 0.6276 um>,\n",
       " 'OMEGACAM r(lambda eff)': <Quantity 0.6233 um>,\n",
       " 'OMEGACAM u': <Quantity 104.71285481 erg / (Angstrom cm2 s)>,\n",
       " 'OMEGACAM u(lambda pivot)': <Quantity 0.359 um>,\n",
       " 'OMEGACAM u(lambda eff)': <Quantity 0.3632 um>,\n",
       " 'OMEGACAM z': <Quantity 93.75620069 erg / (Angstrom cm2 s)>,\n",
       " 'OMEGACAM z(lambda pivot)': <Quantity 0.8842 um>,\n",
       " 'OMEGACAM z(lambda eff)': <Quantity 0.884 um>,\n",
       " 'PS1 Y': <Quantity 79.43282347 erg / (Angstrom cm2 s)>,\n",
       " 'PS1 Y(lambda pivot)': <Quantity 0.9628 um>,\n",
       " 'PS1 Y(lambda eff)': <Quantity 0.9614 um>,\n",
       " 'PS1 g': <Quantity 190.5460718 erg / (Angstrom cm2 s)>,\n",
       " 'PS1 g(lambda pivot)': <Quantity 0.4849 um>,\n",
       " 'PS1 g(lambda eff)': <Quantity 0.4811 um>,\n",
       " 'PS1 i': <Quantity 125.89254118 erg / (Angstrom cm2 s)>,\n",
       " 'PS1 i(lambda pivot)': <Quantity 0.7535 um>,\n",
       " 'PS1 i(lambda eff)': <Quantity 0.7504 um>,\n",
       " 'PS1 r': <Quantity 167.4942876 erg / (Angstrom cm2 s)>,\n",
       " 'PS1 r(lambda pivot)': <Quantity 0.6201 um>,\n",
       " 'PS1 r(lambda eff)': <Quantity 0.6156 um>,\n",
       " 'PS1 z': <Quantity 97.27472238 erg / (Angstrom cm2 s)>,\n",
       " 'PS1 z(lambda pivot)': <Quantity 0.8674 um>,\n",
       " 'PS1 z(lambda eff)': <Quantity 0.8669 um>,\n",
       " 'SDSS g': <Quantity 190.5460718 erg / (Angstrom cm2 s)>,\n",
       " 'SDSS g(lambda pivot)': <Quantity 0.4702 um>,\n",
       " 'SDSS g(lambda eff)': <Quantity 0.4673 um>,\n",
       " 'SDSS i': <Quantity 128.23305827 erg / (Angstrom cm2 s)>,\n",
       " 'SDSS i(lambda pivot)': <Quantity 0.749 um>,\n",
       " 'SDSS i(lambda eff)': <Quantity 0.7459 um>,\n",
       " 'SDSS r': <Quantity 167.4942876 erg / (Angstrom cm2 s)>,\n",
       " 'SDSS r(lambda pivot)': <Quantity 0.6176 um>,\n",
       " 'SDSS r(lambda eff)': <Quantity 0.6142 um>,\n",
       " 'SDSS u': <Quantity 101.85913881 erg / (Angstrom cm2 s)>,\n",
       " 'SDSS u(lambda pivot)': <Quantity 0.3556 um>,\n",
       " 'SDSS u(lambda eff)': <Quantity 0.3607 um>,\n",
       " 'SDSS z': <Quantity 91.20108394 erg / (Angstrom cm2 s)>,\n",
       " 'SDSS z(lambda pivot)': <Quantity 0.8947 um>,\n",
       " 'SDSS z(lambda eff)': <Quantity 0.8925 um>,\n",
       " 'SkyMapper g': <Quantity 188.79913491 erg / (Angstrom cm2 s)>,\n",
       " 'SkyMapper g(lambda pivot)': <Quantity 0.5075 um>,\n",
       " 'SkyMapper g(lambda eff)': <Quantity 0.5016 um>,\n",
       " 'SkyMapper i': <Quantity 119.1242008 erg / (Angstrom cm2 s)>,\n",
       " 'SkyMapper i(lambda pivot)': <Quantity 0.7768 um>,\n",
       " 'SkyMapper i(lambda eff)': <Quantity 0.7734 um>,\n",
       " 'SkyMapper r': <Quantity 167.4942876 erg / (Angstrom cm2 s)>,\n",
       " 'SkyMapper r(lambda pivot)': <Quantity 0.6138 um>,\n",
       " 'SkyMapper r(lambda eff)': <Quantity 0.6078 um>,\n",
       " 'SkyMapper u': <Quantity 106.65961212 erg / (Angstrom cm2 s)>,\n",
       " 'SkyMapper u(lambda pivot)': <Quantity 0.359 um>,\n",
       " 'SkyMapper u(lambda eff)': <Quantity 0.3685 um>,\n",
       " 'SkyMapper v': <Quantity 115.87773562 erg / (Angstrom cm2 s)>,\n",
       " 'SkyMapper v(lambda pivot)': <Quantity 0.3836 um>,\n",
       " 'SkyMapper v(lambda eff)': <Quantity 0.3874 um>,\n",
       " 'SkyMapper z': <Quantity 87.096359 erg / (Angstrom cm2 s)>,\n",
       " 'SkyMapper z(lambda pivot)': <Quantity 0.9143 um>,\n",
       " 'SkyMapper z(lambda eff)': <Quantity 0.9119 um>,\n",
       " 'Tycho Bt': <Quantity 167.4942876 erg / (Angstrom cm2 s)>,\n",
       " 'Tycho Bt(lambda pivot)': <Quantity 0.4212 um>,\n",
       " 'Tycho Bt(lambda eff)': <Quantity 0.4234 um>,\n",
       " 'Tycho Vt': <Quantity 187.06821404 erg / (Angstrom cm2 s)>,\n",
       " 'Tycho Vt(lambda pivot)': <Quantity 0.5335 um>,\n",
       " 'Tycho Vt(lambda eff)': <Quantity 0.5291 um>,\n",
       " 'UKIRT H': <Quantity 23.76840287 erg / (Angstrom cm2 s)>,\n",
       " 'UKIRT H(lambda pivot)': <Quantity 1.636 um>,\n",
       " 'UKIRT H(lambda eff)': <Quantity 1.6271 um>,\n",
       " 'UKIRT J': <Quantity 45.28975799 erg / (Angstrom cm2 s)>,\n",
       " 'UKIRT J(lambda pivot)': <Quantity 1.2502 um>,\n",
       " 'UKIRT J(lambda eff)': <Quantity 1.2462 um>,\n",
       " 'UKIRT K': <Quantity 8.55066713 erg / (Angstrom cm2 s)>,\n",
       " 'UKIRT K(lambda pivot)': <Quantity 2.206 um>,\n",
       " 'UKIRT K(lambda eff)': <Quantity 2.195 um>,\n",
       " 'UKIRT Y': <Quantity 68.54882265 erg / (Angstrom cm2 s)>,\n",
       " 'UKIRT Y(lambda pivot)': <Quantity 1.0315 um>,\n",
       " 'UKIRT Y(lambda eff)': <Quantity 1.0299 um>,\n",
       " 'UKIRT z': <Quantity 93.75620069 erg / (Angstrom cm2 s)>,\n",
       " 'UKIRT z(lambda pivot)': <Quantity 0.8826 um>,\n",
       " 'UKIRT z(lambda eff)': <Quantity 0.8823 um>,\n",
       " 'VIRCAM H': <Quantity 44.87453899 erg / (Angstrom cm2 s)>,\n",
       " 'VIRCAM H(lambda pivot)': <Quantity 1.2535 um>,\n",
       " 'VIRCAM H(lambda eff)': <Quantity 1.248 um>,\n",
       " 'VIRCAM J': <Quantity 23.55049284 erg / (Angstrom cm2 s)>,\n",
       " 'VIRCAM J(lambda pivot)': <Quantity 1.643 um>,\n",
       " 'VIRCAM J(lambda eff)': <Quantity 1.6339 um>,\n",
       " 'VIRCAM Ks': <Quantity 9.37562007 erg / (Angstrom cm2 s)>,\n",
       " 'VIRCAM Ks(lambda pivot)': <Quantity 2.1494 um>,\n",
       " 'VIRCAM Ks(lambda eff)': <Quantity 2.1349 um>,\n",
       " 'VIRCAM Y': <Quantity 69.18309709 erg / (Angstrom cm2 s)>,\n",
       " 'VIRCAM Y(lambda pivot)': <Quantity 1.0253 um>,\n",
       " 'VIRCAM Y(lambda eff)': <Quantity 1.0204 um>,\n",
       " 'VIRCAM Z': <Quantity 92.04495718 erg / (Angstrom cm2 s)>,\n",
       " 'VIRCAM Z(lambda pivot)': <Quantity 0.8899 um>,\n",
       " 'VIRCAM Z(lambda eff)': <Quantity 0.8815 um>,\n",
       " 'WFC3 F098M': <Quantity 75.1622894 erg / (Angstrom cm2 s)>,\n",
       " 'WFC3 F098M(lambda pivot)': <Quantity 0.9864 um>,\n",
       " 'WFC3 F098M(lambda eff)': <Quantity 0.9828 um>,\n",
       " 'WFC3 F105W': <Quantity 64.86344335 erg / (Angstrom cm2 s)>,\n",
       " 'WFC3 F105W(lambda pivot)': <Quantity 1.0551 um>,\n",
       " 'WFC3 F105W(lambda eff)': <Quantity 1.0432 um>,\n",
       " 'WFC3 F125W': <Quantity 45.28975799 erg / (Angstrom cm2 s)>,\n",
       " 'WFC3 F125W(lambda pivot)': <Quantity 1.2486 um>,\n",
       " 'WFC3 F125W(lambda eff)': <Quantity 1.2365 um>,\n",
       " 'WFC3 F140W': <Quantity 35.64511334 erg / (Angstrom cm2 s)>,\n",
       " 'WFC3 F140W(lambda pivot)': <Quantity 1.3922 um>,\n",
       " 'WFC3 F140W(lambda eff)': <Quantity 1.3733 um>,\n",
       " 'WFC3 F160W': <Quantity 28.31391996 erg / (Angstrom cm2 s)>,\n",
       " 'WFC3 F160W(lambda pivot)': <Quantity 1.537 um>,\n",
       " 'WFC3 F160W(lambda eff)': <Quantity 1.5279 um>,\n",
       " 'WFC3 F218W': <Quantity 4.69894109 erg / (Angstrom cm2 s)>,\n",
       " 'WFC3 F218W(lambda pivot)': <Quantity 0.2229 um>,\n",
       " 'WFC3 F218W(lambda eff)': <Quantity 0.2233 um>,\n",
       " 'WFC3 F225W': <Quantity 7.2443596 erg / (Angstrom cm2 s)>,\n",
       " 'WFC3 F225W(lambda pivot)': <Quantity 0.2372 um>,\n",
       " 'WFC3 F225W(lambda eff)': <Quantity 0.2374 um>,\n",
       " 'WFC3 F336W': <Quantity 90.36494737 erg / (Angstrom cm2 s)>,\n",
       " 'WFC3 F336W(lambda pivot)': <Quantity 0.3355 um>,\n",
       " 'WFC3 F336W(lambda eff)': <Quantity 0.3359 um>,\n",
       " 'WFC3 F390W': <Quantity 138.03842646 erg / (Angstrom cm2 s)>,\n",
       " 'WFC3 F390W(lambda pivot)': <Quantity 0.3924 um>,\n",
       " 'WFC3 F390W(lambda eff)': <Quantity 0.4023 um>,\n",
       " 'WFC3 F438W': <Quantity 183.65383433 erg / (Angstrom cm2 s)>,\n",
       " 'WFC3 F438W(lambda pivot)': <Quantity 0.4326 um>,\n",
       " 'WFC3 F438W(lambda eff)': <Quantity 0.4324 um>,\n",
       " 'WFC3 F475W': <Quantity 190.5460718 erg / (Angstrom cm2 s)>,\n",
       " 'WFC3 F475W(lambda pivot)': <Quantity 0.4774 um>,\n",
       " 'WFC3 F475W(lambda eff)': <Quantity 0.4734 um>,\n",
       " 'WFC3 F555W': <Quantity 187.06821404 erg / (Angstrom cm2 s)>,\n",
       " 'WFC3 F555W(lambda pivot)': <Quantity 0.5308 um>,\n",
       " 'WFC3 F555W(lambda eff)': <Quantity 0.5238 um>,\n",
       " 'WFC3 F606W': <Quantity 172.1868575 erg / (Angstrom cm2 s)>,\n",
       " 'WFC3 F606W(lambda pivot)': <Quantity 0.5887 um>,\n",
       " 'WFC3 F606W(lambda eff)': <Quantity 0.5783 um>,\n",
       " 'WFC3 F625W': <Quantity 165.95869074 erg / (Angstrom cm2 s)>,\n",
       " 'WFC3 F625W(lambda pivot)': <Quantity 0.6241 um>,\n",
       " 'WFC3 F625W(lambda eff)': <Quantity 0.6188 um>,\n",
       " 'WFC3 F775W': <Quantity 123.59474334 erg / (Angstrom cm2 s)>,\n",
       " 'WFC3 F775W(lambda pivot)': <Quantity 0.7648 um>,\n",
       " 'WFC3 F775W(lambda eff)': <Quantity 0.7611 um>,\n",
       " 'WFC3 F814W': <Quantity 111.68632478 erg / (Angstrom cm2 s)>,\n",
       " 'WFC3 F814W(lambda pivot)': <Quantity 0.803 um>,\n",
       " 'WFC3 F814W(lambda eff)': <Quantity 0.7955 um>,\n",
       " 'WFPC2 F218W': <Quantity 4.44631267 erg / (Angstrom cm2 s)>,\n",
       " 'WFPC2 F218W(lambda pivot)': <Quantity 0.2207 um>,\n",
       " 'WFPC2 F218W(lambda eff)': <Quantity 0.2205 um>,\n",
       " 'WFPC2 F300W': <Quantity 56.49369748 erg / (Angstrom cm2 s)>,\n",
       " 'WFPC2 F300W(lambda pivot)': <Quantity 0.2992 um>,\n",
       " 'WFPC2 F300W(lambda eff)': <Quantity 0.3039 um>,\n",
       " 'WFPC2 F450W': <Quantity 185.35316234 erg / (Angstrom cm2 s)>,\n",
       " 'WFPC2 F450W(lambda pivot)': <Quantity 0.4556 um>,\n",
       " 'WFPC2 F450W(lambda eff)': <Quantity 0.4547 um>,\n",
       " 'WFPC2 F555W': <Quantity 185.35316234 erg / (Angstrom cm2 s)>,\n",
       " 'WFPC2 F555W(lambda pivot)': <Quantity 0.5442 um>,\n",
       " 'WFPC2 F555W(lambda eff)': <Quantity 0.5373 um>,\n",
       " 'WFPC2 F606W': <Quantity 169.04409316 erg / (Angstrom cm2 s)>,\n",
       " 'WFPC2 F606W(lambda pivot)': <Quantity 0.6001 um>,\n",
       " 'WFPC2 F606W(lambda eff)': <Quantity 0.5902 um>,\n",
       " 'WFPC2 F702W': <Quantity 143.21878993 erg / (Angstrom cm2 s)>,\n",
       " 'WFPC2 F702W(lambda pivot)': <Quantity 0.6919 um>,\n",
       " 'WFPC2 F702W(lambda eff)': <Quantity 0.6841 um>,\n",
       " 'WFPC2 F814W': <Quantity 112.71974562 erg / (Angstrom cm2 s)>,\n",
       " 'WFPC2 F814W(lambda pivot)': <Quantity 0.8002 um>,\n",
       " 'WFPC2 F814W(lambda eff)': <Quantity 0.793 um>,\n",
       " 'WISE 1': <Quantity 1.73780083 erg / (Angstrom cm2 s)>,\n",
       " 'WISE 1(lambda pivot)': <Quantity 3.3897 um>,\n",
       " 'WISE 1(lambda eff)': <Quantity 3.3387 um>,\n",
       " 'WISE 2': <Quantity 0.50582466 erg / (Angstrom cm2 s)>,\n",
       " 'WISE 2(lambda pivot)': <Quantity 4.6406 um>,\n",
       " 'WISE 2(lambda eff)': <Quantity 4.587 um>,\n",
       " 'WISE 3': <Quantity 0.01191242 erg / (Angstrom cm2 s)>,\n",
       " 'WISE 3(lambda pivot)': <Quantity 12.5705 um>,\n",
       " 'WISE 3(lambda eff)': <Quantity 11.3086 um>,\n",
       " 'WISE 4': <Quantity 0.00104713 erg / (Angstrom cm2 s)>,\n",
       " 'WISE 4(lambda pivot)': <Quantity 22.3142 um>,\n",
       " 'WISE 4(lambda eff)': <Quantity 22.023 um>,\n",
       " 'CFHTLS g': <Quantity 190.5460718 erg / (Angstrom cm2 s)>,\n",
       " 'CFHTLS g(lambda pivot)': <Quantity 0.4844 um>,\n",
       " 'CFHTLS g(lambda eff)': <Quantity 0.4803 um>,\n",
       " 'CFHTLS i': <Quantity 122.46161993 erg / (Angstrom cm2 s)>,\n",
       " 'CFHTLS i(lambda pivot)': <Quantity 0.7678 um>,\n",
       " 'CFHTLS i(lambda eff)': <Quantity 0.7638 um>,\n",
       " 'CFHTLS r': <Quantity 165.95869074 erg / (Angstrom cm2 s)>,\n",
       " 'CFHTLS r(lambda pivot)': <Quantity 0.6248 um>,\n",
       " 'CFHTLS r(lambda eff)': <Quantity 0.6212 um>,\n",
       " 'CFHTLS u': <Quantity 123.59474334 erg / (Angstrom cm2 s)>,\n",
       " 'CFHTLS u(lambda pivot)': <Quantity 0.3803 um>,\n",
       " 'CFHTLS u(lambda eff)': <Quantity 0.3895 um>,\n",
       " 'CFHTLS z': <Quantity 92.89663868 erg / (Angstrom cm2 s)>,\n",
       " 'CFHTLS z(lambda pivot)': <Quantity 0.8859 um>,\n",
       " 'CFHTLS z(lambda eff)': <Quantity 0.8845 um>}"
      ]
     },
     "execution_count": 17,
     "metadata": {},
     "output_type": "execute_result"
    }
   ],
   "source": [
    "solar_fluxd.get()  # show all available filters"
   ]
  },
  {
   "cell_type": "markdown",
   "id": "bc1e8be0-c0e9-45b3-8350-d530db765dd5",
   "metadata": {},
   "source": [
    "## Brightness, reflectance, and cross-sectional area\n",
    "\n",
    "sbpy can convert between brightness, reflectance, and cross section for solid bodies using astropy's unit equivalencies framework.  We already used unit equivalences in the photometric calibration notebook, when we converted between spectral flux density units transforming data from per unit frequency to per unit wavelength using `u.spectral_density()`.  Here, we use sbpy's `reflectance` function.\n",
    "\n",
    ">  ⚠️ Small API changes are expected in sbpy v0.4 in order to make the terminology more precise.  However, the flavor of the conversions will remain the same."
   ]
  },
  {
   "cell_type": "code",
   "execution_count": 18,
   "id": "c4d63257-5b4f-4c38-a68a-9c714af31938",
   "metadata": {},
   "outputs": [
    {
     "name": "stdout",
     "output_type": "stream",
     "text": [
      "460.1780010358774 km\n"
     ]
    }
   ],
   "source": [
    "import numpy as np\n",
    "import astropy.units as u\n",
    "import sbpy.units as sbu\n",
    "\n",
    "H = 3.4 * sbu.VEGAmag  # Ceres's absolute magnitude in V\n",
    "refl = 0.029 / u.sr     # Ceres's reflectance\n",
    "cross_section = H.to('km2', sbu.reflectance('Johnson V', reflectance=refl))\n",
    "D = np.sqrt(cross_section / np.pi)\n",
    "print(D)"
   ]
  },
  {
   "cell_type": "code",
   "execution_count": 19,
   "id": "88587b4d-c396-48e7-8150-10e722f727b9",
   "metadata": {},
   "outputs": [
    {
     "name": "stdout",
     "output_type": "stream",
     "text": [
      "7.070135962918318 mag(VEGA)\n"
     ]
    }
   ],
   "source": [
    "# or compute absolute magnitude from diameter and reflectance\n",
    "refl = 0.067 / np.pi / u.sr  # (24) Themis geometric albedo / pi\n",
    "D = 198 * u.km       # and diameter\n",
    "cross_section = np.pi * D**2 / 4\n",
    "H = refl.to(sbu.VEGAmag, sbu.reflectance('Johnson V', cross_section=cross_section))\n",
    "print(H)  # compare to JPL SBDB's H=7.25 mag"
   ]
  },
  {
   "cell_type": "markdown",
   "id": "66f37aa0-4d47-49ef-90c6-67fd57a9c949",
   "metadata": {},
   "source": [
    "Again, more precise concepts of albedo and reflectance are expected in v0.4."
   ]
  }
 ],
 "metadata": {
  "kernelspec": {
   "display_name": "Python 3 (ipykernel)",
   "language": "python",
   "name": "python3"
  },
  "language_info": {
   "codemirror_mode": {
    "name": "ipython",
    "version": 3
   },
   "file_extension": ".py",
   "mimetype": "text/x-python",
   "name": "python",
   "nbconvert_exporter": "python",
   "pygments_lexer": "ipython3",
   "version": "3.8.11"
  }
 },
 "nbformat": 4,
 "nbformat_minor": 5
}
