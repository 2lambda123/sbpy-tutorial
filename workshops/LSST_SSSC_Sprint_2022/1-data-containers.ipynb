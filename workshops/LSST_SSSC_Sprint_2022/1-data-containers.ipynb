{
 "cells": [
  {
   "cell_type": "markdown",
   "id": "49100d94",
   "metadata": {
    "tags": []
   },
   "source": [
    "# Data containers"
   ]
  },
  {
   "cell_type": "markdown",
   "id": "d1db1bfb",
   "metadata": {
    "tags": []
   },
   "source": [
    "## Ephemerides"
   ]
  },
  {
   "cell_type": "code",
   "execution_count": 1,
   "id": "f6d67675",
   "metadata": {},
   "outputs": [
    {
     "name": "stdout",
     "output_type": "stream",
     "text": [
      "<QTable length=1>\n",
      "   rh    delta   phase \n",
      "   AU      AU     deg  \n",
      "float64 float64 float64\n",
      "------- ------- -------\n",
      "    1.0     1.0    60.0\n"
     ]
    }
   ],
   "source": [
    "import astropy.units as u  # for physical quantities\n",
    "from sbpy.data import Ephem  # for ephemerides\n",
    "\n",
    "eph = Ephem.from_dict({'rh': 1 * u.au, 'delta': 1 * u.au, 'phase': 60 * u.deg})\n",
    "print(eph)"
   ]
  },
  {
   "cell_type": "code",
   "execution_count": 2,
   "id": "b0efd4c0",
   "metadata": {},
   "outputs": [
    {
     "name": "stdout",
     "output_type": "stream",
     "text": [
      "{'start': <Time object: scale='utc' format='iso' value=2022-06-22 00:00:00.000>, 'stop': <Time object: scale='utc' format='iso' value=2023-06-22 00:00:00.000>, 'step': <Quantity 10. d>}\n"
     ]
    }
   ],
   "source": [
    "from astropy.time import Time\n",
    "\n",
    "epochs = {'start': Time('2022-06-22'),\n",
    "          'stop': Time('2023-06-22'),\n",
    "          'step': 10 * u.day}\n",
    "\n",
    "print(epochs)"
   ]
  },
  {
   "cell_type": "code",
   "execution_count": 3,
   "id": "a4536592",
   "metadata": {},
   "outputs": [],
   "source": [
    "eph = Ephem.from_mpc('2P',\n",
    "                     epochs=epochs,    \n",
    "                     location='I11')  # using Gemini South as a proxy for LSST\n",
    "\n",
    "#  see also, `Ephem.from_horizons` and `Ephem.from_miriade`"
   ]
  },
  {
   "cell_type": "code",
   "execution_count": 4,
   "id": "8eee5cec",
   "metadata": {},
   "outputs": [
    {
     "data": {
      "text/plain": [
       "['Targetname',\n",
       " 'Date',\n",
       " 'RA',\n",
       " 'Dec',\n",
       " 'Delta',\n",
       " 'r',\n",
       " 'Elongation',\n",
       " 'Phase',\n",
       " 'V',\n",
       " 'Proper motion',\n",
       " 'Direction',\n",
       " 'Azimuth',\n",
       " 'Altitude',\n",
       " 'Sun altitude',\n",
       " 'Moon phase',\n",
       " 'Moon distance',\n",
       " 'Moon altitude']"
      ]
     },
     "execution_count": 4,
     "metadata": {},
     "output_type": "execute_result"
    }
   ],
   "source": [
    "eph.field_names"
   ]
  },
  {
   "cell_type": "code",
   "execution_count": 5,
   "id": "5dcaa324",
   "metadata": {},
   "outputs": [
    {
     "data": {
      "text/html": [
       "<i>QTable length=37</i>\n",
       "<table id=\"table140000520676304-44765\" class=\"table-striped table-bordered table-condensed\">\n",
       "<thead><tr><th>idx</th><th>Targetname</th><th>Date</th><th>RA</th><th>Dec</th><th>Delta</th><th>r</th><th>Elongation</th><th>Phase</th><th>V</th><th>Proper motion</th><th>Direction</th><th>Azimuth</th><th>Altitude</th><th>Sun altitude</th><th>Moon phase</th><th>Moon distance</th><th>Moon altitude</th></tr></thead>\n",
       "<thead><tr><th></th><th></th><th></th><th>deg</th><th>deg</th><th>AU</th><th>AU</th><th>deg</th><th>deg</th><th>mag</th><th>arcsec / h</th><th>deg</th><th>deg</th><th>deg</th><th>deg</th><th></th><th>deg</th><th>deg</th></tr></thead>\n",
       "<tr><td>0</td><td>2P</td><td>2022-06-22 00:00:00.000</td><td>0.1995833333333333</td><td>2.865277777777778</td><td>3.887</td><td>3.999</td><td>89.0</td><td>14.7</td><td>23.3</td><td>9.84</td><td>49.7</td><td>143.0</td><td>-57.0</td><td>-27.0</td><td>0.41</td><td>11.0</td><td>-60.0</td></tr>\n",
       "<tr><td>1</td><td>2P</td><td>2022-07-02 00:00:00.000</td><td>0.49041666666666656</td><td>3.2225</td><td>3.709</td><td>3.981</td><td>98.1</td><td>14.6</td><td>23.2</td><td>4.78</td><td>25.4</td><td>129.0</td><td>-52.0</td><td>-27.0</td><td>0.07</td><td>129.0</td><td>1.0</td></tr>\n",
       "<tr><td>2</td><td>2P</td><td>2022-07-12 00:00:00.000</td><td>0.39583333333333326</td><td>3.4322222222222223</td><td>3.533</td><td>3.961</td><td>107.6</td><td>14.2</td><td>23.0</td><td>4.5</td><td>295.9</td><td>118.0</td><td>-45.0</td><td>-26.0</td><td>0.95</td><td>98.0</td><td>51.0</td></tr>\n",
       "<tr><td>3</td><td>2P</td><td>2022-07-22 00:00:00.000</td><td>359.87791666666664</td><td>3.4755555555555557</td><td>3.364</td><td>3.939</td><td>117.6</td><td>13.2</td><td>22.9</td><td>10.75</td><td>266.4</td><td>110.0</td><td>-37.0</td><td>-25.0</td><td>0.36</td><td>44.0</td><td>-74.0</td></tr>\n",
       "<tr><td>4</td><td>2P</td><td>2022-08-01 00:00:00.000</td><td>358.9029166666666</td><td>3.333055555555555</td><td>3.208</td><td>3.916</td><td>128.0</td><td>11.8</td><td>22.7</td><td>18.15</td><td>258.6</td><td>103.0</td><td>-28.0</td><td>-24.0</td><td>0.1</td><td>163.0</td><td>11.0</td></tr>\n",
       "<tr><td>5</td><td>2P</td><td>2022-08-11 00:00:00.000</td><td>357.46208333333334</td><td>2.9919444444444445</td><td>3.068</td><td>3.891</td><td>139.0</td><td>9.8</td><td>22.5</td><td>25.63</td><td>255.1</td><td>97.0</td><td>-18.0</td><td>-23.0</td><td>0.98</td><td>56.0</td><td>39.0</td></tr>\n",
       "<tr><td>6</td><td>2P</td><td>2022-08-21 00:00:00.000</td><td>355.58083333333326</td><td>2.4516666666666667</td><td>2.952</td><td>3.864</td><td>150.5</td><td>7.4</td><td>22.3</td><td>32.57</td><td>253.0</td><td>91.0</td><td>-7.0</td><td>-22.0</td><td>0.33</td><td>81.0</td><td>-84.0</td></tr>\n",
       "<tr><td>7</td><td>2P</td><td>2022-08-31 00:00:00.000</td><td>353.32374999999996</td><td>1.7266666666666668</td><td>2.862</td><td>3.836</td><td>162.2</td><td>4.6</td><td>22.1</td><td>38.16</td><td>251.5</td><td>86.0</td><td>4.0</td><td>-21.0</td><td>0.14</td><td>154.0</td><td>21.0</td></tr>\n",
       "<tr><td>8</td><td>2P</td><td>2022-09-10 00:00:00.000</td><td>350.8083333333333</td><td>0.8544444444444445</td><td>2.804</td><td>3.806</td><td>173.4</td><td>1.7</td><td>21.9</td><td>41.51</td><td>250.4</td><td>80.0</td><td>15.0</td><td>-20.0</td><td>1.0</td><td>14.0</td><td>27.0</td></tr>\n",
       "<tr><td>9</td><td>2P</td><td>2022-09-20 00:00:00.000</td><td>348.1908333333333</td><td>-0.1063888888888889</td><td>2.779</td><td>3.775</td><td>171.1</td><td>2.4</td><td>21.9</td><td>42.19</td><td>249.5</td><td>74.0</td><td>26.0</td><td>-19.0</td><td>0.31</td><td>120.0</td><td>-85.0</td></tr>\n",
       "<tr><td>10</td><td>2P</td><td>2022-09-30 00:00:00.000</td><td>345.64625</td><td>-1.0858333333333332</td><td>2.787</td><td>3.741</td><td>159.3</td><td>5.4</td><td>22.0</td><td>39.9</td><td>248.7</td><td>67.0</td><td>36.0</td><td>-18.0</td><td>0.19</td><td>109.0</td><td>32.0</td></tr>\n",
       "<tr><td>11</td><td>2P</td><td>2022-10-10 00:00:00.000</td><td>343.34916666666663</td><td>-2.0094444444444446</td><td>2.827</td><td>3.706</td><td>147.2</td><td>8.4</td><td>22.2</td><td>34.97</td><td>248.0</td><td>57.0</td><td>46.0</td><td>-16.0</td><td>1.0</td><td>35.0</td><td>15.0</td></tr>\n",
       "<tr><td>12</td><td>2P</td><td>2022-10-20 00:00:00.000</td><td>341.43375</td><td>-2.815</td><td>2.894</td><td>3.669</td><td>135.3</td><td>11.0</td><td>22.3</td><td>28.17</td><td>247.1</td><td>44.0</td><td>55.0</td><td>-14.0</td><td>0.29</td><td>157.0</td><td>-77.0</td></tr>\n",
       "<tr><td>13</td><td>2P</td><td>2022-10-30 00:00:00.000</td><td>339.99249999999995</td><td>-3.4586111111111113</td><td>2.982</td><td>3.631</td><td>123.9</td><td>13.1</td><td>22.3</td><td>20.17</td><td>245.8</td><td>26.0</td><td>61.0</td><td>-13.0</td><td>0.25</td><td>65.0</td><td>45.0</td></tr>\n",
       "<tr><td>14</td><td>2P</td><td>2022-11-09 00:00:00.000</td><td>339.07041666666663</td><td>-3.912777777777778</td><td>3.087</td><td>3.59</td><td>112.9</td><td>14.7</td><td>22.3</td><td>11.81</td><td>243.1</td><td>4.0</td><td>64.0</td><td>-11.0</td><td>1.0</td><td>73.0</td><td>5.0</td></tr>\n",
       "<tr><td>15</td><td>2P</td><td>2022-11-19 00:00:00.000</td><td>338.66666666666663</td><td>-4.170277777777778</td><td>3.202</td><td>3.548</td><td>102.4</td><td>15.8</td><td>22.3</td><td>3.73</td><td>230.3</td><td>341.0</td><td>63.0</td><td>-9.0</td><td>0.27</td><td>163.0</td><td>-65.0</td></tr>\n",
       "<tr><td>16</td><td>2P</td><td>2022-11-29 00:00:00.000</td><td>338.75874999999996</td><td>-4.232222222222222</td><td>3.322</td><td>3.504</td><td>92.4</td><td>16.3</td><td>22.3</td><td>4.36</td><td>83.2</td><td>323.0</td><td>59.0</td><td>-7.0</td><td>0.32</td><td>25.0</td><td>55.0</td></tr>\n",
       "<tr><td>17</td><td>2P</td><td>2022-12-09 00:00:00.000</td><td>339.305</td><td>-4.107222222222222</td><td>3.44</td><td>3.457</td><td>82.8</td><td>16.4</td><td>22.3</td><td>11.27</td><td>73.4</td><td>309.0</td><td>53.0</td><td>-6.0</td><td>0.99</td><td>106.0</td><td>-4.0</td></tr>\n",
       "<tr><td>18</td><td>2P</td><td>2022-12-19 00:00:00.000</td><td>340.2545833333333</td><td>-3.8088888888888888</td><td>3.553</td><td>3.409</td><td>73.6</td><td>16.1</td><td>22.2</td><td>17.51</td><td>70.9</td><td>300.0</td><td>47.0</td><td>-4.0</td><td>0.24</td><td>132.0</td><td>-50.0</td></tr>\n",
       "<tr><td>19</td><td>2P</td><td>2022-12-29 00:00:00.000</td><td>341.55999999999995</td><td>-3.3494444444444444</td><td>3.656</td><td>3.359</td><td>64.9</td><td>15.4</td><td>22.2</td><td>23.04</td><td>69.5</td><td>293.0</td><td>40.0</td><td>-4.0</td><td>0.38</td><td>14.0</td><td>52.0</td></tr>\n",
       "<tr><td>20</td><td>2P</td><td>2023-01-08 00:00:00.000</td><td>343.17291666666665</td><td>-2.742777777777778</td><td>3.747</td><td>3.306</td><td>56.4</td><td>14.3</td><td>22.2</td><td>27.83</td><td>68.6</td><td>288.0</td><td>33.0</td><td>-3.0</td><td>0.99</td><td>134.0</td><td>-8.0</td></tr>\n",
       "<tr><td>21</td><td>2P</td><td>2023-01-18 00:00:00.000</td><td>345.0491666666666</td><td>-2.0030555555555556</td><td>3.822</td><td>3.251</td><td>48.3</td><td>13.1</td><td>22.1</td><td>32.04</td><td>67.9</td><td>283.0</td><td>26.0</td><td>-3.0</td><td>0.2</td><td>102.0</td><td>-35.0</td></tr>\n",
       "<tr><td>22</td><td>2P</td><td>2023-01-28 00:00:00.000</td><td>347.1545833333333</td><td>-1.1405555555555555</td><td>3.879</td><td>3.194</td><td>40.4</td><td>11.5</td><td>22.0</td><td>35.71</td><td>67.3</td><td>280.0</td><td>19.0</td><td>-4.0</td><td>0.43</td><td>42.0</td><td>41.0</td></tr>\n",
       "<tr><td>23</td><td>2P</td><td>2023-02-07 00:00:00.000</td><td>349.4554166666666</td><td>-0.16805555555555554</td><td>3.918</td><td>3.135</td><td>32.9</td><td>9.8</td><td>21.9</td><td>38.87</td><td>66.7</td><td>277.0</td><td>12.0</td><td>-6.0</td><td>0.99</td><td>159.0</td><td>-6.0</td></tr>\n",
       "<tr><td>24</td><td>2P</td><td>2023-02-17 00:00:00.000</td><td>351.92499999999995</td><td>0.9041666666666667</td><td>3.936</td><td>3.073</td><td>25.5</td><td>8.0</td><td>21.8</td><td>41.69</td><td>66.3</td><td>274.0</td><td>5.0</td><td>-7.0</td><td>0.15</td><td>72.0</td><td>-27.0</td></tr>\n",
       "<tr><td>25</td><td>2P</td><td>2023-02-27 00:00:00.000</td><td>354.54499999999996</td><td>2.068055555555556</td><td>3.932</td><td>3.009</td><td>18.4</td><td>6.0</td><td>21.7</td><td>44.17</td><td>65.8</td><td>271.0</td><td>-2.0</td><td>-10.0</td><td>0.47</td><td>68.0</td><td>31.0</td></tr>\n",
       "<tr><td>26</td><td>2P</td><td>2023-03-09 00:00:00.000</td><td>357.2966666666666</td><td>3.3138888888888887</td><td>3.907</td><td>2.943</td><td>11.7</td><td>3.9</td><td>21.5</td><td>46.38</td><td>65.5</td><td>269.0</td><td>-9.0</td><td>-12.0</td><td>0.98</td><td>171.0</td><td>1.0</td></tr>\n",
       "<tr><td>27</td><td>2P</td><td>2023-03-19 00:00:00.000</td><td>0.16999999999999996</td><td>4.634722222222222</td><td>3.861</td><td>2.873</td><td>5.9</td><td>2.0</td><td>21.3</td><td>48.43</td><td>65.2</td><td>266.0</td><td>-16.0</td><td>-15.0</td><td>0.1</td><td>43.0</td><td>-28.0</td></tr>\n",
       "<tr><td>28</td><td>2P</td><td>2023-03-29 00:00:00.000</td><td>3.158333333333333</td><td>6.025</td><td>3.794</td><td>2.801</td><td>4.9</td><td>1.7</td><td>21.1</td><td>50.32</td><td>65.0</td><td>264.0</td><td>-22.0</td><td>-17.0</td><td>0.49</td><td>91.0</td><td>29.0</td></tr>\n",
       "<tr><td>29</td><td>2P</td><td>2023-04-08 00:00:00.000</td><td>6.25625</td><td>7.477777777777778</td><td>3.706</td><td>2.726</td><td>9.9</td><td>3.6</td><td>20.9</td><td>52.12</td><td>64.8</td><td>262.0</td><td>-29.0</td><td>-20.0</td><td>0.96</td><td>149.0</td><td>7.0</td></tr>\n",
       "<tr><td>30</td><td>2P</td><td>2023-04-18 00:00:00.000</td><td>9.468333333333332</td><td>8.990277777777777</td><td>3.599</td><td>2.647</td><td>15.8</td><td>5.9</td><td>20.6</td><td>53.95</td><td>64.7</td><td>259.0</td><td>-35.0</td><td>-22.0</td><td>0.06</td><td>15.0</td><td>-36.0</td></tr>\n",
       "<tr><td>31</td><td>2P</td><td>2023-04-28 00:00:00.000</td><td>12.799999999999997</td><td>10.559722222222224</td><td>3.473</td><td>2.566</td><td>21.8</td><td>8.4</td><td>20.3</td><td>55.79</td><td>64.7</td><td>257.0</td><td>-42.0</td><td>-24.0</td><td>0.51</td><td>112.0</td><td>35.0</td></tr>\n",
       "<tr><td>32</td><td>2P</td><td>2023-05-08 00:00:00.000</td><td>16.261249999999997</td><td>12.18361111111111</td><td>3.331</td><td>2.481</td><td>27.6</td><td>10.9</td><td>20.0</td><td>57.78</td><td>64.7</td><td>254.0</td><td>-48.0</td><td>-26.0</td><td>0.94</td><td>124.0</td><td>6.0</td></tr>\n",
       "<tr><td>33</td><td>2P</td><td>2023-05-18 00:00:00.000</td><td>19.872916666666665</td><td>13.86361111111111</td><td>3.173</td><td>2.392</td><td>33.3</td><td>13.4</td><td>19.7</td><td>60.03</td><td>64.8</td><td>251.0</td><td>-54.0</td><td>-27.0</td><td>0.03</td><td>13.0</td><td>-43.0</td></tr>\n",
       "<tr><td>34</td><td>2P</td><td>2023-05-28 00:00:00.000</td><td>23.660833333333333</td><td>15.601388888888888</td><td>3.0</td><td>2.3</td><td>38.8</td><td>16.0</td><td>19.3</td><td>62.58</td><td>65.0</td><td>248.0</td><td>-60.0</td><td>-28.0</td><td>0.53</td><td>132.0</td><td>47.0</td></tr>\n",
       "<tr><td>35</td><td>2P</td><td>2023-06-07 00:00:00.000</td><td>27.661666666666665</td><td>17.4</td><td>2.816</td><td>2.204</td><td>44.1</td><td>18.7</td><td>18.9</td><td>65.68</td><td>65.4</td><td>244.0</td><td>-65.0</td><td>-28.0</td><td>0.89</td><td>98.0</td><td>-4.0</td></tr>\n",
       "<tr><td>36</td><td>2P</td><td>2023-06-17 00:00:00.000</td><td>31.933333333333334</td><td>19.2675</td><td>2.621</td><td>2.103</td><td>49.2</td><td>21.4</td><td>18.4</td><td>69.55</td><td>65.8</td><td>240.0</td><td>-71.0</td><td>-28.0</td><td>0.01</td><td>35.0</td><td>-42.0</td></tr>\n",
       "</table><style>table.dataTable {clear: both; width: auto !important; margin: 0 !important;}\n",
       ".dataTables_info, .dataTables_length, .dataTables_filter, .dataTables_paginate{\n",
       "display: inline-block; margin-right: 1em; }\n",
       ".paginate_button { margin-right: 5px; }\n",
       "</style>\n",
       "<script>\n",
       "\n",
       "var astropy_sort_num = function(a, b) {\n",
       "    var a_num = parseFloat(a);\n",
       "    var b_num = parseFloat(b);\n",
       "\n",
       "    if (isNaN(a_num) && isNaN(b_num))\n",
       "        return ((a < b) ? -1 : ((a > b) ? 1 : 0));\n",
       "    else if (!isNaN(a_num) && !isNaN(b_num))\n",
       "        return ((a_num < b_num) ? -1 : ((a_num > b_num) ? 1 : 0));\n",
       "    else\n",
       "        return isNaN(a_num) ? -1 : 1;\n",
       "}\n",
       "\n",
       "require.config({paths: {\n",
       "    datatables: 'https://cdn.datatables.net/1.10.12/js/jquery.dataTables.min'\n",
       "}});\n",
       "require([\"datatables\"], function(){\n",
       "    console.log(\"$('#table140000520676304-44765').dataTable()\");\n",
       "    \n",
       "jQuery.extend( jQuery.fn.dataTableExt.oSort, {\n",
       "    \"optionalnum-asc\": astropy_sort_num,\n",
       "    \"optionalnum-desc\": function (a,b) { return -astropy_sort_num(a, b); }\n",
       "});\n",
       "\n",
       "    $('#table140000520676304-44765').dataTable({\n",
       "        order: [],\n",
       "        pageLength: 50,\n",
       "        lengthMenu: [[10, 25, 50, 100, 500, 1000, -1], [10, 25, 50, 100, 500, 1000, 'All']],\n",
       "        pagingType: \"full_numbers\",\n",
       "        columnDefs: [{targets: [0, 3, 4, 5, 6, 7, 8, 9, 10, 11, 12, 13, 14, 15, 16, 17], type: \"optionalnum\"}]\n",
       "    });\n",
       "});\n",
       "</script>\n"
      ],
      "text/plain": [
       "<IPython.core.display.HTML object>"
      ]
     },
     "execution_count": 5,
     "metadata": {},
     "output_type": "execute_result"
    }
   ],
   "source": [
    "eph.table.show_in_notebook()  # eph.table provides access to the underlying astropy table object, which has some more functionality"
   ]
  },
  {
   "cell_type": "markdown",
   "id": "4e2de526",
   "metadata": {
    "tags": []
   },
   "source": [
    "## Orbits"
   ]
  },
  {
   "cell_type": "code",
   "execution_count": 6,
   "id": "42278c2a",
   "metadata": {},
   "outputs": [
    {
     "name": "stdout",
     "output_type": "stream",
     "text": [
      "<QTable length=1>\n",
      "targetname    e       q       i     Omega     w               Tp                    epoch         \n",
      "                      AU     deg     deg     deg                                                  \n",
      "   str8    float64 float64 float64 float64 float64           Time                    Time         \n",
      "---------- ------- ------- ------- ------- ------- ----------------------- -----------------------\n",
      "  2P/Encke    0.85    0.34    12.0   330.0   190.0 2020-06-26 00:00:00.000 2021-07-05 00:00:00.000\n"
     ]
    }
   ],
   "source": [
    "from sbpy.data import Orbit\n",
    "\n",
    "orbit = Orbit.from_dict({\n",
    "    'targetname': '2P/Encke',\n",
    "    'e': 0.85,\n",
    "    'q': 0.34 * u.au,\n",
    "    'i': 12 * u.deg,\n",
    "    'Omega': 330 * u.deg,\n",
    "    'w': 190 * u.deg,\n",
    "    'Tp': Time('2020-06-26'),\n",
    "    'epoch': Time('2021-07-05')\n",
    "})\n",
    "print(orbit)"
   ]
  },
  {
   "cell_type": "code",
   "execution_count": 7,
   "id": "9ccd12a1",
   "metadata": {},
   "outputs": [
    {
     "name": "stdout",
     "output_type": "stream",
     "text": [
      "<QTable length=1>\n",
      "   Q        w        Omega    desig     e       epoch   ...  number       Tp          q        P        a    \n",
      "   AU      deg        deg                               ...                           AU       yr       AU   \n",
      "float64  float64    float64    str1  float64     Time   ... float64      Time      float64  float64  float64 \n",
      "------- --------- ----------- ----- --------- --------- ... ------- ------------- --------- ------- ---------\n",
      "  4.099 186.60343 334.5166578       0.8486622 2459400.5 ...     2.0 2459026.73073 0.3355616     3.3 2.2173022\n"
     ]
    }
   ],
   "source": [
    "# or, just get it from the Minor Planet Center\n",
    "orbit = Orbit.from_mpc('2P')\n",
    "print(orbit)"
   ]
  },
  {
   "cell_type": "markdown",
   "id": "1c64d593",
   "metadata": {},
   "source": [
    "### Using openorb\n",
    "\n",
    "Orbit transformations are (presently) performed with openorb, which requires a target name, orbit type, H, and G parameters.  The HG system doesn't always make sense for a comet, but we need to add them anyway.\n",
    "\n",
    "Propagate the osculating elements to 2026:"
   ]
  },
  {
   "cell_type": "code",
   "execution_count": 8,
   "id": "145a0d08",
   "metadata": {},
   "outputs": [
    {
     "name": "stdout",
     "output_type": "stream",
     "text": [
      "<QTable length=1>\n",
      " id           a                  e                 incl       ... orbtype  epoch     H       G   \n",
      "              AU                                   deg        ...                   mag          \n",
      "str2       float64            float64            float64      ... float64   Time  float64 float64\n",
      "---- ------------------- ------------------ ----------------- ... ------- ------- ------- -------\n",
      "  2P 0.33866709052606453 0.8472974903813582 11.34798709906705 ...     2.0 61197.0    15.0    0.15\n"
     ]
    }
   ],
   "source": [
    "orbit['targetname'] = '2P'\n",
    "orbit['orbtype'] = 'COM'   # cometary style orbit with q, Tp (otherwise use KEP with a, M)\n",
    "orbit['H'] = 15 * u.mag\n",
    "orbit['G'] = 0.15\n",
    "\n",
    "# propagate the orbit forward to 2026 with openorb\n",
    "future_orbit = orbit.oo_propagate(Time('2026-06-06'))\n",
    "print(future_orbit)"
   ]
  },
  {
   "cell_type": "markdown",
   "id": "2a84472e",
   "metadata": {},
   "source": [
    "Convert an orbit into an ephemeris:"
   ]
  },
  {
   "cell_type": "code",
   "execution_count": 9,
   "id": "6623228a",
   "metadata": {
    "tags": []
   },
   "outputs": [
    {
     "data": {
      "text/html": [
       "<i>QTable length=12</i>\n",
       "<table id=\"table140000519956992-462780\" class=\"table-striped table-bordered table-condensed\">\n",
       "<thead><tr><th>idx</th><th>targetname</th><th>RA</th><th>DEC</th><th>RA*cos(Dec)_rate</th><th>DEC_rate</th><th>alpha</th><th>elong</th><th>r</th><th>Delta</th><th>V</th><th>pa</th><th>TopEclLon</th><th>TopEclLat</th><th>OppTopEclLon</th><th>OppTopEclLat</th><th>HelEclLon</th><th>HelEclLat</th><th>OppHelEclLon</th><th>OppHelEclLat</th><th>EL</th><th>ELsun</th><th>ELmoon</th><th>lunarphase</th><th>lunarelong</th><th>x</th><th>y</th><th>z</th><th>vx</th><th>vy</th><th>vz</th><th>obsx</th><th>obsy</th><th>obsz</th><th>trueanom</th><th>epoch</th></tr></thead>\n",
       "<thead><tr><th></th><th></th><th>deg</th><th>deg</th><th>deg / d</th><th>deg / d</th><th>deg</th><th>deg</th><th>AU</th><th>AU</th><th>mag</th><th>deg</th><th>deg</th><th>deg</th><th>deg</th><th>deg</th><th>deg</th><th>deg</th><th>deg</th><th>deg</th><th>deg</th><th>deg</th><th>deg</th><th></th><th>deg</th><th>AU</th><th>AU</th><th>AU</th><th>AU / d</th><th>AU / d</th><th>AU / d</th><th>AU</th><th>AU</th><th>AU</th><th>deg</th><th></th></tr></thead>\n",
       "<tr><td>0</td><td>1 Ceres (A801 AA)</td><td>9.675797980887554</td><td>-5.499673882448088</td><td>0.16547789421620127</td><td>0.1448084152718726</td><td>19.875754420847503</td><td>86.53888170154941</td><td>2.8870180601769735</td><td>2.774408879821769</td><td>8.863605310076032</td><td>48.811082864659596</td><td>6.705891725662259</td><td>-8.886604792209855</td><td>-93.50376508559087</td><td>-8.883141068569486</td><td>26.813021632706924</td><td>-8.538530371271305</td><td>-73.3966351785462</td><td>-8.535066647630936</td><td>90.0</td><td>90.0</td><td>90.0</td><td>0.913596633142974</td><td>61.068547401904794</td><td>2.5480568896369937</td><td>1.2878430974224153</td><td>-0.42864848463852506</td><td>-0.004866074821140865</td><td>0.00854140817113133</td><td>0.0011668725180616246</td><td>-0.17429525866271428</td><td>0.9677564243067907</td><td>-5.944542260682972e-05</td><td>232.69994313622257</td><td>2461041.500800741</td></tr>\n",
       "<tr><td>1</td><td>1 Ceres (A801 AA)</td><td>16.19785851757896</td><td>-0.8115762844398202</td><td>0.2615253790072533</td><td>0.16441843142274323</td><td>18.00469913998833</td><td>64.07673699972327</td><td>2.866545020947881</td><td>3.156853531366023</td><td>9.066370549644414</td><td>57.84282905919406</td><td>14.60900401793126</td><td>-7.1199090876831805</td><td>-116.14023599713431</td><td>-7.1173897819104495</td><td>32.755003873265025</td><td>-7.8461774468165535</td><td>-97.99423614180056</td><td>-7.843658141043822</td><td>90.0</td><td>90.0</td><td>90.0</td><td>0.9494908381035725</td><td>90.99889854690875</td><td>2.388171734524358</td><td>1.5364185549219538</td><td>-0.39132358430273717</td><td>-0.005787066934638915</td><td>0.008014183469288384</td><td>0.0013198623285834636</td><td>-0.6430637079023618</td><td>0.7463321894640457</td><td>-4.3317717684066004e-05</td><td>238.6242127299174</td><td>2461071.500800741</td></tr>\n",
       "<tr><td>2</td><td>1 Ceres (A801 AA)</td><td>25.03001231785694</td><td>4.200201622269738</td><td>0.3221189174034712</td><td>0.16727533913210976</td><td>14.000894524585945</td><td>43.98962040445116</td><td>2.844728571601356</td><td>3.4731742475740646</td><td>9.11780918584589</td><td>62.55728997482116</td><td>24.733362583154516</td><td>-5.776414216120558</td><td>-136.3142606806842</td><td>-5.775553695193512</td><td>38.76406997222905</td><td>-7.058716819075753</td><td>-122.28355329160969</td><td>-7.057856298148708</td><td>90.0</td><td>90.0</td><td>90.0</td><td>0.9739138604062573</td><td>117.78461017256889</td><td>2.201310622584286</td><td>1.7676275088046929</td><td>-0.3495785735705085</td><td>-0.006662568049697245</td><td>0.0073835798393768635</td><td>0.001461194422895181</td><td>-0.9372329458960577</td><td>0.32184405979052066</td><td>-1.4883057455922222e-05</td><td>244.6353575804441</td><td>2461101.500800741</td></tr>\n",
       "<tr><td>3</td><td>1 Ceres (A801 AA)</td><td>35.385182773218595</td><td>9.09923537583128</td><td>0.3602365059785513</td><td>0.15733985504760206</td><td>8.80611398024568</td><td>25.619021780040285</td><td>2.8217889992867047</td><td>3.689393176653406</td><td>9.03136918691209</td><td>66.40582399808139</td><td>36.122207308918576</td><td>-4.723497346652654</td><td>-154.79103236826867</td><td>-4.7245167028765565</td><td>44.84674141960801</td><td>-6.180436768636267</td><td>-146.06649825757924</td><td>-6.181456124860169</td><td>90.0</td><td>90.0</td><td>90.0</td><td>0.9873460347644314</td><td>141.4761615183063</td><td>1.9890080358886735</td><td>1.978395733814898</td><td>-0.3037935320061199</td><td>-0.007481028007295688</td><td>0.006651545145359813</td><td>0.0015888063406873047</td><td>-0.9810202333438985</td><td>-0.1891498273770321</td><td>1.7774910422499457e-05</td><td>250.74054063628438</td><td>2461131.500800741</td></tr>\n",
       "<tr><td>4</td><td>1 Ceres (A801 AA)</td><td>46.80511404810439</td><td>13.538594057424156</td><td>0.3836807432027014</td><td>0.13700265746995147</td><td>3.1466024699145616</td><td>8.76931683106714</td><td>2.797970359583463</td><td>3.789362474882859</td><td>8.761809926243718</td><td>70.34964319313217</td><td>48.1665637275187</td><td>-3.850331989356132</td><td>-172.11395431218273</td><td>-3.852933915298497</td><td>51.00985322410078</td><td>-5.216947575647167</td><td>-169.27066481560067</td><td>-5.2195495015895315</td><td>90.0</td><td>90.0</td><td>90.0</td><td>0.9936839204249175</td><td>162.11495912222478</td><td>1.7531532706537272</td><td>2.165725408848266</td><td>-0.2544114702067568</td><td>-0.008230369566501566</td><td>0.005821328909576347</td><td>0.0017005737903153717</td><td>-0.7685234602351686</td><td>-0.6513061629009601</td><td>4.574762215850403e-05</td><td>256.94634019786906</td><td>2461161.500800741</td></tr>\n",
       "<tr><td>5</td><td>1 Ceres (A801 AA)</td><td>58.968520990978575</td><td>17.24139619666913</td><td>0.3956548560920152</td><td>0.10872014070422363</td><td>3.3769395833190283</td><td>9.27432421113552</td><td>2.773539715709678</td><td>3.769198803254319</td><td>8.748333501008698</td><td>74.63518557607814</td><td>60.45856565539994</td><td>-3.072109286264167</td><td>171.24383864873684</td><td>-3.0756008847594605</td><td>57.260492552069884</td><td>-4.175368729151666</td><td>168.0457655454068</td><td>-4.17886032764696</td><td>90.0</td><td>90.0</td><td>90.0</td><td>0.9968950292019245</td><td>170.64429638929062</td><td>1.4960058176740487</td><td>2.326737936794598</td><td>-0.20193989597189388</td><td>-0.008898048780686126</td><td>0.004897730869659943</td><td>0.0017943357075237215</td><td>-0.3597377414927261</td><td>-0.9477500473968994</td><td>6.1776380720302e-05</td><td>263.2585896307671</td><td>2461191.500800741</td></tr>\n",
       "<tr><td>6</td><td>1 Ceres (A801 AA)</td><td>71.54278748209227</td><td>20.01735717642881</td><td>0.3959110657848789</td><td>0.07593605463760075</td><td>9.094251522706331</td><td>25.302356174190983</td><td>2.748786762086948</td><td>3.633264806634394</td><td>8.953265179827183</td><td>79.14248323251573</td><td>72.67963090686051</td><td>-2.318997830390388</td><td>154.79683291254267</td><td>-2.3224874803536606</td><td>63.60589237001697</td><td>-3.064516179315022</td><td>145.72309437569913</td><td>-3.0680058292782943</td><td>90.0</td><td>90.0</td><td>90.0</td><td>0.9987483152261035</td><td>154.00052485958827</td><td>1.2202066498976842</td><td>2.458725224291425</td><td>-0.1469512381812491</td><td>-0.009471269199427248</td><td>0.0038873932431751244</td><td>0.001867942958476725</td><td>0.13941755325590333</td><td>-1.0069487050149781</td><td>6.191414501566239e-05</td><td>269.6821928571073</td><td>2461221.500800741</td></tr>\n",
       "<tr><td>7</td><td>1 Ceres (A801 AA)</td><td>84.08044531375695</td><td>21.803832280997394</td><td>0.38141751316579714</td><td>0.04381902627267242</td><td>14.44836754417195</td><td>42.02767254332385</td><td>2.7240215989671377</td><td>3.391978719068948</td><td>8.988331921016897</td><td>83.44632518881653</td><td>84.50333155181538</td><td>-1.5225812697459422</td><td>137.99468166183627</td><td>-1.5251965048545113</td><td>70.05327948775964</td><td>-1.8950810766182995</td><td>123.54462959778053</td><td>-1.8976963117268686</td><td>90.0</td><td>90.0</td><td>90.0</td><td>0.9983054744845603</td><td>133.47742000388862</td><td>0.9287812770025905</td><td>2.5592077485816453</td><td>-0.09008168919700532</td><td>-0.009937258151494436</td><td>0.0027989510377401747</td><td>0.001919308790962533</td><td>0.6039854409078613</td><td>-0.8159818148816141</td><td>4.6338117494382214e-05</td><td>276.2209178851535</td><td>2461251.500800741</td></tr>\n",
       "<tr><td>8</td><td>1 Ceres (A801 AA)</td><td>95.9474037958572</td><td>22.72641891332082</td><td>0.3461214705897604</td><td>0.019810630638484032</td><td>18.873847161818563</td><td>59.842071741392004</td><td>2.699571344243136</td><td>3.061822254099891</td><td>8.89878360873339</td><td>86.72418912736232</td><td>95.48447343120922</td><td>-0.5997152772397577</td><td>120.1597388996096</td><td>-0.6007970914684754</td><td>76.60960545064316</td><td>-0.679788897874452</td><td>101.28487091904348</td><td>-0.6808707121031696</td><td>90.0</td><td>90.0</td><td>90.0</td><td>0.9926089304172772</td><td>110.40649607473405</td><td>0.6251357351495539</td><td>2.62599789281266</td><td>-0.03202845986286862</td><td>-0.010283523176918698</td><td>0.001643273287488247</td><td>0.0019464733913075424</td><td>0.9177563403051187</td><td>-0.4216408381456936</td><td>1.9069636969737402e-05</td><td>282.8771732067588</td><td>2461281.500800741</td></tr>\n",
       "<tr><td>9</td><td>1 Ceres (A801 AA)</td><td>106.24093990126511</td><td>23.171562337841916</td><td>0.2791597117053305</td><td>0.01382374274085324</td><td>21.617482022775615</td><td>79.62419093076412</td><td>2.6757772337557313</td><td>2.668068028704872</td><td>8.670194342996055</td><td>87.16507922313095</td><td>104.89974562042087</td><td>0.5684070123341111</td><td>100.37631782618475</td><td>0.5691509467812196</td><td>83.28118858766234</td><td>0.5664906324841713</td><td>78.75776079342621</td><td>0.5672345669312798</td><td>90.0</td><td>90.0</td><td>90.0</td><td>0.9780358487953601</td><td>83.78840845535986</td><td>0.3130420983495721</td><td>2.657270886740685</td><td>0.0264553175513762</td><td>-0.010498310433533727</td><td>0.0004336933855364002</td><td>0.0019476957634623217</td><td>0.9990445832443119</td><td>0.0790375588705527</td><td>-1.3012231189248047e-05</td><td>289.6517750747096</td><td>2461311.500800741</td></tr>\n",
       "<tr><td>10</td><td>1 Ceres (A801 AA)</td><td>113.62420209401225</td><td>23.845629728585507</td><td>0.162478932627031</td><td>0.03654224511067977</td><td>21.43372090676288</td><td>102.68372177557538</td><td>2.652989969124853</td><td>2.251321901581806</td><td>8.276930865968115</td><td>77.32482402831135</td><td>111.51763406674553</td><td>2.153827611606465</td><td>77.3070685775525</td><td>2.1562405944723304</td><td>90.07328852425115</td><td>1.8267088968072922</td><td>55.86272303505813</td><td>1.8291218796731576</td><td>90.0</td><td>90.0</td><td>90.0</td><td>0.9522075256032684</td><td>52.48839175329334</td><td>-0.003391783111362859</td><td>2.651639575263042</td><td>0.08456852241375934</td><td>-0.010571144058808591</td><td>-0.0008139849513277114</td><td>0.0019215462475040519</td><td>0.8217816457803749</td><td>0.5587037850988634</td><td>-4.184992259137488e-05</td><td>296.5437173160529</td><td>2461341.500800741</td></tr>\n",
       "<tr><td>11</td><td>1 Ceres (A801 AA)</td><td>116.15526785666718</td><td>25.651799677465718</td><td>-0.018166699548623228</td><td>0.0860693495224552</td><td>16.505931307687128</td><td>130.74450142436697</td><td>2.6315632852833235</td><td>1.8790125235163069</td><td>7.702920382348097</td><td>348.0814897401324</td><td>113.48394944733857</td><td>4.319771094379169</td><td>49.11438264839099</td><td>4.323238968604964</td><td>96.98955549561023</td><td>3.0817056981840767</td><td>32.61998869666265</td><td>3.085173572409872</td><td>90.0</td><td>90.0</td><td>90.0</td><td>0.9161873361612026</td><td>15.607711331810092</td><td>-0.31976765980086175</td><td>2.608229172592375</td><td>0.14147279397372214</td><td>-0.010493363510902094</td><td>-0.002081492188107</td><td>0.0018670105016480353</td><td>0.4268769124961149</td><td>0.8897477183788312</td><td>-5.972996944814124e-05</td><td>303.5499591204088</td><td>2461371.500800741</td></tr>\n",
       "</table><style>table.dataTable {clear: both; width: auto !important; margin: 0 !important;}\n",
       ".dataTables_info, .dataTables_length, .dataTables_filter, .dataTables_paginate{\n",
       "display: inline-block; margin-right: 1em; }\n",
       ".paginate_button { margin-right: 5px; }\n",
       "</style>\n",
       "<script>\n",
       "\n",
       "var astropy_sort_num = function(a, b) {\n",
       "    var a_num = parseFloat(a);\n",
       "    var b_num = parseFloat(b);\n",
       "\n",
       "    if (isNaN(a_num) && isNaN(b_num))\n",
       "        return ((a < b) ? -1 : ((a > b) ? 1 : 0));\n",
       "    else if (!isNaN(a_num) && !isNaN(b_num))\n",
       "        return ((a_num < b_num) ? -1 : ((a_num > b_num) ? 1 : 0));\n",
       "    else\n",
       "        return isNaN(a_num) ? -1 : 1;\n",
       "}\n",
       "\n",
       "require.config({paths: {\n",
       "    datatables: 'https://cdn.datatables.net/1.10.12/js/jquery.dataTables.min'\n",
       "}});\n",
       "require([\"datatables\"], function(){\n",
       "    console.log(\"$('#table140000519956992-462780').dataTable()\");\n",
       "    \n",
       "jQuery.extend( jQuery.fn.dataTableExt.oSort, {\n",
       "    \"optionalnum-asc\": astropy_sort_num,\n",
       "    \"optionalnum-desc\": function (a,b) { return -astropy_sort_num(a, b); }\n",
       "});\n",
       "\n",
       "    $('#table140000519956992-462780').dataTable({\n",
       "        order: [],\n",
       "        pageLength: 50,\n",
       "        lengthMenu: [[10, 25, 50, 100, 500, 1000, -1], [10, 25, 50, 100, 500, 1000, 'All']],\n",
       "        pagingType: \"full_numbers\",\n",
       "        columnDefs: [{targets: [0, 2, 3, 4, 5, 6, 7, 8, 9, 10, 11, 12, 13, 14, 15, 16, 17, 18, 19, 20, 21, 22, 23, 24, 25, 26, 27, 28, 29, 30, 31, 32, 33, 34], type: \"optionalnum\"}]\n",
       "    });\n",
       "});\n",
       "</script>\n"
      ],
      "text/plain": [
       "<IPython.core.display.HTML object>"
      ]
     },
     "execution_count": 9,
     "metadata": {},
     "output_type": "execute_result"
    }
   ],
   "source": [
    "import numpy as np\n",
    "\n",
    "orbit = Orbit.from_horizons('Ceres')\n",
    "epochs = Time('2026-01-01') + np.arange(12) * 30 * u.day\n",
    "eph = Ephem.from_oo(orbit, epochs=epochs)\n",
    "eph.table.show_in_notebook()"
   ]
  },
  {
   "cell_type": "markdown",
   "id": "047f7525",
   "metadata": {
    "tags": []
   },
   "source": [
    "## Physical properties"
   ]
  },
  {
   "cell_type": "code",
   "execution_count": 10,
   "id": "7f23b820",
   "metadata": {},
   "outputs": [
    {
     "name": "stdout",
     "output_type": "stream",
     "text": [
      "['targetname', 'H', 'H_sig', 'H_ref', 'H_note', 'G', 'G_sig', 'G_ref', 'G_note', 'diameter', 'diameter_sig', 'diameter_ref', 'diameter_note', 'extent', 'extent_sig', 'extent_ref', 'extent_note', 'GM', 'GM_sig', 'GM_ref', 'GM_note', 'density', 'density_sig', 'density_ref', 'density_note', 'rot_per', 'rot_per_sig', 'rot_per_ref', 'rot_per_note', 'pole', 'pole_sig', 'pole_ref', 'pole_note', 'albedo', 'albedo_sig', 'albedo_ref', 'albedo_note', 'BV', 'BV_sig', 'BV_ref', 'BV_note', 'UB', 'UB_sig', 'UB_ref', 'UB_note', 'spec_T', 'spec_T_sig', 'spec_T_ref', 'spec_T_note', 'spec_B', 'spec_B_sig', 'spec_B_ref', 'spec_B_note']\n"
     ]
    }
   ],
   "source": [
    "from sbpy.data import Phys\n",
    "phys = Phys.from_sbdb(['Ceres', '12893', '3552'])  # JPL's Small Body Database\n",
    "print(phys.field_names)"
   ]
  },
  {
   "cell_type": "code",
   "execution_count": 11,
   "id": "f9eec957",
   "metadata": {},
   "outputs": [
    {
     "name": "stdout",
     "output_type": "stream",
     "text": [
      "<QTable length=3>\n",
      "        targetname            H    diameter  albedo\n",
      "                             mag      km           \n",
      "          str26            float64 float64  float64\n",
      "-------------------------- ------- -------- -------\n",
      "         1 Ceres (A801 AA)    3.56    939.4    0.09\n",
      " 12893 Mommert (1998 QS55)   13.98    5.214   0.179\n",
      "3552 Don Quixote (1983 SA)   12.96     19.0    0.03\n"
     ]
    }
   ],
   "source": [
    "print(phys['targetname', 'H', 'D', 'albedo'])"
   ]
  },
  {
   "cell_type": "markdown",
   "id": "a20af2d3",
   "metadata": {},
   "source": [
    "## Observational data"
   ]
  },
  {
   "cell_type": "code",
   "execution_count": 5,
   "id": "2941721d",
   "metadata": {},
   "outputs": [
    {
     "name": "stdout",
     "output_type": "stream",
     "text": [
      "4666\n"
     ]
    }
   ],
   "source": [
    "from sbpy.data import Obs\n",
    "\n",
    "phot = Obs.from_mpc('24')  # get all reported data on (24) Themis\n",
    "print(len(phot))"
   ]
  },
  {
   "cell_type": "code",
   "execution_count": 6,
   "id": "04a7443e",
   "metadata": {},
   "outputs": [
    {
     "data": {
      "text/html": [
       "<i>QTable length=10</i>\n",
       "<table id=\"table140663747315600-490747\" class=\"table-striped table-bordered table-condensed\">\n",
       "<thead><tr><th>idx</th><th>number</th><th>desig</th><th>discovery</th><th>note1</th><th>note2</th><th>epoch</th><th>RA</th><th>DEC</th><th>mag</th><th>band</th><th>observatory</th></tr></thead>\n",
       "<thead><tr><th></th><th></th><th></th><th></th><th></th><th></th><th></th><th>deg</th><th>deg</th><th>mag</th><th></th><th></th></tr></thead>\n",
       "<tr><td>0</td><td>24</td><td></td><td>--</td><td>--</td><td>M</td><td>2397971.38172</td><td>166.79537499999998</td><td>6.354166666666666</td><td>———</td><td>--</td><td>520</td></tr>\n",
       "<tr><td>1</td><td>24</td><td></td><td>--</td><td>--</td><td>M</td><td>2397972.37477</td><td>166.80120833333334</td><td>6.344138888888889</td><td>———</td><td>--</td><td>520</td></tr>\n",
       "<tr><td>2</td><td>24</td><td></td><td>--</td><td>--</td><td>M</td><td>2397978.42191</td><td>166.94766666666663</td><td>6.241361111111111</td><td>———</td><td>--</td><td>520</td></tr>\n",
       "<tr><td>3</td><td>24</td><td></td><td>--</td><td>--</td><td>M</td><td>2397979.38502</td><td>166.99175</td><td>6.216527777777778</td><td>———</td><td>--</td><td>520</td></tr>\n",
       "<tr><td>4</td><td>24</td><td></td><td>--</td><td>--</td><td>A</td><td>2397982.42308</td><td>167.154375</td><td>6.1257777777777775</td><td>———</td><td>--</td><td>520</td></tr>\n",
       "<tr><td>5</td><td>24</td><td></td><td>--</td><td>--</td><td>A</td><td>2397984.40804</td><td>167.28708333333333</td><td>6.058916666666667</td><td>———</td><td>--</td><td>520</td></tr>\n",
       "<tr><td>6</td><td>24</td><td></td><td>--</td><td>--</td><td>M</td><td>2397987.41103</td><td>167.52637499999997</td><td>5.937888888888889</td><td>———</td><td>--</td><td>520</td></tr>\n",
       "<tr><td>7</td><td>24</td><td></td><td>--</td><td>--</td><td>M</td><td>2399222.3727</td><td>23.836291666666664</td><td>9.566666666666666</td><td>———</td><td>--</td><td>516</td></tr>\n",
       "<tr><td>8</td><td>24</td><td></td><td>--</td><td>--</td><td>M</td><td>2399241.27806</td><td>20.344708333333333</td><td>8.260972222222222</td><td>———</td><td>--</td><td>516</td></tr>\n",
       "<tr><td>9</td><td>24</td><td></td><td>--</td><td>--</td><td>M</td><td>2399243.43456</td><td>19.939333333333334</td><td>8.109361111111111</td><td>———</td><td>--</td><td>516</td></tr>\n",
       "</table><style>table.dataTable {clear: both; width: auto !important; margin: 0 !important;}\n",
       ".dataTables_info, .dataTables_length, .dataTables_filter, .dataTables_paginate{\n",
       "display: inline-block; margin-right: 1em; }\n",
       ".paginate_button { margin-right: 5px; }\n",
       "</style>\n",
       "<script>\n",
       "\n",
       "var astropy_sort_num = function(a, b) {\n",
       "    var a_num = parseFloat(a);\n",
       "    var b_num = parseFloat(b);\n",
       "\n",
       "    if (isNaN(a_num) && isNaN(b_num))\n",
       "        return ((a < b) ? -1 : ((a > b) ? 1 : 0));\n",
       "    else if (!isNaN(a_num) && !isNaN(b_num))\n",
       "        return ((a_num < b_num) ? -1 : ((a_num > b_num) ? 1 : 0));\n",
       "    else\n",
       "        return isNaN(a_num) ? -1 : 1;\n",
       "}\n",
       "\n",
       "require.config({paths: {\n",
       "    datatables: 'https://cdn.datatables.net/1.10.12/js/jquery.dataTables.min'\n",
       "}});\n",
       "require([\"datatables\"], function(){\n",
       "    console.log(\"$('#table140663747315600-490747').dataTable()\");\n",
       "    \n",
       "jQuery.extend( jQuery.fn.dataTableExt.oSort, {\n",
       "    \"optionalnum-asc\": astropy_sort_num,\n",
       "    \"optionalnum-desc\": function (a,b) { return -astropy_sort_num(a, b); }\n",
       "});\n",
       "\n",
       "    $('#table140663747315600-490747').dataTable({\n",
       "        order: [],\n",
       "        pageLength: 50,\n",
       "        lengthMenu: [[10, 25, 50, 100, 500, 1000, -1], [10, 25, 50, 100, 500, 1000, 'All']],\n",
       "        pagingType: \"full_numbers\",\n",
       "        columnDefs: [{targets: [0, 1, 7, 8, 9], type: \"optionalnum\"}]\n",
       "    });\n",
       "});\n",
       "</script>\n"
      ],
      "text/plain": [
       "<IPython.core.display.HTML object>"
      ]
     },
     "execution_count": 6,
     "metadata": {},
     "output_type": "execute_result"
    }
   ],
   "source": [
    "phot[:10].table.show_in_notebook()  # just the first 10 entries"
   ]
  }
 ],
 "metadata": {
  "kernelspec": {
   "display_name": "Python 3",
   "language": "python",
   "name": "python3"
  },
  "language_info": {
   "codemirror_mode": {
    "name": "ipython",
    "version": 3
   },
   "file_extension": ".py",
   "mimetype": "text/x-python",
   "name": "python",
   "nbconvert_exporter": "python",
   "pygments_lexer": "ipython3",
   "version": "3.8.11"
  }
 },
 "nbformat": 4,
 "nbformat_minor": 5
}
