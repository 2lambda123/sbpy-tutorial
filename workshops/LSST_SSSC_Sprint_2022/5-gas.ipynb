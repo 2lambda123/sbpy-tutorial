{
 "cells": [
  {
   "cell_type": "markdown",
   "id": "92403859-6ff4-4ed7-8207-28bc7925bb3a",
   "metadata": {},
   "source": [
    "# Gas"
   ]
  },
  {
   "cell_type": "markdown",
   "id": "c62622fc-8afc-4414-93a6-6ee68e4af358",
   "metadata": {},
   "source": [
    "## Haser model\n",
    "\n",
    "sbpy has the Haser model for gas comae, assuming a 1 dimensional outflow.  It is capabable of modeling parent and daughter species (e.g., up to 1 generation of fragmentation):"
   ]
  },
  {
   "cell_type": "code",
   "execution_count": 1,
   "id": "1f3a600a-d17a-475d-8d4e-8c34235f59fd",
   "metadata": {},
   "outputs": [
    {
     "name": "stdout",
     "output_type": "stream",
     "text": [
      "1.3098195396338546e+32\n",
      "\n",
      "Sources\n",
      " sbpy:\n",
      "  software: sbpy:\n",
      "    2019JOSS....4.1426M\n",
      "sbpy.activity.gas.core.photo_lengthscale:\n",
      "  H2O photodissociation lengthscale:\n",
      "    1993Icar..105..235C\n",
      "sbpy.activity.gas.core.Haser.__init__:\n",
      "  model:\n",
      "    1957BSRSL..43..740H\n",
      "sbpy.activity.gas.core.GasComa.total_number:\n",
      "  model:\n",
      "    1978Icar...35..360N\n",
      "\n"
     ]
    }
   ],
   "source": [
    "import astropy.units as u\n",
    "from sbpy.activity.gas import Haser, photo_lengthscale\n",
    "from sbpy import bib\n",
    "\n",
    "bib.track()\n",
    "\n",
    "Q = 1e28 / u.s\n",
    "v = 800 * u.m / u.s\n",
    "parent = photo_lengthscale('H2O')\n",
    "coma = Haser(Q, v, parent)\n",
    "\n",
    "# total number in 10,000 km radius aperture\n",
    "rho = 1e4 * u.km\n",
    "print(coma.total_number(rho))\n",
    "\n",
    "bib.stop()\n",
    "print(\"\\nSources\\n\", bib.show())"
   ]
  },
  {
   "cell_type": "markdown",
   "id": "504a86db-e6dc-4149-a24e-05326d45630a",
   "metadata": {},
   "source": [
    "Other aperture geometries are possible:"
   ]
  },
  {
   "cell_type": "code",
   "execution_count": 2,
   "id": "5b4951d5-cf9f-4a52-ab2c-a3ca6e28157d",
   "metadata": {},
   "outputs": [
    {
     "name": "stdout",
     "output_type": "stream",
     "text": [
      "3.192618906156282e+31\n"
     ]
    }
   ],
   "source": [
    "from sbpy.activity import RectangularAperture\n",
    "from sbpy.data import Ephem\n",
    "\n",
    "eph = Ephem.from_mpc('C/2017 K2')\n",
    "narrow_slit = RectangularAperture((1, 10) * u.arcsec)\n",
    "print(coma.total_number(narrow_slit, eph))"
   ]
  },
  {
   "cell_type": "markdown",
   "id": "f7017d39-d773-4cb7-8f49-0acdd53ae753",
   "metadata": {},
   "source": [
    "## Vectorial model\n",
    "\n",
    ">  ⚠️ The version of the Vectorial model in sbpy v0.3 needs testing and is expected to be improved in v0.4."
   ]
  },
  {
   "cell_type": "code",
   "execution_count": 3,
   "id": "8de8c3d9-2dbe-4955-a9d1-e91785d7da2b",
   "metadata": {},
   "outputs": [
    {
     "name": "stderr",
     "output_type": "stream",
     "text": [
      "/disks/data0/data/sbpy/tutorial/june2022/.venv/lib/python3.9/site-packages/sbpy/activity/gas/core.py:730: TestingNeeded: Literature tests with the Vectorial model are generally in agreement at the 20% level or better.  The cause for the differences with the Festou FORTRAN code are not yet precisely known.  Help testing this feature is appreciated.\n",
      "  warnings.warn(\"Literature tests with the Vectorial model are generally\"\n"
     ]
    }
   ],
   "source": [
    "from sbpy.activity.gas import VectorialModel, photo_timescale\n",
    "from sbpy.data import Phys\n",
    "\n",
    "parent = Phys.from_dict({'tau_T': photo_timescale('H2O') * 0.8,  # approximate\n",
    "                         'tau_d': photo_timescale('H2O'),\n",
    "                         'v_outflow': 0.85 * u.km / u.s,\n",
    "                         'sigma': 3e-16 * u.cm**2})\n",
    "daughter = Phys.from_dict({'tau_T': photo_timescale('OH') * 0.8,  # approximate\n",
    "                           'v_photo': 1.05 * u.km / u.s})\n",
    "coma = VectorialModel(Q, parent, daughter)"
   ]
  },
  {
   "cell_type": "code",
   "execution_count": 4,
   "id": "332140e0-1aff-459a-b1f4-462b4b8815bd",
   "metadata": {},
   "outputs": [
    {
     "data": {
      "image/png": "[encoded data removed]",
      "text/plain": [
       "<Figure size 432x288 with 1 Axes>"
      ]
     },
     "metadata": {
      "needs_background": "light"
     },
     "output_type": "display_data"
    }
   ],
   "source": [
    "import numpy as np\n",
    "import matplotlib.pyplot as plt\n",
    "\n",
    "rho = np.logspace(1, 4) * u.km\n",
    "sigma = coma.column_density(rho).to('cm^-2')\n",
    "\n",
    "ax = plt.gca()\n",
    "ax.plot(rho, sigma, label='Vectorial model, OH')\n",
    "plt.setp(ax, xlabel='Distance (km)', ylabel='Column density (cm$^{-2}$)', yscale='log', xscale='log')\n",
    "plt.legend()\n",
    "plt.tight_layout()"
   ]
  }
 ],
 "metadata": {
  "kernelspec": {
   "display_name": "Python 3 (ipykernel)",
   "language": "python",
   "name": "python3"
  },
  "language_info": {
   "codemirror_mode": {
    "name": "ipython",
    "version": 3
   },
   "file_extension": ".py",
   "mimetype": "text/x-python",
   "name": "python",
   "nbconvert_exporter": "python",
   "pygments_lexer": "ipython3",
   "version": "3.9.13"
  }
 },
 "nbformat": 4,
 "nbformat_minor": 5
}
