{
 "cells": [
  {
   "cell_type": "markdown",
   "id": "6eb6638d-9196-443c-b073-ed89b1e27288",
   "metadata": {},
   "source": [
    "# Dust"
   ]
  },
  {
   "cell_type": "markdown",
   "id": "b36fc380-f9d5-400b-b615-8f669422c44d",
   "metadata": {
    "tags": []
   },
   "source": [
    "Cometary dust comae are presently modeled with the Afρ quantity of A'Hearn et al. (1984), and the thermal emission corollary, εfρ, of Kelley et al. (2013).  For photometry of a cometary coma within a circular aperture:\n",
    "\n",
    "* *A* is the albedo of the dust,\n",
    "* *f* is the filling factor of the dust in the aperture,\n",
    "* *ρ* is the aperture radius in units of length (at the distance of the comet).\n",
    "\n",
    "The `Afrho` and `Efrho` classes are derived from astropy's `Quantity`, and have units of length:"
   ]
  },
  {
   "cell_type": "code",
   "execution_count": 1,
   "id": "de15095b-19e2-42d9-8fc3-0a72e239cd1f",
   "metadata": {
    "tags": []
   },
   "outputs": [
    {
     "name": "stdout",
     "output_type": "stream",
     "text": [
      "1000.0 cm\n"
     ]
    }
   ],
   "source": [
    "import astropy.units as u\n",
    "from sbpy.activity import Afrho, Efrho\n",
    "\n",
    "afrho = Afrho(1000 * u.cm)\n",
    "print(afrho)"
   ]
  },
  {
   "cell_type": "code",
   "execution_count": 2,
   "id": "5c619387-9cab-43be-ae46-7c9b60ce0a0e",
   "metadata": {},
   "outputs": [
    {
     "name": "stdout",
     "output_type": "stream",
     "text": [
      "3500.0 cm\n"
     ]
    }
   ],
   "source": [
    "efrho = Efrho(3.5 * afrho)\n",
    "print(efrho)"
   ]
  },
  {
   "cell_type": "markdown",
   "id": "851913bf-24f5-4a11-a876-01696945fee5",
   "metadata": {},
   "source": [
    "With bandpass or wavelength, aperture radius, helocentric distance, and observer-target distance, we can convert `Afrho` and `Efrho` objects into spectral flux density:"
   ]
  },
  {
   "cell_type": "code",
   "execution_count": 3,
   "id": "b7a88d64-6674-4aed-af04-67b4bdf33894",
   "metadata": {},
   "outputs": [
    {
     "name": "stdout",
     "output_type": "stream",
     "text": [
      "14.737360509904782 mag(AB)\n"
     ]
    }
   ],
   "source": [
    "from sbpy.data import Ephem\n",
    "\n",
    "eph = Ephem.from_mpc('C/2017 K2')\n",
    "aper = 5 * u.arcsec\n",
    "m = afrho.to_fluxd('LSST r', aper, eph, unit=u.ABmag)\n",
    "print(m)"
   ]
  },
  {
   "cell_type": "code",
   "execution_count": 4,
   "id": "965b37ce-1c08-4629-908b-85f9d8e7e526",
   "metadata": {},
   "outputs": [
    {
     "name": "stdout",
     "output_type": "stream",
     "text": [
      "14.737360509904782 mag(AB) --> 1000.0 cm\n"
     ]
    }
   ],
   "source": [
    "roundtrip = Afrho.from_fluxd('LSST r', m, aper, eph)\n",
    "print(f'{m} --> {roundtrip}')"
   ]
  },
  {
   "cell_type": "markdown",
   "id": "03e20162-a943-44f2-acd9-b80273961cba",
   "metadata": {},
   "source": [
    "Here, the conversion was done with the bandpass specified by name, using the current solar flux density lookup table in `sbpy.calib.solar_fluxd` (see notebook #2 from this tutorial)."
   ]
  },
  {
   "cell_type": "markdown",
   "id": "aa883303-5787-401b-8b5b-b092e2296c81",
   "metadata": {},
   "source": [
    "---\n",
    "\n",
    "Plot the spectrum of the comet, from 0.3 to 30 μm:"
   ]
  },
  {
   "cell_type": "code",
   "execution_count": 5,
   "id": "cd45c071-ddb4-4c6e-8571-360623a229db",
   "metadata": {},
   "outputs": [
    {
     "name": "stderr",
     "output_type": "stream",
     "text": [
      "WARNING: Source spectrum is tapered. [synphot.observation]\n",
      "WARNING: Source spectrum is tapered. [synphot.observation]\n"
     ]
    },
    {
     "data": {
      "image/png": "[encoded data removed]",
      "text/plain": [
       "<Figure size 432x288 with 1 Axes>"
      ]
     },
     "metadata": {
      "needs_background": "light"
     },
     "output_type": "display_data"
    }
   ],
   "source": [
    "import numpy as np\n",
    "import matplotlib.pyplot as plt\n",
    "\n",
    "wave = np.logspace(-0.5, 1.5) * u.um\n",
    "fsca = afrho.to_fluxd(wave, aper, eph)\n",
    "ftherm = efrho.to_fluxd(wave, aper, eph)\n",
    "\n",
    "ax = plt.gca()\n",
    "ax.plot(wave, fsca, label='scattered')\n",
    "ax.plot(wave, ftherm, label='thermal')\n",
    "ax.plot(wave, fsca + ftherm, label='total')\n",
    "plt.setp(ax, xscale='log', yscale='log', ylim=(1e-18, 1e-13), xlabel='Wavelength (μm)', ylabel=f'$F_\\lambda$ ({fsca.unit})')\n",
    "plt.tight_layout()"
   ]
  }
 ],
 "metadata": {
  "kernelspec": {
   "display_name": "Python 3 (ipykernel)",
   "language": "python",
   "name": "python3"
  },
  "language_info": {
   "codemirror_mode": {
    "name": "ipython",
    "version": 3
   },
   "file_extension": ".py",
   "mimetype": "text/x-python",
   "name": "python",
   "nbconvert_exporter": "python",
   "pygments_lexer": "ipython3",
   "version": "3.8.11"
  }
 },
 "nbformat": 4,
 "nbformat_minor": 5
}
