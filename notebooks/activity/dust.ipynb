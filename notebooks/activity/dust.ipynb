{
 "cells": [
  {
   "cell_type": "markdown",
   "metadata": {},
   "source": [
    "# sbpy.activity.dust\n",
    "\n",
    "[sbpy.activity.dust](https://sbpy.readthedocs.io/en/latest/sbpy/activity.html) is used for modeling cometary dust comae.  Comet brightness can be estimated for observations of scattered light or themral emission."
   ]
  },
  {
   "cell_type": "markdown",
   "metadata": {},
   "source": [
    "## Light scattered by dust via Afρ\n",
    "\n",
    "Light scattered by coma dust can be estimated via the cometary parameter Afρ.  For a circular aperture, the Αfρ quantity is the product of albedo, filling factor of dust in the aperture, and aperture radius.  It has units of length, is aperture-size independent for an idealized coma, and is proportional to mass loss rate under certain assumptions (see [A'Hearn et al. 1984 for details](https://ui.adsabs.harvard.edu/#abs/1984AJ.....89..579A/abstract)):\n",
    "\n",
    "$$ Af\\rho = \\frac{(2 r_h \\Delta)^2}{\\rho}\\frac{F_\\lambda}{S_\\lambda} $$\n",
    "\n",
    "where $r_h$ is the heliocentric distance in au, $\\Delta$ is the observer-comet distance in the same units as $\\rho$, $F_\\lambda$ is the flux desnity of the comet continuum, and $S_\\lambda$ is the flux desnity of sunlight at 1 au in the same units as $F_\\lambda$.\n",
    "\n",
    "`sbpy` has a class that represents this parameter: `Afrho`.  With this quantity, we can estimate the brightness of a comet, under the assumptions of the Afρ model (isotropic coma in free expansion).\n",
    "\n",
    "`Afrho` is an `astropy` `Quantity` that has units of length."
   ]
  },
  {
   "cell_type": "code",
   "execution_count": 1,
   "metadata": {},
   "outputs": [
    {
     "name": "stdout",
     "output_type": "stream",
     "text": [
      "100.0 cm\n"
     ]
    }
   ],
   "source": [
    "import astropy.units as u\n",
    "from sbpy.activity import Afrho\n",
    "\n",
    "afrho = Afrho(100 * u.cm)\n",
    "afrho = Afrho('100 cm')  # alternate initialization\n",
    "afrho = Afrho(100, unit='cm')  # alternate initialization\n",
    "\n",
    "print(afrho)"
   ]
  },
  {
   "cell_type": "code",
   "execution_count": 2,
   "metadata": {},
   "outputs": [
    {
     "name": "stdout",
     "output_type": "stream",
     "text": [
      "200.0 cm\n"
     ]
    }
   ],
   "source": [
    "# Arithmetic works as usual:\n",
    "print(afrho * 2)"
   ]
  },
  {
   "cell_type": "code",
   "execution_count": 3,
   "metadata": {},
   "outputs": [
    {
     "name": "stdout",
     "output_type": "stream",
     "text": [
      "1.0 m\n"
     ]
    }
   ],
   "source": [
    "# unit conversion, too\n",
    "print(afrho.to('m'))"
   ]
  },
  {
   "cell_type": "markdown",
   "metadata": {},
   "source": [
    "`Afrho` can also be initialized from continuum flux densities.  Let's work with some photometry of comet 46P/Wirtanen by [Farnham et al. (1998)](https://ui.adsabs.harvard.edu/#abs/1998A&A...335L..50F/abstract).  The following observations were taken through the IHW blue continuum filter (λ=4845 Å)."
   ]
  },
  {
   "cell_type": "code",
   "execution_count": 4,
   "metadata": {},
   "outputs": [
    {
     "name": "stdout",
     "output_type": "stream",
     "text": [
      "[ 105.8130834    50.08581756  132.27388103   28.0898732    39.44082157] cm\n"
     ]
    }
   ],
   "source": [
    "import numpy as np\n",
    "\n",
    "# comet ephemeris as a dictionary:\n",
    "eph = {\n",
    "    'rh': [1.12, 1.14, 1.07, 1.49, 1.72] * u.au,\n",
    "    'delta': [1.41, 1.60, 1.54, 1.96, 2.31] * u.au,\n",
    "    'phase': [45, 38, 40, 31, 24] * u.deg\n",
    "}\n",
    "\n",
    "# observational data:\n",
    "wave = 4845 * u.AA\n",
    "rho = 10**np.array((4.29, 4.64, 4.49, 5.03, 4.96)) * u.km\n",
    "fluxd = 10**np.array((-13.74, -13.84, -13.48, -14.11, -14.30)) * u.erg / (u.cm**2 * u.s * u.AA)\n",
    "\n",
    "afrho = Afrho.from_fluxd(wave, fluxd, rho, eph)\n",
    "print(afrho)"
   ]
  },
  {
   "cell_type": "markdown",
   "metadata": {},
   "source": [
    "Compare with the Farnham et al. values:"
   ]
  },
  {
   "cell_type": "code",
   "execution_count": 5,
   "metadata": {},
   "outputs": [
    {
     "name": "stdout",
     "output_type": "stream",
     "text": [
      "Mean percent difference: 4.0%\n"
     ]
    }
   ],
   "source": [
    "f98 = 10**np.array((2.05, 1.71, 2.14, 1.47, 1.61)) * u.cm\n",
    "print('Mean percent difference: {:.1%}'.format(np.mean(np.abs(afrho - f98) / f98)))"
   ]
  },
  {
   "cell_type": "markdown",
   "metadata": {},
   "source": [
    "The few percent difference is due to the assumed solar flux density.  We asked for the conversion at a specific wavelength, but the observation was through a filter with a specific width.  With the `spectroscopy` module we can show the solar flux density used:"
   ]
  },
  {
   "cell_type": "code",
   "execution_count": 6,
   "metadata": {},
   "outputs": [
    {
     "name": "stdout",
     "output_type": "stream",
     "text": [
      "196.89999999999878 erg / (Angstrom cm2 s)\n"
     ]
    }
   ],
   "source": [
    "from sbpy.spectroscopy.sun import default_sun\n",
    "sun = default_sun.get()\n",
    "print(sun(wave, unit=fluxd.unit))"
   ]
  },
  {
   "cell_type": "markdown",
   "metadata": {},
   "source": [
    "But rather than having `sbpy` compute the solar flux density at 1 au, we can pass the precomputed value for this filter from [A'Hearn et al. 1995](https://ui.adsabs.harvard.edu/#abs/1995Icar..118..223A/abstract):"
   ]
  },
  {
   "cell_type": "code",
   "execution_count": 7,
   "metadata": {},
   "outputs": [
    {
     "name": "stdout",
     "output_type": "stream",
     "text": [
      "Mean percent difference: 1.1%\n"
     ]
    }
   ],
   "source": [
    "S = 189.7 * u.erg / (u.cm**2 * u.s * u.AA)\n",
    "afrho = Afrho.from_fluxd(None, fluxd, rho, eph, S=S)\n",
    "print('Mean percent difference: {:.1%}'.format(np.mean(np.abs(afrho - f98) / f98)))"
   ]
  },
  {
   "cell_type": "markdown",
   "metadata": {},
   "source": [
    "In the future, we will be able to provide the filter transmission and have `sbpy` automatically compute the mean solar flux density in the filter."
   ]
  }
 ],
 "metadata": {
  "kernelspec": {
   "display_name": "Python 3",
   "language": "python",
   "name": "python3"
  },
  "language_info": {
   "codemirror_mode": {
    "name": "ipython",
    "version": 3
   },
   "file_extension": ".py",
   "mimetype": "text/x-python",
   "name": "python",
   "nbconvert_exporter": "python",
   "pygments_lexer": "ipython3",
   "version": "3.6.5"
  }
 },
 "nbformat": 4,
 "nbformat_minor": 2
}
