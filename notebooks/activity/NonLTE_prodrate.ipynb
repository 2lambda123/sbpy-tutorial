{
 "cells": [
  {
   "cell_type": "code",
   "execution_count": 4,
   "metadata": {
    "collapsed": true
   },
   "outputs": [],
   "source": [
    "import numpy as np\n",
    "import astropy.units as u\n",
    "from astropy.time import Time\n",
    "from astropy.table import Table\n",
    "from sbpy.data import Ephem, Phys\n",
    "from sbpy.activity import (Haser, LTE, NonLTE, photo_timescale, einstein_coeff, \n",
    "intensity_conversion, beta_factor, total_number, from_Haser)\n",
    "import matplotlib.pyplot as plt\n",
    "import matplotlib\n",
    "import astropy.constants as con"
   ]
  },
  {
   "cell_type": "markdown",
   "metadata": {},
   "source": [
    "Calculating Column Density using the NonLTE iterative code `from_pyradex`\n",
    "=======================================\n",
    "_____________________________________________________________________________________________\n",
    "\n",
    "`sbpy.activity` offers an implementation of `pyradex` which is a python wrapper for the NonLTE, iterative fortran code  called RADEX. Radex is described in [van der Tak et al. 2013](https://ui.adsabs.harvard.edu/abs/2007A%26A...468..627V/abstract).\n",
    "\n",
    "This model takes in an initial guess for the column density and compares the data iteratively against RADEX results, finding the best fit column density for the data. More information about the installation and setup of `pyradex` can be found here [here](https://github.com/keflavich/pyradex), as well as more information about the parameters needed for the [RADEX](https://personal.sron.nl/~vdtak/radex/index.shtml) code. `from_pyradex` returns the best fitting column density based on the data provided which can then be used with the Haser model shown in the previous example. \n",
    "\n",
    "RADEX requires information on collider densities in order to determine collision rates. The collider densities are required to be given in the form of a dictionary. For comets, we expect H2O to be our main collisional partner but RADEX does not contain information on collisional rates for H2O. Therefore, the default value for collider densities in sbpy is a scaled version of the H2 collisional rate to account for H2O. This scaling is prominent in a lot of literature, such as [Walker et al. 2014](https://ui.adsabs.harvard.edu/abs/2014ApJ...790...96W/abstract), [de Val Borro et al. 2017](https://ui.adsabs.harvard.edu/abs/2018MNRAS.474.1099D/abstract), and [Schoier et al. 2004](https://ui.adsabs.harvard.edu/abs/2005A%26A...432..369S/abstract).\n",
    "\n",
    "In the case of this module we have chosen to follow the Walker et al. scaling for deriving H2O-H2O collision rates from H2-H2O coefficients. Within this scaling, we apply the square root of the ratio of reduced masses:\n",
    "\n",
    "$$s = (\\frac{m_{H2O}}{m_{H2}})^{0.5}$$          \n",
    "\n",
    "Where `s` is the scale to multiply the collisional density of H2 against in order to obtain H2O-H2O collision rates.\n",
    "\n",
    "For the implementation of this code, the user can either define their chosen first guess for column density, or they can calculate it from their data or JPLSpec data `cdensity_Bockelee`. The literature used for this example is the same as in [this notebook](LTE_prodrate_Haser), [Wierzchos et al. 2018](https://ui.adsabs.harvard.edu/abs/2018AJ....156...34W/abstract):\n",
    "\n",
    "**Important notes:** `pyradex` requires a fortran compiler to be installed in your system. The recommendation is gfortran, which can be installed using [Homebrew](https://brewformulas.org/Gfortran), or any other similar service. \n",
    "\n",
    "Warnings of a missing file and RunTime error are normal from pyradex, if the user wants to find out more about them, see the [`pyradex` docs](https://github.com/keflavich/pyradex). The file error comes from the fact that `sbpy` uses, like pyradex, `astroquery.Lamda` for the molecular data files instead of searching them locally (despite the Fortran code still forcing the search for a local molecular data file). In the future, a function will be added to `sbpy` in which a user may build their own molecular data files from JPLSpec information. For now, LAMDA catalog is the primary source of the molecular data file for the implementation of RADEX.\n"
   ]
  },
  {
   "cell_type": "code",
   "execution_count": 5,
   "metadata": {
    "collapsed": false
   },
   "outputs": [
    {
     "name": "stdout",
     "output_type": "stream",
     "text": [
      "Table:\n",
      "     U_T              Time        T_B     Q       log(Q)         Q_error       \n",
      "------------- ------------------- ---- ------- ----------- --------------------\n",
      "2017-12-22.21 2017-12-22 05:02:24 0.26 4.4e+28 28.64345268 0.019305151681574984\n",
      "2017-12-23.09 2017-12-23 02:09:36 0.28 4.6e+28 28.66275783  0.03621217433601842\n",
      "2017-12-30.14 2017-12-30 03:21:36 0.26 4.6e+28 28.66275783  0.03621217433601842\n",
      "2017-12-31.13 2017-12-31 03:07:12 0.27 4.6e+28 28.66275783  0.03621217433601842\n",
      "2018-01-16.03 2018-01-16 00:43:12 0.27 4.6e+28 28.66275783  0.03621217433601842\n",
      "Column Names:\n",
      "<TableColumns names=('U_T','Time','T_B','Q','log(Q)','Q_error')>\n"
     ]
    }
   ],
   "source": [
    "co = Table.read(('data/CO.csv'), format=\"ascii.csv\")\n",
    "error = np.array([0.2, 0.4, 0.4, 0.4, 0.4]) * 10.**28 # +/- error from literature\n",
    "Q_error = np.array(co['Q']) + np.array(error) # upper error limit\n",
    "Q_error = np.log10(np.array(Q_error)) - np.array(co['log(Q)'])\n",
    "co['Q_error'] = Q_error\n",
    "print(\"Table:\\n{}\\nColumn Names:\\n{}\".format(co, co.columns))"
   ]
  },
  {
   "cell_type": "markdown",
   "metadata": {},
   "source": [
    "Model parameters needed, all values are taken directly from the literature.\n",
    "In this example the molecule identifier will be inputted as a regular expression. \n",
    "Regular expressions for mol_tag can be used but the user must be careful not to provide\n",
    "an ambiguous regular expression. One good thing to remember is that anything between symbols '^' and '\\\\$'\n",
    "will be matched exactly, therefore you can avoid an ambiguity error by writing your molecule name as such:\n",
    "'^name\\\\$'. A perfect example of this is with the molecule in this example 'CO', simply writing mol_tag = 'CO'\n",
    "will produce an ambiguity error because it will match CO, CO2, etc. therefore, it is necessary to \n",
    "restrict our molecule name regex to '^CO\\\\$' as presented below."
   ]
  },
  {
   "cell_type": "code",
   "execution_count": 6,
   "metadata": {
    "collapsed": true
   },
   "outputs": [],
   "source": [
    "transition_freq = (230.538 * u.GHz).to('MHz')\n",
    "\n",
    "aper = 10 * u.m # aperture\n",
    "\n",
    "mol_tag = '^CO$' # regex molecule identifier\n",
    "\n",
    "temp_estimate = 25. * u.K \n",
    "\n",
    "vgas = 0.5 * u.km / u.s\n",
    "\n",
    "target = 'C/2016 R2'\n",
    "\n",
    "b = 0.74 # intrinsic antenna value"
   ]
  },
  {
   "cell_type": "markdown",
   "metadata": {},
   "source": [
    "Obtaining molecular data from the JPL Molecular Spectroscopy Catalog using `sbpy.data.phys`. \n",
    "See documentation for a detailed breakdown of the resulting object and the values stored in the object."
   ]
  },
  {
   "cell_type": "code",
   "execution_count": 7,
   "metadata": {
    "collapsed": true
   },
   "outputs": [],
   "source": [
    "mol_data = Phys.from_jplspec(temp_estimate, transition_freq, mol_tag) # molecular data from JPLSpec\n",
    "\n",
    "intl = intensity_conversion(mol_data) # calculate line intensity\n",
    "\n",
    "mol_data.apply([intl.value] * intl.unit,\n",
    "                    name='Integrated line intensity at desired temp') # store value"
   ]
  },
  {
   "cell_type": "markdown",
   "metadata": {},
   "source": [
    "Obtaining the Einstein Coefficient. In this example, we will obtain our Einstein Coefficient from\n",
    "LAMDA catalog and append it to our molecular data Phys object. In [this notebook](LTE_prodrate_without_photolysis.ipynb) we have been calculating it through sbpy/JPLSpec. It is possible that your transition frequency values may not exactly match the LAMDA catalog to the 4th significant figure, especially if you're using JPLSpec. Therefore, we recommend when using this method\n",
    "that you match your transition frequency with the LAMDA value over the JPLSpec value, since `from_jplspec` is\n",
    "designed to pick the closest transition frequency within a range of 1 GHz, whereas LAMDA will expect the\n",
    "exact value found in their catalog."
   ]
  },
  {
   "cell_type": "code",
   "execution_count": 8,
   "metadata": {
    "collapsed": false
   },
   "outputs": [
    {
     "name": "stderr",
     "output_type": "stream",
     "text": [
      "/Users/gianni0603/anaconda/lib/python3.6/site-packages/astroquery/lamda/core.py:145: UserWarning: The first time a LAMDA function is called, it must assemble a list of valid molecules and URLs.  This list will be cached so future operations will be faster.\n",
      "  warnings.warn(\"The first time a LAMDA function is called, it must \"\n"
     ]
    }
   ],
   "source": [
    "from astroquery.lamda import Lamda\n",
    "\n",
    "mol_name = 'CO' # LAMDA molecule name\n",
    "\n",
    "lam_search = Lamda.query(mol=mol_name.lower()) # LAMDA Query\n",
    "\n",
    "lam_result = lam_search[1] # outputs CO table\n",
    "\n",
    "lam_found = lam_result[lam_result['Frequency'] == transition_freq.to('GHz').value] # parse results at frequency\n",
    "\n",
    "au_cat = lam_found['EinsteinA'] # get Einstein Coefficient\n",
    "\n",
    "au_cat = au_cat.data[0] # get value of coefficient\n",
    "\n",
    "au = au_cat / u.s # define the unit\n",
    "\n",
    "mol_data.apply([au.value] * au.unit, name='eincoeff') # store einstein coefficient"
   ]
  },
  {
   "cell_type": "markdown",
   "metadata": {},
   "source": [
    "Initialize the `sbpy.activity.Haser` model in order to perform our production rate calculations. \n",
    "`Q_estimate` first guess for the production rate was obtained running `from_Drahus` for the same data set before doing this example"
   ]
  },
  {
   "cell_type": "code",
   "execution_count": 9,
   "metadata": {
    "collapsed": true
   },
   "outputs": [],
   "source": [
    "Q_estimate = 3.594*10**(28) / u.s \n",
    "\n",
    "parent = photo_timescale('CO') * vgas # parent photodissociation rate\n",
    "\n",
    "coma = Haser(Q_estimate, vgas, parent) # initializing the model with an estimate "
   ]
  },
  {
   "cell_type": "markdown",
   "metadata": {},
   "source": [
    "Run the `from_pyradex` iterative code on the data to find best fit column densities, and then calculate total number based on telescope geometry. Use Haser model for the calculation of production rates."
   ]
  },
  {
   "cell_type": "markdown",
   "metadata": {},
   "source": [
    "You can give a column density first guess either using `sbpy.data.LTE` `cdensity_Bockelee` function, or user-defined into the data class. In this example, we'll use `cdensity_Bockelee`"
   ]
  },
  {
   "cell_type": "markdown",
   "metadata": {},
   "source": [
    "Since our data file contains 6 different data points of observation times and integrated flux, we can\n",
    "calculate production rates for all of these 6 data points using a python for loop.\n",
    "\n",
    "**IMPORTANT: Because we are using a for loop, and some of the values that should be appended to the `mol_data`\n",
    "phys object are calculated within the loop itself, we must initialize our columns within the phys object\n",
    "BEFORE performing the loop. This is because you cannot iteratively redefine the same column of data within a \n",
    "phys object, but you CAN change the value of an already defined column as many times as you want.\n",
    "Since our `beta`, `cdensity` and `total_number` values vary with every iteration,\n",
    "and since our production rate needs these values within the loop, we must simply change the value of our\n",
    "already defined columns for beta, column density, and total number everytime we iterate. Keep in mind when you initialize the column you must initialize it with the correct units and correct type (float, int, str). If you get an error saying there are duplicate columns, it is most likely due to what has been mentioned in this note, and you will have to reinitialize your mol_data object before trying to enter more data in**"
   ]
  },
  {
   "cell_type": "code",
   "execution_count": 10,
   "metadata": {
    "collapsed": false
   },
   "outputs": [
    {
     "name": "stderr",
     "output_type": "stream",
     "text": [
      "WARNING: Did not find data file for species co in path /var/folders/77/ly9f_8q55j51s_38_1xd_kh00000gn/T/tmpmaez93gq.  Downloading it. [pyradex.base_class]\n",
      "/Users/gianni0603/anaconda/lib/python3.6/site-packages/pyradex/core.py:529: UserWarning: Using a default ortho-to-para ratio (which will only affect species for which independent ortho & para collision rates are given)\n",
      "  warnings.warn(\"Using a default ortho-to-para ratio (which \"\n",
      "/Users/gianni0603/anaconda/lib/python3.6/site-packages/pyradex/core.py:910: RuntimeWarning: invalid value encountered in true_divide\n",
      "  frac_level_diff = level_diff/self.level_population\n",
      "/Users/gianni0603/anaconda/lib/python3.6/site-packages/pyradex/core.py:998: RuntimeWarning: overflow encountered in exp\n",
      "  bnutex = thc*xt/(np.exp(earg)-1.0)\n"
     ]
    },
    {
     "name": "stdout",
     "output_type": "stream",
     "text": [
      "Closest Integrated Flux:[0.25920121] K km / s\n",
      "Given Integrated Flux: 0.26 K km / s\n",
      "[2.17657296e+14] 1 / cm2\n"
     ]
    },
    {
     "name": "stderr",
     "output_type": "stream",
     "text": [
      "WARNING: Did not find data file for species co in path /var/folders/77/ly9f_8q55j51s_38_1xd_kh00000gn/T/tmpb7vmf8ig.  Downloading it. [pyradex.base_class]\n"
     ]
    },
    {
     "name": "stdout",
     "output_type": "stream",
     "text": [
      "Closest Integrated Flux:[0.27889648] K km / s\n",
      "Given Integrated Flux: 0.28 K km / s\n",
      "[2.34400165e+14] 1 / cm2\n"
     ]
    },
    {
     "name": "stderr",
     "output_type": "stream",
     "text": [
      "WARNING: Did not find data file for species co in path /var/folders/77/ly9f_8q55j51s_38_1xd_kh00000gn/T/tmphwhwndc4.  Downloading it. [pyradex.base_class]\n"
     ]
    },
    {
     "name": "stdout",
     "output_type": "stream",
     "text": [
      "Closest Integrated Flux:[0.25920121] K km / s\n",
      "Given Integrated Flux: 0.26 K km / s\n",
      "[2.17657296e+14] 1 / cm2\n"
     ]
    },
    {
     "name": "stderr",
     "output_type": "stream",
     "text": [
      "WARNING: Did not find data file for species co in path /var/folders/77/ly9f_8q55j51s_38_1xd_kh00000gn/T/tmpsn2mlwlt.  Downloading it. [pyradex.base_class]\n"
     ]
    },
    {
     "name": "stdout",
     "output_type": "stream",
     "text": [
      "Closest Integrated Flux:[0.26905909] K km / s\n",
      "Given Integrated Flux: 0.27 K km / s\n",
      "[2.26028731e+14] 1 / cm2\n"
     ]
    },
    {
     "name": "stderr",
     "output_type": "stream",
     "text": [
      "WARNING: Did not find data file for species co in path /var/folders/77/ly9f_8q55j51s_38_1xd_kh00000gn/T/tmp4l8ywq9x.  Downloading it. [pyradex.base_class]\n"
     ]
    },
    {
     "name": "stdout",
     "output_type": "stream",
     "text": [
      "Closest Integrated Flux:[0.26905909] K km / s\n",
      "Given Integrated Flux: 0.27 K km / s\n",
      "[2.26028731e+14] 1 / cm2\n"
     ]
    }
   ],
   "source": [
    "nonlte = NonLTE()\n",
    "q_found_pyradex = []\n",
    "lte = LTE()\n",
    "\n",
    "for i in range(0, 5):\n",
    "\n",
    "    time = Time(co['Time'][i], format='iso')\n",
    "    integrated_flux = co['T_B'][i] * u.K * u.km / u.s\n",
    "    ephemobj = Ephem.from_horizons(target, epochs=time.jd)\n",
    "    beta = beta_factor(mol_data, ephemobj)\n",
    "    mol_data['beta'] = beta\n",
    "    cdensity_bockelee = lte.cdensity_Bockelee(integrated_flux, mol_data) # col density first guess\n",
    "    mol_data['cdensity'] = cdensity_bockelee\n",
    "    cdensity = nonlte.from_pyradex(integrated_flux, mol_data)\n",
    "    mol_data['cdensity'] = cdensity\n",
    "    tnum = total_number(mol_data, aper, b) # total number of molecules in aperture\n",
    "    mol_data['total_number'] = tnum\n",
    "\n",
    "    Q = from_Haser(coma, mol_data, aper=aper) # production rate from Haser model\n",
    "\n",
    "    q_found_pyradex.append(np.log10(Q.value)[0])\n",
    "\n",
    "q_pred_co = list(co['log(Q)'])"
   ]
  },
  {
   "cell_type": "code",
   "execution_count": 11,
   "metadata": {
    "collapsed": false
   },
   "outputs": [
    {
     "name": "stdout",
     "output_type": "stream",
     "text": [
      "The Resulting Production Rates for CO in C/2016 R2 using Haser model are:\n",
      " [28.727 28.758 28.716 28.731 28.709]\n",
      "Residuals:\n",
      "[-0.084 -0.096 -0.053 -0.068 -0.047]\n",
      "Literature errors:\n",
      "[0.019 0.036 0.036 0.036 0.036]\n"
     ]
    }
   ],
   "source": [
    "print(\"The Resulting Production Rates for CO in {} using Haser model are:\\n {}\".format(target, np.round(q_found_pyradex,3)))\n",
    "print(\"Residuals:\\n{}\".format(np.round((np.array(q_pred_co)) - (np.array(q_found_pyradex)),3)))\n",
    "print(\"Literature errors:\\n{}\".format(np.round(co['Q_error'],3)))"
   ]
  },
  {
   "cell_type": "code",
   "execution_count": 13,
   "metadata": {
    "collapsed": false
   },
   "outputs": [
    {
     "data": {
      "image/png": "[encoded data removed]",
      "text/plain": [
       "<matplotlib.figure.Figure at 0x12227dc88>"
      ]
     },
     "metadata": {},
     "output_type": "display_data"
    }
   ],
   "source": [
    "time_co = list(co['Time'])\n",
    "time_co = matplotlib.dates.datestr2num(time_co)\n",
    "\n",
    "plt.plot_date(time_co, q_pred_co, 'o', color='slateblue', label='Wierzchos & Womack 2018')\n",
    "plt.plot_date(time_co, q_found_pyradex, 'o', color='hotpink', label='sbpy results')\n",
    "plt.xlabel('Time')\n",
    "plt.ylabel('Log (Q)')\n",
    "plt.legend(loc='best', fontsize='x-small')\n",
    "plt.title('Q vs Time Plot for CO in {}'.format(target))\n",
    "plt.show()"
   ]
  },
  {
   "cell_type": "markdown",
   "metadata": {},
   "source": [
    "It is clear that the implementation of pyradex gives better results than the example in [this notebook](LTE_prodrate_Haser.ipynb) in comparison to the literature, and it is done entirely within `sbpy` functionalities, offering the user a rigorous way to calculate column densities, and from those, production rates using the Haser model within `sbpy`. \n",
    "\n",
    "Even so, `sbpy` allows for flexibility in terms of data entry. Hardly traceable inconsistencies like are common in cometary studies, since a lot depends on the molecular catalogs that the data is obtained from, or what calculations are used. This is exactly why sbpy offers flexibility in all its functions through the use of `sbpy.data` classes, which allow the user to define their preferrred parameters if they do not happen to be satisfied with the catalog functionalities and derivations of parameters that sbpy offers. Yet we recommend the use of as many sbpy functionalities as possible in order to maintain consistency in your calculations, which may prove to be important when conversations about comet classification arise. "
   ]
  },
  {
   "cell_type": "markdown",
   "metadata": {},
   "source": [
    "Helpful Links\n",
    "=======\n",
    "___________________________________________\n",
    "\n",
    "Relevant Notebooks\n",
    "-----------------\n",
    "- [How to calculate LTE production rates without photolysis effects](LTE_prodrate_without_photolysis.ipynb)\n",
    "- [How to calculate LTE production rates with Haser model](LTE_prodrate_Haser.ipynb)\n",
    "- [How to use Phys data class and `from_jplspec`](../data/Phys.ipynb)\n",
    "- [What is `astroquery.jplspec`](../data/jplspec.ipynb)\n",
    "\n",
    "Relevant Links\n",
    "-------------\n",
    "- [LAMDA Queries with astroquery](https://astroquery.readthedocs.io/en/latest/lamda/lamda.html)\n",
    "- [JPLSpec Queries with astroquery](https://astroquery.readthedocs.io/en/latest/jplspec/jplspec.html)\n",
    "- [sbpy Activity Haser Class](https://sbpy.readthedocs.io/en/latest/api/sbpy.activity.Haser.html#sbpy.activity.Haser)\n",
    "- [sbpy Ephem data class](https://sbpy.readthedocs.io/en/latest/sbpy/data/index.html#how-to-use-ephem)\n",
    "- [sbpy Phys data class](https://sbpy.readthedocs.io/en/latest/sbpy/data/index.html#how-to-use-phys)\n",
    "- [sbpy data class alternative field names](https://sbpy.readthedocs.io/en/latest/sbpy/data/fieldnames.html#list-of-alternative-field-names)\n",
    "- [pyradex source code](https://github.com/keflavich/pyradex)\n",
    "- [RADEX fortran source code](https://personal.sron.nl/~vdtak/radex/)\n",
    "- [RADEX homepage](https://personal.sron.nl/~vdtak/radex/index.shtml)\n",
    "- [sbpy citation (please cite our work)](http://joss.theoj.org/papers/10.21105/joss.01426)"
   ]
  },
  {
   "cell_type": "code",
   "execution_count": null,
   "metadata": {
    "collapsed": true
   },
   "outputs": [],
   "source": []
  }
 ],
 "metadata": {
  "kernelspec": {
   "display_name": "Python 3",
   "language": "python",
   "name": "python3"
  },
  "language_info": {
   "codemirror_mode": {
    "name": "ipython",
    "version": 3
   },
   "file_extension": ".py",
   "mimetype": "text/x-python",
   "name": "python",
   "nbconvert_exporter": "python",
   "pygments_lexer": "ipython3",
   "version": "3.6.8"
  }
 },
 "nbformat": 4,
 "nbformat_minor": 2
}
