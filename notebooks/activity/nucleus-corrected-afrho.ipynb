{
 "cells": [
  {
   "attachments": {},
   "cell_type": "markdown",
   "metadata": {},
   "source": [
    "# Nucleus-corrected *Afρ* values\n",
    "\n",
    "Given a measurement of a comet with an estimated nuclear size, what is the *Afρ* quantity with and without the nucleus brightness removed?\n",
    "\n",
    "## Background\n",
    "\n",
    "Given a circular aperture of radius *ρ* centered on the comet, *Afρ* is the product of albedo, filling factor, and aperture radius in units of length projected to the distance of the comet.  With some caveats, it is useful for inter-comparing cometary photometry (A'Hearn et al. 1984; Fink and Rubin 2012).\n",
    "\n",
    "In some cases, a cometary nucleus may contribute a significant fraction of the observed brightness.  Such a scenario may bias one's interpretation of the *Afρ* value.  If the nucleus size or brightness is known, it ca be removed before computing *Afρ*.  `sbpy` can help address this problem."
   ]
  },
  {
   "attachments": {},
   "cell_type": "markdown",
   "metadata": {},
   "source": [
    "## The observational data and nominal *Afρ*\n",
    "\n",
    "Given the following observational circumstances, what is the *Afρ* quantity, neglecting any potential nuclear contribution?\n",
    "\n",
    "* *V* = 18 mag (VEGA magnitude system)\n",
    "* *ρ* = 5 arcsec\n",
    "* heliocentric distance, $r_h$ = 2.5 au\n",
    "* observer-target distance, *Δ* = 3.5 au\n",
    "* phase angle, 3.5°\n",
    "\n",
    "In addition, use the Schleicher-Marcus (née, Halley-Marcus) phase function to correct the photometry to a phase angle of 0°."
   ]
  },
  {
   "cell_type": "code",
   "execution_count": 1,
   "metadata": {},
   "outputs": [
    {
     "name": "stdout",
     "output_type": "stream",
     "text": [
      "Afρ based on nominal photometry: 77.5 cm\n"
     ]
    }
   ],
   "source": [
    "import astropy.units as u\n",
    "from sbpy.activity import Afrho, phase_HalleyMarcus\n",
    "from sbpy.data import Ephem\n",
    "import sbpy.units as sbu\n",
    "\n",
    "m_comet = 18 * sbu.VEGAmag\n",
    "bandpass = \"Johnson V\"\n",
    "eph = Ephem.from_dict(dict(rh=2.5 * u.au, delta=3.5 * u.au, phase=3.5 * u.deg))\n",
    "rho = 5 * u.arcsec\n",
    "\n",
    "afrho = Afrho.from_fluxd(bandpass, m_comet, rho, eph, phasecor=True, Phi=phase_HalleyMarcus)\n",
    "\n",
    "print(f'Afρ based on nominal photometry: {afrho:.1f}')"
   ]
  },
  {
   "attachments": {},
   "cell_type": "markdown",
   "metadata": {},
   "source": [
    "To be sure we understand what went into this calculation behind the scenes, let's retrieve the apparent magnitude of the Sun from `sbpy`'s calibration system."
   ]
  },
  {
   "cell_type": "code",
   "execution_count": 2,
   "metadata": {},
   "outputs": [
    {
     "name": "stdout",
     "output_type": "stream",
     "text": [
      "Apparent magnitude of the Sun: -26.76 mag(VEGA)\n"
     ]
    }
   ],
   "source": [
    "from sbpy.calib import Sun\n",
    "\n",
    "sun = Sun.from_default()\n",
    "_, _, m_sun = sun.observe_filter_name(bandpass, unit=sbu.VEGAmag)\n",
    "\n",
    "print(f\"Apparent magnitude of the Sun: {m_sun:.2f}\")"
   ]
  },
  {
   "attachments": {},
   "cell_type": "markdown",
   "metadata": {},
   "source": [
    "## Nucleus corrected photometry\n",
    "\n",
    "Let's assume on a previous observing run we measured the nucleus size when the comet was inactive.  With the IAU HG model, we estimated an absolute magnitude *H*=14 mag (again, VEGA magnitude system), for a phase function parameter *G*=0.15.\n",
    "\n",
    "Remove the nucleus contribution from our photometry and re-compute *Afρ*."
   ]
  },
  {
   "cell_type": "code",
   "execution_count": 3,
   "metadata": {},
   "outputs": [
    {
     "name": "stdout",
     "output_type": "stream",
     "text": [
      "Total comet magnitude: 18.00 mag(VEGA)\n",
      "Apparent magnitude of nucleus: 19.05 mag(VEGA)\n",
      "Apparent magnitude of the coma: 18.52 mag(VEGA)\n",
      "\n",
      "Nucleus-corrected *Afρ*: 48.0 cm\n",
      "\n",
      "\n"
     ]
    }
   ],
   "source": [
    "import numpy as np\n",
    "from sbpy.photometry import HG\n",
    "\n",
    "model = HG(H=14, G=0.15)\n",
    "m_nucleus = 5 * np.log10(eph['rh'].value * eph['delta'].value)[0] + model(eph['phase'][0])\n",
    "m_nucleus = m_nucleus * sbu.VEGAmag\n",
    "\n",
    "# using `.physical` to convert magnitudes into linear units\n",
    "coma = m_comet.physical - m_nucleus.physical\n",
    "\n",
    "# convert back to VEGA magnitudes\n",
    "m_coma = coma.to(sbu.VEGAmag)\n",
    "\n",
    "# recalculate Afrho\n",
    "afrho_coma = Afrho.from_fluxd(bandpass, m_coma, rho, eph, phasecor=True, Phi=phase_HalleyMarcus)\n",
    "\n",
    "print(f\"\"\"Total comet magnitude: {m_comet:.2f}\n",
    "Apparent magnitude of nucleus: {m_nucleus:.2f}\n",
    "Apparent magnitude of the coma: {m_coma:.2f}\n",
    "\n",
    "Nucleus-corrected *Afρ*: {afrho_coma:.1f}\n",
    "\n",
    "\"\"\")"
   ]
  }
 ],
 "metadata": {
  "kernelspec": {
   "display_name": ".venv",
   "language": "python",
   "name": "python3"
  },
  "language_info": {
   "codemirror_mode": {
    "name": "ipython",
    "version": 3
   },
   "file_extension": ".py",
   "mimetype": "text/x-python",
   "name": "python",
   "nbconvert_exporter": "python",
   "pygments_lexer": "ipython3",
   "version": "3.10.12"
  },
  "orig_nbformat": 4
 },
 "nbformat": 4,
 "nbformat_minor": 2
}
