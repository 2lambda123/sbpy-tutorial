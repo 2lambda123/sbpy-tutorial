{
 "cells": [
  {
   "cell_type": "code",
   "execution_count": 379,
   "metadata": {
    "collapsed": false
   },
   "outputs": [],
   "source": [
    "import numpy as np\n",
    "import astropy.units as u\n",
    "from astropy.time import Time\n",
    "from astropy.table import Table\n",
    "from sbpy.data import Ephem, Phys\n",
    "from sbpy.activity import (Haser, LTE, photo_timescale, einstein_coeff, \n",
    "intensity_conversion, beta_factor, total_number_nocd)\n",
    "import matplotlib.pyplot as plt\n",
    "import matplotlib\n",
    "import astropy.constants as con"
   ]
  },
  {
   "cell_type": "markdown",
   "metadata": {},
   "source": [
    "LTE Production Rate without Photodissociation Effects\n",
    "=============================\n",
    "________________________________________________________________________________\n",
    "\n",
    "`sbpy.spectroscopy` provides several models to calculate molecular production rates in comets. One of these models is based on the following paper:\n",
    "\n",
    "> [Drahus et al. September 2012. The Sources of HCN and CH3OH and the\n",
    "> Rotational Temperature in Comet 103P/Hartley 2 from Time-resolved\n",
    "> Millimeter Spectroscopy. The Astrophysical Journal, Volume 756,\n",
    "> Issue 1.](https://arxiv.org/abs/1202.3194)\n",
    "\n",
    "This model does not include photodissociation effects. For details on the model parameters that are optional or needed for all the sbpy.activity functions used in these examples refer to the Reference/API section of the [documentation](https://sbpy.readthedocs.io/en/latest/sbpy/activity/index.html#module-sbpy.activity), or look at the simple examples [given here](https://sbpy.readthedocs.io/en/latest/sbpy/activity/index.html#production-rate-calculations). This extremely simplified model is useful to calculate first guesses for more computationally intensive Non-LTE models or for LTE Haser models that include photodissociation.\n",
    "\n",
    "The following examples test this simple version of the production rate calculation `LTE.from_Drahus`, for more information look at the [documentation](https://sbpy.readthedocs.io/en/latest/api/sbpy.activity.LTE.html#sbpy.activity.LTE). The calculations below are based and compared against results published in Drahus et al. 2012.\n",
    "\n",
    "____________________________________________________________________________________________________________________"
   ]
  },
  {
   "cell_type": "markdown",
   "metadata": {},
   "source": [
    "LTE `from_Drahus` First Example:\n",
    "-------------------------------------------------------------------------------------------------------------"
   ]
  },
  {
   "cell_type": "markdown",
   "metadata": {},
   "source": [
    "Load the data file containing values for time of observations, integrated flux, \n",
    "and error bars from the literature (Drahus et al. 2012) in order to obtain the \n",
    "information needed for the calculation of our production rates"
   ]
  },
  {
   "cell_type": "code",
   "execution_count": 380,
   "metadata": {
    "collapsed": false
   },
   "outputs": [
    {
     "name": "stdout",
     "output_type": "stream",
     "text": [
      "Table:\n",
      "UT_Date         Time         T_B  log(Q) ...      Q         Q_top      Q_bottom \n",
      "------- ------------------- ----- ------ ... ----------- ----------- -----------\n",
      " 2.0558 2010-11-02 01:20:21 0.672 24.813 ...  6.5013e+24  7.8343e+24 6.30957e+24\n",
      " 2.1075 2010-11-02 02:34:48  1.06 25.011 ... 1.02565e+25 1.22744e+25 1.00925e+25\n",
      " 2.1672 2010-11-02 04:00:46 1.234 25.076 ... 1.19124e+25 1.42561e+25 1.18032e+25\n",
      " 2.2289 2010-11-02 05:29:37 1.357 25.118 ...  1.3122e+25 1.58489e+25 1.30017e+25\n",
      " 2.2817 2010-11-02 06:45:39  1.89 25.262 ...  1.8281e+25 2.18273e+25 1.81134e+25\n",
      " 2.3359 2010-11-02 08:03:42 1.786 25.237 ... 1.72584e+25  2.0797e+25 1.69824e+25\n",
      " 2.3723 2010-11-02 08:56:07 1.509 25.164 ... 1.45881e+25 1.78238e+25 1.41906e+25\n",
      " 3.0339 2010-11-03 00:48:49 1.222 25.072 ... 1.18032e+25 1.40929e+25 1.15878e+25\n",
      " 3.0868 2010-11-03 02:05:00 1.503 25.162 ... 1.45211e+25 1.74181e+25 1.43549e+25\n",
      " 3.1495 2010-11-03 03:35:17 1.916 25.268 ... 1.85353e+25  2.2182e+25 1.83654e+25\n",
      "    ...                 ...   ...    ... ...         ...         ...         ...\n",
      " 4.1852 2010-11-04 04:26:41 1.186 25.059 ... 1.14551e+25 1.38676e+25  1.1324e+25\n",
      " 4.2492 2010-11-04 05:58:51 0.889 24.934 ... 8.59014e+24 1.04472e+25  8.3946e+24\n",
      " 4.2904 2010-11-04 06:58:11 0.978 24.976 ... 9.46237e+24  1.1508e+25  9.2683e+24\n",
      " 4.3399 2010-11-04 08:09:27 0.753 24.862 ...  7.2778e+24 8.89201e+24 7.09578e+24\n",
      " 5.0163 2010-11-05 00:23:28 0.795 24.886 ...  7.6913e+24  9.4189e+24 7.46449e+24\n",
      " 5.0673 2010-11-05 01:36:55 0.762 24.867 ... 7.36207e+24 8.81049e+24 7.17794e+24\n",
      " 5.1246 2010-11-05 02:59:25  0.67 24.811 ... 6.47143e+24 7.70903e+24  6.3387e+24\n",
      " 5.1873 2010-11-05 04:29:43 0.521 24.702 ... 5.03501e+24 6.08135e+24 4.88652e+24\n",
      " 5.2426 2010-11-05 05:49:21 0.578 24.747 ...  5.5847e+24 6.72977e+24 5.39511e+24\n",
      " 5.2932 2010-11-05 07:02:12 1.009 24.989 ...  9.7499e+24 1.18304e+25 9.54993e+24\n",
      " 5.3477 2010-11-05 08:20:41 1.216  25.07 ...  1.1749e+25 1.42233e+25 1.13501e+25\n",
      "Length = 28 rows\n",
      "Column Names:\n",
      "<TableColumns names=('UT_Date','Time','T_B','log(Q)','error_top','error_bottom','Q','Q_top','Q_bottom')>\n"
     ]
    }
   ],
   "source": [
    "hcn = Table.read('data/HCN.csv', format=\"ascii.csv\") \n",
    "print(\"Table:\\n{}\\nColumn Names:\\n{}\".format(hcn, hcn.columns))"
   ]
  },
  {
   "cell_type": "markdown",
   "metadata": {},
   "source": [
    "Model parameters needed, all values are taken directly from the literature (Drahus et al. 2012). See [documentation](https://sbpy.readthedocs.io/en/latest/sbpy/activity/index.html#module-sbpy.activity) for the complete explanation of the parameters listed."
   ]
  },
  {
   "cell_type": "code",
   "execution_count": 381,
   "metadata": {
    "collapsed": true
   },
   "outputs": [],
   "source": [
    "temp_estimate = 47. * u.K # kinetic temperature\n",
    "\n",
    "target = '103P' # target name\n",
    "\n",
    "vgas = 0.8 * u.km / u.s # gas velocity\n",
    "\n",
    "aper = 30 * u.m  # telescope aperture (25 m default)\n",
    "\n",
    "b = 1.13 # antenna value (1.13 default)\n",
    "\n",
    "mol_tag = 27001 # JPLSpec unique identifier\n",
    "\n",
    "transition_freq = (265.886434 * u.GHz).to('MHz') # Transition frequency"
   ]
  },
  {
   "cell_type": "markdown",
   "metadata": {},
   "source": [
    "Obtain the molecular data from the JPL Molecular Spectroscopy Catalog using sbpy.data.phys. \n",
    "See documentation for a detailed breakdown of the resulting object and the values stored in the object.\n",
    "Molecular data can be provided by the user as well, but it must follow the `sbpy.data.phys` object format,\n",
    "and must use one the valid alternative names (found in the documentation) for each of the fields so \n",
    "that the code can identify the parameters correctly within the sbpy.data.phys object built by the user.\n",
    "See next example if you're interested in providing your own molecular data."
   ]
  },
  {
   "cell_type": "code",
   "execution_count": 382,
   "metadata": {
    "collapsed": false
   },
   "outputs": [],
   "source": [
    "mol_data = Phys.from_jplspec(temp_estimate, transition_freq, mol_tag) # build Phys object"
   ]
  },
  {
   "cell_type": "markdown",
   "metadata": {},
   "source": [
    "Next, obtain the Einstein Coefficient, and integrated line intensity at a given temperature from the molecular data.\n",
    "These functions stand by themselves, so they are not necessary if the user already has this information.\n",
    "Yet, the JPL Molecular Spectroscopy Catalog does not offer this information directly, and it must be calculated\n",
    "from the results of a JPLSpec query. These functions then are helpful for users whose molecular data comes from JPLSpec and who do not have these values yet. It is also a possibility the user wants to use JPLSpec for molecular data but already has the Einstein Coefficients, this is also not an issue since the user can just skip the einstein_coeff function and provide their own user-defined Einstein Coefficient by using the [`add_column()`](https://sbpy.readthedocs.io/en/latest/sbpy/data/index.html#introduction) function\n",
    "to append the Einstein Coefficient to the mol_data `phys` object. Same rules apply to the \n",
    "integrated line intensity value."
   ]
  },
  {
   "cell_type": "markdown",
   "metadata": {},
   "source": [
    "Calculate integrated line intensity at  `temperature = temp_estimate` and store the value calculated for integrated line intensity in our `mol_data` [Phys](https://sbpy.readthedocs.io/en/latest/sbpy/data/index.html#how-to-use-phys) object, do same for the Einstein Coefficient. Keep in mind that fields can have alternative names that can be used for 'name', see [docs](https://sbpy.readthedocs.io/en/latest/sbpy/data/fieldnames.html) for the list of alternative names:"
   ]
  },
  {
   "cell_type": "code",
   "execution_count": 383,
   "metadata": {
    "collapsed": false
   },
   "outputs": [
    {
     "data": {
      "text/plain": [
       "12"
      ]
     },
     "execution_count": 383,
     "metadata": {},
     "output_type": "execute_result"
    }
   ],
   "source": [
    "intl = intensity_conversion(mol_data) # caculate line intensity\n",
    "\n",
    "mol_data.add_column([intl.value] * intl.unit, name='Integrated line intensity at desired temp')\n",
    "\n",
    "au = einstein_coeff(mol_data) # obtain Einstein Coefficient\n",
    "\n",
    "mol_data.add_column([au.value] * au.unit, name='eincoeff')\n"
   ]
  },
  {
   "cell_type": "markdown",
   "metadata": {},
   "source": [
    "Since our data file contains 28 different data points of observation times and integrated flux, we can\n",
    "calculate production rates for all of these 28 data points using a python for-loop."
   ]
  },
  {
   "cell_type": "code",
   "execution_count": 384,
   "metadata": {
    "collapsed": false
   },
   "outputs": [
    {
     "name": "stdout",
     "output_type": "stream",
     "text": [
      "The Resulting Production Rates for HCN in 103P using Drahus et al. 2012 model are:\n",
      " [24.755 24.953 25.02  25.062 25.206 25.182 25.11  25.025 25.116 25.222\n",
      " 25.176 25.274 25.213 24.989 25.152 25.199 25.148 25.025 24.901 24.943\n",
      " 24.83  24.861 24.843 24.788 24.679 24.725 24.968 25.049]\n"
     ]
    }
   ],
   "source": [
    "lte = LTE() # initialize LTE class \n",
    "\n",
    "q_found_hcn = []\n",
    "\n",
    "for i in range(0, 28): \n",
    "\n",
    "    time = Time(hcn['Time'][i], format='iso') # build astropy.Time object\n",
    "    \n",
    "    ephemobj = Ephem.from_horizons(target, epochs=time.jd, id_type='id') # create Ephem object\n",
    "\n",
    "    integrated_flux = hcn['T_B'][i] * u.K * u.km / u.s \n",
    "    \n",
    "    q = lte.from_Drahus(integrated_flux, mol_data, ephemobj, vgas, aper, b=b) # calculate production rate\n",
    "\n",
    "    q = np.log10(q.value)\n",
    "    \n",
    "    q_found_hcn.append(q)\n",
    "\n",
    "print(\"The Resulting Production Rates for HCN in {} using Drahus et al. 2012 model are:\\n {}\".format(target, np.round(q_found_hcn,3))) "
   ]
  },
  {
   "cell_type": "markdown",
   "metadata": {},
   "source": [
    "Plot production rates against time"
   ]
  },
  {
   "cell_type": "code",
   "execution_count": 385,
   "metadata": {
    "collapsed": false
   },
   "outputs": [
    {
     "name": "stdout",
     "output_type": "stream",
     "text": [
      "The Literature Production Rates for HCN in 103P using Drahus et al. 2012 model are:\n",
      " [24.813 25.011 25.076 25.118 25.262 25.237 25.164 25.072 25.162 25.268\n",
      " 25.221 25.319 25.257 25.032 25.188 25.234 25.183 25.059 24.934 24.976\n",
      " 24.862 24.886 24.867 24.811 24.702 24.747 24.989 25.07 ]\n"
     ]
    },
    {
     "data": {
      "image/png": "[encoded data removed]",
      "text/plain": [
       "<matplotlib.figure.Figure at 0x110706b00>"
      ]
     },
     "metadata": {},
     "output_type": "display_data"
    }
   ],
   "source": [
    "q_pred_hcn = list(hcn['log(Q)']) # literature production rates\n",
    "print(\"The Literature Production Rates for HCN in {} using Drahus et al. 2012 model are:\\n {}\".format(target, np.round(q_pred_hcn,3))) \n",
    "\n",
    "time_hcn = list(hcn['Time'])\n",
    "time_hcn = matplotlib.dates.datestr2num(time_hcn)\n",
    "\n",
    "plt.plot_date(time_hcn, q_pred_hcn, 'o', color='slateblue', label='Drahus 2012')\n",
    "plt.plot_date(time_hcn, q_found_hcn, 'o', color='hotpink', label='sbpy results')\n",
    "plt.xlabel('Time')\n",
    "plt.ylabel('Log (Q)')\n",
    "plt.legend(loc='best', fontsize='x-small')\n",
    "plt.title('Q vs Time Plot for HCN in {}'.format(target))\n",
    "plt.show()"
   ]
  },
  {
   "cell_type": "markdown",
   "metadata": {},
   "source": [
    "Calculate residuals between the data and the production rates obtained"
   ]
  },
  {
   "cell_type": "code",
   "execution_count": 386,
   "metadata": {
    "collapsed": false
   },
   "outputs": [
    {
     "name": "stdout",
     "output_type": "stream",
     "text": [
      "The Residuals between sbpy results and literature are:\n",
      " [0.058 0.058 0.056 0.056 0.056 0.055 0.054 0.047 0.046 0.046 0.045 0.045\n",
      " 0.044 0.043 0.036 0.035 0.035 0.034 0.033 0.033 0.032 0.025 0.024 0.023\n",
      " 0.023 0.022 0.021 0.021]\n"
     ]
    },
    {
     "data": {
      "image/png": "[encoded data removed]",
      "text/plain": [
       "<matplotlib.figure.Figure at 0x1104e16a0>"
      ]
     },
     "metadata": {},
     "output_type": "display_data"
    }
   ],
   "source": [
    "res_hcn = (np.array(q_pred_hcn)) - (np.array(q_found_hcn)) # calculate residuals\n",
    "\n",
    "print(\"The Residuals between sbpy results and literature are:\\n {}\".format(np.round(res_hcn,3))) \n",
    "\n",
    "plt.plot(q_pred_hcn, res_hcn, 'o', color='slateblue', label='Residuals') # plot residuals\n",
    "plt.xlabel('Log (Q)')\n",
    "plt.ylabel('Residual Value')\n",
    "plt.legend(loc='best', fontsize='x-small')\n",
    "plt.title('Residual Plot for HCN in {}'.format(target))\n",
    "plt.show()\n"
   ]
  },
  {
   "cell_type": "markdown",
   "metadata": {},
   "source": [
    "During development, we reached out to the author to talk about the differences between our results and the paper's results. Some of the differences that came up were:\n",
    "- The use of different catalogs (not only JPLSpec but also CDMS, LAMDA, etc.) for some of the data\n",
    "- Author used a constant distance between the comet and the observer (constant delta)\n",
    "- Einstein Coefficients were not calculated the same way\n",
    "    - sbpy uses an equation obtained form JPLSpec documentation instead of the LAMDA catalog or other means\n",
    "\n",
    "The errors for the production rate calculations within the literature were obtained from variations in the line profile area (integrated flux). The errors for the integrated flux were obtained in the following manner:\n",
    "\n",
    "> *[...] errors were estimated from 500 simulations following our Monte Carlo approach, which we used to propagate the signal noise and also the uncertainty from imperfect pointing whenever relevant (see Paper I for details).* (Drahus et al. 2012, pp. 6)\n",
    "\n",
    "Thus, the production rate errors derived for production rate in the literature are listed as the following:"
   ]
  },
  {
   "cell_type": "code",
   "execution_count": 387,
   "metadata": {
    "collapsed": false
   },
   "outputs": [
    {
     "name": "stdout",
     "output_type": "stream",
     "text": [
      "Production rate error +\n",
      "[0.081, 0.078, 0.078, 0.082, 0.077, 0.081, 0.087, 0.077, 0.079, 0.078, 0.084, 0.083, 0.08, 0.082, 0.077, 0.077, 0.081, 0.083, 0.085, 0.085, 0.087, 0.088, 0.078, 0.076, 0.082, 0.081, 0.084, 0.083]\n",
      "Production Rate error -\n",
      "[0.013, 0.007, 0.004, 0.004, 0.004, 0.007, 0.012, 0.008, 0.005, 0.004, 0.004, 0.004, 0.005, 0.005, 0.007, 0.005, 0.005, 0.005, 0.01, 0.009, 0.011, 0.013, 0.011, 0.009, 0.013, 0.015, 0.009, 0.015]\n",
      "Residuals from sbpy\n",
      "[0.058 0.058 0.056 0.056 0.056 0.055 0.054 0.047 0.046 0.046 0.045 0.045\n",
      " 0.044 0.043 0.036 0.035 0.035 0.034 0.033 0.033 0.032 0.025 0.024 0.023\n",
      " 0.023 0.022 0.021 0.021]\n"
     ]
    }
   ],
   "source": [
    "print(\"Production rate error +\\n{}\\nProduction Rate error -\\n{}\\nResiduals from sbpy\\n{}\".format(list(hcn['error_top']), list(hcn['error_bottom']), np.round(res_hcn,3)))"
   ]
  },
  {
   "cell_type": "markdown",
   "metadata": {},
   "source": [
    "The residuals for sbpy are therefore well within range of the upper limit of error in the literature. \n",
    "The reality is that the results will always vary with the molecular data used, and the functions within sbpy \n",
    "that are used  (i.e. `einstein_coeff` vs LAMDA catalog Einstein Coefficients). Because of this, the module was \n",
    "designed in a flexible manner using `sbpy.data` instances, which allows the user to fully customize their data \n",
    "before calculating the production rate with whatever model they choose."
   ]
  },
  {
   "cell_type": "markdown",
   "metadata": {},
   "source": [
    "LTE `from_Drahus` Second Example (User-defined Data):\n",
    "-------------------------------------------------------------------------------------------------------------"
   ]
  },
  {
   "cell_type": "markdown",
   "metadata": {},
   "source": [
    "Load the data file containing values for time of observations, integrated flux, \n",
    "and error bars from the literature (Drahus et al. 2012) in order to obtain the \n",
    "information needed for the calculation of our production rates. It follows the same format at the table in the first example"
   ]
  },
  {
   "cell_type": "code",
   "execution_count": 388,
   "metadata": {
    "collapsed": false
   },
   "outputs": [],
   "source": [
    "ch3oh = Table.read('data/CH3OH.csv', format=\"ascii.csv\")"
   ]
  },
  {
   "cell_type": "markdown",
   "metadata": {},
   "source": [
    "Model parameters needed, all values are taken directly from the literature (Drahus et al. 2012). In this example, the parameters are all the same as last example's except for our molecule and transition frequency. See [documentation](https://sbpy.readthedocs.io/en/latest/sbpy/activity/index.html#production-rate-calculations) for more information on the parameter values"
   ]
  },
  {
   "cell_type": "code",
   "execution_count": 389,
   "metadata": {
    "collapsed": true
   },
   "outputs": [],
   "source": [
    "mol_tag = 32003 # JPLSpec unique identifier\n",
    "\n",
    "transition_freq = (157.178987 * u.GHz).to('MHz')"
   ]
  },
  {
   "cell_type": "markdown",
   "metadata": {},
   "source": [
    "In this example we will show how users can define and store their own molecular data in a phys object.\n",
    "See the other two examples for the use of from_jplspec to obtain the molecular data necessary for\n",
    "production rate calculations. For more information on the molecular parameters needed see both `activity.productionrate` [module](https://sbpy.readthedocs.io/en/latest/sbpy/activity/index.html#production-rate-calculations) and `astroquery.jplspec` [module](https://astroquery.readthedocs.io/en/latest/jplspec/jplspec.html) documentation"
   ]
  },
  {
   "cell_type": "code",
   "execution_count": 390,
   "metadata": {
    "collapsed": false
   },
   "outputs": [],
   "source": [
    "lgint300 = 7.4336139*10**(-5) * u.MHz * u.nm * u.nm # integrated line intensity (300 K)\n",
    "\n",
    "part300 = 9473.271845042498 # partition function (300 K)\n",
    "\n",
    "partition = 308.5479509730844 # paritition function\n",
    "\n",
    "gu = 11.0 # Upper state degeneracy\n",
    "\n",
    "energy_J = 6.61822698*10**(-22) * u.J # Upper level energy\n",
    "\n",
    "elo_J = 5.57674801*10**(-22) * u.J # Lower level energy\n",
    "\n",
    "df = 3 # degrees of freedom\n",
    "\n",
    "quantities = [transition_freq, temp_estimate, lgint300, part300, partition, gu, energy_J,\n",
    "              elo_J, df, mol_tag] # define list\n",
    "\n",
    "names = ('Transition frequency',\n",
    "         'Temperature',\n",
    "         'Integrated line intensity at 300 K',\n",
    "         'Partition function at 300 K',\n",
    "         'Partition function at designated temperature',\n",
    "         'Upper state degeneracy',\n",
    "         'Upper level energy in Joules',\n",
    "         'Lower level energy in Joules',\n",
    "         'Degrees of freedom', 'Molecule Identifier') # define field names\n",
    "\n",
    "mol_data = Phys.from_array(quantities, names) # build the phys object\n"
   ]
  },
  {
   "cell_type": "markdown",
   "metadata": {},
   "source": [
    "Obtaining the Einstein Coefficient, and integrated line intensity at a given temperature from the molecular data,\n",
    "as explained in the first example. The next example will show how to use a user-defined Einstein Coefficient."
   ]
  },
  {
   "cell_type": "code",
   "execution_count": 391,
   "metadata": {
    "collapsed": false
   },
   "outputs": [
    {
     "data": {
      "text/plain": [
       "12"
      ]
     },
     "execution_count": 391,
     "metadata": {},
     "output_type": "execute_result"
    }
   ],
   "source": [
    "intl = intensity_conversion(mol_data) # integrated line intensity\n",
    "\n",
    "mol_data.add_column([intl.value] * intl.unit,\n",
    "                    name='Integrated line intensity at desired temp') # store value\n",
    "\n",
    "au = einstein_coeff(mol_data) # obtain Einstein Coefficient\n",
    "\n",
    "mol_data.add_column([au.value] * au.unit, name='eincoeff') # store value"
   ]
  },
  {
   "cell_type": "code",
   "execution_count": 392,
   "metadata": {
    "collapsed": false
   },
   "outputs": [
    {
     "name": "stdout",
     "output_type": "stream",
     "text": [
      "The Resulting Production Rates for CH3OH in 103P using Drahus et al. 2012 model are:\n",
      " [26.445 26.573 26.563 26.593 26.597 26.491 26.48  26.553 26.504 26.482\n",
      " 26.463 26.423 26.354 26.477 26.349 26.399 26.31  26.325 26.401 26.556]\n"
     ]
    }
   ],
   "source": [
    "lte = LTE() # initialize LTE class\n",
    "\n",
    "q_found_ch3oh = [] # define empty list\n",
    "\n",
    "for i in range(0, 20):\n",
    "\n",
    "    time = Time(ch3oh['Time'][i], format='iso') # build astropy.time object\n",
    "    \n",
    "    integrated_flux = ch3oh['T_B'][i] * u.K * u.km / u.s # integrated flux \n",
    "    \n",
    "    ephemobj = Ephem.from_horizons(target, epochs=time.jd, id_type='id') # create ephem object\n",
    "\n",
    "    q = lte.from_Drahus(integrated_flux, mol_data, ephemobj, vgas, aper, b=b) # calculate production rate\n",
    "\n",
    "    q = np.log10(q.value)\n",
    "\n",
    "    q_found_ch3oh.append(q) # append production rate\n",
    "\n",
    "print(\"The Resulting Production Rates for CH3OH in {} using Drahus et al. 2012 model are:\\n {}\".format(target, np.round(q_found_ch3oh,3))) "
   ]
  },
  {
   "cell_type": "markdown",
   "metadata": {},
   "source": [
    "Plot production rates against time"
   ]
  },
  {
   "cell_type": "code",
   "execution_count": 393,
   "metadata": {
    "collapsed": false
   },
   "outputs": [
    {
     "name": "stdout",
     "output_type": "stream",
     "text": [
      "The Literature Production Rates for CH3OH in 103P using Drahus et al. 2012 model are:\n",
      " [26.534 26.664 26.653 26.681 26.685 26.578 26.56  26.633 26.584 26.559\n",
      " 26.541 26.5   26.432 26.545 26.42  26.467 26.375 26.394 26.467 26.623]\n"
     ]
    },
    {
     "data": {
      "image/png": "[encoded data removed]",
      "text/plain": [
       "<matplotlib.figure.Figure at 0x110d25e10>"
      ]
     },
     "metadata": {},
     "output_type": "display_data"
    }
   ],
   "source": [
    "q_pred_ch3oh = list(ch3oh['log(Q)']) # literature production rates\n",
    "print(\"The Literature Production Rates for CH3OH in {} using Drahus et al. 2012 model are:\\n {}\".format(target, np.round(q_pred_ch3oh,3))) \n",
    "\n",
    "time_ch3oh = list(ch3oh['Time'])\n",
    "time_ch3oh = matplotlib.dates.datestr2num(time_ch3oh)\n",
    "\n",
    "plt.plot_date(time_ch3oh, q_pred_ch3oh, 'o', color='slateblue', label='Drahus 2012')\n",
    "plt.plot_date(time_ch3oh, q_found_ch3oh, 'o', color='hotpink', label='sbpy results')\n",
    "plt.xlabel('Time')\n",
    "plt.ylabel('Log (Q)')\n",
    "plt.legend(loc='best', fontsize='x-small')\n",
    "plt.title('Q vs Time Plot for CH3OH in {}'.format(target))\n",
    "plt.show()"
   ]
  },
  {
   "cell_type": "markdown",
   "metadata": {},
   "source": [
    "Calculate the residuals:"
   ]
  },
  {
   "cell_type": "code",
   "execution_count": 394,
   "metadata": {
    "collapsed": false,
    "scrolled": true
   },
   "outputs": [
    {
     "name": "stdout",
     "output_type": "stream",
     "text": [
      "The Residuals between sbpy results and literature are:\n",
      " [0.058 0.058 0.056 0.056 0.056 0.055 0.054 0.047 0.046 0.046 0.045 0.045\n",
      " 0.044 0.043 0.036 0.035 0.035 0.034 0.033 0.033 0.032 0.025 0.024 0.023\n",
      " 0.023 0.022 0.021 0.021]\n"
     ]
    },
    {
     "data": {
      "image/png": "[encoded data removed]",
      "text/plain": [
       "<matplotlib.figure.Figure at 0x1109d1710>"
      ]
     },
     "metadata": {},
     "output_type": "display_data"
    }
   ],
   "source": [
    "q_pred_ch3oh = list(ch3oh['log(Q)']) # literature production rates\n",
    "\n",
    "res_ch3oh = (np.array(q_pred_ch3oh)) - (np.array(q_found_ch3oh)) # residuals\n",
    "\n",
    "print(\"The Residuals between sbpy results and literature are:\\n {}\".format(np.round(res_hcn,3))) \n",
    "\n",
    "plt.plot(q_pred_ch3oh, res_ch3oh, 'o', color='slateblue', label='Residuals') # plot\n",
    "plt.xlabel('Log (Q)')\n",
    "plt.ylabel('Residual Value')\n",
    "plt.legend(loc='best', fontsize='x-small')\n",
    "plt.title('Residual Plot for CH3OH in {}'.format(target))\n",
    "plt.show()"
   ]
  },
  {
   "cell_type": "markdown",
   "metadata": {},
   "source": [
    "**Important:** the method used by the author for the CH3OH molecule was to test and average the molecular data for 5 different transition frequencies, the molecular data was also obtained from CDMS instead of JPLSpec. Because of these two key differences it is only natural that the difference between the literature and the calculated production rates in sbpy will be bigger than in the first example. If the user wishes to recreate more of the author's process, all that is needed is to\n",
    "obtain `mol_data` for 5 the different transition frequency lines that the author used [in page 38 of Drahus et al. 2012](https://arxiv.org/pdf/1202.3194.pdf), and then to take the average of that molecular data and use it as the input data into the models. \n",
    "\n",
    "The errors from the literature along with sbpy residuals are shown below"
   ]
  },
  {
   "cell_type": "code",
   "execution_count": 395,
   "metadata": {
    "collapsed": false
   },
   "outputs": [
    {
     "name": "stdout",
     "output_type": "stream",
     "text": [
      "Production rate error +\n",
      "[0.4, 0.035, 0.036, 0.038, 0.037, 0.037, 0.045, 0.036, 0.035, 0.039, 0.041, 0.043, 0.043, 0.043, 0.041, 0.04, 0.046, 0.045, 0.043, 0.044]\n",
      "Production Rate error -\n",
      "[0.017, 0.009, 0.011, 0.012, 0.014, 0.015, 0.02, 0.015, 0.013, 0.014, 0.019, 0.016, 0.023, 0.021, 0.02, 0.019, 0.021, 0.022, 0.021, 0.016]\n",
      "Residuals from sbpy\n",
      "[0.089 0.091 0.09  0.088 0.088 0.087 0.08  0.08  0.08  0.077 0.078 0.077\n",
      " 0.078 0.068 0.071 0.068 0.065 0.069 0.066 0.067]\n"
     ]
    }
   ],
   "source": [
    "print(\"Production rate error +\\n{}\\nProduction Rate error -\\n{}\\nResiduals from sbpy\\n{}\".format(list(ch3oh['error_top']), list(ch3oh['error_bottom']), np.round(res_ch3oh,3)))"
   ]
  },
  {
   "cell_type": "markdown",
   "metadata": {},
   "source": [
    "Calculating Production Rate using `sbpy.activity.gas` Haser model\n",
    "===================================\n",
    "____________________________________________________________________________________________________________________\n",
    "\n",
    "Another model included in the module is based off of the model in the following literature:\n",
    "\n",
    "> [Haser 1957, Bulletin de la Societe Royale des Sciences de Liege 43, 740.\n",
    "> Newburn and Johnson 1978, Icarus 35, 360-368.](https://catalog.hathitrust.org/Record/004056063)\n",
    "\n",
    "This model takes in an initial guess for the production rate, and uses the [`sbpy.activity.Haser`](https://sbpy.readthedocs.io/en/latest/api/sbpy.activity.Haser.html#sbpy.activity.Haser) class instance to obtain a final value. The LTE production rate function `from_Haser` obtains a total number of molecules from `sbpy.activity.Haser` based on a first guess of the production rate (this is where `from_Drahus` comes in handy). Then the function takes a total number of molecules given by the user, and uses a ratio relationship to obtain the optimized production rate: \n",
    "\n",
    "$$Q = Q_{guess} \\frac{totalnum_{from \\: user}}{totalnum_{from \\: guess}}$$\n",
    "\n",
    "The user can either define their chosen total number of molecules, or they can calculate it from their data or JPLSpec data using `sbpy.activity.total_number_nocd`, which is a calculation based on **eq. 10** from:\n",
    "\n",
    "> [Bockelee-Morvan et al. 2004, Comets II, University of Arizona Press, Tucson, 745 pp., p.391-423](https://ui.adsabs.harvard.edu/#abs/2004come.book..391B)\n",
    "\n",
    "The literature used for this example is:\n",
    "\n",
    "> [Wierzchos, K. & M. Womack 2018, C/2016 R2 (PANSTARRS): A Comet Rich in CO and Depleted in HCN, AJ, 156:34](https://arxiv.org/pdf/1805.06918.pdf)\n",
    "\n",
    "____________________________________________________________________________________________________________________"
   ]
  },
  {
   "cell_type": "markdown",
   "metadata": {},
   "source": [
    "Load the data file containing values for time of observations, integrated flux, \n",
    "and error bars from the literature (Wierzchos and Womack 2018) in order to obtain the \n",
    "information needed for the calculation of our production rates"
   ]
  },
  {
   "cell_type": "code",
   "execution_count": 396,
   "metadata": {
    "collapsed": false
   },
   "outputs": [
    {
     "name": "stdout",
     "output_type": "stream",
     "text": [
      "Table:\n",
      "     U_T              Time        T_B     Q       log(Q)         Q_error       \n",
      "------------- ------------------- ---- ------- ----------- --------------------\n",
      "2017-12-22.21 2017-12-22 05:02:24 0.26 4.4e+28 28.64345268 0.019305151681574984\n",
      "2017-12-23.09 2017-12-23 02:09:36 0.28 4.6e+28 28.66275783  0.03621217433601842\n",
      "2017-12-30.14 2017-12-30 03:21:36 0.26 4.6e+28 28.66275783  0.03621217433601842\n",
      "2017-12-31.13 2017-12-31 03:07:12 0.27 4.6e+28 28.66275783  0.03621217433601842\n",
      "2018-01-16.03 2018-01-16 00:43:12 0.27 4.6e+28 28.66275783  0.03621217433601842\n",
      "Column Names:\n",
      "<TableColumns names=('U_T','Time','T_B','Q','log(Q)','Q_error')>\n"
     ]
    }
   ],
   "source": [
    "co = Table.read(('data/CO.csv'), format=\"ascii.csv\")\n",
    "error = np.array([0.2, 0.4, 0.4, 0.4, 0.4]) * 10.**28 # +/- error from literature\n",
    "Q_error = np.array(co['Q']) + np.array(error) # upper error limit\n",
    "Q_error = np.log10(np.array(Q_error)) - np.array(co['log(Q)'])\n",
    "co['Q_error'] = Q_error\n",
    "print(\"Table:\\n{}\\nColumn Names:\\n{}\".format(co, co.columns))"
   ]
  },
  {
   "cell_type": "markdown",
   "metadata": {},
   "source": [
    "Model parameters needed, all values are taken directly from the literature.\n",
    "In this example the molecule identifier will be inputted as a regular expression. \n",
    "Regular expressions for mol_tag can be used but the user must be careful not to provide\n",
    "an ambiguous regular expression. One good thing to remember is that anything between symbols '^' and '\\\\$'\n",
    "will be matched exactly, therefore you can avoid an ambiguity error by writing your molecule name as such:\n",
    "'^name\\\\$'. A perfect example of this is with the molecule in this example 'CO', simply writing mol_tag = 'CO'\n",
    "will produce an ambiguity error because it will match CO, CO2, etc. therefore, it is necessary to \n",
    "restrict our molecule name regex to '^CO\\\\$' as presented below."
   ]
  },
  {
   "cell_type": "code",
   "execution_count": 397,
   "metadata": {
    "collapsed": true
   },
   "outputs": [],
   "source": [
    "transition_freq = (230.538 * u.GHz).to('MHz')\n",
    "\n",
    "aper = 10 * u.m # aperture\n",
    "\n",
    "mol_tag = '^CO$' # regex molecule identifier\n",
    "\n",
    "temp_estimate = 25. * u.K \n",
    "\n",
    "vgas = 0.5 * u.km / u.s\n",
    "\n",
    "target = 'C/2016 R2'\n",
    "\n",
    "b = 0.74 # intrinsic antenna value"
   ]
  },
  {
   "cell_type": "markdown",
   "metadata": {},
   "source": [
    "Obtaining molecular data from the JPL Molecular Spectroscopy Catalog using `sbpy.data.phys`. \n",
    "See documentation for a detailed breakdown of the resulting object and the values stored in the object."
   ]
  },
  {
   "cell_type": "code",
   "execution_count": 398,
   "metadata": {
    "collapsed": false
   },
   "outputs": [
    {
     "data": {
      "text/plain": [
       "11"
      ]
     },
     "execution_count": 398,
     "metadata": {},
     "output_type": "execute_result"
    }
   ],
   "source": [
    "mol_data = Phys.from_jplspec(temp_estimate, transition_freq, mol_tag) # molecular data from JPLSpec\n",
    "\n",
    "intl = intensity_conversion(mol_data) # calculate line intensity\n",
    "\n",
    "mol_data.add_column([intl.value] * intl.unit,\n",
    "                    name='Integrated line intensity at desired temp') # store value"
   ]
  },
  {
   "cell_type": "markdown",
   "metadata": {},
   "source": [
    "Obtaining the Einstein Coefficient. In this example, we will obtain our Einstein Coefficient from\n",
    "LAMDA catalog and append it to our molecular data Phys object. In the previous exammples we have been calculating it through sbpy/JPLSpec. It is possible that your transition frequency values may not exactly match the LAMDA catalog to the 4th significant figure, especially if you're using JPLSpec. Therefore, we recommend when using this method\n",
    "that you match your transition frequency with the LAMDA value over the JPLSpec value, since from_jplspec is\n",
    "designed to pick the closest transition frequency within a range of 1 GHz, whereas LAMDA will expect the\n",
    "exact value found in their catalog."
   ]
  },
  {
   "cell_type": "code",
   "execution_count": 399,
   "metadata": {
    "collapsed": false
   },
   "outputs": [
    {
     "data": {
      "text/plain": [
       "12"
      ]
     },
     "execution_count": 399,
     "metadata": {},
     "output_type": "execute_result"
    }
   ],
   "source": [
    "from astroquery.lamda import Lamda\n",
    "\n",
    "mol_name = 'CO' # LAMDA molecule name\n",
    "\n",
    "lam_search = Lamda.query(mol=mol_name.lower()) # LAMDA Query\n",
    "\n",
    "lam_result = lam_search[1] # outputs CO table\n",
    "\n",
    "lam_found = lam_result[lam_result['Frequency'] == transition_freq.to('GHz').value] # parse results at frequency\n",
    "\n",
    "au_cat = lam_found['EinsteinA'] # get Einstein Coefficient\n",
    "\n",
    "au_cat = au_cat.data[0] # get value of coefficient\n",
    "\n",
    "au = au_cat / u.s # define the unit\n",
    "\n",
    "mol_data.add_column([au.value] * au.unit, name='eincoeff') # store einstein coefficient"
   ]
  },
  {
   "cell_type": "markdown",
   "metadata": {},
   "source": [
    "Initialize the `sbpy.activity.Haser` model in order to perform our production rate calculations. \n",
    "`Q_estimate` first guess for the production rate was obtained running `from_Drahus` for the same data set before doing this example"
   ]
  },
  {
   "cell_type": "code",
   "execution_count": 400,
   "metadata": {
    "collapsed": true
   },
   "outputs": [],
   "source": [
    "Q_estimate = 3.594*10**(28) / u.s \n",
    "\n",
    "parent = photo_timescale('CO') * vgas # parent photodissociation rate\n",
    "\n",
    "coma = Haser(Q_estimate, vgas, parent) # initializing the model with an estimate "
   ]
  },
  {
   "cell_type": "markdown",
   "metadata": {},
   "source": [
    "Since our data file contains 6 different data points of observation times and integrated flux, we can\n",
    "calculate production rates for all of these 6 data points using a python for loop.\n",
    "\n",
    "The `beta_factor` function is only necessary if the user will be using the `total_number_nocd` function, if \n",
    "the user chooses to define their total number of molecules by any other means, or calculate it by any other \n",
    "means then the `beta_factor` is not a necessary calculation. In order to understand how to user-define the \n",
    "total number, refer to previous sections in which user-defined values are appended to the `mol_data` phys object.\n",
    "\n",
    "**IMPORTANT: Because we are using a for loop, and some of the values that should be appended to the `mol_data`\n",
    "phys object are calculated within the loop itself, we must initialize our columns within the phys object\n",
    "BEFORE performing the loop. This is because you cannot iteratively redefine the same column of data within a \n",
    "phys object, but you CAN change the value of an already defined column as many times as you want.\n",
    "Since our 'beta' and 'total number' values vary with every iteration,\n",
    "and since our production rate needs both these values within the loop, we must simply change the value of our\n",
    "already defined columns for beta and total number everytime we iterate. Keep in mind when you initialize\n",
    "the column you must initialize it with the correct units and correct type (float, int, str). If you get an error saying there are duplicate columns, it is most likely due to what is been mentioned in this note, and you will have to reinitialize your mol_data object before trying to enter more data in it**"
   ]
  },
  {
   "cell_type": "code",
   "execution_count": 401,
   "metadata": {
    "collapsed": false
   },
   "outputs": [
    {
     "name": "stdout",
     "output_type": "stream",
     "text": [
      "The Resulting Production Rates for CO in C/2016 R2 using Haser model are:\n",
      " [27.979 28.01  27.968 27.983 27.961]\n"
     ]
    }
   ],
   "source": [
    "mol_data.add_column([1.] * u.AU * u.AU * u.s, name='beta') # initialize beta column\n",
    "mol_data.add_column([1.], name='total_number_nocd') # initialize total number column\n",
    "\n",
    "q_found_co = [] # define empty list\n",
    "\n",
    "lte = LTE() # initialize LTE class\n",
    "\n",
    "for i in range(0, 5):\n",
    "\n",
    "    time = Time(co['Time'][i], format='iso')\n",
    "    \n",
    "    integrated_flux = co['T_B'][i] * u.K * u.km / u.s\n",
    "    \n",
    "    ephemobj = Ephem.from_horizons(target, epochs=time.jd)\n",
    "    \n",
    "    beta = beta_factor(mol_data, ephemobj) # calculate beta factor\n",
    "    \n",
    "    mol_data['beta'] = beta # redefine column value for beta\n",
    "    \n",
    "    tnum = total_number_nocd(integrated_flux, mol_data, aper, b) # calculate total number\n",
    "\n",
    "    mol_data['total_number_nocd'] = tnum # redefine column value for total number\n",
    "\n",
    "    Q = lte.from_Haser(coma, mol_data, aper=aper) # calculate production rate\n",
    "\n",
    "    q_found_co.append(np.log10(Q.value)[0]) # append production rate\n",
    "\n",
    "print(\"The Resulting Production Rates for CO in {} using Haser model are:\\n {}\".format(target, np.round(q_found_co,3))) "
   ]
  },
  {
   "cell_type": "markdown",
   "metadata": {},
   "source": [
    "Plot Production Rates against Time"
   ]
  },
  {
   "cell_type": "code",
   "execution_count": 402,
   "metadata": {
    "collapsed": false
   },
   "outputs": [
    {
     "name": "stdout",
     "output_type": "stream",
     "text": [
      "The Literature Production Rates for CO in C/2016 R2 using Wierzchos & Womack 2018 are:\n",
      " [28.643 28.663 28.663 28.663 28.663]\n"
     ]
    },
    {
     "data": {
      "image/png": "[encoded data removed]",
      "text/plain": [
       "<matplotlib.figure.Figure at 0x11047bc18>"
      ]
     },
     "metadata": {},
     "output_type": "display_data"
    }
   ],
   "source": [
    "q_pred_co = list(co['log(Q)']) # literature production rates\n",
    "print(\"The Literature Production Rates for CO in {} using Wierzchos & Womack 2018 are:\\n {}\".format(target, np.round(q_pred_co,3))) \n",
    "\n",
    "time_co = list(co['Time'])\n",
    "time_co = matplotlib.dates.datestr2num(time_co)\n",
    "\n",
    "plt.plot_date(time_co, q_pred_co, 'o', color='slateblue', label='Wierzchos & Womack 2018')\n",
    "plt.plot_date(time_co, q_found_co, 'o', color='hotpink', label='sbpy results')\n",
    "plt.xlabel('Time')\n",
    "plt.ylabel('Log (Q)')\n",
    "plt.legend(loc='best', fontsize='x-small')\n",
    "plt.title('Q vs Time Plot for CO in {}'.format(target))\n",
    "plt.show()"
   ]
  },
  {
   "cell_type": "markdown",
   "metadata": {},
   "source": [
    "Calculate residuals:"
   ]
  },
  {
   "cell_type": "code",
   "execution_count": 403,
   "metadata": {
    "collapsed": false,
    "scrolled": true
   },
   "outputs": [
    {
     "name": "stdout",
     "output_type": "stream",
     "text": [
      "The Residuals between sbpy results and literature are:\n",
      " [0.664 0.653 0.695 0.68  0.702]\n"
     ]
    },
    {
     "data": {
      "image/png": "[encoded data removed]",
      "text/plain": [
       "<matplotlib.figure.Figure at 0x11032e518>"
      ]
     },
     "metadata": {},
     "output_type": "display_data"
    }
   ],
   "source": [
    "q_pred_co = list(co['log(Q)']) # literature production rates\n",
    "\n",
    "res_co = (np.array(q_pred_co)) - (np.array(q_found_co)) # residuals\n",
    "\n",
    "print(\"The Residuals between sbpy results and literature are:\\n {}\".format(np.round(res_co,3))) \n",
    "\n",
    "plt.plot(q_pred_co, res_co, 'o', color='slateblue', label='Residuals') # plot\n",
    "plt.xlabel('Log (Q)')\n",
    "plt.ylabel('Residual Value')\n",
    "plt.legend(loc='best', fontsize='x-small')\n",
    "plt.title('Residual Plot for CO in {}'.format(target))\n",
    "plt.xticks(np.arange(min(q_pred_co), max(q_pred_co)+0.003, 0.02))\n",
    "plt.show()\n"
   ]
  },
  {
   "cell_type": "code",
   "execution_count": 404,
   "metadata": {
    "collapsed": false
   },
   "outputs": [
    {
     "name": "stdout",
     "output_type": "stream",
     "text": [
      "Production rate + error\n",
      "[0.019, 0.036, 0.036, 0.036, 0.036]\n",
      "Residuals from sbpy\n",
      "[0.664 0.653 0.695 0.68  0.702]\n"
     ]
    }
   ],
   "source": [
    "print(\"Production rate + error\\n{}\\nResiduals from sbpy\\n{}\".format(list(np.round(co['Q_error'],3)), np.round(res_co,3)))"
   ]
  },
  {
   "cell_type": "markdown",
   "metadata": {},
   "source": [
    "It is noticeable that for this model the difference between the literature and sbpy is a little bigger. We have not been in contact with the authors of this paper as we have for the previous examples. Since it is not clear exactly what parameters the paper used, we can only infer where the differences come from. Since this model is driven by the ratio of total number of molecules from data calculation vs from the Haser model, it is possible the discrepancies are coming from parameters related to our `total_number` function. Since the literature does offer an average value for the column density of CO, we calculate the results again, using our model, based on this information."
   ]
  },
  {
   "cell_type": "code",
   "execution_count": 405,
   "metadata": {
    "collapsed": false
   },
   "outputs": [
    {
     "name": "stdout",
     "output_type": "stream",
     "text": [
      "The Resulting Production Rates for CO in C/2016 R2 using Haser model are:\n",
      " [28.666 28.665 28.655 28.653 28.632]\n",
      "Residuals:\n",
      "[-0.023 -0.002  0.008  0.009  0.031]\n",
      "Literature errors:\n",
      "[0.019 0.036 0.036 0.036 0.036]\n"
     ]
    }
   ],
   "source": [
    "column_density = (1.89*10.**(14) / (u.cm * u.cm)).to(1/(u.m* u.m)) # average from literature\n",
    "mol_data.add_column([column_density.value] * column_density.unit, 'Column Density')\n",
    "q_found_co = []\n",
    "\n",
    "for i in range(0, 5):\n",
    "\n",
    "    time = Time(co['Time'][i], format='iso')\n",
    "    \n",
    "    integrated_flux = co['T_B'][i] * u.K * u.km / u.s\n",
    "    \n",
    "    ephemobj = Ephem.from_horizons(target, epochs=time.jd)\n",
    "    \n",
    "    beta = beta_factor(mol_data, ephemobj) # calculate beta factor\n",
    "    \n",
    "    sigma = (1./2. * beta * b * con.c / (mol_data['t_freq'][0] * aper)).value # telescope geometric factors\n",
    "\n",
    "    tnum = mol_data['Column Density'][0].value * sigma * u.m * u.m / np.sqrt(np.log(2))\n",
    "\n",
    "    mol_data['total_number_nocd'] = tnum # redefine column value for total number\n",
    "\n",
    "    Q = lte.from_Haser(coma, mol_data, aper=aper) # calculate production rate\n",
    "\n",
    "    q_found_co.append(np.log10(Q.value)[0]) # append production rate\n",
    "\n",
    "print(\"The Resulting Production Rates for CO in {} using Haser model are:\\n {}\".format(target, np.round(q_found_co,3)))\n",
    "print(\"Residuals:\\n{}\".format(np.round((np.array(q_pred_co)) - (np.array(q_found_co)),3)))\n",
    "print(\"Literature errors:\\n{}\".format(np.round(co['Q_error'],3)))"
   ]
  },
  {
   "cell_type": "code",
   "execution_count": 406,
   "metadata": {
    "collapsed": false
   },
   "outputs": [
    {
     "data": {
      "image/png": "[encoded data removed]",
      "text/plain": [
       "<matplotlib.figure.Figure at 0x110e0b470>"
      ]
     },
     "metadata": {},
     "output_type": "display_data"
    }
   ],
   "source": [
    "plt.plot_date(time_co, q_pred_co, 'o', color='slateblue', label='Wierzchos & Womack 2018')\n",
    "plt.plot_date(time_co, q_found_co, 'o', color='hotpink', label='sbpy results')\n",
    "plt.xlabel('Time')\n",
    "plt.ylabel('Log (Q)')\n",
    "plt.legend(loc='best', fontsize='x-small')\n",
    "plt.title('Q vs Time Plot for CO in {}'.format(target))\n",
    "plt.show()"
   ]
  },
  {
   "cell_type": "markdown",
   "metadata": {},
   "source": [
    "This clearly shows that the column density calculation within our total_number function \n",
    "brought forward the biggest discrepancy in the model vs the literature. The column density equation used \n",
    "by sbpy is found in [Bockelee-Morvan et al. 2004](Bockelee-Morvan et al. 2004, Comets II, University of Arizona Press, Tucson, 745 pp., p.391-423). Of the free parameters we have, the column density equation depends on the Einstein Coefficient, the integrated flux, and the transition frequency. Our discrepancy then could lie in the source of the Einstein Coefficient, since the literature we are comparing against does not make mention of how the Einstein Coefficient was obtained. It is unlikely the cause is in the integrated flux or the transition frequency since those were plugged in directly from the literature. The other way that a discrepancy could be presenting itself is in the way that the column density was obtained. As mentioned above, we obtain the column density from the equation in Bockelee-Morvan et al. 2004 yet, the authors cite other models for their calculation of column density, which could also explain some of the discrepancy we see here.\n",
    "\n",
    "Hardly traceable inconsistencies like these are common in cometary studies, since a lot depends on the molecular catalogs that the data is obtained from, or what calculations are used. This is exactly why sbpy offers flexibility in all its functions through the use of `sbpy.data` classes, which allow the user to define their preferrred parameters if they do not happen to be satisfied with the catalog functionalities and derivations of parameters that sbpy offers."
   ]
  },
  {
   "cell_type": "markdown",
   "metadata": {},
   "source": [
    "Helpful Links\n",
    "=======\n",
    "___________________________________________\n",
    "\n",
    "- [LAMDA Queries with astroquery](https://astroquery.readthedocs.io/en/latest/lamda/lamda.html)\n",
    "- [JPLSpec Queries with astroquery](https://astroquery.readthedocs.io/en/latest/jplspec/jplspec.html)\n",
    "- [sbpy Activity Haser Class](https://sbpy.readthedocs.io/en/latest/api/sbpy.activity.Haser.html#sbpy.activity.Haser)\n",
    "- [sbpy Ephem data class](https://sbpy.readthedocs.io/en/latest/sbpy/data/index.html#how-to-use-ephem)\n",
    "- [sbpy Phys data class](https://sbpy.readthedocs.io/en/latest/sbpy/data/index.html#how-to-use-phys)\n",
    "- [sbpy data class alternative field names](https://sbpy.readthedocs.io/en/latest/sbpy/data/fieldnames.html#list-of-alternative-field-names)\n",
    "- [sbpy citation (please cite our work)](http://joss.theoj.org/papers/10.21105/joss.01426)"
   ]
  },
  {
   "cell_type": "code",
   "execution_count": null,
   "metadata": {
    "collapsed": true
   },
   "outputs": [],
   "source": []
  }
 ],
 "metadata": {
  "kernelspec": {
   "display_name": "Python 3",
   "language": "python",
   "name": "python3"
  },
  "language_info": {
   "codemirror_mode": {
    "name": "ipython",
    "version": 3
   },
   "file_extension": ".py",
   "mimetype": "text/x-python",
   "name": "python",
   "nbconvert_exporter": "python",
   "pygments_lexer": "ipython3",
   "version": "3.6.0"
  }
 },
 "nbformat": 4,
 "nbformat_minor": 2
}
