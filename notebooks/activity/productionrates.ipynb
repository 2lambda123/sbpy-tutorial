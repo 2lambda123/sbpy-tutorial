{
 "cells": [
  {
   "cell_type": "code",
   "execution_count": 48,
   "metadata": {
    "collapsed": false
   },
   "outputs": [],
   "source": [
    "import numpy as np\n",
    "import astropy.units as u\n",
    "from astropy.time import Time\n",
    "from astropy.table import Table\n",
    "from sbpy.data import Ephem, Phys\n",
    "from sbpy.activity import (Haser, LTE, photo_timescale, einstein_coeff, \n",
    "intensity_conversion, beta_factor, total_number_nocd)\n",
    "import matplotlib.pyplot as plt"
   ]
  },
  {
   "cell_type": "markdown",
   "metadata": {},
   "source": [
    "LTE Production Rate without Photodissociation Effects\n",
    "=============================\n",
    "________________________________________________________________________________\n",
    "\n",
    "`sbpy.spectroscopy` provides several models to calculate molecular production rates in comets. One of these models is based on the following paper:\n",
    "\n",
    "> [Drahus et al. September 2012. The Sources of HCN and CH3OH and the\n",
    "> Rotational Temperature in Comet 103P/Hartley 2 from Time-resolved\n",
    "> Millimeter Spectroscopy. The Astrophysical Journal, Volume 756,\n",
    "> Issue 1.](https://arxiv.org/abs/1202.3194)\n",
    "\n",
    "This model does not include photodissociation effects. For details on the model parameters that are optional or needed for all the sbpy.activity functions used in these examples refer to the Reference/API section of the [documentation](https://sbpy.readthedocs.io/en/latest/sbpy/activity/index.html#module-sbpy.activity), or look at the simple examples [given here](https://sbpy.readthedocs.io/en/latest/sbpy/activity/index.html#production-rate-calculations). This extremely simplified model is useful to calculate first guesses for more computationally intensive Non-LTE models or for LTE Haser models that include photodissociation.\n",
    "\n",
    "The following examples test this simple version of the production rate calculation. The calculations below are based and compared against results published in Drahus et al. 2012.\n",
    "\n",
    "____________________________________________________________________________________________________________________"
   ]
  },
  {
   "cell_type": "markdown",
   "metadata": {},
   "source": [
    "LTE `from_Drahus` First Example:\n",
    "-------------------------------------------------------------------------------------------------------------"
   ]
  },
  {
   "cell_type": "markdown",
   "metadata": {},
   "source": [
    "*Load the data file containing values for time of observations, integrated flux, \n",
    "and error bars from the literature (Drahus et al. 2012) in order to obtain the \n",
    "information needed for the calculation of our production rates*"
   ]
  },
  {
   "cell_type": "code",
   "execution_count": 49,
   "metadata": {
    "collapsed": false
   },
   "outputs": [],
   "source": [
    "hcn = Table.read('data/HCN.csv', format=\"ascii.csv\") "
   ]
  },
  {
   "cell_type": "markdown",
   "metadata": {},
   "source": [
    "*Model parameters needed, all values are taken directly from the literature (Drahus et al. 2012). See [documentation](https://sbpy.readthedocs.io/en/latest/sbpy/activity/index.html#module-sbpy.activity) for the complete explanation of the parameters listed.*"
   ]
  },
  {
   "cell_type": "code",
   "execution_count": 50,
   "metadata": {
    "collapsed": true
   },
   "outputs": [],
   "source": [
    "temp_estimate = 47. * u.K # kinetic temperature\n",
    "\n",
    "target = '103P' # target name\n",
    "\n",
    "vgas = 0.8 * u.km / u.s # gas velocity\n",
    "\n",
    "aper = 30 * u.m  # telescope aperture (25 m default)\n",
    "\n",
    "b = 1.13 # antenna value (1.13 default)\n",
    "\n",
    "mol_tag = 27001 # JPLSpec unique identifier\n",
    "\n",
    "transition_freq = (265.886434 * u.GHz).to('MHz') # Transition frequency"
   ]
  },
  {
   "cell_type": "markdown",
   "metadata": {},
   "source": [
    "*Obtain the molecular data from the JPL Molecular Spectroscopy Catalog using sbpy.data.phys. \n",
    "See documentation for a detailed breakdown of the resulting object and the values stored in the object.\n",
    "Molecular data can be provided by the user as well, but it must follow the `sbpy.data.phys` object format,\n",
    "and must use one the valid alternative names (found in the documentation) for each of the fields so \n",
    "that the code can identify the parameters correctly within the sbpy.data.phys object built by the user.\n",
    "See next example if you're interested in providing your own molecular data.*"
   ]
  },
  {
   "cell_type": "code",
   "execution_count": 51,
   "metadata": {
    "collapsed": true
   },
   "outputs": [],
   "source": [
    "mol_data = Phys.from_jplspec(temp_estimate, transition_freq, mol_tag) # build Phys object"
   ]
  },
  {
   "cell_type": "markdown",
   "metadata": {},
   "source": [
    "*Next, obtain the Einstein Coefficient, and integrated line intensity at a given temperature from the molecular data.\n",
    "These functions stand by themselves, so they are not necessary if the user already has this information with them.\n",
    "Yet, the JPL Molecular Spectroscopy Catalog does not offer this information directly, and it must be calculated\n",
    "from the results of a JPLSpec query. These functions then are useful for users using JPLSpec that do not have\n",
    "these values yet. It is also a possibility the user wants to use JPLSpec for molecular data but already \n",
    "has the Einstein Coefficients, this is also not an issue since the user can just skip the einstein_coeff\n",
    "function and provide their own user-defined Einstein Coefficient by using the [`add_column()`](https://sbpy.readthedocs.io/en/latest/sbpy/data/index.html#introduction) function\n",
    "to append the Einstein Coefficient to the mol_data `phys` object. Same rules apply to the \n",
    "integrated line intensity value.*"
   ]
  },
  {
   "cell_type": "markdown",
   "metadata": {},
   "source": [
    "Calculate integrated line intensity at  `temperature = temp_estimate` and store the value calculated for integrated line intensity in our `mol_data` [Phys](https://sbpy.readthedocs.io/en/latest/sbpy/data/index.html#how-to-use-phys) object, do same for the Einstein Coefficient. Keep in mind that fields can have alternative names that can be used for 'name', see [docs](https://sbpy.readthedocs.io/en/latest/sbpy/data/fieldnames.html) for the list of alternative names:"
   ]
  },
  {
   "cell_type": "code",
   "execution_count": 52,
   "metadata": {
    "collapsed": false
   },
   "outputs": [
    {
     "data": {
      "text/plain": [
       "12"
      ]
     },
     "execution_count": 52,
     "metadata": {},
     "output_type": "execute_result"
    }
   ],
   "source": [
    "intl = intensity_conversion(mol_data) # caculate line intensity\n",
    "\n",
    "mol_data.add_column([intl.value] * intl.unit, name='Integrated line intensity at desired temp') # store value\n",
    "\n",
    "au = einstein_coeff(mol_data) # obtain Einstein Coefficient\n",
    "\n",
    "mol_data.add_column([au.value] * au.unit, name='eincoeff') # store value\n"
   ]
  },
  {
   "cell_type": "markdown",
   "metadata": {},
   "source": [
    "*Since our data file contains 29 different data points of observation times and integrated flux, we can\n",
    "calculate production rates for all of these 29 data points using a python for loop.*"
   ]
  },
  {
   "cell_type": "code",
   "execution_count": 53,
   "metadata": {
    "collapsed": false
   },
   "outputs": [
    {
     "name": "stdout",
     "output_type": "stream",
     "text": [
      "The Resulting Production Rates for HCN in 103P using Drahus et al. 2012 model are:\n",
      " [24.755 24.953 25.02  25.062 25.206 25.182 25.11  25.025 25.116 25.222\n",
      " 25.176 25.274 25.213 24.989 25.152 25.199 25.148 25.025 24.901 24.943\n",
      " 24.83  24.861 24.843 24.788 24.679 24.725 24.968 25.049]\n"
     ]
    }
   ],
   "source": [
    "lte = LTE() # initialize LTE class \n",
    "\n",
    "q_found_hcn = [] # define empty list\n",
    "\n",
    "for i in range(0, 28): \n",
    "\n",
    "    time = Time(hcn['Time'][i], format='iso') # build astropy.Time object\n",
    "    \n",
    "    ephemobj = Ephem.from_horizons(target, epochs=time.jd, id_type='id') # create Ephem object\n",
    "\n",
    "    integrated_flux = hcn['T_B'][i] * u.K * u.km / u.s \n",
    "    \n",
    "    q = lte.from_Drahus(integrated_flux, mol_data, ephemobj, vgas, aper, b=b) # calculate production rate\n",
    "\n",
    "    q = np.log10(q.value)\n",
    "    \n",
    "    q_found_hcn.append(q) # append production rate\n",
    "\n",
    "print(\"The Resulting Production Rates for HCN in {} using Drahus et al. 2012 model are:\\n {}\".format(target, np.round(q_found_hcn,3))) "
   ]
  },
  {
   "cell_type": "markdown",
   "metadata": {},
   "source": [
    "Calculate residuals bteween the data and the production rates obtained"
   ]
  },
  {
   "cell_type": "code",
   "execution_count": 54,
   "metadata": {
    "collapsed": false
   },
   "outputs": [
    {
     "name": "stdout",
     "output_type": "stream",
     "text": [
      "The Residuals between sbpy results and literature are:\n",
      " [0.058 0.058 0.056 0.056 0.056 0.055 0.054 0.047 0.046 0.046 0.045 0.045\n",
      " 0.044 0.043 0.036 0.035 0.035 0.034 0.033 0.033 0.032 0.025 0.024 0.023\n",
      " 0.023 0.022 0.021 0.021]\n"
     ]
    },
    {
     "data": {
      "image/png": "[encoded data removed]",
      "text/plain": [
       "<matplotlib.figure.Figure at 0x11b67bb70>"
      ]
     },
     "metadata": {},
     "output_type": "display_data"
    }
   ],
   "source": [
    "q_pred_hcn = list(hcn['log(Q)']) # literature production rates\n",
    "\n",
    "res_hcn = (np.array(q_pred_hcn)) - (np.array(q_found_hcn)) # calculate residuals\n",
    "\n",
    "print(\"The Residuals between sbpy results and literature are:\\n {}\".format(np.round(res_hcn,3))) \n",
    "\n",
    "z = np.zeros(len(res_hcn)) # create 'zero' line\n",
    "\n",
    "plt.plot(q_pred_hcn, res_hcn, 'o', color='slateblue', label='Residuals') # plot residuals\n",
    "plt.plot(q_pred_hcn, z, 'k', label='Zero Residual Line')\n",
    "plt.xlabel('Log (Q)')\n",
    "plt.ylabel('Residual Value')\n",
    "plt.legend(loc='center right', fontsize='x-small')\n",
    "plt.title('Residual Plot for HCN in {}'.format(target))\n",
    "plt.show()\n"
   ]
  },
  {
   "cell_type": "markdown",
   "metadata": {},
   "source": [
    "LTE `from_Drahus` Second Example (User-defined Data):\n",
    "-------------------------------------------------------------------------------------------------------------"
   ]
  },
  {
   "cell_type": "markdown",
   "metadata": {},
   "source": [
    "*Load the data file containing values for time of observations, integrated flux, \n",
    "and error bars from the literature (Drahus et al. 2012) in order to obtain the \n",
    "information needed for the calculation of our production rates*"
   ]
  },
  {
   "cell_type": "code",
   "execution_count": 55,
   "metadata": {
    "collapsed": false
   },
   "outputs": [],
   "source": [
    "ch3oh = Table.read('data/CH3OH.csv', format=\"ascii.csv\")"
   ]
  },
  {
   "cell_type": "markdown",
   "metadata": {},
   "source": [
    "Model parameters needed, all values are taken directly from the literature (Drahus et al. 2012). See [documentation](https://sbpy.readthedocs.io/en/latest/sbpy/activity/index.html#production-rate-calculations) for more information on the parameter values"
   ]
  },
  {
   "cell_type": "code",
   "execution_count": 56,
   "metadata": {
    "collapsed": true
   },
   "outputs": [],
   "source": [
    "temp_estimate = 47. * u.K \n",
    "\n",
    "target = '103P' \n",
    "\n",
    "vgas = 0.8 * u.km / u.s \n",
    "\n",
    "aper = 30 * u.m  # telescope aperture\n",
    "\n",
    "b = 1.13  # intrinsic antenna value\n",
    "\n",
    "mol_tag = 32003 # JPLSpec unique identifier\n",
    "\n",
    "transition_freq = (157.178987 * u.GHz).to('MHz')\n"
   ]
  },
  {
   "cell_type": "markdown",
   "metadata": {},
   "source": [
    "*In this example we will show how users can define and store their own molecular data in a phys object.\n",
    "See the other two examples for the use of from_jplspec to obtain the molecular data necessary for\n",
    "production rate calculations. For more information on the molecular parameters needed see both `activity.productionrate` [module](https://sbpy.readthedocs.io/en/latest/sbpy/activity/index.html#production-rate-calculations) and `astroquery.jplspec` [module](https://astroquery.readthedocs.io/en/latest/jplspec/jplspec.html) documentation*"
   ]
  },
  {
   "cell_type": "code",
   "execution_count": 57,
   "metadata": {
    "collapsed": false
   },
   "outputs": [],
   "source": [
    "lgint300 = 7.4336139*10**(-5) * u.MHz * u.nm * u.nm # integrated line intensity (300 K)\n",
    "\n",
    "part300 = 9473.271845042498 # partition function (300 K)\n",
    "\n",
    "partition = 308.5479509730844 # paritition function\n",
    "\n",
    "gu = 11.0 # Upper state degeneracy\n",
    "\n",
    "energy_J = 6.61822698*10**(-22) * u.J # Upper level energy\n",
    "\n",
    "elo_J = 5.57674801*10**(-22) * u.J # Lower level energy\n",
    "\n",
    "df = 3 # degrees of freedom\n",
    "\n",
    "quantities = [transition_freq, temp_estimate, lgint300, part300, partition, gu, energy_J,\n",
    "              elo_J, df, mol_tag] # define list\n",
    "\n",
    "names = ('Transition frequency',\n",
    "         'Temperature',\n",
    "         'Integrated line intensity at 300 K',\n",
    "         'Partition function at 300 K',\n",
    "         'Partition function at designated temperature',\n",
    "         'Upper state degeneracy',\n",
    "         'Upper level energy in Joules',\n",
    "         'Lower level energy in Joules',\n",
    "         'Degrees of freedom', 'Molecule Identifier') # define field names\n",
    "\n",
    "mol_data = Phys.from_array(quantities, names) # build the phys object\n"
   ]
  },
  {
   "cell_type": "markdown",
   "metadata": {},
   "source": [
    "Obtaining the Einstein Coefficient, and integrated line intensity at a given temperature from the molecular data,\n",
    "as explained in the first example. The next example will show how to use a user-defined Einstein Coefficient."
   ]
  },
  {
   "cell_type": "code",
   "execution_count": 58,
   "metadata": {
    "collapsed": false
   },
   "outputs": [
    {
     "data": {
      "text/plain": [
       "12"
      ]
     },
     "execution_count": 58,
     "metadata": {},
     "output_type": "execute_result"
    }
   ],
   "source": [
    "intl = intensity_conversion(mol_data) # integrated line intensity\n",
    "\n",
    "mol_data.add_column([intl.value] * intl.unit,\n",
    "                    name='Integrated line intensity at desired temp') # store value\n",
    "\n",
    "au = einstein_coeff(mol_data) # obtain Einstein Coefficient\n",
    "\n",
    "mol_data.add_column([au.value] * au.unit, name='eincoeff') # store value"
   ]
  },
  {
   "cell_type": "code",
   "execution_count": 59,
   "metadata": {
    "collapsed": false
   },
   "outputs": [
    {
     "name": "stdout",
     "output_type": "stream",
     "text": [
      "The Resulting Production Rates for CH3OH in 103P using Drahus et al. 2012 model are:\n",
      " [26.445 26.573 26.563 26.593 26.597 26.491 26.48  26.553 26.504 26.482\n",
      " 26.463 26.423 26.354 26.477 26.349 26.399 26.31  26.325 26.401 26.556]\n"
     ]
    }
   ],
   "source": [
    "lte = LTE() # initialize LTE class\n",
    "\n",
    "q_found_ch3oh = [] # define empty list\n",
    "\n",
    "for i in range(0, 20):\n",
    "\n",
    "    time = Time(ch3oh['Time'][i], format='iso') # build astropy.time object\n",
    "    \n",
    "    integrated_flux = ch3oh['T_B'][i] * u.K * u.km / u.s # integrated flux \n",
    "    \n",
    "    ephemobj = Ephem.from_horizons(target, epochs=time.jd, id_type='id') # create ephem object\n",
    "\n",
    "    q = lte.from_Drahus(integrated_flux, mol_data, ephemobj, vgas, aper, b=b) # calculate production rate\n",
    "\n",
    "    q = np.log10(q.value)\n",
    "\n",
    "    q_found_ch3oh.append(q) # append production rate\n",
    "\n",
    "print(\"The Resulting Production Rates for CH3OH in {} using Drahus et al. 2012 model are:\\n {}\".format(target, np.round(q_found_ch3oh,3))) "
   ]
  },
  {
   "cell_type": "markdown",
   "metadata": {},
   "source": [
    "Calculate the residuals:"
   ]
  },
  {
   "cell_type": "code",
   "execution_count": 60,
   "metadata": {
    "collapsed": false
   },
   "outputs": [
    {
     "name": "stdout",
     "output_type": "stream",
     "text": [
      "The Residuals between sbpy results and literature are:\n",
      " [0.058 0.058 0.056 0.056 0.056 0.055 0.054 0.047 0.046 0.046 0.045 0.045\n",
      " 0.044 0.043 0.036 0.035 0.035 0.034 0.033 0.033 0.032 0.025 0.024 0.023\n",
      " 0.023 0.022 0.021 0.021]\n"
     ]
    },
    {
     "data": {
      "image/png": "[encoded data removed]",
      "text/plain": [
       "<matplotlib.figure.Figure at 0x11b3016d8>"
      ]
     },
     "metadata": {},
     "output_type": "display_data"
    }
   ],
   "source": [
    "q_pred_ch3oh = list(ch3oh['log(Q)']) # literature production rates\n",
    "\n",
    "res_ch3oh = (np.array(q_pred_ch3oh)) - (np.array(q_found_ch3oh)) # residuals\n",
    "\n",
    "print(\"The Residuals between sbpy results and literature are:\\n {}\".format(np.round(res_hcn,3))) \n",
    "\n",
    "z = np.zeros(len(res_ch3oh)) # create 'zero' line\n",
    "\n",
    "plt.plot(q_pred_ch3oh, res_ch3oh, 'o', color='slateblue', label='Residuals') # plot\n",
    "plt.plot(q_pred_ch3oh, z, 'k', label='Zero Residual Line')\n",
    "plt.xlabel('Log (Q)')\n",
    "plt.ylabel('Residual Value')\n",
    "plt.legend(loc='center right', fontsize='x-small')\n",
    "plt.title('Residual Plot for CH3OH in {}'.format(target))\n",
    "plt.show()\n"
   ]
  },
  {
   "cell_type": "markdown",
   "metadata": {},
   "source": [
    "Calculating Production Rate using `sbpy.activity.gas` Haser model\n",
    "===================================\n",
    "____________________________________________________________________________________________________________________\n",
    "\n",
    "Another model included in the module is based off of the model in the following literature:\n",
    "\n",
    "> [Haser 1957, Bulletin de la Societe Royale des Sciences de Liege 43, 740.\n",
    "> Newburn and Johnson 1978, Icarus 35, 360-368.](https://catalog.hathitrust.org/Record/004056063)\n",
    "\n",
    "This model takes in an initial guess for the production rate, and uses the [`sbpy.activity.Haser`](https://sbpy.readthedocs.io/en/latest/api/sbpy.activity.Haser.html#sbpy.activity.Haser) class instance to obtain a final value. The LTE production rate function `from_Haser` obtains a total number of molecules from `sbpy.activity.Haser` based on a first guess of the production rate (this is where `from_Drahus` comes in handy). Then the function takes a total number of molecules given by the user, and uses a ratio relationship to obtain the optimized production rate: \n",
    "\n",
    "$$Q = Q_{guess} \\frac{totalnum_{from \\: user}}{totalnum_{from \\: guess}}$$\n",
    "\n",
    "The user can either define their chosen total number of molecules, or they can calculate it from their data or JPLSpec data using `sbpy.activity.total_number_nocd`, which is a calculation based on **eq. 10** from:\n",
    "\n",
    "> [Bockelee-Morvan et al. 2004, Comets II, University of Arizona Press, Tucson, 745 pp., p.391-423](https://ui.adsabs.harvard.edu/#abs/2004come.book..391B)\n",
    "\n",
    "The literature used for this example is:\n",
    "\n",
    "> [Wierzchos, K. & M. Womack 2018, C/2016 R2 (PANSTARRS): A Comet Rich in CO and Depleted in HCN, AJ, 156:34](https://arxiv.org/pdf/1805.06918.pdf)\n",
    "\n",
    "____________________________________________________________________________________________________________________"
   ]
  },
  {
   "cell_type": "markdown",
   "metadata": {},
   "source": [
    "*Load the data file containing values for time of observations, integrated flux, \n",
    "and error bars from the literature (Wierzchos and Womack 2018) in order to obtain the \n",
    "information needed for the calculation of our production rates*"
   ]
  },
  {
   "cell_type": "code",
   "execution_count": 61,
   "metadata": {
    "collapsed": false
   },
   "outputs": [],
   "source": [
    "co = Table.read(('data/CO.csv'), format=\"ascii.csv\")"
   ]
  },
  {
   "cell_type": "markdown",
   "metadata": {},
   "source": [
    "*Model parameters needed, all values are taken directly from the literature.\n",
    "In this example the molecule identifier will be inputted as a regular expression. \n",
    "Regular expressions for mol_tag can be used but the user must be careful not to provide\n",
    "an ambiguous regular expression. One good thing to remember is that anything between symbols '^' and '\\\\$'\n",
    "will be matched exactly, therefore you can avoid an ambiguity error by writing your molecule name as such:\n",
    "'^name\\\\$'. A perfect example of this is with the molecule in this example 'CO', simply writing mol_tag = 'CO'\n",
    "will produce an ambiguity error because it will match CO, CO2, etc. therefore, it is necessary to \n",
    "restrict our molecule name regex to '^CO\\\\$' as presented below.*"
   ]
  },
  {
   "cell_type": "code",
   "execution_count": 62,
   "metadata": {
    "collapsed": true
   },
   "outputs": [],
   "source": [
    "transition_freq = (230.538 * u.GHz).to('MHz')\n",
    "\n",
    "aper = 10 * u.m # aperture\n",
    "\n",
    "mol_tag = '^CO$' # regex molecule identifier\n",
    "\n",
    "temp_estimate = 25. * u.K \n",
    "\n",
    "vgas = 0.5 * u.km / u.s\n",
    "\n",
    "target = 'C/2016 R2'\n",
    "\n",
    "b = 0.74 # intrinsic antenna value"
   ]
  },
  {
   "cell_type": "markdown",
   "metadata": {},
   "source": [
    "Obtaining molecular data from the JPL Molecular Spectroscopy Catalog using `sbpy.data.phys`. \n",
    "See documentation for a detailed breakdown of the resulting object and the values stored in the object."
   ]
  },
  {
   "cell_type": "code",
   "execution_count": 63,
   "metadata": {
    "collapsed": false
   },
   "outputs": [
    {
     "data": {
      "text/plain": [
       "11"
      ]
     },
     "execution_count": 63,
     "metadata": {},
     "output_type": "execute_result"
    }
   ],
   "source": [
    "mol_data = Phys.from_jplspec(temp_estimate, transition_freq, mol_tag) # molecular data from JPLSpec\n",
    "\n",
    "intl = intensity_conversion(mol_data) # calculate line intensity\n",
    "\n",
    "mol_data.add_column([intl.value] * intl.unit,\n",
    "                    name='Integrated line intensity at desired temp') # store value"
   ]
  },
  {
   "cell_type": "markdown",
   "metadata": {},
   "source": [
    "*Obtaining the Einstein Coefficient. In this example, we will obtain our Einstein Coefficient from\n",
    "LAMDA catalog and append it to our molecular data Phys object. In the previous exammples we have been calculating it through sbpy/JPLSpec. It is possible that your transition frequency values may not exactly match the LAMDA catalog to the 4th significant figure, especially if you're using JPLSpec. Therefore, we recommend when using this method\n",
    "that you match your transition frequency with the LAMDA value over the JPLSpec value, since from_jplspec is\n",
    "designed to pick the closest transition frequency within a range of 1 GHz, whereas LAMDA will expect the\n",
    "exact value found in their catalog.*"
   ]
  },
  {
   "cell_type": "code",
   "execution_count": 64,
   "metadata": {
    "collapsed": false
   },
   "outputs": [
    {
     "data": {
      "text/plain": [
       "12"
      ]
     },
     "execution_count": 64,
     "metadata": {},
     "output_type": "execute_result"
    }
   ],
   "source": [
    "from astroquery.lamda import Lamda\n",
    "\n",
    "mol_name = 'CO' # LAMDA molecule name\n",
    "\n",
    "lam_search = Lamda.query(mol=mol_name.lower()) # LAMDA Query\n",
    "\n",
    "lam_result = lam_search[1] # outputs CO table\n",
    "\n",
    "lam_found = lam_result[lam_result['Frequency'] == transition_freq.to('GHz').value] # parse results at frequency\n",
    "\n",
    "au_cat = lam_found['EinsteinA'] # get Einstein Coefficient\n",
    "\n",
    "au_cat = au_cat.data[0] # get value of coefficient\n",
    "\n",
    "au = au_cat / u.s # define the unit\n",
    "\n",
    "mol_data.add_column([au.value] * au.unit, name='eincoeff') # store einstein coefficient"
   ]
  },
  {
   "cell_type": "markdown",
   "metadata": {},
   "source": [
    "Initialize the `spby.activity.Haser` model in order to perform our production rate calculations. \n",
    "`Q_estimate` first guess for the production rate was obtained running `from_Drahus` for the same data set before doing this example"
   ]
  },
  {
   "cell_type": "code",
   "execution_count": 65,
   "metadata": {
    "collapsed": true
   },
   "outputs": [],
   "source": [
    "Q_estimate = 3.594*10**(28) / u.s \n",
    "\n",
    "parent = photo_timescale('CO') * vgas # parent photodissociation rate\n",
    "\n",
    "coma = Haser(Q_estimate, vgas, parent) # initializing the model with an estimate "
   ]
  },
  {
   "cell_type": "markdown",
   "metadata": {},
   "source": [
    "*Since our data file contains 6 different data points of observation times and integrated flux, we can\n",
    "calculate production rates for all of these 6 data points using a python for loop.*\n",
    "\n",
    "*The `beta_factor` function is only necessary if the user will be using the `total_number_nocd` function, if \n",
    "the user chooses to define their total number of molecules by any other means, or calculate it by any other \n",
    "means then the `beta_factor` is not a necessary calculation. In order to understand how to user-define the \n",
    "total number, refer to previous sections in which user-defined values are appended to the `mol_data` phys object.*\n",
    "\n",
    "**IMPORTANT: Because we are using a for loop, and some of the values that should be appended to the `mol_data`\n",
    "phys object are calculated within the loop itself, we must initialize our columns within the phys object\n",
    "BEFORE performing the loop. This is because you cannot iteratively redefine the same column of data within a \n",
    "phys object, but you CAN change the value of an already defined column as many times as you want.\n",
    "Since our 'beta' and 'total number' values vary with every iteration,\n",
    "and since our production rate needs both these values within the loop, we must simply change the value of our\n",
    "already defined columns for beta and total number everytime we iterate. Keep in mind when you initialize\n",
    "the column you must initialize it with the correct units and correct type (float, int, str)**"
   ]
  },
  {
   "cell_type": "code",
   "execution_count": 66,
   "metadata": {
    "collapsed": false
   },
   "outputs": [
    {
     "name": "stdout",
     "output_type": "stream",
     "text": [
      "The Resulting Production Rates for CO in C/2016 R2 using Haser model are:\n",
      " [27.979 28.01  27.968 27.983 27.961]\n"
     ]
    }
   ],
   "source": [
    "mol_data.add_column([1.] * u.AU * u.AU * u.s, name='beta') # initialize beta column\n",
    "mol_data.add_column([1.], name='total_number_nocd') # initialize total number column\n",
    "\n",
    "q_found_co = [] # define empty list\n",
    "\n",
    "lte = LTE() # initialize LTE class\n",
    "\n",
    "for i in range(0, 5):\n",
    "\n",
    "    time = Time(co['Time'][i], format='iso')\n",
    "    \n",
    "    integrated_flux = co['T_B'][i] * u.K * u.km / u.s\n",
    "    \n",
    "    ephemobj = Ephem.from_horizons(target, epochs=time.jd)\n",
    "    \n",
    "    beta = beta_factor(mol_data, ephemobj) # calculate beta factor\n",
    "    \n",
    "    mol_data['beta'] = beta # redefine column value for beta\n",
    "    \n",
    "    tnum = total_number_nocd(integrated_flux, mol_data, aper, b) # calculate total number\n",
    "\n",
    "    mol_data['total_number_nocd'] = tnum # redefine column value for total number\n",
    "\n",
    "    Q = lte.from_Haser(coma, mol_data, aper=aper) # calculate production rate\n",
    "\n",
    "    q_found_co.append(np.log10(Q.value)[0]) # append production rate\n",
    "\n",
    "print(\"The Resulting Production Rates for CO in {} using Haser model are:\\n {}\".format(target, np.round(q_found_co,3))) "
   ]
  },
  {
   "cell_type": "markdown",
   "metadata": {},
   "source": [
    "Calculate residuals:"
   ]
  },
  {
   "cell_type": "code",
   "execution_count": 67,
   "metadata": {
    "collapsed": false
   },
   "outputs": [
    {
     "name": "stdout",
     "output_type": "stream",
     "text": [
      "The Residuals between sbpy results and literature are:\n",
      " [0.664 0.653 0.695 0.68  0.702]\n"
     ]
    },
    {
     "data": {
      "image/png": "[encoded data removed]",
      "text/plain": [
       "<matplotlib.figure.Figure at 0x11b040828>"
      ]
     },
     "metadata": {},
     "output_type": "display_data"
    }
   ],
   "source": [
    "q_pred_co = list(co['log(Q)']) # literature production rates\n",
    "\n",
    "res_co = (np.array(q_pred_co)) - (np.array(q_found_co)) # residuals\n",
    "\n",
    "print(\"The Residuals between sbpy results and literature are:\\n {}\".format(np.round(res_co,3))) \n",
    "\n",
    "z = np.zeros(len(res_co)) # create 'zero' line\n",
    "\n",
    "plt.plot(q_pred_co, res_co, 'o', color='slateblue', label='Residuals') # plot\n",
    "plt.plot(q_pred_co, z, 'k', label='Zero Residual Line')\n",
    "plt.xlabel('Log (Q)')\n",
    "plt.ylabel('Residual Value')\n",
    "plt.legend(loc='center right', fontsize='x-small')\n",
    "plt.title('Residual Plot for CO in {}'.format(target))\n",
    "plt.xticks(np.arange(min(q_pred_co), max(q_pred_co)+0.003, 0.02))\n",
    "plt.show()\n"
   ]
  },
  {
   "cell_type": "markdown",
   "metadata": {},
   "source": [
    "Helpful Links\n",
    "=======\n",
    "___________________________________________\n",
    "\n",
    "- [LAMDA Queries with astroquery](https://astroquery.readthedocs.io/en/latest/lamda/lamda.html)\n",
    "- [JPLSpec Queries with astroquery](https://astroquery.readthedocs.io/en/latest/jplspec/jplspec.html)\n",
    "- [sbpy Activity Haser Class](https://sbpy.readthedocs.io/en/latest/api/sbpy.activity.Haser.html#sbpy.activity.Haser)\n",
    "- [sbpy Ephem data class](https://sbpy.readthedocs.io/en/latest/sbpy/data/index.html#how-to-use-ephem)\n",
    "- [sbpy Phys data class](https://sbpy.readthedocs.io/en/latest/sbpy/data/index.html#how-to-use-phys)\n",
    "- [sbpy data class alternative field names](https://sbpy.readthedocs.io/en/latest/sbpy/data/fieldnames.html#list-of-alternative-field-names)\n",
    "- [sbpy citation (please cite our work)](http://joss.theoj.org/papers/10.21105/joss.01426)"
   ]
  },
  {
   "cell_type": "code",
   "execution_count": null,
   "metadata": {
    "collapsed": true
   },
   "outputs": [],
   "source": []
  }
 ],
 "metadata": {
  "kernelspec": {
   "display_name": "Python 3",
   "language": "python",
   "name": "python3"
  },
  "language_info": {
   "codemirror_mode": {
    "name": "ipython",
    "version": 3
   },
   "file_extension": ".py",
   "mimetype": "text/x-python",
   "name": "python",
   "nbconvert_exporter": "python",
   "pygments_lexer": "ipython3",
   "version": "3.6.0"
  }
 },
 "nbformat": 4,
 "nbformat_minor": 2
}
