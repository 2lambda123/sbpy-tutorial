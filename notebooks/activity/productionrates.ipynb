{
 "cells": [
  {
   "cell_type": "code",
   "execution_count": 2,
   "metadata": {
    "collapsed": true
   },
   "outputs": [],
   "source": [
    "import numpy as np"
   ]
  },
  {
   "cell_type": "code",
   "execution_count": 3,
   "metadata": {
    "collapsed": true
   },
   "outputs": [],
   "source": [
    "import astropy.units as u"
   ]
  },
  {
   "cell_type": "code",
   "execution_count": 4,
   "metadata": {
    "collapsed": true
   },
   "outputs": [],
   "source": [
    "from astropy.time import Time"
   ]
  },
  {
   "cell_type": "code",
   "execution_count": 5,
   "metadata": {
    "collapsed": true
   },
   "outputs": [],
   "source": [
    "from astropy.table import Table"
   ]
  },
  {
   "cell_type": "code",
   "execution_count": 6,
   "metadata": {
    "collapsed": false,
    "scrolled": true
   },
   "outputs": [],
   "source": [
    "from sbpy.data import Ephem, Phys"
   ]
  },
  {
   "cell_type": "code",
   "execution_count": 7,
   "metadata": {
    "collapsed": true
   },
   "outputs": [],
   "source": [
    "from sbpy.activity import Haser, LTE, photo_timescale, einstein_coeff, intensity_conversion, beta_factor, total_number_nocd"
   ]
  },
  {
   "cell_type": "markdown",
   "metadata": {},
   "source": [
    "Production Rate without Photolysis\n",
    "--------------------------------\n",
    "\n",
    "`sbpy.spectroscopy` provides several models to calculate production rates in comets. One of the models followed by this module is based on the following paper:\n",
    "\n",
    "Drahus et al. September 2012. The Sources of HCN and CH3OH and the\n",
    "Rotational Temperature in Comet 103P/Hartley 2 from Time-resolved\n",
    "Millimeter Spectroscopy. The Astrophysical Journal, Volume 756,\n",
    "Issue 1.\n",
    "\n",
    "This model does not include photolysis effects. For more information on the parameters that are optional or needed for the module look at the documentation. This extemely simplified model is useful to calculate first guesses for more computationally intensive Non-LTE models or for LTE Haser models that include photolysis effects.\n",
    "\n",
    "The following examples test this simple version of the production rate calculation and they are based on data from the existing literature listed above."
   ]
  },
  {
   "cell_type": "code",
   "execution_count": 8,
   "metadata": {
    "collapsed": false
   },
   "outputs": [
    {
     "name": "stdout",
     "output_type": "stream",
     "text": [
      "[24.755 24.953 25.02  25.062 25.206 25.182 25.11  25.025 25.116 25.222\n",
      " 25.176 25.274 25.213 24.989 25.152 25.199 25.148 25.025 24.901 24.943\n",
      " 24.83  24.861 24.843 24.788 24.679 24.725 24.968 25.049]\n"
     ]
    }
   ],
   "source": [
    "hcn = Table.read('data/HCN.csv', format=\"ascii.csv\")\n",
    "\n",
    "temp_estimate = 47. * u.K\n",
    "target = '103P'\n",
    "vgas = 0.8 * u.km / u.s\n",
    "aper = 30 * u.m  # The aperture for telescope used (Drahus et al. 2012)\n",
    "b = 1.13  # Value taken from (Drahus et al. 2012)\n",
    "mol_tag = 27001\n",
    "transition_freq = (265.886434 * u.GHz).to('MHz')\n",
    "q_found_hcn = []\n",
    "mol_data = Phys.from_jplspec(temp_estimate, transition_freq, mol_tag)\n",
    "intl = intensity_conversion(mol_data)\n",
    "mol_data.add_column([intl.value] * intl.unit,\n",
    "                    name='Integrated line intensity at desired temp')\n",
    "au = einstein_coeff(mol_data)\n",
    "mol_data.add_column([au.value] * au.unit, name='eincoeff')\n",
    "\n",
    "for i in range(0, 28):\n",
    "\n",
    "    time = Time(hcn['Time'][i], format='iso')\n",
    "    integrated_flux = hcn['T_B'][i] * u.K * u.km / u.s\n",
    "    ephemobj = Ephem.from_horizons(target, epochs=time.jd, id_type='id')\n",
    "\n",
    "    lte = LTE()\n",
    "\n",
    "    q = lte.from_Drahus(integrated_flux, mol_data, ephemobj, vgas, aper, b=b)\n",
    "\n",
    "    q = np.log10(q.value)\n",
    "\n",
    "    q_found_hcn.append(q)\n",
    "\n",
    "print(np.round(q_found_hcn,3))"
   ]
  },
  {
   "cell_type": "code",
   "execution_count": 9,
   "metadata": {
    "collapsed": false
   },
   "outputs": [
    {
     "name": "stdout",
     "output_type": "stream",
     "text": [
      "[0.234 0.231 0.223 0.223 0.22  0.216 0.216 0.186 0.184 0.182 0.18  0.178\n",
      " 0.175 0.171 0.142 0.138 0.138 0.135 0.133 0.133 0.13  0.1   0.096 0.093\n",
      " 0.091 0.088 0.085 0.082]\n"
     ]
    }
   ],
   "source": [
    "# calculate error from data\n",
    "q_pred_hcn = list(hcn['log(Q)']) \n",
    "err_hcn = abs((np.array(q_pred_hcn) - (np.array(q_found_hcn))) / np.array(q_pred_hcn) * 100)\n",
    "print(np.round(err_hcn,3))"
   ]
  },
  {
   "cell_type": "code",
   "execution_count": 10,
   "metadata": {
    "collapsed": false
   },
   "outputs": [
    {
     "name": "stdout",
     "output_type": "stream",
     "text": [
      "[26.445 26.573 26.563 26.593 26.597 26.491 26.48  26.553 26.504 26.482\n",
      " 26.463 26.423 26.354 26.477 26.349 26.399 26.31  26.325 26.401 26.556]\n"
     ]
    }
   ],
   "source": [
    "ch3oh = Table.read('data/CH3OH.csv', format=\"ascii.csv\")\n",
    "temp_estimate = 47. * u.K\n",
    "target = '103P'\n",
    "vgas = 0.8 * u.km / u.s\n",
    "aper = 30 * u.m  # The aperture for telescope used (Drahus et al. 2012)\n",
    "b = 1.13  # Value taken from (Drahus et al. 2012)\n",
    "mol_tag = 32003\n",
    "transition_freq = (157.178987 * u.GHz).to('MHz')\n",
    "q_found_ch3oh = []\n",
    "mol_data = Phys.from_jplspec(temp_estimate, transition_freq, mol_tag)\n",
    "intl = intensity_conversion(mol_data)\n",
    "mol_data.add_column([intl.value] * intl.unit,\n",
    "                    name='Integrated line intensity at desired temp')\n",
    "au = einstein_coeff(mol_data)\n",
    "mol_data.add_column([au.value] * au.unit, name='eincoeff')\n",
    "\n",
    "for i in range(0, 20):\n",
    "\n",
    "    time = Time(ch3oh['Time'][i], format='iso')\n",
    "    integrated_flux = ch3oh['T_B'][i] * u.K * u.km / u.s\n",
    "    ephemobj = Ephem.from_horizons(target, epochs=time.jd, id_type='id')\n",
    "\n",
    "    lte = LTE()\n",
    "\n",
    "    q = lte.from_Drahus(integrated_flux, mol_data, ephemobj, vgas, aper, b=b)\n",
    "\n",
    "    q = np.log10(q.value)\n",
    "\n",
    "    q_found_ch3oh.append(q)   \n",
    "\n",
    "print(np.round(q_found_ch3oh,3))"
   ]
  },
  {
   "cell_type": "code",
   "execution_count": 11,
   "metadata": {
    "collapsed": false
   },
   "outputs": [
    {
     "name": "stdout",
     "output_type": "stream",
     "text": [
      "[0.334 0.34  0.338 0.331 0.331 0.329 0.302 0.3   0.302 0.291 0.293 0.291\n",
      " 0.296 0.257 0.268 0.257 0.247 0.263 0.25  0.252]\n"
     ]
    }
   ],
   "source": [
    "# calculate error from data\n",
    "q_pred_ch3oh = list(ch3oh['log(Q)']) \n",
    "err_ch3oh = abs((np.array(q_pred_ch3oh) - (np.array(q_found_ch3oh))) / np.array(q_pred_ch3oh) * 100)\n",
    "print(np.round(err_ch3oh,3))"
   ]
  },
  {
   "cell_type": "markdown",
   "metadata": {},
   "source": [
    "Calculating Production Rate using `sbpy.activity.gas` Haser model\n",
    "-------------------------------------------------------------\n",
    "\n",
    "Another model included in the module is based off of the model in the following literature:\n",
    "\n",
    "Haser 1957, Bulletin de la Societe Royale des Sciences de Liege 43, 740.\n",
    "Newburn and Johnson 1978, Icarus 35, 360-368.\n",
    "\n",
    "This model takes in an initial guess for the production rate, and uses the Haser module found in sbpy.activity.gas to find a ratio between the model model total number of molecules and the number of molecules calculated from the data to scale the model Q and output the new production rate from the result. This model does account for the effects of photolysis."
   ]
  },
  {
   "cell_type": "code",
   "execution_count": 12,
   "metadata": {
    "collapsed": false
   },
   "outputs": [
    {
     "name": "stdout",
     "output_type": "stream",
     "text": [
      "[27.971 28.002 27.96  27.975 27.953]\n"
     ]
    }
   ],
   "source": [
    "\n",
    "co = Table.read(('data/CO.csv'), format=\"ascii.csv\")\n",
    "\n",
    "Q_estimate = 2.8*10**(28) / u.s\n",
    "transition_freq = (230.53799 * u.GHz).to('MHz')\n",
    "aper = 10 * u.m\n",
    "mol_tag = 28001\n",
    "temp_estimate = 25. * u.K\n",
    "vgas = 0.5 * u.km / u.s\n",
    "target = 'C/2016 R2'\n",
    "b = 0.74\n",
    "mol_data = Phys.from_jplspec(temp_estimate, transition_freq, mol_tag)\n",
    "intl = intensity_conversion(mol_data)\n",
    "mol_data.add_column([intl.value] * intl.unit,\n",
    "                    name='Integrated line intensity at desired temp')\n",
    "au = einstein_coeff(mol_data)\n",
    "mol_data.add_column([au.value] * au.unit, name='eincoeff')\n",
    "mol_data.add_column([1.] * u.AU * u.AU * u.s, name='beta')\n",
    "mol_data.add_column([1.], name='total_number_nocd')\n",
    "\n",
    "q_found_co = []\n",
    "\n",
    "parent = photo_timescale('CO') * vgas\n",
    "coma = Haser(Q_estimate, vgas, parent)\n",
    "\n",
    "for i in range(0, 5):\n",
    "\n",
    "    time = Time(co['Time'][i], format='iso')\n",
    "    integrated_flux = co['T_B'][i] * u.K * u.km / u.s\n",
    "    ephemobj = Ephem.from_horizons(target, epochs=time.jd)\n",
    "    beta = beta_factor(mol_data, ephemobj)\n",
    "    mol_data['beta'] = beta\n",
    "    tnum = total_number_nocd(integrated_flux, mol_data, aper, b)\n",
    "\n",
    "    mol_data['total_number_nocd'] = tnum\n",
    "\n",
    "    lte = LTE()\n",
    "\n",
    "    Q = lte.from_Haser(coma, mol_data, aper=aper)\n",
    "\n",
    "    q_found_co.append(np.log10(Q.value)[0])\n",
    "\n",
    "print(np.round(q_found_co, 3))"
   ]
  },
  {
   "cell_type": "code",
   "execution_count": 13,
   "metadata": {
    "collapsed": false
   },
   "outputs": [
    {
     "name": "stdout",
     "output_type": "stream",
     "text": [
      "[2.347 2.305 2.453 2.4   2.476]\n"
     ]
    }
   ],
   "source": [
    "# calculate percent difference between data and literature\n",
    "q_pred_co = list(co['log(Q)']) \n",
    "err_co = abs((np.array(q_pred_co) - (np.array(q_found_co))) / np.array(q_pred_co) * 100)\n",
    "print(np.round(err_co,3))"
   ]
  }
 ],
 "metadata": {
  "kernelspec": {
   "display_name": "Python 3",
   "language": "python",
   "name": "python3"
  },
  "language_info": {
   "codemirror_mode": {
    "name": "ipython",
    "version": 3
   },
   "file_extension": ".py",
   "mimetype": "text/x-python",
   "name": "python",
   "nbconvert_exporter": "python",
   "pygments_lexer": "ipython3",
   "version": "3.6.0"
  }
 },
 "nbformat": 4,
 "nbformat_minor": 2
}
