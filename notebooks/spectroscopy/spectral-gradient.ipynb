{
 "cells": [
  {
   "cell_type": "markdown",
   "metadata": {},
   "source": [
    "# Spectral Gradient\n",
    "\n",
    "In this exercise, we will measure the spectral gradient of a comet nucleus.  The data set is comet 322P/SOHO as measured by Knight et al. (2016, ApJ 823, L6).\n",
    "\n",
    "## Data\n",
    "\n",
    "Knight et al. observed 322P with the FORS2 instrument on VLT, with the *g_High*, *R_special*, and *i_Bessel* filters.  The data were calibrated to the SDSS photometric system (Smith et al. 2002, BAAS 34, 1272), resulting in *g'-r'* and *r'-i'* colors.\n",
    "\n",
    "## Top-level imports\n",
    "\n",
    "We need astropy's ``units``, and the `SpectralGradient` class from sbpy.  The SDSS filter bandpasses are distributed with sbpy, and retrievable via `bandpass`.  We will also use sbpy's solar spectrum."
   ]
  },
  {
   "cell_type": "code",
   "execution_count": 1,
   "metadata": {},
   "outputs": [],
   "source": [
    "import astropy.units as u\n",
    "from sbpy.spectroscopy import SpectralGradient\n",
    "from sbpy.photometry import bandpass\n",
    "from sbpy.calib import Sun"
   ]
  },
  {
   "cell_type": "markdown",
   "metadata": {},
   "source": [
    "## Define input data\n",
    "\n",
    "SDSS uses the AB-magnitude system:"
   ]
  },
  {
   "cell_type": "code",
   "execution_count": 2,
   "metadata": {},
   "outputs": [],
   "source": [
    "g = bandpass('SDSS g')\n",
    "r = bandpass('SDSS r')\n",
    "i = bandpass('SDSS i')\n",
    "\n",
    "gmr = 0.52 * u.mag  # ±0.04\n",
    "rmi = 0.03 * u.mag  # ±0.06"
   ]
  },
  {
   "cell_type": "markdown",
   "metadata": {},
   "source": [
    "## Ratio with the Sun\n",
    "\n",
    "`SpectralGradient` requires observations in units of reflectance, i.e., the spectrum of the Sun must be removed.  Calculate the color of the Sun in the same units as the SDSS photometric system (AB magnitudes)."
   ]
  },
  {
   "cell_type": "code",
   "execution_count": 3,
   "metadata": {},
   "outputs": [
    {
     "name": "stdout",
     "output_type": "stream",
     "text": [
      "Sun(g'-r') = 0.48 mag\n",
      "Sun(r'-i') = 0.11 mag\n"
     ]
    }
   ],
   "source": [
    "sun = Sun.from_default()\n",
    "\n",
    "lambda_eff, color = sun.color_index((g, r), u.ABmag)\n",
    "print(\"Sun(g'-r') = {:.2f}\".format(color))\n",
    "gmr = gmr - color\n",
    "\n",
    "lambda_eff, color = sun.color_index((r, i), u.ABmag)\n",
    "print(\"Sun(r'-i') = {:.2f}\".format(color))\n",
    "rmi = rmi - color"
   ]
  },
  {
   "cell_type": "markdown",
   "metadata": {},
   "source": [
    "## Calculate spectral gradient"
   ]
  },
  {
   "cell_type": "code",
   "execution_count": 4,
   "metadata": {},
   "outputs": [
    {
     "name": "stdout",
     "output_type": "stream",
     "text": [
      "g'-r' = 0.04 mag → S(g'-r') = 2.6 % / 100 nm\n",
      "r'-i' = -0.08 mag → S(r'-i') = -5.4 % / 100 nm\n"
     ]
    }
   ],
   "source": [
    "for label, filters, color in ((\"g'-r'\", (g, r), gmr), (\"r'-i'\", (r, i), rmi)):\n",
    "    S = SpectralGradient.from_color(filters, color)\n",
    "    print(\"{} = {:.2f} → S({}) = {:.1f}\".format(label, color, label, S))"
   ]
  }
 ],
 "metadata": {
  "kernelspec": {
   "display_name": "Python 3",
   "language": "python",
   "name": "python3"
  },
  "language_info": {
   "codemirror_mode": {
    "name": "ipython",
    "version": 3
   },
   "file_extension": ".py",
   "mimetype": "text/x-python",
   "name": "python",
   "nbconvert_exporter": "python",
   "pygments_lexer": "ipython3",
   "version": "3.6.8"
  }
 },
 "nbformat": 4,
 "nbformat_minor": 2
}
