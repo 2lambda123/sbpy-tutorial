{
 "cells": [
  {
   "cell_type": "markdown",
   "metadata": {},
   "source": [
    "Using sbpy.data.Names\n",
    "==========="
   ]
  },
  {
   "cell_type": "markdown",
   "metadata": {},
   "source": [
    "[sbpy.data.Names](https://sbpy.readthedocs.io/en/latest/api/sbpy.data.Names.html#sbpy.data.Names) provides functionality to parse asteroid and comet names, numbers, and designations and to identify an object's nature (asteroid or comet) based on the provided identifier."
   ]
  },
  {
   "cell_type": "markdown",
   "metadata": {},
   "source": [
    "Parsing asteroid and comet names\n",
    "--------------------------------\n",
    "\n",
    "Imagine you get data from somebody else, involving a somewhat random list of targets like the following two:"
   ]
  },
  {
   "cell_type": "code",
   "execution_count": 10,
   "metadata": {},
   "outputs": [],
   "source": [
    "asteroids = ['3200 Phaethon', '2018 AA', '(433)', '1036 Ganymed (1924 TD)', 'K14J00D']\n",
    "comets = ['2P/Encke', '259P', '73P/Schwassmann Wachmann 3 C', 'X/1106 C1', 'P/1994 N2 (McNaught-Hartley)']"
   ]
  },
  {
   "cell_type": "markdown",
   "metadata": {},
   "source": [
    "Dealing with a target list like this might be complicated, since different formats are involved. For instance, the list cannot easily matched with another target list, as it is not straightforward to know whether target names, numbers, or designations are used. [sbpy.data.Names.parse_asteroid](https://sbpy.readthedocs.io/en/latest/api/sbpy.data.Names.html#sbpy.data.Names.parse_asteroid) and [sbpy.data.Names.parse_comet](https://sbpy.readthedocs.io/en/latest/api/sbpy.data.Names.html#sbpy.data.Names.parse_comet) can be used to classify and disentangle these identifiers:"
   ]
  },
  {
   "cell_type": "code",
   "execution_count": 11,
   "metadata": {},
   "outputs": [
    {
     "name": "stdout",
     "output_type": "stream",
     "text": [
      "3200 Phaethon -> {'number': 3200, 'name': 'Phaethon'}\n",
      "2018 AA -> {'desig': '2018 AA'}\n",
      "(433) -> {'number': 433}\n",
      "1036 Ganymed (1924 TD) -> {'number': 1036, 'name': 'Ganymed', 'desig': '1924 TD'}\n",
      "K14J00D -> {'desig': '2014 JD'}\n",
      "2P/Encke -> {'type': 'P', 'number': 2, 'name': 'Encke'}\n",
      "259P -> {'type': 'P', 'number': 259}\n",
      "73P/Schwassmann Wachmann 3 C -> {'type': 'P', 'number': 73, 'name': 'Schwassmann Wachmann 3 C'}\n",
      "X/1106 C1 -> {'type': 'X', 'desig': '1106 C1'}\n",
      "P/1994 N2 (McNaught-Hartley) -> {'type': 'P', 'desig': '1994 N2', 'name': 'McNaught-Hartley'}\n"
     ]
    }
   ],
   "source": [
    "from sbpy.data import Names\n",
    "\n",
    "for asteroid in asteroids:\n",
    "    print(asteroid, '->', Names.parse_asteroid(asteroid))\n",
    "    \n",
    "for comet in comets:\n",
    "    print(comet, '->', Names.parse_comet(comet))\n",
    "    "
   ]
  },
  {
   "cell_type": "markdown",
   "metadata": {},
   "source": [
    "Each function dissects the identifier string provided and tries to find patterns that match those of names, numbers, and designations using regular expressions. The output of each function is a dictionary with the found patterns. Note that packed designations and numbers are un-packed. \n",
    "\n",
    "If [sbpy.data.Names.parse_asteroid](https://sbpy.readthedocs.io/en/latest/api/sbpy.data.Names.html#sbpy.data.Names.parse_asteroid) is applied to a comet identifier (and vice versa), a `TargetNameParseError` is raised:"
   ]
  },
  {
   "cell_type": "code",
   "execution_count": 13,
   "metadata": {},
   "outputs": [
    {
     "ename": "TargetNameParseError",
     "evalue": "2P/Encke does not appear to be an asteroid identifier",
     "output_type": "error",
     "traceback": [
      "\u001b[0;31m---------------------------------------------------------------------------\u001b[0m",
      "\u001b[0;31mTargetNameParseError\u001b[0m                      Traceback (most recent call last)",
      "\u001b[0;32m<ipython-input-13-ee992f80da7f>\u001b[0m in \u001b[0;36m<module>\u001b[0;34m()\u001b[0m\n\u001b[0;32m----> 1\u001b[0;31m \u001b[0mNames\u001b[0m\u001b[0;34m.\u001b[0m\u001b[0mparse_asteroid\u001b[0m\u001b[0;34m(\u001b[0m\u001b[0mcomets\u001b[0m\u001b[0;34m[\u001b[0m\u001b[0;36m0\u001b[0m\u001b[0;34m]\u001b[0m\u001b[0;34m)\u001b[0m\u001b[0;34m\u001b[0m\u001b[0m\n\u001b[0m",
      "\u001b[0;32m~/lowell/software/sbpy/sbpy/data/names.py\u001b[0m in \u001b[0;36mparse_asteroid\u001b[0;34m(s)\u001b[0m\n\u001b[1;32m    381\u001b[0m         \u001b[0;32mif\u001b[0m \u001b[0mlen\u001b[0m\u001b[0;34m(\u001b[0m\u001b[0mrej\u001b[0m\u001b[0;34m)\u001b[0m \u001b[0;34m>\u001b[0m \u001b[0;36m0\u001b[0m\u001b[0;34m:\u001b[0m\u001b[0;34m\u001b[0m\u001b[0m\n\u001b[1;32m    382\u001b[0m             raise TargetNameParseError('{} does not appear to be an '\n\u001b[0;32m--> 383\u001b[0;31m                                        'asteroid identifier'.format(s))\n\u001b[0m\u001b[1;32m    384\u001b[0m \u001b[0;34m\u001b[0m\u001b[0m\n\u001b[1;32m    385\u001b[0m         \u001b[0;31m# match target patterns\u001b[0m\u001b[0;34m\u001b[0m\u001b[0;34m\u001b[0m\u001b[0m\n",
      "\u001b[0;31mTargetNameParseError\u001b[0m: 2P/Encke does not appear to be an asteroid identifier"
     ]
    }
   ],
   "source": [
    "Names.parse_asteroid(comets[0])"
   ]
  },
  {
   "cell_type": "markdown",
   "metadata": {},
   "source": [
    "Distinguishing between asteroid and comet identifiers\n",
    "--------------------------------------------"
   ]
  },
  {
   "cell_type": "markdown",
   "metadata": {},
   "source": [
    "[sbpy.data.Names.asteroid_or_comet](https://sbpy.readthedocs.io/en/latest/api/sbpy.data.Names.html#sbpy.data.Names.asteroid_or_comet) can be used to identify asteroid and comet identifiers:"
   ]
  },
  {
   "cell_type": "code",
   "execution_count": 16,
   "metadata": {},
   "outputs": [
    {
     "name": "stdout",
     "output_type": "stream",
     "text": [
      "3200 Phaethon -> asteroid\n",
      "2018 AA -> asteroid\n",
      "(433) -> asteroid\n",
      "1036 Ganymed (1924 TD) -> asteroid\n",
      "K14J00D -> asteroid\n",
      "2P/Encke -> comet\n",
      "259P -> comet\n",
      "73P/Schwassmann Wachmann 3 C -> comet\n",
      "X/1106 C1 -> comet\n",
      "P/1994 N2 (McNaught-Hartley) -> comet\n"
     ]
    }
   ],
   "source": [
    "for obj in asteroids + comets:\n",
    "    print(obj, '->', Names.asteroid_or_comet(obj))"
   ]
  },
  {
   "cell_type": "markdown",
   "metadata": {},
   "source": [
    "If the object identifier is ambiguous or does not match a pattern associated with asteroid or comet identifiers, `None` is returned:"
   ]
  },
  {
   "cell_type": "code",
   "execution_count": 22,
   "metadata": {},
   "outputs": [
    {
     "name": "stdout",
     "output_type": "stream",
     "text": [
      "None\n"
     ]
    }
   ],
   "source": [
    "print(Names.asteroid_or_comet('Spam Spam Eggs and Spam'))"
   ]
  },
  {
   "cell_type": "markdown",
   "metadata": {},
   "source": [
    "Limitations\n",
    "------------"
   ]
  },
  {
   "cell_type": "markdown",
   "metadata": {},
   "source": [
    "Keep in mind that neither of the methods in [sbpy.data.Names](https://sbpy.readthedocs.io/en/latest/api/sbpy.data.Names.html) knows anything about the objects associated with the object identifier; there is no database query being performed. All information the methods use come from the provided identifier...."
   ]
  },
  {
   "cell_type": "code",
   "execution_count": null,
   "metadata": {},
   "outputs": [],
   "source": []
  }
 ],
 "metadata": {
  "kernelspec": {
   "display_name": "Python 3",
   "language": "python",
   "name": "python3"
  },
  "language_info": {
   "codemirror_mode": {
    "name": "ipython",
    "version": 3
   },
   "file_extension": ".py",
   "mimetype": "text/x-python",
   "name": "python",
   "nbconvert_exporter": "python",
   "pygments_lexer": "ipython3",
   "version": "3.6.4"
  }
 },
 "nbformat": 4,
 "nbformat_minor": 2
}
