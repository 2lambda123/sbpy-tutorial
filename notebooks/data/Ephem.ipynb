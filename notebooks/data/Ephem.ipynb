{
 "cells": [
  {
   "cell_type": "markdown",
   "metadata": {},
   "source": [
    "sbpy.data.Ephem Example Notebooks\n",
    "=================================\n",
    "\n",
    "[Ephem](https://sbpy.readthedocs.io/en/latest/api/sbpy.data.Ephem.html#sbpy.data.Ephem) provides functionality to query, calculate, manipulate, and store ephemerides and observational information."
   ]
  },
  {
   "cell_type": "markdown",
   "metadata": {},
   "source": [
    "Querying Asteroid Ephemerides from JPL Horizons\n",
    "---------------------------------------\n",
    "\n",
    "Query ephemerides for three asteroids in a given date range as observed from Maunakea (observatory code 568) using [sbpy.data.Ephem.from_horizons](https://sbpy.readthedocs.io/en/latest/api/sbpy.data.Ephem.html#sbpy.data.Ephem.from_horizons). This function uses [astroquery.jplhorizons](https://astroquery.readthedocs.io/en/latest/jplhorizons/jplhorizons.html) in the background and create Ephem objects from the query results:"
   ]
  },
  {
   "cell_type": "code",
   "execution_count": 1,
   "metadata": {},
   "outputs": [
    {
     "name": "stdout",
     "output_type": "stream",
     "text": [
      "       targetname           datetime_str   ...  PABLon   PABLat \n",
      "                                           ...   deg      deg   \n",
      "------------------------ ----------------- ... -------- --------\n",
      "2100 Ra-Shalom (1978 RA) 2018-Jan-01 00:00 ... 305.4411   7.5319\n",
      "2100 Ra-Shalom (1978 RA) 2018-Jan-01 01:00 ...  305.475   7.5269\n",
      "2100 Ra-Shalom (1978 RA) 2018-Jan-01 02:00 ...  305.509    7.522\n",
      "2100 Ra-Shalom (1978 RA) 2018-Jan-01 03:00 ... 305.5431    7.517\n",
      "2100 Ra-Shalom (1978 RA) 2018-Jan-01 04:00 ... 305.5771   7.5121\n",
      "2100 Ra-Shalom (1978 RA) 2018-Jan-01 05:00 ... 305.6111   7.5071\n",
      "2100 Ra-Shalom (1978 RA) 2018-Jan-01 06:00 ... 305.6452   7.5022\n",
      "2100 Ra-Shalom (1978 RA) 2018-Jan-01 07:00 ... 305.6793   7.4972\n",
      "2100 Ra-Shalom (1978 RA) 2018-Jan-01 08:00 ... 305.7135   7.4922\n",
      "2100 Ra-Shalom (1978 RA) 2018-Jan-01 09:00 ... 305.7476   7.4872\n",
      "                     ...               ... ...      ...      ...\n",
      "  1036 Ganymed (1924 TD) 2018-Jan-31 15:00 ...  173.719 -22.4957\n",
      "  1036 Ganymed (1924 TD) 2018-Jan-31 16:00 ... 173.7182 -22.4962\n",
      "  1036 Ganymed (1924 TD) 2018-Jan-31 17:00 ... 173.7174 -22.4966\n",
      "  1036 Ganymed (1924 TD) 2018-Jan-31 18:00 ... 173.7166 -22.4971\n",
      "  1036 Ganymed (1924 TD) 2018-Jan-31 19:00 ... 173.7159 -22.4975\n",
      "  1036 Ganymed (1924 TD) 2018-Jan-31 20:00 ... 173.7151 -22.4979\n",
      "  1036 Ganymed (1924 TD) 2018-Jan-31 21:00 ... 173.7144 -22.4983\n",
      "  1036 Ganymed (1924 TD) 2018-Jan-31 22:00 ... 173.7137 -22.4987\n",
      "  1036 Ganymed (1924 TD) 2018-Jan-31 23:00 ...  173.713 -22.4991\n",
      "  1036 Ganymed (1924 TD) 2018-Feb-01 00:00 ... 173.7123 -22.4995\n",
      "Length = 2235 rows\n"
     ]
    }
   ],
   "source": [
    "from sbpy.data import Ephem\n",
    "\n",
    "targets = ['2100', '2018 RC1', 'Ganymed']\n",
    "eph = Ephem.from_horizons(targets, location=568, \n",
    "                          epochs={'start': '2018-01-01', 'stop': '2018-02-01', 'step':'1h'})\n",
    "\n",
    "print(eph.table)"
   ]
  },
  {
   "cell_type": "markdown",
   "metadata": {},
   "source": [
    "Querying Satellite Ephemerides from JPL Horizons (and other ambiguous queries)\n",
    "------------------------------------------------\n",
    "\n",
    "Query ephemerides for satellite `'GOES-1'` for a number of epochs as observed from Magdalena Ridge Observatory (observatory code `'H01'`):"
   ]
  },
  {
   "cell_type": "code",
   "execution_count": 2,
   "metadata": {},
   "outputs": [
    {
     "ename": "ValueError",
     "evalue": "Unknown target (GOES-1). Maybe try different id_type?",
     "output_type": "error",
     "traceback": [
      "\u001b[0;31m---------------------------------------------------------------------------\u001b[0m",
      "\u001b[0;31mValueError\u001b[0m                                Traceback (most recent call last)",
      "\u001b[0;32m<ipython-input-2-1ba28b531e1c>\u001b[0m in \u001b[0;36m<module>\u001b[0;34m()\u001b[0m\n\u001b[0;32m----> 1\u001b[0;31m \u001b[0meph\u001b[0m \u001b[0;34m=\u001b[0m \u001b[0mEphem\u001b[0m\u001b[0;34m.\u001b[0m\u001b[0mfrom_horizons\u001b[0m\u001b[0;34m(\u001b[0m\u001b[0;34m'GOES-1'\u001b[0m\u001b[0;34m,\u001b[0m \u001b[0mepochs\u001b[0m\u001b[0;34m=\u001b[0m\u001b[0;34m[\u001b[0m\u001b[0;36m2453452.123245\u001b[0m\u001b[0;34m,\u001b[0m \u001b[0;36m2453453.34342\u001b[0m\u001b[0;34m,\u001b[0m \u001b[0;36m2453454.342342\u001b[0m\u001b[0;34m]\u001b[0m\u001b[0;34m)\u001b[0m\u001b[0;34m\u001b[0m\u001b[0m\n\u001b[0m",
      "\u001b[0;32m~/lowell/software/sbpy/sbpy/data/ephem.py\u001b[0m in \u001b[0;36mfrom_horizons\u001b[0;34m(cls, targetids, id_type, epochs, location, **kwargs)\u001b[0m\n\u001b[1;32m    106\u001b[0m             obj = Horizons(id=targetid, id_type=id_type,\n\u001b[1;32m    107\u001b[0m                            location=location, epochs=epochs)\n\u001b[0;32m--> 108\u001b[0;31m             \u001b[0meph\u001b[0m \u001b[0;34m=\u001b[0m \u001b[0mobj\u001b[0m\u001b[0;34m.\u001b[0m\u001b[0mephemerides\u001b[0m\u001b[0;34m(\u001b[0m\u001b[0;34m**\u001b[0m\u001b[0mkwargs\u001b[0m\u001b[0;34m)\u001b[0m\u001b[0;34m\u001b[0m\u001b[0m\n\u001b[0m\u001b[1;32m    109\u001b[0m \u001b[0;34m\u001b[0m\u001b[0m\n\u001b[1;32m    110\u001b[0m             \u001b[0;31m# workaround for current version of astroquery to make\u001b[0m\u001b[0;34m\u001b[0m\u001b[0;34m\u001b[0m\u001b[0m\n",
      "\u001b[0;32m~/software/anaconda3/lib/python3.6/site-packages/astroquery/utils/class_or_instance.py\u001b[0m in \u001b[0;36mf\u001b[0;34m(*args, **kwds)\u001b[0m\n\u001b[1;32m     23\u001b[0m         \u001b[0;32mdef\u001b[0m \u001b[0mf\u001b[0m\u001b[0;34m(\u001b[0m\u001b[0;34m*\u001b[0m\u001b[0margs\u001b[0m\u001b[0;34m,\u001b[0m \u001b[0;34m**\u001b[0m\u001b[0mkwds\u001b[0m\u001b[0;34m)\u001b[0m\u001b[0;34m:\u001b[0m\u001b[0;34m\u001b[0m\u001b[0m\n\u001b[1;32m     24\u001b[0m             \u001b[0;32mif\u001b[0m \u001b[0mobj\u001b[0m \u001b[0;32mis\u001b[0m \u001b[0;32mnot\u001b[0m \u001b[0;32mNone\u001b[0m\u001b[0;34m:\u001b[0m\u001b[0;34m\u001b[0m\u001b[0m\n\u001b[0;32m---> 25\u001b[0;31m                 \u001b[0;32mreturn\u001b[0m \u001b[0mself\u001b[0m\u001b[0;34m.\u001b[0m\u001b[0mfn\u001b[0m\u001b[0;34m(\u001b[0m\u001b[0mobj\u001b[0m\u001b[0;34m,\u001b[0m \u001b[0;34m*\u001b[0m\u001b[0margs\u001b[0m\u001b[0;34m,\u001b[0m \u001b[0;34m**\u001b[0m\u001b[0mkwds\u001b[0m\u001b[0;34m)\u001b[0m\u001b[0;34m\u001b[0m\u001b[0m\n\u001b[0m\u001b[1;32m     26\u001b[0m             \u001b[0;32melse\u001b[0m\u001b[0;34m:\u001b[0m\u001b[0;34m\u001b[0m\u001b[0m\n\u001b[1;32m     27\u001b[0m                 \u001b[0;32mreturn\u001b[0m \u001b[0mself\u001b[0m\u001b[0;34m.\u001b[0m\u001b[0mfn\u001b[0m\u001b[0;34m(\u001b[0m\u001b[0mcls\u001b[0m\u001b[0;34m,\u001b[0m \u001b[0;34m*\u001b[0m\u001b[0margs\u001b[0m\u001b[0;34m,\u001b[0m \u001b[0;34m**\u001b[0m\u001b[0mkwds\u001b[0m\u001b[0;34m)\u001b[0m\u001b[0;34m\u001b[0m\u001b[0m\n",
      "\u001b[0;32m~/software/anaconda3/lib/python3.6/site-packages/astroquery/utils/process_asyncs.py\u001b[0m in \u001b[0;36mnewmethod\u001b[0;34m(self, *args, **kwargs)\u001b[0m\n\u001b[1;32m     27\u001b[0m             \u001b[0;32mif\u001b[0m \u001b[0mkwargs\u001b[0m\u001b[0;34m.\u001b[0m\u001b[0mget\u001b[0m\u001b[0;34m(\u001b[0m\u001b[0;34m'get_query_payload'\u001b[0m\u001b[0;34m)\u001b[0m \u001b[0;32mor\u001b[0m \u001b[0mkwargs\u001b[0m\u001b[0;34m.\u001b[0m\u001b[0mget\u001b[0m\u001b[0;34m(\u001b[0m\u001b[0;34m'field_help'\u001b[0m\u001b[0;34m)\u001b[0m\u001b[0;34m:\u001b[0m\u001b[0;34m\u001b[0m\u001b[0m\n\u001b[1;32m     28\u001b[0m                 \u001b[0;32mreturn\u001b[0m \u001b[0mresponse\u001b[0m\u001b[0;34m\u001b[0m\u001b[0m\n\u001b[0;32m---> 29\u001b[0;31m             \u001b[0mresult\u001b[0m \u001b[0;34m=\u001b[0m \u001b[0mself\u001b[0m\u001b[0;34m.\u001b[0m\u001b[0m_parse_result\u001b[0m\u001b[0;34m(\u001b[0m\u001b[0mresponse\u001b[0m\u001b[0;34m,\u001b[0m \u001b[0mverbose\u001b[0m\u001b[0;34m=\u001b[0m\u001b[0mverbose\u001b[0m\u001b[0;34m)\u001b[0m\u001b[0;34m\u001b[0m\u001b[0m\n\u001b[0m\u001b[1;32m     30\u001b[0m             \u001b[0mself\u001b[0m\u001b[0;34m.\u001b[0m\u001b[0mtable\u001b[0m \u001b[0;34m=\u001b[0m \u001b[0mresult\u001b[0m\u001b[0;34m\u001b[0m\u001b[0m\n\u001b[1;32m     31\u001b[0m             \u001b[0;32mreturn\u001b[0m \u001b[0mresult\u001b[0m\u001b[0;34m\u001b[0m\u001b[0m\n",
      "\u001b[0;32m~/software/anaconda3/lib/python3.6/site-packages/astroquery/jplhorizons/core.py\u001b[0m in \u001b[0;36m_parse_result\u001b[0;34m(self, response, verbose)\u001b[0m\n\u001b[1;32m   1221\u001b[0m             \u001b[0;32mreturn\u001b[0m \u001b[0;32mNone\u001b[0m\u001b[0;34m\u001b[0m\u001b[0m\n\u001b[1;32m   1222\u001b[0m         \u001b[0;32melse\u001b[0m\u001b[0;34m:\u001b[0m\u001b[0;34m\u001b[0m\u001b[0m\n\u001b[0;32m-> 1223\u001b[0;31m             \u001b[0mdata\u001b[0m \u001b[0;34m=\u001b[0m \u001b[0mself\u001b[0m\u001b[0;34m.\u001b[0m\u001b[0m_parse_horizons\u001b[0m\u001b[0;34m(\u001b[0m\u001b[0mresponse\u001b[0m\u001b[0;34m.\u001b[0m\u001b[0mtext\u001b[0m\u001b[0;34m)\u001b[0m\u001b[0;34m\u001b[0m\u001b[0m\n\u001b[0m\u001b[1;32m   1224\u001b[0m \u001b[0;34m\u001b[0m\u001b[0m\n\u001b[1;32m   1225\u001b[0m         \u001b[0;32mreturn\u001b[0m \u001b[0mdata\u001b[0m\u001b[0;34m\u001b[0m\u001b[0m\n",
      "\u001b[0;32m~/software/anaconda3/lib/python3.6/site-packages/astroquery/jplhorizons/core.py\u001b[0m in \u001b[0;36m_parse_horizons\u001b[0;34m(self, src)\u001b[0m\n\u001b[1;32m   1096\u001b[0m                     \"No matches found\" in src[idx + 1]):\n\u001b[1;32m   1097\u001b[0m                 raise ValueError(('Unknown target ({:s}). Maybe try '\n\u001b[0;32m-> 1098\u001b[0;31m                                   'different id_type?').format(self.id))\n\u001b[0m\u001b[1;32m   1099\u001b[0m             \u001b[0;31m# catch any unavailability of ephemeris data\u001b[0m\u001b[0;34m\u001b[0m\u001b[0;34m\u001b[0m\u001b[0m\n\u001b[1;32m   1100\u001b[0m             \u001b[0;32mif\u001b[0m \u001b[0;34m\"No ephemeris for target\"\u001b[0m \u001b[0;32min\u001b[0m \u001b[0mline\u001b[0m\u001b[0;34m:\u001b[0m\u001b[0;34m\u001b[0m\u001b[0m\n",
      "\u001b[0;31mValueError\u001b[0m: Unknown target (GOES-1). Maybe try different id_type?"
     ]
    }
   ],
   "source": [
    "eph = Ephem.from_horizons('GOES-1', epochs=[2453452.123245, 2453453.34342, 2453454.342342])"
   ]
  },
  {
   "cell_type": "markdown",
   "metadata": {},
   "source": [
    "This function call raises a `ValueError`. The reason for this error is that astroquery.jplhorizons assumes that the provided target string is a small body. However, GOES-1 is an artifical satellite. As suggested in the provided error message, we need to specificy an `id_type` that is different from the default value (`'smallbody'`). Since sbpy.data.Ephem.from_horizons builds upon astroquery.jplhorizons, we can provide optional parameters for the latter directly to the former. According to the [JPL Horizons documentation](https://ssd.jpl.nasa.gov/?horizons_doc#selection), spacecraft are grouped together with major body, so let's try:"
   ]
  },
  {
   "cell_type": "code",
   "execution_count": 3,
   "metadata": {},
   "outputs": [
    {
     "ename": "ValueError",
     "evalue": "Ambiguous target name; provide unique id:\n  ID#      Name                               Designation  IAU/aliases/other   \n  -------  ---------------------------------- -----------  ------------------- \n  -108366  GOES-1 (spacecraft)                                                  \n  -135491  GOES-14 (spacecraft)                                                 \n ",
     "output_type": "error",
     "traceback": [
      "\u001b[0;31m---------------------------------------------------------------------------\u001b[0m",
      "\u001b[0;31mValueError\u001b[0m                                Traceback (most recent call last)",
      "\u001b[0;32m<ipython-input-3-fb48caa09d4c>\u001b[0m in \u001b[0;36m<module>\u001b[0;34m()\u001b[0m\n\u001b[0;32m----> 1\u001b[0;31m \u001b[0meph\u001b[0m \u001b[0;34m=\u001b[0m \u001b[0mEphem\u001b[0m\u001b[0;34m.\u001b[0m\u001b[0mfrom_horizons\u001b[0m\u001b[0;34m(\u001b[0m\u001b[0;34m'GOES-1'\u001b[0m\u001b[0;34m,\u001b[0m \u001b[0mid_type\u001b[0m\u001b[0;34m=\u001b[0m\u001b[0;34m'majorbody'\u001b[0m\u001b[0;34m,\u001b[0m \u001b[0mepochs\u001b[0m\u001b[0;34m=\u001b[0m\u001b[0;34m[\u001b[0m\u001b[0;36m2453452.123245\u001b[0m\u001b[0;34m,\u001b[0m \u001b[0;36m2453453.34342\u001b[0m\u001b[0;34m,\u001b[0m \u001b[0;36m2453454.342342\u001b[0m\u001b[0;34m]\u001b[0m\u001b[0;34m)\u001b[0m\u001b[0;34m\u001b[0m\u001b[0m\n\u001b[0m",
      "\u001b[0;32m~/lowell/software/sbpy/sbpy/data/ephem.py\u001b[0m in \u001b[0;36mfrom_horizons\u001b[0;34m(cls, targetids, id_type, epochs, location, **kwargs)\u001b[0m\n\u001b[1;32m    106\u001b[0m             obj = Horizons(id=targetid, id_type=id_type,\n\u001b[1;32m    107\u001b[0m                            location=location, epochs=epochs)\n\u001b[0;32m--> 108\u001b[0;31m             \u001b[0meph\u001b[0m \u001b[0;34m=\u001b[0m \u001b[0mobj\u001b[0m\u001b[0;34m.\u001b[0m\u001b[0mephemerides\u001b[0m\u001b[0;34m(\u001b[0m\u001b[0;34m**\u001b[0m\u001b[0mkwargs\u001b[0m\u001b[0;34m)\u001b[0m\u001b[0;34m\u001b[0m\u001b[0m\n\u001b[0m\u001b[1;32m    109\u001b[0m \u001b[0;34m\u001b[0m\u001b[0m\n\u001b[1;32m    110\u001b[0m             \u001b[0;31m# workaround for current version of astroquery to make\u001b[0m\u001b[0;34m\u001b[0m\u001b[0;34m\u001b[0m\u001b[0m\n",
      "\u001b[0;32m~/software/anaconda3/lib/python3.6/site-packages/astroquery/utils/class_or_instance.py\u001b[0m in \u001b[0;36mf\u001b[0;34m(*args, **kwds)\u001b[0m\n\u001b[1;32m     23\u001b[0m         \u001b[0;32mdef\u001b[0m \u001b[0mf\u001b[0m\u001b[0;34m(\u001b[0m\u001b[0;34m*\u001b[0m\u001b[0margs\u001b[0m\u001b[0;34m,\u001b[0m \u001b[0;34m**\u001b[0m\u001b[0mkwds\u001b[0m\u001b[0;34m)\u001b[0m\u001b[0;34m:\u001b[0m\u001b[0;34m\u001b[0m\u001b[0m\n\u001b[1;32m     24\u001b[0m             \u001b[0;32mif\u001b[0m \u001b[0mobj\u001b[0m \u001b[0;32mis\u001b[0m \u001b[0;32mnot\u001b[0m \u001b[0;32mNone\u001b[0m\u001b[0;34m:\u001b[0m\u001b[0;34m\u001b[0m\u001b[0m\n\u001b[0;32m---> 25\u001b[0;31m                 \u001b[0;32mreturn\u001b[0m \u001b[0mself\u001b[0m\u001b[0;34m.\u001b[0m\u001b[0mfn\u001b[0m\u001b[0;34m(\u001b[0m\u001b[0mobj\u001b[0m\u001b[0;34m,\u001b[0m \u001b[0;34m*\u001b[0m\u001b[0margs\u001b[0m\u001b[0;34m,\u001b[0m \u001b[0;34m**\u001b[0m\u001b[0mkwds\u001b[0m\u001b[0;34m)\u001b[0m\u001b[0;34m\u001b[0m\u001b[0m\n\u001b[0m\u001b[1;32m     26\u001b[0m             \u001b[0;32melse\u001b[0m\u001b[0;34m:\u001b[0m\u001b[0;34m\u001b[0m\u001b[0m\n\u001b[1;32m     27\u001b[0m                 \u001b[0;32mreturn\u001b[0m \u001b[0mself\u001b[0m\u001b[0;34m.\u001b[0m\u001b[0mfn\u001b[0m\u001b[0;34m(\u001b[0m\u001b[0mcls\u001b[0m\u001b[0;34m,\u001b[0m \u001b[0;34m*\u001b[0m\u001b[0margs\u001b[0m\u001b[0;34m,\u001b[0m \u001b[0;34m**\u001b[0m\u001b[0mkwds\u001b[0m\u001b[0;34m)\u001b[0m\u001b[0;34m\u001b[0m\u001b[0m\n",
      "\u001b[0;32m~/software/anaconda3/lib/python3.6/site-packages/astroquery/utils/process_asyncs.py\u001b[0m in \u001b[0;36mnewmethod\u001b[0;34m(self, *args, **kwargs)\u001b[0m\n\u001b[1;32m     27\u001b[0m             \u001b[0;32mif\u001b[0m \u001b[0mkwargs\u001b[0m\u001b[0;34m.\u001b[0m\u001b[0mget\u001b[0m\u001b[0;34m(\u001b[0m\u001b[0;34m'get_query_payload'\u001b[0m\u001b[0;34m)\u001b[0m \u001b[0;32mor\u001b[0m \u001b[0mkwargs\u001b[0m\u001b[0;34m.\u001b[0m\u001b[0mget\u001b[0m\u001b[0;34m(\u001b[0m\u001b[0;34m'field_help'\u001b[0m\u001b[0;34m)\u001b[0m\u001b[0;34m:\u001b[0m\u001b[0;34m\u001b[0m\u001b[0m\n\u001b[1;32m     28\u001b[0m                 \u001b[0;32mreturn\u001b[0m \u001b[0mresponse\u001b[0m\u001b[0;34m\u001b[0m\u001b[0m\n\u001b[0;32m---> 29\u001b[0;31m             \u001b[0mresult\u001b[0m \u001b[0;34m=\u001b[0m \u001b[0mself\u001b[0m\u001b[0;34m.\u001b[0m\u001b[0m_parse_result\u001b[0m\u001b[0;34m(\u001b[0m\u001b[0mresponse\u001b[0m\u001b[0;34m,\u001b[0m \u001b[0mverbose\u001b[0m\u001b[0;34m=\u001b[0m\u001b[0mverbose\u001b[0m\u001b[0;34m)\u001b[0m\u001b[0;34m\u001b[0m\u001b[0m\n\u001b[0m\u001b[1;32m     30\u001b[0m             \u001b[0mself\u001b[0m\u001b[0;34m.\u001b[0m\u001b[0mtable\u001b[0m \u001b[0;34m=\u001b[0m \u001b[0mresult\u001b[0m\u001b[0;34m\u001b[0m\u001b[0m\n\u001b[1;32m     31\u001b[0m             \u001b[0;32mreturn\u001b[0m \u001b[0mresult\u001b[0m\u001b[0;34m\u001b[0m\u001b[0m\n",
      "\u001b[0;32m~/software/anaconda3/lib/python3.6/site-packages/astroquery/jplhorizons/core.py\u001b[0m in \u001b[0;36m_parse_result\u001b[0;34m(self, response, verbose)\u001b[0m\n\u001b[1;32m   1221\u001b[0m             \u001b[0;32mreturn\u001b[0m \u001b[0;32mNone\u001b[0m\u001b[0;34m\u001b[0m\u001b[0m\n\u001b[1;32m   1222\u001b[0m         \u001b[0;32melse\u001b[0m\u001b[0;34m:\u001b[0m\u001b[0;34m\u001b[0m\u001b[0m\n\u001b[0;32m-> 1223\u001b[0;31m             \u001b[0mdata\u001b[0m \u001b[0;34m=\u001b[0m \u001b[0mself\u001b[0m\u001b[0;34m.\u001b[0m\u001b[0m_parse_horizons\u001b[0m\u001b[0;34m(\u001b[0m\u001b[0mresponse\u001b[0m\u001b[0;34m.\u001b[0m\u001b[0mtext\u001b[0m\u001b[0;34m)\u001b[0m\u001b[0;34m\u001b[0m\u001b[0m\n\u001b[0m\u001b[1;32m   1224\u001b[0m \u001b[0;34m\u001b[0m\u001b[0m\n\u001b[1;32m   1225\u001b[0m         \u001b[0;32mreturn\u001b[0m \u001b[0mdata\u001b[0m\u001b[0;34m\u001b[0m\u001b[0m\n",
      "\u001b[0;32m~/software/anaconda3/lib/python3.6/site-packages/astroquery/jplhorizons/core.py\u001b[0m in \u001b[0;36m_parse_horizons\u001b[0;34m(self, src)\u001b[0m\n\u001b[1;32m   1091\u001b[0m                 raise ValueError(('Ambiguous target name; provide '\n\u001b[1;32m   1092\u001b[0m                                   \u001b[0;34m'unique id:\\n%s'\u001b[0m \u001b[0;34m%\u001b[0m\u001b[0;34m\u001b[0m\u001b[0m\n\u001b[0;32m-> 1093\u001b[0;31m                                   '\\n'.join(src[idx + 2:end_idx])))\n\u001b[0m\u001b[1;32m   1094\u001b[0m             \u001b[0;31m# catch unknown target\u001b[0m\u001b[0;34m\u001b[0m\u001b[0;34m\u001b[0m\u001b[0m\n\u001b[1;32m   1095\u001b[0m             if (\"Matching small-bodies\" in line and\n",
      "\u001b[0;31mValueError\u001b[0m: Ambiguous target name; provide unique id:\n  ID#      Name                               Designation  IAU/aliases/other   \n  -------  ---------------------------------- -----------  ------------------- \n  -108366  GOES-1 (spacecraft)                                                  \n  -135491  GOES-14 (spacecraft)                                                 \n "
     ]
    }
   ],
   "source": [
    "eph = Ephem.from_horizons('GOES-1', id_type='majorbody', epochs=[2453452.123245, 2453453.34342, 2453454.342342])"
   ]
  },
  {
   "cell_type": "markdown",
   "metadata": {},
   "source": [
    "Another error. This time, the error referes to the target name being ambiguous and provides a list of objects in the database that match the search string. We pick `GOES-1` and use the unique id provided for this object (note that in this case we have to use `id_type='id'`):"
   ]
  },
  {
   "cell_type": "code",
   "execution_count": 4,
   "metadata": {},
   "outputs": [
    {
     "name": "stdout",
     "output_type": "stream",
     "text": [
      "          targetname                datetime_str       ...  PABLon   PABLat \n",
      "                                                       ...   deg      deg   \n",
      "----------------------------- ------------------------ ... -------- --------\n",
      "GOES-1 (spacecraft) (-108366) 2005-Mar-22 14:57:28.368 ... 236.6495   7.1011\n",
      "GOES-1 (spacecraft) (-108366) 2005-Mar-23 20:14:31.488 ...  97.7863 -11.5368\n",
      "GOES-1 (spacecraft) (-108366) 2005-Mar-24 20:12:58.349 ...  98.5263 -12.7094\n"
     ]
    }
   ],
   "source": [
    "eph = Ephem.from_horizons('-108366', id_type='id', epochs=[2453452.123245, 2453453.34342, 2453454.342342])\n",
    "print(eph.table)"
   ]
  },
  {
   "cell_type": "markdown",
   "metadata": {},
   "source": [
    "Using Ephem objects\n",
    "-------------------\n",
    "\n",
    "... please refer to [this notebook](https://github.com/NASA-Planetary-Science/sbpy-tutorial/blob/master/notebooks/data/General_concepts.ipynb) for some examples."
   ]
  },
  {
   "cell_type": "markdown",
   "metadata": {},
   "source": [
    "Computing Ephemerides with OpenOrb\n",
    "-------------------------------\n",
    "\n",
    "`sbpy.data.Ephem.from_oo` provides a way to compute ephemerides from an [sbpy.data.Orbit](https://github.com/NASA-Planetary-Science/sbpy-tutorial/blob/master/notebooks/data/General_concepts.ipynb) object. This function requires [pyoorb](https://github.com/oorb/oorb/tree/master/python) to be installed.\n",
    "\n",
    "Due to a slight complication, it is currently not possible to run `from_oo` in a jupyter notebook. We are working on this problem.\n",
    "\n",
    "However, you can use the following code snippet on your computer locally to compute ephemerides for a number of orbits that were obtained from the JPL Horizons system as observed from he Discovery Channel Telescope (observatory code `'G37'`):"
   ]
  },
  {
   "cell_type": "code",
   "execution_count": 5,
   "metadata": {},
   "outputs": [],
   "source": [
    "from sbpy.data import Ephem, Orbit\n",
    "from astropy.time import Time\n",
    "from numpy import arange\n",
    "\n",
    "orbits = Orbit.from_horizons(['12893', '3552', '2018 RC3'])\n",
    "epochs = Time.now().jd + arange(0, 30, 1/24)\n",
    "\n",
    "eph = Ephem.from_oo(orbits, epochs, location='G37')"
   ]
  },
  {
   "cell_type": "markdown",
   "metadata": {},
   "source": [
    "If `pyoorb` is installed properly, this code snippet will not lead to the error message shown here."
   ]
  }
 ],
 "metadata": {
  "kernelspec": {
   "display_name": "Python 3",
   "language": "python",
   "name": "python3"
  },
  "language_info": {
   "codemirror_mode": {
    "name": "ipython",
    "version": 3
   },
   "file_extension": ".py",
   "mimetype": "text/x-python",
   "name": "python",
   "nbconvert_exporter": "python",
   "pygments_lexer": "ipython3",
   "version": "3.6.4"
  }
 },
 "nbformat": 4,
 "nbformat_minor": 2
}
