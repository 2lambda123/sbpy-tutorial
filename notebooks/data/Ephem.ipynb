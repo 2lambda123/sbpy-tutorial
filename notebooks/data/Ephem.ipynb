{
 "cells": [
  {
   "cell_type": "markdown",
   "metadata": {},
   "source": [
    "sbpy.data.Ephem Example Notebooks\n",
    "=================================\n",
    "\n",
    "[Ephem](https://sbpy.readthedocs.io/en/latest/api/sbpy.data.Ephem.html#sbpy.data.Ephem) provides functionality to query, calculate, manipulate, and store ephemerides and observational information."
   ]
  },
  {
   "cell_type": "markdown",
   "metadata": {},
   "source": [
    "Querying Asteroid Ephemerides from JPL Horizons\n",
    "---------------------------------------\n",
    "\n",
    "Query ephemerides for three asteroids in a given date range as observed from Maunakea (observatory code 568) using [sbpy.data.Ephem.from_horizons](https://sbpy.readthedocs.io/en/latest/api/sbpy.data.Ephem.html#sbpy.data.Ephem.from_horizons). This function uses [astroquery.jplhorizons](https://astroquery.readthedocs.io/en/latest/jplhorizons/jplhorizons.html) in the background and creates Ephem objects from the query results:"
   ]
  },
  {
   "cell_type": "code",
   "execution_count": 1,
   "metadata": {},
   "outputs": [
    {
     "data": {
      "text/html": [
       "<i>QTable masked=True length=2235</i>\n",
       "<table id=\"table139636110260376\" class=\"table-striped table-bordered table-condensed\">\n",
       "<thead><tr><th>targetname</th><th>datetime_str</th><th>datetime_jd</th><th>H</th><th>G</th><th>solar_presence</th><th>flags</th><th>RA</th><th>DEC</th><th>RA_app</th><th>DEC_app</th><th>RA_rate</th><th>DEC_rate</th><th>AZ</th><th>EL</th><th>AZ_rate</th><th>EL_rate</th><th>sat_X</th><th>sat_Y</th><th>sat_PANG</th><th>siderealtime</th><th>airmass</th><th>magextinct</th><th>V</th><th>surfbright</th><th>illumination</th><th>illum_defect</th><th>sat_sep</th><th>sat_vis</th><th>ang_width</th><th>PDObsLon</th><th>PDObsLat</th><th>PDSunLon</th><th>PDSunLat</th><th>SubSol_ang</th><th>SubSol_dist</th><th>NPole_ang</th><th>NPole_dist</th><th>EclLon</th><th>EclLat</th><th>r</th><th>r_rate</th><th>delta</th><th>delta_rate</th><th>lighttime</th><th>vel_sun</th><th>vel_obs</th><th>elong</th><th>elongFlag</th><th>alpha</th><th>lunar_elong</th><th>lunar_illum</th><th>sat_alpha</th><th>sunTargetPA</th><th>velocityPA</th><th>OrbPlaneAng</th><th>constellation</th><th>TDB-UT</th><th>ObsEclLon</th><th>ObsEclLat</th><th>NPole_RA</th><th>NPole_DEC</th><th>GlxLon</th><th>GlxLat</th><th>solartime</th><th>earth_lighttime</th><th>RA_3sigma</th><th>DEC_3sigma</th><th>SMAA_3sigma</th><th>SMIA_3sigma</th><th>Theta_3sigma</th><th>Area_3sigma</th><th>RSS_3sigma</th><th>r_3sigma</th><th>r_rate_3sigma</th><th>SBand_3sigma</th><th>XBand_3sigma</th><th>DoppDelay_3sigma</th><th>true_anom</th><th>hour_angle</th><th>alpha_true</th><th>PABLon</th><th>PABLat</th><th>timescale</th></tr></thead>\n",
       "<thead><tr><th></th><th></th><th>d</th><th>mag</th><th></th><th></th><th></th><th>deg</th><th>deg</th><th>deg</th><th>deg</th><th>arcsec / h</th><th>arcsec / h</th><th>deg</th><th>deg</th><th>arcsec / min</th><th>arcsec / min</th><th>arcsec</th><th>arcsec</th><th>deg</th><th></th><th></th><th>mag</th><th>mag</th><th>mag / arcsec2</th><th>%</th><th>arcsec</th><th>arcsec</th><th></th><th>arcsec</th><th>deg</th><th>deg</th><th>deg</th><th>deg</th><th>deg</th><th>arcsec</th><th>deg</th><th>arcsec</th><th>deg</th><th>deg</th><th>AU</th><th>km / s</th><th>AU</th><th>km / s</th><th>min</th><th>km / s</th><th>km / s</th><th>deg</th><th></th><th>deg</th><th>deg</th><th>%</th><th>deg</th><th>deg</th><th>deg</th><th>deg</th><th></th><th>s</th><th>deg</th><th>deg</th><th>deg</th><th>deg</th><th>deg</th><th>deg</th><th></th><th>min</th><th>arcsec</th><th>arcsec</th><th>arcsec</th><th>arcsec</th><th>deg</th><th>arcsec2</th><th>arcsec</th><th>km</th><th>km / s</th><th>Hz</th><th>Hz</th><th>s</th><th>deg</th><th></th><th>deg</th><th>deg</th><th>deg</th><th></th></tr></thead>\n",
       "<thead><tr><th>str24</th><th>str17</th><th>float64</th><th>float64</th><th>float64</th><th>str1</th><th>str1</th><th>float64</th><th>float64</th><th>float64</th><th>float64</th><th>float64</th><th>float64</th><th>float64</th><th>float64</th><th>float64</th><th>float64</th><th>float64</th><th>float64</th><th>float64</th><th>float64</th><th>float64</th><th>float64</th><th>float64</th><th>float64</th><th>float64</th><th>float64</th><th>float64</th><th>str1</th><th>float64</th><th>float64</th><th>float64</th><th>float64</th><th>float64</th><th>float64</th><th>float64</th><th>float64</th><th>float64</th><th>float64</th><th>float64</th><th>float64</th><th>float64</th><th>float64</th><th>float64</th><th>float64</th><th>float64</th><th>float64</th><th>float64</th><th>str2</th><th>float64</th><th>float64</th><th>float64</th><th>float64</th><th>float64</th><th>float64</th><th>float64</th><th>str3</th><th>float64</th><th>float64</th><th>float64</th><th>float64</th><th>float64</th><th>float64</th><th>float64</th><th>float64</th><th>float64</th><th>float64</th><th>float64</th><th>float64</th><th>float64</th><th>float64</th><th>float64</th><th>float64</th><th>float64</th><th>float64</th><th>float64</th><th>float64</th><th>float64</th><th>float64</th><th>float64</th><th>float64</th><th>float64</th><th>float64</th><th>str3</th></tr></thead>\n",
       "<tr><td>2100 Ra-Shalom (1978 RA)</td><td>2018-Jan-01 00:00</td><td>2458119.5</td><td>16.05</td><td>0.12</td><td>*</td><td></td><td>298.39175</td><td>-15.55282</td><td>298.63771</td><td>-15.5047</td><td>134.878</td><td>14.838</td><td>190.6996</td><td>54.0982</td><td>853.05</td><td>-156.97</td><td>57021.65</td><td>27057.68</td><td>68.218</td><td>20.3416632868</td><td>1.233</td><td>0.134</td><td>18.53</td><td>4.31</td><td>97.902</td><td>3.4e-05</td><td>64368.56</td><td>*</td><td>0.001631</td><td>0.0</td><td>0.0</td><td>0.0</td><td>0.0</td><td>242.49</td><td>0.0</td><td>0.0</td><td>0.0</td><td>313.5825</td><td>9.6866</td><td>1.052945376618</td><td>8.9409616</td><td>1.9445240162932</td><td>11.5251473</td><td>16.172113</td><td>24.87625</td><td>54.39145</td><td>17.8802</td><td>/T</td><td>16.6621</td><td>147.9</td><td>98.1</td><td>145.4537</td><td>62.577</td><td>267.646</td><td>7.52998</td><td>Sgr</td><td>69.18394</td><td>297.6297498</td><td>5.2260156</td><td>0.0</td><td>0.0</td><td>25.501757</td><td>-20.596366</td><td>13.5798077552</td><td>0.000355</td><td>0.024</td><td>0.009</td><td>0.026</td><td>0.004</td><td>-18.51</td><td>0.0</td><td>0.026</td><td>16.5294</td><td>7.5e-06</td><td>0.04</td><td>0.15</td><td>0.00011</td><td>145.6446</td><td>0.432482309</td><td>16.657</td><td>305.4411</td><td>7.5319</td><td>UTC</td></tr>\n",
       "<tr><td>2100 Ra-Shalom (1978 RA)</td><td>2018-Jan-01 01:00</td><td>2458119.541666667</td><td>16.05</td><td>0.12</td><td>*</td><td></td><td>298.43064</td><td>-15.54874</td><td>298.67659</td><td>-15.50057</td><td>134.91</td><td>14.93554</td><td>212.434</td><td>48.8381</td><td>739.13</td><td>-453.94</td><td>57001.51</td><td>27060.06</td><td>68.206</td><td>21.3444013055</td><td>1.327</td><td>0.145</td><td>18.53</td><td>4.31</td><td>97.904</td><td>3.4e-05</td><td>64350.74</td><td>*</td><td>0.001631</td><td>0.0</td><td>0.0</td><td>0.0</td><td>0.0</td><td>242.48</td><td>0.0</td><td>0.0</td><td>0.0</td><td>313.6126</td><td>9.68</td><td>1.0531604447</td><td>8.9340224</td><td>1.94480261234295</td><td>11.6279919</td><td>16.17443</td><td>24.86934</td><td>54.43705</td><td>17.8752</td><td>/T</td><td>16.6541</td><td>148.6</td><td>98.3</td><td>145.4667</td><td>62.569</td><td>267.641</td><td>7.5269</td><td>Sgr</td><td>69.183941</td><td>297.6674694</td><td>5.2228933</td><td>0.0</td><td>0.0</td><td>25.521794</td><td>-20.629057</td><td>14.5795191068</td><td>0.000355</td><td>0.024</td><td>0.009</td><td>0.026</td><td>0.004</td><td>-18.517</td><td>0.0</td><td>0.026</td><td>16.5245</td><td>7.5e-06</td><td>0.04</td><td>0.15</td><td>0.00011</td><td>145.675</td><td>1.432628322</td><td>16.6489</td><td>305.475</td><td>7.5269</td><td>UTC</td></tr>\n",
       "<tr><td>2100 Ra-Shalom (1978 RA)</td><td>2018-Jan-01 02:00</td><td>2458119.583333333</td><td>16.05</td><td>0.12</td><td>*</td><td></td><td>298.46956</td><td>-15.54464</td><td>298.71549</td><td>-15.49642</td><td>135.0128</td><td>15.02554</td><td>228.1056</td><td>39.6563</td><td>596.08</td><td>-630.15</td><td>56981.11</td><td>27062.3</td><td>68.195</td><td>22.3471393248</td><td>1.564</td><td>0.17</td><td>18.53</td><td>4.31</td><td>97.906</td><td>3.4e-05</td><td>64332.6</td><td>*</td><td>0.00163</td><td>0.0</td><td>0.0</td><td>0.0</td><td>0.0</td><td>242.47</td><td>0.0</td><td>0.0</td><td>0.0</td><td>313.6427</td><td>9.6734</td><td>1.053375345735</td><td>8.9270836</td><td>1.94508357085811</td><td>11.7203264</td><td>16.176767</td><td>24.86243</td><td>54.50724</td><td>17.8702</td><td>/T</td><td>16.6461</td><td>149.4</td><td>98.5</td><td>145.4798</td><td>62.561</td><td>267.636</td><td>7.52381</td><td>Sgr</td><td>69.183941</td><td>297.7052066</td><td>5.2197856</td><td>0.0</td><td>0.0</td><td>25.541865</td><td>-20.661751</td><td>15.579223717</td><td>0.000355</td><td>0.024</td><td>0.009</td><td>0.026</td><td>0.004</td><td>-18.524</td><td>0.0</td><td>0.026</td><td>16.5197</td><td>7.5e-06</td><td>0.04</td><td>0.15</td><td>0.00011</td><td>145.7054</td><td>2.432773448</td><td>16.6409</td><td>305.509</td><td>7.522</td><td>UTC</td></tr>\n",
       "<tr><td>2100 Ra-Shalom (1978 RA)</td><td>2018-Jan-01 03:00</td><td>2458119.625</td><td>16.05</td><td>0.12</td><td>*</td><td>m</td><td>298.50851</td><td>-15.54051</td><td>298.75441</td><td>-15.49223</td><td>135.1767</td><td>15.10336</td><td>238.9077</td><td>28.2827</td><td>476.25</td><td>-724.98</td><td>56960.4</td><td>27064.45</td><td>68.183</td><td>23.3498773448</td><td>2.102</td><td>0.229</td><td>18.53</td><td>4.31</td><td>97.908</td><td>3.4e-05</td><td>64314.12</td><td>*</td><td>0.00163</td><td>0.0</td><td>0.0</td><td>0.0</td><td>0.0</td><td>242.46</td><td>0.0</td><td>0.0</td><td>0.0</td><td>313.6727</td><td>9.6669</td><td>1.053590079739</td><td>8.920145</td><td>1.9453665581385</td><td>11.7955955</td><td>16.17912</td><td>24.85552</td><td>54.59663</td><td>17.865</td><td>/T</td><td>16.638</td><td>150.0</td><td>98.6</td><td>145.493</td><td>62.553</td><td>267.632</td><td>7.52069</td><td>Sgr</td><td>69.183942</td><td>297.7429798</td><td>5.2166864</td><td>0.0</td><td>0.0</td><td>25.561976</td><td>-20.694467</td><td>16.5789194242</td><td>0.000355</td><td>0.024</td><td>0.009</td><td>0.026</td><td>0.004</td><td>-18.531</td><td>0.0</td><td>0.026</td><td>16.5148</td><td>7.5e-06</td><td>0.04</td><td>0.15</td><td>0.00011</td><td>145.7357</td><td>3.432916364</td><td>16.6328</td><td>305.5431</td><td>7.517</td><td>UTC</td></tr>\n",
       "<tr><td>2100 Ra-Shalom (1978 RA)</td><td>2018-Jan-01 04:00</td><td>2458119.666666667</td><td>16.05</td><td>0.12</td><td>C</td><td>m</td><td>298.54752</td><td>-15.53636</td><td>298.79339</td><td>-15.48803</td><td>135.3878</td><td>15.16521</td><td>246.6471</td><td>15.7227</td><td>385.05</td><td>-777.29</td><td>56939.34</td><td>27066.53</td><td>68.172</td><td>0.3526153655</td><td>3.634</td><td>0.396</td><td>18.53</td><td>4.31</td><td>97.91</td><td>3.4e-05</td><td>64295.31</td><td>*</td><td>0.00163</td><td>0.0</td><td>0.0</td><td>0.0</td><td>0.0</td><td>242.46</td><td>0.0</td><td>0.0</td><td>0.0</td><td>313.7028</td><td>9.6603</td><td>1.053804646736</td><td>8.9132068</td><td>1.9456510959044</td><td>11.8484071</td><td>16.181487</td><td>24.84862</td><td>54.69858</td><td>17.8598</td><td>/T</td><td>16.6298</td><td>150.6</td><td>98.7</td><td>145.5064</td><td>62.544</td><td>267.627</td><td>7.51756</td><td>Sgr</td><td>69.183943</td><td>297.7808043</td><td>5.213589</td><td>0.0</td><td>0.0</td><td>25.582131</td><td>-20.72722</td><td>17.5786046834</td><td>0.000355</td><td>0.024</td><td>0.009</td><td>0.026</td><td>0.004</td><td>-18.538</td><td>0.0</td><td>0.026</td><td>16.51</td><td>7.5e-06</td><td>0.04</td><td>0.15</td><td>0.00011</td><td>145.7661</td><td>4.43305595</td><td>16.6246</td><td>305.5771</td><td>7.5121</td><td>UTC</td></tr>\n",
       "<tr><td>2100 Ra-Shalom (1978 RA)</td><td>2018-Jan-01 05:00</td><td>2458119.708333333</td><td>16.05</td><td>0.12</td><td>A</td><td>m</td><td>298.5866</td><td>-15.5322</td><td>298.83243</td><td>-15.48382</td><td>135.6291</td><td>15.2084</td><td>252.5574</td><td>2.4925</td><td>316.28</td><td>-807.74</td><td>56917.94</td><td>27068.59</td><td>68.16</td><td>1.3553533867</td><td>16.07</td><td>1.751</td><td>18.53</td><td>4.31</td><td>97.912</td><td>3.4e-05</td><td>64276.16</td><td>*</td><td>0.00163</td><td>0.0</td><td>0.0</td><td>0.0</td><td>0.0</td><td>242.45</td><td>0.0</td><td>0.0</td><td>0.0</td><td>313.7328</td><td>9.6537</td><td>1.05401904675</td><td>8.906269</td><td>1.94593659388702</td><td>11.8748992</td><td>16.183861</td><td>24.84173</td><td>54.80559</td><td>17.8545</td><td>/T</td><td>16.6216</td><td>151.1</td><td>98.8</td><td>145.52</td><td>62.536</td><td>267.622</td><td>7.51442</td><td>Sgr</td><td>69.183945</td><td>297.8186909</td><td>5.2104865</td><td>0.0</td><td>0.0</td><td>25.60233</td><td>-20.760024</td><td>18.5782786721</td><td>0.000355</td><td>0.024</td><td>0.009</td><td>0.025</td><td>0.004</td><td>-18.545</td><td>0.0</td><td>0.026</td><td>16.5052</td><td>7.5e-06</td><td>0.04</td><td>0.15</td><td>0.00011</td><td>145.7964</td><td>5.433191371</td><td>16.6163</td><td>305.6111</td><td>7.5071</td><td>UTC</td></tr>\n",
       "<tr><td>2100 Ra-Shalom (1978 RA)</td><td>2018-Jan-01 06:00</td><td>2458119.75</td><td>16.05</td><td>0.12</td><td></td><td>m</td><td>298.62574</td><td>-15.52803</td><td>298.87154</td><td>-15.47959</td><td>135.8815</td><td>15.23149</td><td>257.3977</td><td>-11.1366</td><td>264.1</td><td>-826.28</td><td>56896.22</td><td>27070.67</td><td>68.148</td><td>2.3580914084</td><td>999.0</td><td>0.0</td><td>18.53</td><td>4.31</td><td>97.914</td><td>3.4e-05</td><td>64256.71</td><td>*</td><td>0.001629</td><td>0.0</td><td>0.0</td><td>0.0</td><td>0.0</td><td>242.44</td><td>0.0</td><td>0.0</td><td>0.0</td><td>313.7629</td><td>9.6472</td><td>1.05423327981</td><td>8.8993314</td><td>1.94622239005383</td><td>11.8730034</td><td>16.186238</td><td>24.83484</td><td>54.90987</td><td>17.8491</td><td>/T</td><td>16.6133</td><td>151.6</td><td>98.9</td><td>145.5337</td><td>62.528</td><td>267.617</td><td>7.51127</td><td>Sgr</td><td>69.183946</td><td>297.856646</td><td>5.2073722</td><td>0.0</td><td>0.0</td><td>25.622571</td><td>-20.792888</td><td>19.5779413459</td><td>0.000355</td><td>0.024</td><td>0.009</td><td>0.025</td><td>0.004</td><td>-18.552</td><td>0.0</td><td>0.026</td><td>16.5004</td><td>7.5e-06</td><td>0.04</td><td>0.15</td><td>0.00011</td><td>145.8267</td><td>6.433322127</td><td>16.608</td><td>305.6452</td><td>7.5022</td><td>UTC</td></tr>\n",
       "<tr><td>2100 Ra-Shalom (1978 RA)</td><td>2018-Jan-01 07:00</td><td>2458119.791666667</td><td>16.05</td><td>0.12</td><td></td><td>m</td><td>298.66495</td><td>-15.52386</td><td>298.91072</td><td>-15.47535</td><td>136.1253</td><td>15.23443</td><td>261.6756</td><td>-25.0115</td><td>225.07</td><td>-837.77</td><td>56874.2</td><td>27072.8</td><td>68.136</td><td>3.3608294306</td><td>999.0</td><td>0.0</td><td>18.53</td><td>4.31</td><td>97.916</td><td>3.4e-05</td><td>64237.02</td><td>*</td><td>0.001629</td><td>0.0</td><td>0.0</td><td>0.0</td><td>0.0</td><td>242.43</td><td>0.0</td><td>0.0</td><td>0.0</td><td>313.7929</td><td>9.6406</td><td>1.054447345943</td><td>8.8923942</td><td>1.94650779572584</td><td>11.8425862</td><td>16.188612</td><td>24.82796</td><td>55.00387</td><td>17.8436</td><td>/T</td><td>16.6049</td><td>152.0</td><td>99.0</td><td>145.5475</td><td>62.519</td><td>267.612</td><td>7.50813</td><td>Sgr</td><td>69.183948</td><td>297.8946701</td><td>5.2042403</td><td>0.0</td><td>0.0</td><td>25.64285</td><td>-20.825814</td><td>20.5775934415</td><td>0.000355</td><td>0.024</td><td>0.009</td><td>0.025</td><td>0.004</td><td>-18.559</td><td>0.0</td><td>0.026</td><td>16.4957</td><td>7.5e-06</td><td>0.04</td><td>0.15</td><td>0.00011</td><td>145.8571</td><td>7.433448093</td><td>16.5996</td><td>305.6793</td><td>7.4972</td><td>UTC</td></tr>\n",
       "<tr><td>2100 Ra-Shalom (1978 RA)</td><td>2018-Jan-01 08:00</td><td>2458119.833333333</td><td>16.05</td><td>0.12</td><td></td><td>m</td><td>298.70424</td><td>-15.51969</td><td>298.94997</td><td>-15.47112</td><td>136.3411</td><td>15.21854</td><td>265.8293</td><td>-39.036</td><td>198.59</td><td>-844.45</td><td>56851.94</td><td>27075.02</td><td>68.124</td><td>4.3635674533</td><td>999.0</td><td>0.0</td><td>18.54</td><td>4.31</td><td>97.918</td><td>3.4e-05</td><td>64217.15</td><td>*</td><td>0.001629</td><td>0.0</td><td>0.0</td><td>0.0</td><td>0.0</td><td>242.42</td><td>0.0</td><td>0.0</td><td>0.0</td><td>313.8229</td><td>9.634</td><td>1.054661245178</td><td>8.8854573</td><td>1.94679214251074</td><td>11.7854576</td><td>16.190977</td><td>24.82109</td><td>55.08077</td><td>17.8381</td><td>/T</td><td>16.5964</td><td>152.4</td><td>99.1</td><td>145.5615</td><td>62.51</td><td>267.608</td><td>7.50499</td><td>Sgr</td><td>69.183949</td><td>297.9327585</td><td>5.2010859</td><td>0.0</td><td>0.0</td><td>25.663158</td><td>-20.858803</td><td>21.5772364262</td><td>0.000355</td><td>0.024</td><td>0.009</td><td>0.025</td><td>0.004</td><td>-18.566</td><td>0.0</td><td>0.026</td><td>16.491</td><td>7.5e-06</td><td>0.04</td><td>0.15</td><td>0.00011</td><td>145.8874</td><td>8.43356952</td><td>16.5911</td><td>305.7135</td><td>7.4922</td><td>UTC</td></tr>\n",
       "<tr><td>...</td><td>...</td><td>...</td><td>...</td><td>...</td><td>...</td><td>...</td><td>...</td><td>...</td><td>...</td><td>...</td><td>...</td><td>...</td><td>...</td><td>...</td><td>...</td><td>...</td><td>...</td><td>...</td><td>...</td><td>...</td><td>...</td><td>...</td><td>...</td><td>...</td><td>...</td><td>...</td><td>...</td><td>...</td><td>...</td><td>...</td><td>...</td><td>...</td><td>...</td><td>...</td><td>...</td><td>...</td><td>...</td><td>...</td><td>...</td><td>...</td><td>...</td><td>...</td><td>...</td><td>...</td><td>...</td><td>...</td><td>...</td><td>...</td><td>...</td><td>...</td><td>...</td><td>...</td><td>...</td><td>...</td><td>...</td><td>...</td><td>...</td><td>...</td><td>...</td><td>...</td><td>...</td><td>...</td><td>...</td><td>...</td><td>...</td><td>...</td><td>...</td><td>...</td><td>...</td><td>...</td><td>...</td><td>...</td><td>...</td><td>...</td><td>...</td><td>...</td><td>...</td><td>...</td><td>...</td><td>...</td><td>...</td><td>...</td><td>...</td></tr>\n",
       "<tr><td>1036 Ganymed (1924 TD)</td><td>2018-Jan-31 15:00</td><td>2458150.125</td><td>9.45</td><td>0.3</td><td></td><td>m</td><td>169.09602</td><td>-22.12761</td><td>169.32278</td><td>-22.22573</td><td>-18.4659</td><td>-0.25993</td><td>217.3281</td><td>38.1886</td><td>658.19</td><td>-514.99</td><td>-497829.0</td><td>-17807.2</td><td>222.309</td><td>13.3540365866</td><td>1.614</td><td>0.176</td><td>15.72</td><td>6.37</td><td>99.075</td><td>0.0001</td><td>459356.9</td><td>*</td><td>0.015273</td><td>0.0</td><td>0.0</td><td>0.0</td><td>0.0</td><td>136.01</td><td>0.0</td><td>0.0</td><td>0.0</td><td>168.2988</td><td>-20.2661</td><td>4.07773279695</td><td>0.5842186</td><td>3.40107915883993</td><td>-18.3241467</td><td>28.285913</td><td>10.09751</td><td>22.26956</td><td>127.5991</td><td>/L</td><td>11.0399</td><td>51.9</td><td>100.0</td><td>41.3624</td><td>316.016</td><td>272.489</td><td>7.46683</td><td>Crt</td><td>69.184799</td><td>179.5637756</td><td>-24.5360575</td><td>0.0</td><td>0.0</td><td>275.591352</td><td>35.648438</td><td>4.4110625114</td><td>0.000355</td><td>0.047</td><td>0.046</td><td>0.048</td><td>0.045</td><td>41.33</td><td>0.01</td><td>0.066</td><td>34.6089</td><td>1.7e-06</td><td>0.07</td><td>0.26</td><td>0.000231</td><td>177.092</td><td>2.065851034</td><td>11.0368</td><td>173.719</td><td>-22.4957</td><td>UTC</td></tr>\n",
       "<tr><td>1036 Ganymed (1924 TD)</td><td>2018-Jan-31 16:00</td><td>2458150.166666667</td><td>9.45</td><td>0.3</td><td>A</td><td>m</td><td>169.09049</td><td>-22.12767</td><td>169.31724</td><td>-22.2258</td><td>-18.3838</td><td>-0.19186</td><td>229.2649</td><td>28.4415</td><td>533.19</td><td>-643.53</td><td>-498026.0</td><td>-17849.0</td><td>222.274</td><td>14.3567745095</td><td>2.091</td><td>0.228</td><td>15.72</td><td>6.37</td><td>99.076</td><td>0.0001</td><td>459499.1</td><td>*</td><td>0.015275</td><td>0.0</td><td>0.0</td><td>0.0</td><td>0.0</td><td>136.04</td><td>0.0</td><td>0.0</td><td>0.0</td><td>168.3023</td><td>-20.2651</td><td>4.077746848502</td><td>0.5835337</td><td>3.40063939304703</td><td>-18.2278969</td><td>28.282255</td><td>10.09743</td><td>22.15714</td><td>127.6386</td><td>/L</td><td>11.0338</td><td>51.4</td><td>100.0</td><td>41.3289</td><td>316.049</td><td>272.492</td><td>7.46724</td><td>Crt</td><td>69.1848</td><td>179.558719</td><td>-24.538326</td><td>0.0</td><td>0.0</td><td>275.585727</td><td>35.646108</td><td>5.4109506936</td><td>0.000355</td><td>0.047</td><td>0.046</td><td>0.048</td><td>0.045</td><td>41.312</td><td>0.01</td><td>0.066</td><td>34.6008</td><td>1.7e-06</td><td>0.07</td><td>0.26</td><td>0.000231</td><td>177.0954</td><td>3.068958317</td><td>11.0308</td><td>173.7182</td><td>-22.4962</td><td>UTC</td></tr>\n",
       "<tr><td>1036 Ganymed (1924 TD)</td><td>2018-Jan-31 17:00</td><td>2458150.208333333</td><td>9.45</td><td>0.3</td><td>*</td><td>m</td><td>169.08499</td><td>-22.12772</td><td>169.31173</td><td>-22.22585</td><td>-18.2712</td><td>-0.1357</td><td>237.9313</td><td>17.0267</td><td>424.81</td><td>-719.69</td><td>-498222.0</td><td>-17890.7</td><td>222.239</td><td>15.3595124306</td><td>3.371</td><td>0.367</td><td>15.72</td><td>6.37</td><td>99.077</td><td>0.0001</td><td>459640.9</td><td>*</td><td>0.015277</td><td>0.0</td><td>0.0</td><td>0.0</td><td>0.0</td><td>136.08</td><td>0.0</td><td>0.0</td><td>0.0</td><td>168.3058</td><td>-20.264</td><td>4.07776088357</td><td>0.5828489</td><td>3.40020171290673</td><td>-18.1516528</td><td>28.278615</td><td>10.09736</td><td>22.04944</td><td>127.678</td><td>/L</td><td>11.0278</td><td>50.9</td><td>100.0</td><td>41.2956</td><td>316.082</td><td>272.495</td><td>7.46764</td><td>Crt</td><td>69.184801</td><td>179.5536763</td><td>-24.5405674</td><td>0.0</td><td>0.0</td><td>275.580117</td><td>35.643806</td><td>6.4108501833</td><td>0.000355</td><td>0.047</td><td>0.046</td><td>0.048</td><td>0.045</td><td>41.295</td><td>0.01</td><td>0.066</td><td>34.5927</td><td>1.7e-06</td><td>0.07</td><td>0.26</td><td>0.000231</td><td>177.0988</td><td>4.072063925</td><td>11.0248</td><td>173.7174</td><td>-22.4966</td><td>UTC</td></tr>\n",
       "<tr><td>1036 Ganymed (1924 TD)</td><td>2018-Jan-31 18:00</td><td>2458150.25</td><td>9.45</td><td>0.3</td><td>*</td><td></td><td>169.07953</td><td>-22.12775</td><td>169.30625</td><td>-22.22589</td><td>-18.1373</td><td>-0.09404</td><td>244.3725</td><td>4.6173</td><td>334.77</td><td>-765.73</td><td>-498418.0</td><td>-17932.5</td><td>222.205</td><td>16.3622503496</td><td>10.676</td><td>1.163</td><td>15.72</td><td>6.37</td><td>99.078</td><td>0.0001</td><td>459782.3</td><td>*</td><td>0.015279</td><td>0.0</td><td>0.0</td><td>0.0</td><td>0.0</td><td>136.11</td><td>0.0</td><td>0.0</td><td>0.0</td><td>168.3092</td><td>-20.263</td><td>4.077774902154</td><td>0.5821641</td><td>3.39976558185967</td><td>-18.0997399</td><td>28.274988</td><td>10.09729</td><td>21.95367</td><td>127.7173</td><td>/L</td><td>11.0218</td><td>50.3</td><td>100.0</td><td>41.2623</td><td>316.115</td><td>272.498</td><td>7.46803</td><td>Crt</td><td>69.184802</td><td>179.5486577</td><td>-24.5427811</td><td>0.0</td><td>0.0</td><td>275.574534</td><td>35.641531</td><td>7.41076115</td><td>0.000355</td><td>0.047</td><td>0.046</td><td>0.048</td><td>0.045</td><td>41.277</td><td>0.01</td><td>0.066</td><td>34.5847</td><td>1.7e-06</td><td>0.07</td><td>0.26</td><td>0.000231</td><td>177.1022</td><td>5.07516725</td><td>11.0188</td><td>173.7166</td><td>-22.4971</td><td>UTC</td></tr>\n",
       "<tr><td>1036 Ganymed (1924 TD)</td><td>2018-Jan-31 19:00</td><td>2458150.291666667</td><td>9.45</td><td>0.3</td><td>*</td><td></td><td>169.07412</td><td>-22.12778</td><td>169.30081</td><td>-22.22592</td><td>-17.9928</td><td>-0.06847</td><td>249.317</td><td>-8.403</td><td>259.07</td><td>-794.54</td><td>-498613.0</td><td>-17974.3</td><td>222.171</td><td>17.3649882667</td><td>999.0</td><td>0.0</td><td>15.72</td><td>6.37</td><td>99.079</td><td>0.0001</td><td>459923.2</td><td>*</td><td>0.015281</td><td>0.0</td><td>0.0</td><td>0.0</td><td>0.0</td><td>136.14</td><td>0.0</td><td>0.0</td><td>0.0</td><td>168.3127</td><td>-20.262</td><td>4.077788904255</td><td>0.5814793</td><td>3.39933037885947</td><td>-18.0748142</td><td>28.271369</td><td>10.09721</td><td>21.87628</td><td>127.7564</td><td>/L</td><td>11.0158</td><td>49.7</td><td>99.9</td><td>41.2291</td><td>316.148</td><td>272.501</td><td>7.4684</td><td>Crt</td><td>69.184803</td><td>179.5436708</td><td>-24.5449684</td><td>0.0</td><td>0.0</td><td>275.568987</td><td>35.639282</td><td>8.4106830084</td><td>0.000355</td><td>0.047</td><td>0.046</td><td>0.048</td><td>0.045</td><td>41.26</td><td>0.01</td><td>0.066</td><td>34.5767</td><td>1.7e-06</td><td>0.07</td><td>0.26</td><td>0.000231</td><td>177.1057</td><td>6.078267871</td><td>11.0129</td><td>173.7159</td><td>-22.4975</td><td>UTC</td></tr>\n",
       "<tr><td>1036 Ganymed (1924 TD)</td><td>2018-Jan-31 20:00</td><td>2458150.333333333</td><td>9.45</td><td>0.3</td><td>*</td><td></td><td>169.06874</td><td>-22.12779</td><td>169.29541</td><td>-22.22594</td><td>-17.8491</td><td>-0.05948</td><td>253.2131</td><td>-21.811</td><td>193.14</td><td>-813.08</td><td>-498808.0</td><td>-18016.2</td><td>222.137</td><td>18.3677261818</td><td>999.0</td><td>0.0</td><td>15.72</td><td>6.37</td><td>99.08</td><td>0.0001</td><td>460063.8</td><td>*</td><td>0.015283</td><td>0.0</td><td>0.0</td><td>0.0</td><td>0.0</td><td>136.17</td><td>0.0</td><td>0.0</td><td>0.0</td><td>168.3161</td><td>-20.2609</td><td>4.077802889875</td><td>0.5807945</td><td>3.39889544098089</td><td>-18.0776802</td><td>28.267751</td><td>10.09714</td><td>21.82249</td><td>127.7955</td><td>/L</td><td>11.0099</td><td>49.0</td><td>99.9</td><td>41.196</td><td>316.18</td><td>272.504</td><td>7.46876</td><td>Crt</td><td>69.184804</td><td>179.5387206</td><td>-24.547132</td><td>0.0</td><td>0.0</td><td>275.563482</td><td>35.637057</td><td>9.4106144577</td><td>0.000355</td><td>0.047</td><td>0.046</td><td>0.048</td><td>0.045</td><td>41.242</td><td>0.01</td><td>0.066</td><td>34.5687</td><td>1.7e-06</td><td>0.07</td><td>0.26</td><td>0.000231</td><td>177.1091</td><td>7.081365582</td><td>11.0069</td><td>173.7151</td><td>-22.4979</td><td>UTC</td></tr>\n",
       "<tr><td>1036 Ganymed (1924 TD)</td><td>2018-Jan-31 21:00</td><td>2458150.375</td><td>9.45</td><td>0.3</td><td>*</td><td></td><td>169.06341</td><td>-22.12781</td><td>169.29006</td><td>-22.22595</td><td>-17.7176</td><td>-0.06643</td><td>256.3002</td><td>-35.47</td><td>132.65</td><td>-825.11</td><td>-499002.0</td><td>-18058.2</td><td>222.103</td><td>19.3704640949</td><td>999.0</td><td>0.0</td><td>15.72</td><td>6.37</td><td>99.081</td><td>0.0001</td><td>460204.0</td><td>*</td><td>0.015285</td><td>0.0</td><td>0.0</td><td>0.0</td><td>0.0</td><td>136.21</td><td>0.0</td><td>0.0</td><td>0.0</td><td>168.3196</td><td>-20.2599</td><td>4.077816859016</td><td>0.5801097</td><td>3.39846010889826</td><td>-18.1072359</td><td>28.264131</td><td>10.09707</td><td>21.79587</td><td>127.8345</td><td>/L</td><td>11.004</td><td>48.4</td><td>99.9</td><td>41.163</td><td>316.213</td><td>272.507</td><td>7.46912</td><td>Crt</td><td>69.184804</td><td>179.533809</td><td>-24.5492763</td><td>0.0</td><td>0.0</td><td>275.558019</td><td>35.634851</td><td>10.4105535705</td><td>0.000355</td><td>0.047</td><td>0.046</td><td>0.048</td><td>0.045</td><td>41.225</td><td>0.01</td><td>0.066</td><td>34.5608</td><td>1.7e-06</td><td>0.07</td><td>0.25</td><td>0.000231</td><td>177.1125</td><td>8.084460405</td><td>11.001</td><td>173.7144</td><td>-22.4983</td><td>UTC</td></tr>\n",
       "<tr><td>1036 Ganymed (1924 TD)</td><td>2018-Jan-31 22:00</td><td>2458150.416666667</td><td>9.45</td><td>0.3</td><td>*</td><td></td><td>169.05811</td><td>-22.12784</td><td>169.28474</td><td>-22.22597</td><td>-17.6088</td><td>-0.08756</td><td>258.6105</td><td>-49.2894</td><td>72.58</td><td>-832.55</td><td>-499196.0</td><td>-18100.4</td><td>222.069</td><td>20.3732020061</td><td>999.0</td><td>0.0</td><td>15.72</td><td>6.37</td><td>99.082</td><td>0.0001</td><td>460344.1</td><td>*</td><td>0.015287</td><td>0.0</td><td>0.0</td><td>0.0</td><td>0.0</td><td>136.24</td><td>0.0</td><td>0.0</td><td>0.0</td><td>168.3231</td><td>-20.2588</td><td>4.077830811678</td><td>0.5794249</td><td>3.39802377211586</td><td>-18.1605484</td><td>28.260502</td><td>10.09699</td><td>21.79807</td><td>127.8734</td><td>/L</td><td>10.9981</td><td>47.8</td><td>99.8</td><td>41.13</td><td>316.245</td><td>272.51</td><td>7.46949</td><td>Crt</td><td>69.184805</td><td>179.5289347</td><td>-24.5514067</td><td>0.0</td><td>0.0</td><td>275.552599</td><td>35.63266</td><td>11.4104979241</td><td>0.000355</td><td>0.047</td><td>0.046</td><td>0.048</td><td>0.045</td><td>41.208</td><td>0.01</td><td>0.066</td><td>34.5529</td><td>1.7e-06</td><td>0.07</td><td>0.25</td><td>0.000231</td><td>177.1159</td><td>9.087552593</td><td>10.9951</td><td>173.7137</td><td>-22.4987</td><td>UTC</td></tr>\n",
       "<tr><td>1036 Ganymed (1924 TD)</td><td>2018-Jan-31 23:00</td><td>2458150.458333333</td><td>9.45</td><td>0.3</td><td>*</td><td></td><td>169.05285</td><td>-22.12787</td><td>169.27946</td><td>-22.226</td><td>-17.5317</td><td>-0.12018</td><td>259.743</td><td>-63.1984</td><td>3.08</td><td>-835.7</td><td>-499390.0</td><td>-18142.9</td><td>222.035</td><td>21.3759399153</td><td>999.0</td><td>0.0</td><td>15.72</td><td>6.37</td><td>99.083</td><td>0.0001</td><td>460484.1</td><td>*</td><td>0.015289</td><td>0.0</td><td>0.0</td><td>0.0</td><td>0.0</td><td>136.27</td><td>0.0</td><td>0.0</td><td>0.0</td><td>168.3265</td><td>-20.2578</td><td>4.077844747862</td><td>0.5787401</td><td>3.39758591084891</td><td>-18.233055</td><td>28.25686</td><td>10.09692</td><td>21.82867</td><td>127.9123</td><td>/L</td><td>10.9922</td><td>47.1</td><td>99.8</td><td>41.097</td><td>316.278</td><td>272.513</td><td>7.46986</td><td>Crt</td><td>69.184805</td><td>179.524093</td><td>-24.5535297</td><td>0.0</td><td>0.0</td><td>275.547215</td><td>35.630476</td><td>12.4104447657</td><td>0.000355</td><td>0.047</td><td>0.046</td><td>0.048</td><td>0.045</td><td>41.191</td><td>0.01</td><td>0.066</td><td>34.5451</td><td>1.7e-06</td><td>0.07</td><td>0.25</td><td>0.00023</td><td>177.1193</td><td>10.090642605</td><td>10.9893</td><td>173.713</td><td>-22.4991</td><td>UTC</td></tr>\n",
       "<tr><td>1036 Ganymed (1924 TD)</td><td>2018-Feb-01 00:00</td><td>2458150.5</td><td>9.45</td><td>0.3</td><td>*</td><td></td><td>169.04759</td><td>-22.12791</td><td>169.2742</td><td>-22.22603</td><td>-17.4931</td><td>-0.16076</td><td>256.8904</td><td>-77.0912</td><td>-119.36</td><td>-827.13</td><td>-499584.0</td><td>-18185.6</td><td>222.001</td><td>22.3786778225</td><td>999.0</td><td>0.0</td><td>15.72</td><td>6.37</td><td>99.084</td><td>0.0001</td><td>460624.1</td><td>*</td><td>0.015291</td><td>0.0</td><td>0.0</td><td>0.0</td><td>0.0</td><td>136.3</td><td>0.0</td><td>0.0</td><td>0.0</td><td>168.33</td><td>-20.2568</td><td>4.07785866757</td><td>0.5780553</td><td>3.39714613168412</td><td>-18.318876</td><td>28.253203</td><td>10.09685</td><td>21.88519</td><td>127.9512</td><td>/L</td><td>10.9864</td><td>46.5</td><td>99.7</td><td>41.0639</td><td>316.31</td><td>272.516</td><td>7.47023</td><td>Crt</td><td>69.184806</td><td>179.519277</td><td>-24.5556518</td><td>0.0</td><td>0.0</td><td>275.541861</td><td>35.628292</td><td>13.4103912002</td><td>0.000355</td><td>0.047</td><td>0.046</td><td>0.048</td><td>0.045</td><td>41.174</td><td>0.01</td><td>0.066</td><td>34.5373</td><td>1.7e-06</td><td>0.07</td><td>0.25</td><td>0.00023</td><td>177.1227</td><td>11.093731071</td><td>10.9834</td><td>173.7123</td><td>-22.4995</td><td>UTC</td></tr>\n",
       "</table>"
      ],
      "text/plain": [
       "<QTable masked=True length=2235>\n",
       "       targetname           datetime_str   ...  PABLat  timescale\n",
       "                                           ...   deg             \n",
       "         str24                 str17       ... float64     str3  \n",
       "------------------------ ----------------- ... -------- ---------\n",
       "2100 Ra-Shalom (1978 RA) 2018-Jan-01 00:00 ...   7.5319       UTC\n",
       "2100 Ra-Shalom (1978 RA) 2018-Jan-01 01:00 ...   7.5269       UTC\n",
       "2100 Ra-Shalom (1978 RA) 2018-Jan-01 02:00 ...    7.522       UTC\n",
       "2100 Ra-Shalom (1978 RA) 2018-Jan-01 03:00 ...    7.517       UTC\n",
       "2100 Ra-Shalom (1978 RA) 2018-Jan-01 04:00 ...   7.5121       UTC\n",
       "2100 Ra-Shalom (1978 RA) 2018-Jan-01 05:00 ...   7.5071       UTC\n",
       "2100 Ra-Shalom (1978 RA) 2018-Jan-01 06:00 ...   7.5022       UTC\n",
       "2100 Ra-Shalom (1978 RA) 2018-Jan-01 07:00 ...   7.4972       UTC\n",
       "2100 Ra-Shalom (1978 RA) 2018-Jan-01 08:00 ...   7.4922       UTC\n",
       "                     ...               ... ...      ...       ...\n",
       "  1036 Ganymed (1924 TD) 2018-Jan-31 15:00 ... -22.4957       UTC\n",
       "  1036 Ganymed (1924 TD) 2018-Jan-31 16:00 ... -22.4962       UTC\n",
       "  1036 Ganymed (1924 TD) 2018-Jan-31 17:00 ... -22.4966       UTC\n",
       "  1036 Ganymed (1924 TD) 2018-Jan-31 18:00 ... -22.4971       UTC\n",
       "  1036 Ganymed (1924 TD) 2018-Jan-31 19:00 ... -22.4975       UTC\n",
       "  1036 Ganymed (1924 TD) 2018-Jan-31 20:00 ... -22.4979       UTC\n",
       "  1036 Ganymed (1924 TD) 2018-Jan-31 21:00 ... -22.4983       UTC\n",
       "  1036 Ganymed (1924 TD) 2018-Jan-31 22:00 ... -22.4987       UTC\n",
       "  1036 Ganymed (1924 TD) 2018-Jan-31 23:00 ... -22.4991       UTC\n",
       "  1036 Ganymed (1924 TD) 2018-Feb-01 00:00 ... -22.4995       UTC"
      ]
     },
     "execution_count": 1,
     "metadata": {},
     "output_type": "execute_result"
    }
   ],
   "source": [
    "from sbpy.data import Ephem\n",
    "\n",
    "targets = ['2100', '2018 RC1', 'Ganymed']\n",
    "eph = Ephem.from_horizons(targets, location=568, \n",
    "                          epochs={'start': '2018-01-01', 'stop': '2018-02-01', 'step':'1h'})\n",
    "\n",
    "eph.table"
   ]
  },
  {
   "cell_type": "markdown",
   "metadata": {},
   "source": [
    "The resulting `Ephem` object provides the same functionality as all other `sbpy.data` objects; for instance, you can easily convert values to other units:"
   ]
  },
  {
   "cell_type": "code",
   "execution_count": 2,
   "metadata": {},
   "outputs": [
    {
     "data": {
      "text/latex": [
       "$1074210.3 \\; \\mathrm{{}^{\\prime\\prime}}$"
      ],
      "text/plain": [
       "<Quantity 1074210.3 arcsec>"
      ]
     },
     "execution_count": 2,
     "metadata": {},
     "output_type": "execute_result"
    }
   ],
   "source": [
    "import numpy as np\n",
    "import astropy.units as u\n",
    "\n",
    "eph['RA'][0].to('arcsec')"
   ]
  },
  {
   "cell_type": "markdown",
   "metadata": {},
   "source": [
    "Querying Satellite Ephemerides from JPL Horizons (and other ambiguous queries)\n",
    "------------------------------------------------\n",
    "\n",
    "Query ephemerides for satellite `'GOES-1'` for a number of epochs as observed from Magdalena Ridge Observatory (observatory code `'H01'`):"
   ]
  },
  {
   "cell_type": "code",
   "execution_count": 3,
   "metadata": {},
   "outputs": [
    {
     "ename": "ValueError",
     "evalue": "Unknown target (GOES-1). Maybe try different id_type?",
     "output_type": "error",
     "traceback": [
      "\u001b[0;31m---------------------------------------------------------------------------\u001b[0m",
      "\u001b[0;31mValueError\u001b[0m                                Traceback (most recent call last)",
      "\u001b[0;32m<ipython-input-3-1ba28b531e1c>\u001b[0m in \u001b[0;36m<module>\u001b[0;34m()\u001b[0m\n\u001b[0;32m----> 1\u001b[0;31m \u001b[0meph\u001b[0m \u001b[0;34m=\u001b[0m \u001b[0mEphem\u001b[0m\u001b[0;34m.\u001b[0m\u001b[0mfrom_horizons\u001b[0m\u001b[0;34m(\u001b[0m\u001b[0;34m'GOES-1'\u001b[0m\u001b[0;34m,\u001b[0m \u001b[0mepochs\u001b[0m\u001b[0;34m=\u001b[0m\u001b[0;34m[\u001b[0m\u001b[0;36m2453452.123245\u001b[0m\u001b[0;34m,\u001b[0m \u001b[0;36m2453453.34342\u001b[0m\u001b[0;34m,\u001b[0m \u001b[0;36m2453454.342342\u001b[0m\u001b[0;34m]\u001b[0m\u001b[0;34m)\u001b[0m\u001b[0;34m\u001b[0m\u001b[0m\n\u001b[0m",
      "\u001b[0;32m~/lowell/software/sbpy/sbpy/data/ephem.py\u001b[0m in \u001b[0;36mfrom_horizons\u001b[0;34m(cls, targetids, id_type, epochs, location, **kwargs)\u001b[0m\n\u001b[1;32m    106\u001b[0m             obj = Horizons(id=targetid, id_type=id_type,\n\u001b[1;32m    107\u001b[0m                            location=location, epochs=epochs)\n\u001b[0;32m--> 108\u001b[0;31m             \u001b[0meph\u001b[0m \u001b[0;34m=\u001b[0m \u001b[0mobj\u001b[0m\u001b[0;34m.\u001b[0m\u001b[0mephemerides\u001b[0m\u001b[0;34m(\u001b[0m\u001b[0;34m**\u001b[0m\u001b[0mkwargs\u001b[0m\u001b[0;34m)\u001b[0m\u001b[0;34m\u001b[0m\u001b[0m\n\u001b[0m\u001b[1;32m    109\u001b[0m \u001b[0;34m\u001b[0m\u001b[0m\n\u001b[1;32m    110\u001b[0m             \u001b[0;31m# workaround for current version of astroquery to make\u001b[0m\u001b[0;34m\u001b[0m\u001b[0;34m\u001b[0m\u001b[0m\n",
      "\u001b[0;32m~/software/anaconda3/lib/python3.6/site-packages/astroquery/utils/class_or_instance.py\u001b[0m in \u001b[0;36mf\u001b[0;34m(*args, **kwds)\u001b[0m\n\u001b[1;32m     23\u001b[0m         \u001b[0;32mdef\u001b[0m \u001b[0mf\u001b[0m\u001b[0;34m(\u001b[0m\u001b[0;34m*\u001b[0m\u001b[0margs\u001b[0m\u001b[0;34m,\u001b[0m \u001b[0;34m**\u001b[0m\u001b[0mkwds\u001b[0m\u001b[0;34m)\u001b[0m\u001b[0;34m:\u001b[0m\u001b[0;34m\u001b[0m\u001b[0m\n\u001b[1;32m     24\u001b[0m             \u001b[0;32mif\u001b[0m \u001b[0mobj\u001b[0m \u001b[0;32mis\u001b[0m \u001b[0;32mnot\u001b[0m \u001b[0;32mNone\u001b[0m\u001b[0;34m:\u001b[0m\u001b[0;34m\u001b[0m\u001b[0m\n\u001b[0;32m---> 25\u001b[0;31m                 \u001b[0;32mreturn\u001b[0m \u001b[0mself\u001b[0m\u001b[0;34m.\u001b[0m\u001b[0mfn\u001b[0m\u001b[0;34m(\u001b[0m\u001b[0mobj\u001b[0m\u001b[0;34m,\u001b[0m \u001b[0;34m*\u001b[0m\u001b[0margs\u001b[0m\u001b[0;34m,\u001b[0m \u001b[0;34m**\u001b[0m\u001b[0mkwds\u001b[0m\u001b[0;34m)\u001b[0m\u001b[0;34m\u001b[0m\u001b[0m\n\u001b[0m\u001b[1;32m     26\u001b[0m             \u001b[0;32melse\u001b[0m\u001b[0;34m:\u001b[0m\u001b[0;34m\u001b[0m\u001b[0m\n\u001b[1;32m     27\u001b[0m                 \u001b[0;32mreturn\u001b[0m \u001b[0mself\u001b[0m\u001b[0;34m.\u001b[0m\u001b[0mfn\u001b[0m\u001b[0;34m(\u001b[0m\u001b[0mcls\u001b[0m\u001b[0;34m,\u001b[0m \u001b[0;34m*\u001b[0m\u001b[0margs\u001b[0m\u001b[0;34m,\u001b[0m \u001b[0;34m**\u001b[0m\u001b[0mkwds\u001b[0m\u001b[0;34m)\u001b[0m\u001b[0;34m\u001b[0m\u001b[0m\n",
      "\u001b[0;32m~/software/anaconda3/lib/python3.6/site-packages/astroquery/utils/process_asyncs.py\u001b[0m in \u001b[0;36mnewmethod\u001b[0;34m(self, *args, **kwargs)\u001b[0m\n\u001b[1;32m     27\u001b[0m             \u001b[0;32mif\u001b[0m \u001b[0mkwargs\u001b[0m\u001b[0;34m.\u001b[0m\u001b[0mget\u001b[0m\u001b[0;34m(\u001b[0m\u001b[0;34m'get_query_payload'\u001b[0m\u001b[0;34m)\u001b[0m \u001b[0;32mor\u001b[0m \u001b[0mkwargs\u001b[0m\u001b[0;34m.\u001b[0m\u001b[0mget\u001b[0m\u001b[0;34m(\u001b[0m\u001b[0;34m'field_help'\u001b[0m\u001b[0;34m)\u001b[0m\u001b[0;34m:\u001b[0m\u001b[0;34m\u001b[0m\u001b[0m\n\u001b[1;32m     28\u001b[0m                 \u001b[0;32mreturn\u001b[0m \u001b[0mresponse\u001b[0m\u001b[0;34m\u001b[0m\u001b[0m\n\u001b[0;32m---> 29\u001b[0;31m             \u001b[0mresult\u001b[0m \u001b[0;34m=\u001b[0m \u001b[0mself\u001b[0m\u001b[0;34m.\u001b[0m\u001b[0m_parse_result\u001b[0m\u001b[0;34m(\u001b[0m\u001b[0mresponse\u001b[0m\u001b[0;34m,\u001b[0m \u001b[0mverbose\u001b[0m\u001b[0;34m=\u001b[0m\u001b[0mverbose\u001b[0m\u001b[0;34m)\u001b[0m\u001b[0;34m\u001b[0m\u001b[0m\n\u001b[0m\u001b[1;32m     30\u001b[0m             \u001b[0mself\u001b[0m\u001b[0;34m.\u001b[0m\u001b[0mtable\u001b[0m \u001b[0;34m=\u001b[0m \u001b[0mresult\u001b[0m\u001b[0;34m\u001b[0m\u001b[0m\n\u001b[1;32m     31\u001b[0m             \u001b[0;32mreturn\u001b[0m \u001b[0mresult\u001b[0m\u001b[0;34m\u001b[0m\u001b[0m\n",
      "\u001b[0;32m~/software/anaconda3/lib/python3.6/site-packages/astroquery/jplhorizons/core.py\u001b[0m in \u001b[0;36m_parse_result\u001b[0;34m(self, response, verbose)\u001b[0m\n\u001b[1;32m   1221\u001b[0m             \u001b[0;32mreturn\u001b[0m \u001b[0;32mNone\u001b[0m\u001b[0;34m\u001b[0m\u001b[0m\n\u001b[1;32m   1222\u001b[0m         \u001b[0;32melse\u001b[0m\u001b[0;34m:\u001b[0m\u001b[0;34m\u001b[0m\u001b[0m\n\u001b[0;32m-> 1223\u001b[0;31m             \u001b[0mdata\u001b[0m \u001b[0;34m=\u001b[0m \u001b[0mself\u001b[0m\u001b[0;34m.\u001b[0m\u001b[0m_parse_horizons\u001b[0m\u001b[0;34m(\u001b[0m\u001b[0mresponse\u001b[0m\u001b[0;34m.\u001b[0m\u001b[0mtext\u001b[0m\u001b[0;34m)\u001b[0m\u001b[0;34m\u001b[0m\u001b[0m\n\u001b[0m\u001b[1;32m   1224\u001b[0m \u001b[0;34m\u001b[0m\u001b[0m\n\u001b[1;32m   1225\u001b[0m         \u001b[0;32mreturn\u001b[0m \u001b[0mdata\u001b[0m\u001b[0;34m\u001b[0m\u001b[0m\n",
      "\u001b[0;32m~/software/anaconda3/lib/python3.6/site-packages/astroquery/jplhorizons/core.py\u001b[0m in \u001b[0;36m_parse_horizons\u001b[0;34m(self, src)\u001b[0m\n\u001b[1;32m   1096\u001b[0m                     \"No matches found\" in src[idx + 1]):\n\u001b[1;32m   1097\u001b[0m                 raise ValueError(('Unknown target ({:s}). Maybe try '\n\u001b[0;32m-> 1098\u001b[0;31m                                   'different id_type?').format(self.id))\n\u001b[0m\u001b[1;32m   1099\u001b[0m             \u001b[0;31m# catch any unavailability of ephemeris data\u001b[0m\u001b[0;34m\u001b[0m\u001b[0;34m\u001b[0m\u001b[0m\n\u001b[1;32m   1100\u001b[0m             \u001b[0;32mif\u001b[0m \u001b[0;34m\"No ephemeris for target\"\u001b[0m \u001b[0;32min\u001b[0m \u001b[0mline\u001b[0m\u001b[0;34m:\u001b[0m\u001b[0;34m\u001b[0m\u001b[0m\n",
      "\u001b[0;31mValueError\u001b[0m: Unknown target (GOES-1). Maybe try different id_type?"
     ]
    }
   ],
   "source": [
    "eph = Ephem.from_horizons('GOES-1', epochs=[2453452.123245, 2453453.34342, 2453454.342342])"
   ]
  },
  {
   "cell_type": "markdown",
   "metadata": {},
   "source": [
    "This function call raises a `ValueError`. The reason for this error is that astroquery.jplhorizons assumes that the provided target string is a small body. However, GOES-1 is an artifical satellite. As suggested in the provided error message, we need to specificy an `id_type` that is different from the default value (`'smallbody'`). Since sbpy.data.Ephem.from_horizons builds upon astroquery.jplhorizons, we can provide optional parameters for the latter directly to the former. According to the [JPL Horizons documentation](https://ssd.jpl.nasa.gov/?horizons_doc#selection), spacecraft are grouped together with major body, so let's try:"
   ]
  },
  {
   "cell_type": "code",
   "execution_count": 4,
   "metadata": {},
   "outputs": [
    {
     "ename": "ValueError",
     "evalue": "Ambiguous target name; provide unique id:\n  ID#      Name                               Designation  IAU/aliases/other   \n  -------  ---------------------------------- -----------  ------------------- \n  -108366  GOES-1 (spacecraft)                                                  \n  -135491  GOES-14 (spacecraft)                                                 \n ",
     "output_type": "error",
     "traceback": [
      "\u001b[0;31m---------------------------------------------------------------------------\u001b[0m",
      "\u001b[0;31mValueError\u001b[0m                                Traceback (most recent call last)",
      "\u001b[0;32m<ipython-input-4-fb48caa09d4c>\u001b[0m in \u001b[0;36m<module>\u001b[0;34m()\u001b[0m\n\u001b[0;32m----> 1\u001b[0;31m \u001b[0meph\u001b[0m \u001b[0;34m=\u001b[0m \u001b[0mEphem\u001b[0m\u001b[0;34m.\u001b[0m\u001b[0mfrom_horizons\u001b[0m\u001b[0;34m(\u001b[0m\u001b[0;34m'GOES-1'\u001b[0m\u001b[0;34m,\u001b[0m \u001b[0mid_type\u001b[0m\u001b[0;34m=\u001b[0m\u001b[0;34m'majorbody'\u001b[0m\u001b[0;34m,\u001b[0m \u001b[0mepochs\u001b[0m\u001b[0;34m=\u001b[0m\u001b[0;34m[\u001b[0m\u001b[0;36m2453452.123245\u001b[0m\u001b[0;34m,\u001b[0m \u001b[0;36m2453453.34342\u001b[0m\u001b[0;34m,\u001b[0m \u001b[0;36m2453454.342342\u001b[0m\u001b[0;34m]\u001b[0m\u001b[0;34m)\u001b[0m\u001b[0;34m\u001b[0m\u001b[0m\n\u001b[0m",
      "\u001b[0;32m~/lowell/software/sbpy/sbpy/data/ephem.py\u001b[0m in \u001b[0;36mfrom_horizons\u001b[0;34m(cls, targetids, id_type, epochs, location, **kwargs)\u001b[0m\n\u001b[1;32m    106\u001b[0m             obj = Horizons(id=targetid, id_type=id_type,\n\u001b[1;32m    107\u001b[0m                            location=location, epochs=epochs)\n\u001b[0;32m--> 108\u001b[0;31m             \u001b[0meph\u001b[0m \u001b[0;34m=\u001b[0m \u001b[0mobj\u001b[0m\u001b[0;34m.\u001b[0m\u001b[0mephemerides\u001b[0m\u001b[0;34m(\u001b[0m\u001b[0;34m**\u001b[0m\u001b[0mkwargs\u001b[0m\u001b[0;34m)\u001b[0m\u001b[0;34m\u001b[0m\u001b[0m\n\u001b[0m\u001b[1;32m    109\u001b[0m \u001b[0;34m\u001b[0m\u001b[0m\n\u001b[1;32m    110\u001b[0m             \u001b[0;31m# workaround for current version of astroquery to make\u001b[0m\u001b[0;34m\u001b[0m\u001b[0;34m\u001b[0m\u001b[0m\n",
      "\u001b[0;32m~/software/anaconda3/lib/python3.6/site-packages/astroquery/utils/class_or_instance.py\u001b[0m in \u001b[0;36mf\u001b[0;34m(*args, **kwds)\u001b[0m\n\u001b[1;32m     23\u001b[0m         \u001b[0;32mdef\u001b[0m \u001b[0mf\u001b[0m\u001b[0;34m(\u001b[0m\u001b[0;34m*\u001b[0m\u001b[0margs\u001b[0m\u001b[0;34m,\u001b[0m \u001b[0;34m**\u001b[0m\u001b[0mkwds\u001b[0m\u001b[0;34m)\u001b[0m\u001b[0;34m:\u001b[0m\u001b[0;34m\u001b[0m\u001b[0m\n\u001b[1;32m     24\u001b[0m             \u001b[0;32mif\u001b[0m \u001b[0mobj\u001b[0m \u001b[0;32mis\u001b[0m \u001b[0;32mnot\u001b[0m \u001b[0;32mNone\u001b[0m\u001b[0;34m:\u001b[0m\u001b[0;34m\u001b[0m\u001b[0m\n\u001b[0;32m---> 25\u001b[0;31m                 \u001b[0;32mreturn\u001b[0m \u001b[0mself\u001b[0m\u001b[0;34m.\u001b[0m\u001b[0mfn\u001b[0m\u001b[0;34m(\u001b[0m\u001b[0mobj\u001b[0m\u001b[0;34m,\u001b[0m \u001b[0;34m*\u001b[0m\u001b[0margs\u001b[0m\u001b[0;34m,\u001b[0m \u001b[0;34m**\u001b[0m\u001b[0mkwds\u001b[0m\u001b[0;34m)\u001b[0m\u001b[0;34m\u001b[0m\u001b[0m\n\u001b[0m\u001b[1;32m     26\u001b[0m             \u001b[0;32melse\u001b[0m\u001b[0;34m:\u001b[0m\u001b[0;34m\u001b[0m\u001b[0m\n\u001b[1;32m     27\u001b[0m                 \u001b[0;32mreturn\u001b[0m \u001b[0mself\u001b[0m\u001b[0;34m.\u001b[0m\u001b[0mfn\u001b[0m\u001b[0;34m(\u001b[0m\u001b[0mcls\u001b[0m\u001b[0;34m,\u001b[0m \u001b[0;34m*\u001b[0m\u001b[0margs\u001b[0m\u001b[0;34m,\u001b[0m \u001b[0;34m**\u001b[0m\u001b[0mkwds\u001b[0m\u001b[0;34m)\u001b[0m\u001b[0;34m\u001b[0m\u001b[0m\n",
      "\u001b[0;32m~/software/anaconda3/lib/python3.6/site-packages/astroquery/utils/process_asyncs.py\u001b[0m in \u001b[0;36mnewmethod\u001b[0;34m(self, *args, **kwargs)\u001b[0m\n\u001b[1;32m     27\u001b[0m             \u001b[0;32mif\u001b[0m \u001b[0mkwargs\u001b[0m\u001b[0;34m.\u001b[0m\u001b[0mget\u001b[0m\u001b[0;34m(\u001b[0m\u001b[0;34m'get_query_payload'\u001b[0m\u001b[0;34m)\u001b[0m \u001b[0;32mor\u001b[0m \u001b[0mkwargs\u001b[0m\u001b[0;34m.\u001b[0m\u001b[0mget\u001b[0m\u001b[0;34m(\u001b[0m\u001b[0;34m'field_help'\u001b[0m\u001b[0;34m)\u001b[0m\u001b[0;34m:\u001b[0m\u001b[0;34m\u001b[0m\u001b[0m\n\u001b[1;32m     28\u001b[0m                 \u001b[0;32mreturn\u001b[0m \u001b[0mresponse\u001b[0m\u001b[0;34m\u001b[0m\u001b[0m\n\u001b[0;32m---> 29\u001b[0;31m             \u001b[0mresult\u001b[0m \u001b[0;34m=\u001b[0m \u001b[0mself\u001b[0m\u001b[0;34m.\u001b[0m\u001b[0m_parse_result\u001b[0m\u001b[0;34m(\u001b[0m\u001b[0mresponse\u001b[0m\u001b[0;34m,\u001b[0m \u001b[0mverbose\u001b[0m\u001b[0;34m=\u001b[0m\u001b[0mverbose\u001b[0m\u001b[0;34m)\u001b[0m\u001b[0;34m\u001b[0m\u001b[0m\n\u001b[0m\u001b[1;32m     30\u001b[0m             \u001b[0mself\u001b[0m\u001b[0;34m.\u001b[0m\u001b[0mtable\u001b[0m \u001b[0;34m=\u001b[0m \u001b[0mresult\u001b[0m\u001b[0;34m\u001b[0m\u001b[0m\n\u001b[1;32m     31\u001b[0m             \u001b[0;32mreturn\u001b[0m \u001b[0mresult\u001b[0m\u001b[0;34m\u001b[0m\u001b[0m\n",
      "\u001b[0;32m~/software/anaconda3/lib/python3.6/site-packages/astroquery/jplhorizons/core.py\u001b[0m in \u001b[0;36m_parse_result\u001b[0;34m(self, response, verbose)\u001b[0m\n\u001b[1;32m   1221\u001b[0m             \u001b[0;32mreturn\u001b[0m \u001b[0;32mNone\u001b[0m\u001b[0;34m\u001b[0m\u001b[0m\n\u001b[1;32m   1222\u001b[0m         \u001b[0;32melse\u001b[0m\u001b[0;34m:\u001b[0m\u001b[0;34m\u001b[0m\u001b[0m\n\u001b[0;32m-> 1223\u001b[0;31m             \u001b[0mdata\u001b[0m \u001b[0;34m=\u001b[0m \u001b[0mself\u001b[0m\u001b[0;34m.\u001b[0m\u001b[0m_parse_horizons\u001b[0m\u001b[0;34m(\u001b[0m\u001b[0mresponse\u001b[0m\u001b[0;34m.\u001b[0m\u001b[0mtext\u001b[0m\u001b[0;34m)\u001b[0m\u001b[0;34m\u001b[0m\u001b[0m\n\u001b[0m\u001b[1;32m   1224\u001b[0m \u001b[0;34m\u001b[0m\u001b[0m\n\u001b[1;32m   1225\u001b[0m         \u001b[0;32mreturn\u001b[0m \u001b[0mdata\u001b[0m\u001b[0;34m\u001b[0m\u001b[0m\n",
      "\u001b[0;32m~/software/anaconda3/lib/python3.6/site-packages/astroquery/jplhorizons/core.py\u001b[0m in \u001b[0;36m_parse_horizons\u001b[0;34m(self, src)\u001b[0m\n\u001b[1;32m   1091\u001b[0m                 raise ValueError(('Ambiguous target name; provide '\n\u001b[1;32m   1092\u001b[0m                                   \u001b[0;34m'unique id:\\n%s'\u001b[0m \u001b[0;34m%\u001b[0m\u001b[0;34m\u001b[0m\u001b[0m\n\u001b[0;32m-> 1093\u001b[0;31m                                   '\\n'.join(src[idx + 2:end_idx])))\n\u001b[0m\u001b[1;32m   1094\u001b[0m             \u001b[0;31m# catch unknown target\u001b[0m\u001b[0;34m\u001b[0m\u001b[0;34m\u001b[0m\u001b[0m\n\u001b[1;32m   1095\u001b[0m             if (\"Matching small-bodies\" in line and\n",
      "\u001b[0;31mValueError\u001b[0m: Ambiguous target name; provide unique id:\n  ID#      Name                               Designation  IAU/aliases/other   \n  -------  ---------------------------------- -----------  ------------------- \n  -108366  GOES-1 (spacecraft)                                                  \n  -135491  GOES-14 (spacecraft)                                                 \n "
     ]
    }
   ],
   "source": [
    "eph = Ephem.from_horizons('GOES-1', id_type='majorbody', epochs=[2453452.123245, 2453453.34342, 2453454.342342])"
   ]
  },
  {
   "cell_type": "markdown",
   "metadata": {},
   "source": [
    "Another error. This time, the error refers to the target name being ambiguous and provides a list of objects in the database that match the search string. We pick `GOES-1` and use the unique id provided for this object (note that in this case we have to use `id_type='id'`):"
   ]
  },
  {
   "cell_type": "code",
   "execution_count": 5,
   "metadata": {},
   "outputs": [
    {
     "data": {
      "text/html": [
       "<i>QTable masked=True length=3</i>\n",
       "<table id=\"table139635962828168\" class=\"table-striped table-bordered table-condensed\">\n",
       "<thead><tr><th>targetname</th><th>datetime_str</th><th>datetime_jd</th><th>solar_presence</th><th>flags</th><th>RA</th><th>DEC</th><th>RA_app</th><th>DEC_app</th><th>RA_rate</th><th>DEC_rate</th><th>AZ</th><th>EL</th><th>AZ_rate</th><th>EL_rate</th><th>sat_X</th><th>sat_Y</th><th>sat_PANG</th><th>siderealtime</th><th>airmass</th><th>magextinct</th><th>V</th><th>surfbright</th><th>illumination</th><th>illum_defect</th><th>sat_sep</th><th>sat_vis</th><th>ang_width</th><th>PDObsLon</th><th>PDObsLat</th><th>PDSunLon</th><th>PDSunLat</th><th>SubSol_ang</th><th>SubSol_dist</th><th>NPole_ang</th><th>NPole_dist</th><th>EclLon</th><th>EclLat</th><th>r</th><th>r_rate</th><th>delta</th><th>delta_rate</th><th>lighttime</th><th>vel_sun</th><th>vel_obs</th><th>elong</th><th>elongFlag</th><th>alpha</th><th>lunar_elong</th><th>lunar_illum</th><th>sat_alpha</th><th>sunTargetPA</th><th>velocityPA</th><th>OrbPlaneAng</th><th>constellation</th><th>TDB-UT</th><th>ObsEclLon</th><th>ObsEclLat</th><th>NPole_RA</th><th>NPole_DEC</th><th>GlxLon</th><th>GlxLat</th><th>solartime</th><th>earth_lighttime</th><th>RA_3sigma</th><th>DEC_3sigma</th><th>SMAA_3sigma</th><th>SMIA_3sigma</th><th>Theta_3sigma</th><th>Area_3sigma</th><th>RSS_3sigma</th><th>r_3sigma</th><th>r_rate_3sigma</th><th>SBand_3sigma</th><th>XBand_3sigma</th><th>DoppDelay_3sigma</th><th>true_anom</th><th>hour_angle</th><th>alpha_true</th><th>PABLon</th><th>PABLat</th><th>timescale</th></tr></thead>\n",
       "<thead><tr><th></th><th></th><th>d</th><th></th><th></th><th>deg</th><th>deg</th><th>deg</th><th>deg</th><th>arcsec / h</th><th>arcsec / h</th><th>deg</th><th>deg</th><th>arcsec / min</th><th>arcsec / min</th><th>arcsec</th><th>arcsec</th><th>deg</th><th></th><th></th><th>mag</th><th>mag</th><th>mag / arcsec2</th><th>%</th><th>arcsec</th><th>arcsec</th><th></th><th>arcsec</th><th>deg</th><th>deg</th><th>deg</th><th>deg</th><th>deg</th><th>arcsec</th><th>deg</th><th>arcsec</th><th>deg</th><th>deg</th><th>AU</th><th>km / s</th><th>AU</th><th>km / s</th><th>min</th><th>km / s</th><th>km / s</th><th>deg</th><th></th><th>deg</th><th>deg</th><th>%</th><th>deg</th><th>deg</th><th>deg</th><th>deg</th><th></th><th>s</th><th>deg</th><th>deg</th><th>deg</th><th>deg</th><th>deg</th><th>deg</th><th></th><th>min</th><th>arcsec</th><th>arcsec</th><th>arcsec</th><th>arcsec</th><th>deg</th><th>arcsec2</th><th>arcsec</th><th>km</th><th>km / s</th><th>Hz</th><th>Hz</th><th>s</th><th>deg</th><th></th><th>deg</th><th>deg</th><th>deg</th><th></th></tr></thead>\n",
       "<thead><tr><th>str29</th><th>str24</th><th>float64</th><th>str1</th><th>str1</th><th>float64</th><th>float64</th><th>float64</th><th>float64</th><th>float64</th><th>float64</th><th>float64</th><th>float64</th><th>float64</th><th>float64</th><th>float64</th><th>float64</th><th>float64</th><th>int64</th><th>int64</th><th>float64</th><th>float64</th><th>float64</th><th>float64</th><th>float64</th><th>float64</th><th>int64</th><th>float64</th><th>float64</th><th>float64</th><th>float64</th><th>float64</th><th>float64</th><th>float64</th><th>float64</th><th>float64</th><th>float64</th><th>float64</th><th>float64</th><th>float64</th><th>float64</th><th>float64</th><th>float64</th><th>float64</th><th>float64</th><th>float64</th><th>str2</th><th>float64</th><th>float64</th><th>float64</th><th>float64</th><th>float64</th><th>float64</th><th>float64</th><th>str3</th><th>float64</th><th>float64</th><th>float64</th><th>float64</th><th>float64</th><th>float64</th><th>float64</th><th>int64</th><th>float64</th><th>float64</th><th>float64</th><th>float64</th><th>float64</th><th>float64</th><th>float64</th><th>float64</th><th>float64</th><th>float64</th><th>float64</th><th>float64</th><th>float64</th><th>float64</th><th>int64</th><th>float64</th><th>float64</th><th>float64</th><th>str3</th></tr></thead>\n",
       "<tr><td>GOES-1 (spacecraft) (-108366)</td><td>2005-Mar-22 14:57:28.368</td><td>2453452.123245</td><td></td><td></td><td>292.53054</td><td>-13.56267</td><td>292.60033</td><td>-13.55515</td><td>53839.88</td><td>5312.911</td><td>0.0</td><td>0.0</td><td>0.0</td><td>0.0</td><td>0.0</td><td>0.0</td><td>0.0</td><td>--</td><td>999</td><td>0.0</td><td>0.0</td><td>0.0</td><td>33.011</td><td>0.0</td><td>0.0</td><td>--</td><td>0.0</td><td>0.0</td><td>0.0</td><td>0.0</td><td>0.0</td><td>84.09</td><td>0.0</td><td>0.0</td><td>0.0</td><td>182.0342</td><td>0.0022</td><td>0.996462370793</td><td>-2.4006489</td><td>0.00028198033874</td><td>7.54e-05</td><td>0.002345</td><td>28.94338</td><td>3.07344</td><td>70.1227</td><td>/L</td><td>109.8618</td><td>145.1</td><td>89.7</td><td>0.0</td><td>264.115</td><td>52.735</td><td>-8.48354</td><td>Sgr</td><td>64.185623</td><td>292.173953</td><td>8.1630192</td><td>0.0</td><td>0.0</td><td>24.955623</td><td>-14.610802</td><td>--</td><td>0.0</td><td>0.0</td><td>0.0</td><td>0.0</td><td>0.0</td><td>0.0</td><td>0.0</td><td>0.0</td><td>0.0</td><td>0.0</td><td>0.0</td><td>0.0</td><td>0.0</td><td>0.0</td><td>--</td><td>109.8638</td><td>236.6495</td><td>7.1011</td><td>UTC</td></tr>\n",
       "<tr><td>GOES-1 (spacecraft) (-108366)</td><td>2005-Mar-23 20:14:31.488</td><td>2453453.34342</td><td></td><td></td><td>11.72219</td><td>3.09356</td><td>11.78241</td><td>3.1196</td><td>52437.73</td><td>13395.67</td><td>0.0</td><td>0.0</td><td>0.0</td><td>0.0</td><td>0.0</td><td>0.0</td><td>0.0</td><td>--</td><td>999</td><td>0.0</td><td>0.0</td><td>0.0</td><td>0.608</td><td>0.0</td><td>0.0</td><td>--</td><td>0.0</td><td>0.0</td><td>0.0</td><td>0.0</td><td>0.0</td><td>258.51</td><td>0.0</td><td>0.0</td><td>0.0</td><td>183.2266</td><td>-0.0005</td><td>0.996620933601</td><td>0.9627722</td><td>0.00028194287078</td><td>-0.0005526</td><td>0.002345</td><td>26.88044</td><td>3.07419</td><td>8.9376</td><td>/T</td><td>171.0605</td><td>147.7</td><td>95.8</td><td>0.0</td><td>78.509</td><td>65.731</td><td>1.94249</td><td>Psc</td><td>64.185629</td><td>12.0529652</td><td>-1.7868197</td><td>0.0</td><td>0.0</td><td>120.666256</td><td>-59.760301</td><td>--</td><td>0.0</td><td>0.0</td><td>0.0</td><td>0.0</td><td>0.0</td><td>0.0</td><td>0.0</td><td>0.0</td><td>0.0</td><td>0.0</td><td>0.0</td><td>0.0</td><td>0.0</td><td>0.0</td><td>--</td><td>171.055</td><td>97.7863</td><td>-11.5368</td><td>UTC</td></tr>\n",
       "<tr><td>GOES-1 (spacecraft) (-108366)</td><td>2005-Mar-24 20:12:58.349</td><td>2453454.342342</td><td></td><td></td><td>12.1502</td><td>3.20556</td><td>12.21043</td><td>3.23158</td><td>52443.95</td><td>13372.85</td><td>0.0</td><td>0.0</td><td>0.0</td><td>0.0</td><td>0.0</td><td>0.0</td><td>0.0</td><td>--</td><td>999</td><td>0.0</td><td>0.0</td><td>0.0</td><td>0.539</td><td>0.0</td><td>0.0</td><td>--</td><td>0.0</td><td>0.0</td><td>0.0</td><td>0.0</td><td>0.0</td><td>259.73</td><td>0.0</td><td>0.0</td><td>0.0</td><td>184.2166</td><td>-0.0005</td><td>0.996902159044</td><td>0.9379062</td><td>0.00028194166434</td><td>-0.0005518</td><td>0.002345</td><td>26.8658</td><td>3.0742</td><td>8.4107</td><td>/T</td><td>171.5875</td><td>159.7</td><td>98.8</td><td>0.0</td><td>79.723</td><td>65.779</td><td>1.99614</td><td>Psc</td><td>64.185633</td><td>12.4904318</td><td>-1.8500582</td><td>0.0</td><td>0.0</td><td>121.519585</td><td>-59.660567</td><td>--</td><td>0.0</td><td>0.0</td><td>0.0</td><td>0.0</td><td>0.0</td><td>0.0</td><td>0.0</td><td>0.0</td><td>0.0</td><td>0.0</td><td>0.0</td><td>0.0</td><td>0.0</td><td>0.0</td><td>--</td><td>171.582</td><td>98.5263</td><td>-12.7094</td><td>UTC</td></tr>\n",
       "</table>"
      ],
      "text/plain": [
       "<QTable masked=True length=3>\n",
       "          targetname                datetime_str       ...  PABLat  timescale\n",
       "                                                       ...   deg             \n",
       "            str29                      str24           ... float64     str3  \n",
       "----------------------------- ------------------------ ... -------- ---------\n",
       "GOES-1 (spacecraft) (-108366) 2005-Mar-22 14:57:28.368 ...   7.1011       UTC\n",
       "GOES-1 (spacecraft) (-108366) 2005-Mar-23 20:14:31.488 ... -11.5368       UTC\n",
       "GOES-1 (spacecraft) (-108366) 2005-Mar-24 20:12:58.349 ... -12.7094       UTC"
      ]
     },
     "execution_count": 5,
     "metadata": {},
     "output_type": "execute_result"
    }
   ],
   "source": [
    "eph = Ephem.from_horizons('-108366', id_type='id', epochs=[2453452.123245, 2453453.34342, 2453454.342342])\n",
    "eph.table"
   ]
  },
  {
   "cell_type": "markdown",
   "metadata": {},
   "source": [
    "Using Ephem objects\n",
    "-------------------\n",
    "\n",
    "... please refer to [this notebook](https://github.com/NASA-Planetary-Science/sbpy-tutorial/blob/master/notebooks/data/General_concepts.ipynb) for some examples."
   ]
  },
  {
   "cell_type": "markdown",
   "metadata": {},
   "source": [
    "Computing Ephemerides with OpenOrb\n",
    "-------------------------------\n",
    "\n",
    "`sbpy.data.Ephem.from_oo` provides a way to compute ephemerides from an [sbpy.data.Orbit](https://github.com/NASA-Planetary-Science/sbpy-tutorial/blob/master/notebooks/data/General_concepts.ipynb) object. This function requires [pyoorb](https://github.com/oorb/oorb/tree/master/python) to be installed.\n",
    "\n",
    "However, you can use the following code snippet on your computer locally to compute ephemerides for a number of orbits that were obtained from the JPL Horizons system as observed from he Discovery Channel Telescope (observatory code `'G37'`):"
   ]
  },
  {
   "cell_type": "code",
   "execution_count": 6,
   "metadata": {},
   "outputs": [
    {
     "data": {
      "text/html": [
       "<i>QTable length=216</i>\n",
       "<table id=\"table139635963537616\" class=\"table-striped table-bordered table-condensed\">\n",
       "<thead><tr><th>targetname</th><th>MJD</th><th>RA</th><th>DEC</th><th>RA_rate</th><th>DEC_rate</th><th>alpha</th><th>elong</th><th>r</th><th>Delta</th><th>V</th><th>pa</th><th>TopEclLon</th><th>TopEclLat</th><th>OppTopEclLon</th><th>OppTopEclLat</th><th>HelEclLon</th><th>HelEclLat</th><th>OppHelEclLon</th><th>OppHelEclLat</th><th>EL</th><th>ELsun</th><th>ELmoon</th><th>lunarphase</th><th>lunarelong</th><th>x</th><th>y</th><th>z</th><th>vx</th><th>vy</th><th>vz</th><th>obsx</th><th>obsy</th><th>obsz</th></tr></thead>\n",
       "<thead><tr><th></th><th>d</th><th>deg</th><th>deg</th><th>deg / d</th><th>deg / d</th><th>deg</th><th>deg</th><th>AU</th><th>AU</th><th>mag</th><th>deg</th><th>deg</th><th>deg</th><th>deg</th><th>deg</th><th>deg</th><th>deg</th><th>deg</th><th>deg</th><th>deg</th><th>deg</th><th>deg</th><th></th><th>deg</th><th>AU</th><th>AU</th><th>AU</th><th>AU / d</th><th>AU / d</th><th>AU / d</th><th>AU</th><th>AU</th><th>AU</th></tr></thead>\n",
       "<thead><tr><th>str26</th><th>float64</th><th>float64</th><th>float64</th><th>float64</th><th>float64</th><th>float64</th><th>float64</th><th>float64</th><th>float64</th><th>float64</th><th>float64</th><th>float64</th><th>float64</th><th>float64</th><th>float64</th><th>float64</th><th>float64</th><th>float64</th><th>float64</th><th>float64</th><th>float64</th><th>float64</th><th>float64</th><th>float64</th><th>float64</th><th>float64</th><th>float64</th><th>float64</th><th>float64</th><th>float64</th><th>float64</th><th>float64</th><th>float64</th></tr></thead>\n",
       "<tr><td>12893 Mommert (1998 QS55)</td><td>58409.7569293119</td><td>133.59813672935624</td><td>15.206373546131065</td><td>0.25376598339323225</td><td>-0.08162646044239083</td><td>19.509169529202534</td><td>73.31948219302429</td><td>2.8574816219418158</td><td>2.9793714339129713</td><td>19.535114917673837</td><td>107.8309255872122</td><td>131.75260060683533</td><td>-2.139323156263839</td><td>106.69248632440747</td><td>-2.1394864509018205</td><td>112.22931154152235</td><td>-2.2305670800893647</td><td>87.16919725909449</td><td>-2.230730374727346</td><td>37.65839591243318</td><td>43.35633891066735</td><td>-44.17688389669341</td><td>0.688092469279113</td><td>173.3107203799004</td><td>-1.080207336794343</td><td>2.643101280809657</td><td>-0.11121577519963033</td><td>-0.009617242184898966</td><td>-0.0031631676198254884</td><td>9.057933595648282e-05</td><td>0.90241965955896</td><td>0.42195845180019387</td><td>2.8391928750814976e-06</td></tr>\n",
       "<tr><td>12893 Mommert (1998 QS55)</td><td>58409.79859597841</td><td>133.60911235142146</td><td>15.202969603700183</td><td>0.25462048070358617</td><td>-0.08174516367097444</td><td>19.511845937337913</td><td>73.34921396345841</td><td>2.8575110488069506</td><td>2.978855590608938</td><td>19.53484626650216</td><td>107.79907604273923</td><td>131.7637273293328</td><td>-2.1396887148909394</td><td>106.66272816648156</td><td>-2.14005399833907</td><td>112.23775592193653</td><td>-2.230468335530591</td><td>87.1367567590853</td><td>-2.230833618978722</td><td>25.308321601526988</td><td>45.626159737847175</td><td>-32.32089643608873</td><td>0.6924279235924838</td><td>172.77546859127602</td><td>-1.0806080719726556</td><td>2.6429694436360465</td><td>-0.11121199956616357</td><td>-0.009616671143402304</td><td>-0.003164564270628255</td><td>9.063811304521195e-05</td><td>0.9021064124181231</td><td>0.4225967060352306</td><td>6.351074809646251e-06</td></tr>\n",
       "<tr><td>12893 Mommert (1998 QS55)</td><td>58409.84026264539</td><td>133.62012716099588</td><td>15.199562175447396</td><td>0.25557750547130487</td><td>-0.0817926358151653</td><td>19.51456012412706</td><td>73.37890076127499</td><td>2.8575404747305746</td><td>2.978340470543213</td><td>19.53457927303953</td><td>107.74626472884779</td><td>131.7748915861718</td><td>-2.140046554460317</td><td>106.63301576939506</td><td>-2.140592084137498</td><td>112.24620012645086</td><td>-2.2303695446098692</td><td>87.10432430967413</td><td>-2.2309150742870503</td><td>12.997203492529263</td><td>43.45097210235629</td><td>-20.40646538193661</td><td>0.6964135400080278</td><td>172.27214007885902</td><td>-1.0810087833161435</td><td>2.642837548278588</td><td>-0.11120822148389209</td><td>-0.009616099907814299</td><td>-0.0031659608085547646</td><td>9.069688631743625e-05</td><td>0.9017949104063602</td><td>0.42323560095680585</td><td>9.484859608027696e-06</td></tr>\n",
       "<tr><td>12893 Mommert (1998 QS55)</td><td>58409.8819293119</td><td>133.63118400197442</td><td>15.196154338009999</td><td>0.25656301883302013</td><td>-0.0817645042699087</td><td>19.517313924143057</td><td>73.40857463418811</td><td>2.857569899713812</td><td>2.9778254834541307</td><td>19.534313565228018</td><td>107.67664859203992</td><td>131.7860951729564</td><td>-2.1403929559961057</td><td>106.60331750240032</td><td>-2.1410846228566727</td><td>112.25464415557718</td><td>-2.2302707073263637</td><td>87.07186648502109</td><td>-2.2309623741869307</td><td>0.9771591469885361</td><td>37.38718629134101</td><td>-8.652440041359437</td><td>0.700027514299517</td><td>171.8084334733252</td><td>-1.0814094708405095</td><td>2.6427055947341622</td><td>-0.11120444095275106</td><td>-0.009615528478125352</td><td>-0.0031673572336646427</td><td>9.075565577560296e-05</td><td>0.901484833636355</td><td>0.42387563354047214</td><td>1.202557299476159e-05</td></tr>\n",
       "<tr><td>12893 Mommert (1998 QS55)</td><td>58409.92359597841</td><td>133.64228246056027</td><td>15.192749242818781</td><td>0.25750100403868087</td><td>-0.08166156633552428</td><td>19.520106118634338</td><td>73.43826893924467</td><td>2.857599323758837</td><td>2.9773100237019303</td><td>19.534048662546255</td><td>107.5954383221994</td><td>131.79733683904885</td><td>-2.1407249917913935</td><td>106.57360034235762</td><td>-2.1415186575982443</td><td>112.26308801012956</td><td>-2.230171823675676</td><td>87.03935151343832</td><td>-2.230965489482527</td><td>-10.477011230300107</td><td>28.598648024220687</td><td>2.72482736988716</td><td>0.7032705701601674</td><td>171.3883643352497</td><td>-1.0818101345757969</td><td>2.642573582994906</td><td>-0.11120065797253886</td><td>-0.009614956854305369</td><td>-0.0031687535460674767</td><td>9.081442142426185e-05</td><td>0.9011757325750132</td><td>0.4245172076401475</td><td>1.3798874306109044e-05</td></tr>\n",
       "<tr><td>12893 Mommert (1998 QS55)</td><td>58409.96526264539</td><td>133.65341889209796</td><td>15.189349900730292</td><td>0.258318667552645</td><td>-0.08148973370321638</td><td>19.522932517783527</td><td>73.4680160688973</td><td>2.8576287468677197</td><td>2.9767935117324646</td><td>19.533784008874395</td><td>107.50850738529337</td><td>131.8086123716811</td><td>-2.1410407263239533</td><td>106.54383212471207</td><td>-2.1418852483137294</td><td>112.27153169089104</td><td>-2.230072893653778</td><td>87.00675144392201</td><td>-2.230917415643554</td><td>-20.988130364596465</td><td>18.114029849047757</td><td>13.445300360107495</td><td>0.7061664416250837</td><td>171.01225612142906</td><td>-1.0822107745505682</td><td>2.6424415130534245</td><td>-0.11119687254306831</td><td>-0.009614385036326265</td><td>-0.003170149745867693</td><td>9.087318326774754e-05</td><td>0.9008670588668342</td><td>0.4251606062728254</td><td>1.468300201565298e-05</td></tr>\n",
       "<tr><td>12893 Mommert (1998 QS55)</td><td>58410.0069293119</td><td>133.66458666897975</td><td>15.185958976313762</td><td>0.25895142075959887</td><td>-0.08125962714219953</td><td>19.525786246278958</td><td>73.49784524204865</td><td>2.8576581690412763</td><td>2.976275433756439</td><td>19.53351901054238</td><td>107.4219924954277</td><td>131.81991488276842</td><td>-2.141339349231115</td><td>106.51398373676983</td><td>-2.1421800847445063</td><td>112.2799751982863</td><td>-2.229973917260803</td><td>86.97404405228772</td><td>-2.2308146527741943</td><td>-29.992308687835237</td><td>6.623376821232995</td><td>23.10149894317597</td><td>0.7087609201667027</td><td>170.67684018416773</td><td>-1.0826113907763835</td><td>2.642309384907907</td><td>-0.11119308466431088</td><td>-0.009613813024184178</td><td>-0.0031715458331104483</td><td>9.093194130789712e-05</td><td>0.9005582029284172</td><td>0.42580597218272087</td><td>1.4617116697313026e-05</td></tr>\n",
       "<tr><td>12893 Mommert (1998 QS55)</td><td>58410.04859597841</td><td>133.6757766337986</td><td>15.182578605529102</td><td>0.2593473015677813</td><td>-0.08098584923254357</td><td>19.528658212980975</td><td>73.52778051367326</td><td>2.857687590280886</td><td>2.9757553768784324</td><td>19.53325307693228</td><td>107.34191102846968</td><td>131.83123527994903</td><td>-2.141621231242882</td><td>106.48403110074841</td><td>-2.1424037820097617</td><td>112.28841853290064</td><td>-2.229874894494993</td><td>86.94121435370002</td><td>-2.230657445261872</td><td>-36.67492798244991</td><td>-5.434343237207845</td><td>31.091889379069958</td><td>0.7111193427833687</td><td>170.37552301450444</td><td>-1.0830119832724177</td><td>2.642177198554016</td><td>-0.11118929433616553</td><td>-0.009613240817864306</td><td>-0.0031729418078674534</td><td>9.09906955476711e-05</td><td>0.9002485357080017</td><td>0.42645329808021576</td><td>1.3605469663169334e-05</td></tr>\n",
       "<tr><td>12893 Mommert (1998 QS55)</td><td>58410.09026264539</td><td>133.68697772462235</td><td>15.179210249920725</td><td>0.2594705333050595</td><td>-0.08068598502473724</td><td>19.531537732029392</td><td>73.55783913285894</td><td>2.8577170105874234</td><td>2.9752330573745844</td><td>19.532985660908896</td><td>107.27381104655797</td><td>131.84256288746806</td><td>-2.1418878991585504</td><td>106.45395681726825</td><td>-2.1425618385545686</td><td>112.29686169517353</td><td>-2.2297758253563273</td><td>86.9082556249737</td><td>-2.2304497647523456</td><td>-40.06704787148059</td><td>-17.75359683751292</td><td>36.60414596583633</td><td>0.7133225233614113</td><td>170.09885839283186</td><td>-1.0834125520509248</td><td>2.64204495398969</td><td>-0.1111855015585983</td><td>-0.009612668417361695</td><td>-0.0031743376701862617</td><td>9.104944598900717e-05</td><td>0.8999374518093067</td><td>0.42710242709797674</td><td>1.171711145966925e-05</td></tr>\n",
       "<tr><td>...</td><td>...</td><td>...</td><td>...</td><td>...</td><td>...</td><td>...</td><td>...</td><td>...</td><td>...</td><td>...</td><td>...</td><td>...</td><td>...</td><td>...</td><td>...</td><td>...</td><td>...</td><td>...</td><td>...</td><td>...</td><td>...</td><td>...</td><td>...</td><td>...</td><td>...</td><td>...</td><td>...</td><td>...</td><td>...</td><td>...</td><td>...</td><td>...</td><td>...</td></tr>\n",
       "<tr><td>(2018 RC3)</td><td>58412.34026264539</td><td>135.8118241731939</td><td>-13.372577623998138</td><td>0.503444025709341</td><td>-0.12511136630712566</td><td>94.42103324503047</td><td>68.14631334890844</td><td>0.9267455628162014</td><td>0.29913532615801935</td><td>25.278641107639963</td><td>103.95591911702418</td><td>142.76635103310815</td><td>-28.81201869986455</td><td>115.14015196697544</td><td>-28.811519847387395</td><td>42.647982631061296</td><td>-8.949817457715366</td><td>15.021783564928585</td><td>-8.949318605238213</td><td>-11.83282077288384</td><td>-62.55490469224559</td><td>26.89620151851435</td><td>0.45832501683572263</td><td>112.05386527374368</td><td>0.673350046180306</td><td>0.6202186258066884</td><td>-0.14417319345481844</td><td>-0.014353690785292392</td><td>0.016460241679982477</td><td>-0.002778844389219571</td><td>0.8820306745465194</td><td>0.46162816271033946</td><td>-8.667693898817275e-06</td></tr>\n",
       "<tr><td>(2018 RC3)</td><td>58412.3819293119</td><td>135.83314241537525</td><td>-13.377789412082697</td><td>0.4920786704808567</td><td>-0.12482323982397597</td><td>94.39014055456738</td><td>68.16100124374687</td><td>0.9267881812787798</td><td>0.2993877441062113</td><td>25.279205017415048</td><td>104.2337205000145</td><td>142.7906679774176</td><td>-28.810193938792107</td><td>115.1225804640833</td><td>-28.809554672952142</td><td>42.70491086911727</td><td>-8.956645697142653</td><td>15.036823355782976</td><td>-8.95600643130269</td><td>0.23372477613772216</td><td>-53.81064572801293</td><td>24.891934408742795</td><td>0.45829453093235084</td><td>112.05367662287289</td><td>0.6727517794478891</td><td>0.6209042449938158</td><td>-0.1442889280450394</td><td>-0.014364115476836945</td><td>0.016450629366736073</td><td>-0.0027766100898495736</td><td>0.8816795029671526</td><td>0.46226583578591895</td><td>-1.1107243903296649e-05</td></tr>\n",
       "<tr><td>(2018 RC3)</td><td>58412.42359597841</td><td>135.85398276965233</td><td>-13.38297531906774</td><td>0.4812308106849761</td><td>-0.12387405952730855</td><td>94.35878862659541</td><td>68.17608497857988</td><td>0.9268311075232032</td><td>0.299640454978812</td><td>25.279750626456124</td><td>104.43517779647644</td><td>142.81447250553688</td><td>-28.808493775135148</td><td>115.10455169335728</td><td>-28.807759616693243</td><td>42.76183598626649</td><td>-8.963464607467918</td><td>15.05191517408686</td><td>-8.962730449026017</td><td>11.766042442032337</td><td>-42.75702020442871</td><td>23.494354357220733</td><td>0.4582692352654454</td><td>112.05346934759217</td><td>0.6721530786159972</td><td>0.6215894634605618</td><td>-0.14440456950711622</td><td>-0.014374529456186474</td><td>0.016441007769983744</td><td>-0.002774374308425557</td><td>0.8813265166365549</td><td>0.4629014487482607</td><td>-1.2755782310386321e-05</td></tr>\n",
       "<tr><td>(2018 RC3)</td><td>58412.46526264539</td><td>135.87438296200335</td><td>-13.388108745456726</td><td>0.4716178945141496</td><td>-0.12231621053482973</td><td>94.32701110904951</td><td>68.19150357167561</td><td>0.9268743414759062</td><td>0.2998940403469779</td><td>25.280283661856075</td><td>104.53956672439763</td><td>142.8377944306939</td><td>-28.806881249508123</td><td>115.0861235715371</td><td>-28.806104181611254</td><td>42.81875793989613</td><td>-8.970274179140322</td><td>15.067087080739347</td><td>-8.96949711124345</td><td>22.382857464607852</td><td>-30.774788879986932</td><td>22.776637310191948</td><td>0.4582481790247877</td><td>112.05303825858884</td><td>0.6715539441729449</td><td>0.6222742807729619</td><td>-0.14452011777136436</td><td>-0.014384932708369505</td><td>0.016431376908889232</td><td>-0.002772137049212033</td><td>0.8809722769870824</td><td>0.46353473984161825</td><td>-1.3501065255910882e-05</td></tr>\n",
       "<tr><td>(2018 RC3)</td><td>58412.5069293119</td><td>135.89440978663174</td><td>-13.393166158573537</td><td>0.46387205584597335</td><td>-0.12024371086731687</td><td>94.29487005441433</td><td>68.20717437682934</td><td>0.9269178830617038</td><td>0.3001490149500951</td><td>25.28081060511557</td><td>104.53220805528805</td><td>142.86069518829441</td><td>-28.805313070548582</td><td>115.06737991227742</td><td>-28.80454797698839</td><td>42.87567668604343</td><td>-8.977074402486313</td><td>15.082361410026442</td><td>-8.976309308926123</td><td>31.50823323066751</td><td>-18.46969016617409</td><td>22.775888963585714</td><td>0.4582300961913306</td><td>112.05219071997114</td><td>0.6709543766221092</td><td>0.6229586964815665</td><td>-0.14463557276553557</td><td>-0.014395325218213876</td><td>0.016421736802876365</td><td>-0.002769898316531331</td><td>0.8806174000709277</td><td>0.4641655898311621</td><td>-1.3292751033039396e-05</td></tr>\n",
       "<tr><td>(2018 RC3)</td><td>58412.54859597841</td><td>135.9141545057932</td><td>-13.39812870235859</td><td>0.4584969872961413</td><td>-0.11778576763683561</td><td>94.26245164272822</td><td>68.22299876646335</td><td>0.9269617322068889</td><td>0.30040579150338353</td><td>25.281338247314125</td><td>104.40747352001468</td><td>142.88326359901555</td><td>-28.803742582181357</td><td>115.04842466085478</td><td>-28.8030434865524</td><td>42.932592183451334</td><td>-8.983865268194318</td><td>15.097753245290548</td><td>-8.983166172565358</td><td>38.29429986764265</td><td>-6.176889590519185</td><td>23.49139302717957</td><td>0.4582134923331058</td><td>112.05075980724904</td><td>0.6703543764392141</td><td>0.6236427101702093</td><td>-0.14475093442304504</td><td>-0.014405706971087399</td><td>0.01641208747094218</td><td>-0.0027676581146040707</td><td>0.8802625143367464</td><td>0.4647940301929086</td><td>-1.2145849654532359e-05</td></tr>\n",
       "<tr><td>(2018 RC3)</td><td>58412.59026264539</td><td>135.93372657927313</td><td>-13.402983485883315</td><td>0.4558336443557461</td><td>-0.11509791267486004</td><td>94.22986026402249</td><td>68.23886890173655</td><td>0.9270058888380063</td><td>0.30066465245107304</td><td>25.28187322387862</td><td>104.17096781170079</td><td>142.9056097627743</td><td>-28.802122959937034</td><td>115.02937475743684</td><td>-28.80153932327931</td><td>42.98950439189815</td><td>-8.990646767113756</td><td>15.113269386560708</td><td>-8.990063130456035</td><td>41.712635878967134</td><td>5.835840236281862</td><td>24.88467115328247</td><td>0.4581967466705383</td><td>112.04861568545569</td><td>0.6697539440898483</td><td>0.624326321435863</td><td>-0.14486620267956907</td><td>-0.014416077952591328</td><td>0.016402428931938027</td><td>-0.002765416447614558</td><td>0.8799082175916956</td><td>0.4654202409146199</td><td>-1.0139694406080535e-05</td></tr>\n",
       "<tr><td>(2018 RC3)</td><td>58412.6319293119</td><td>135.9532461567291</td><td>-13.407724462511595</td><td>0.45603714146493834</td><td>-0.11235132658845208</td><td>94.19721136403983</td><td>68.25467512599569</td><td>0.9270503528805188</td><td>0.3009257306257847</td><td>25.28242156102215</td><td>103.84002622138594</td><td>142.9278575054771</td><td>-28.800410416310857</td><td>115.01035211713467</td><td>-28.7999837469015</td><td>43.04641327045861</td><td>-8.99741889004743</td><td>15.128907882116186</td><td>-8.99699222063807</td><td>41.039405993902776</td><td>17.262706978189282</td><td>26.881349233601473</td><td>0.4581782224688543</td><td>112.04567443109968</td><td>0.6691530800477935</td><td>0.6250095298677346</td><td>-0.1449813774695192</td><td>-0.014426438148242975</td><td>0.01639276120486429</td><td>-0.0027631733197792203</td><td>0.8795550360630349</td><td>0.4660445381211731</td><td>-7.412506155879406e-06</td></tr>\n",
       "<tr><td>(2018 RC3)</td><td>58412.67359597841</td><td>135.9728358511314</td><td>-13.412352839761164</td><td>0.45906642784014906</td><td>-0.10972108922016555</td><td>94.16462354184777</td><td>68.27031347475511</td><td>0.9270951242618376</td><td>0.3011890001666254</td><td>25.282988265082476</td><td>103.44204312127142</td><td>142.95013589998018</td><td>-28.79856719446885</td><td>114.99147527632947</td><td>-28.798328202171373</td><td>43.10331878136961</td><td>-9.004181628211246</td><td>15.144658157718919</td><td>-9.003942635913766</td><td>36.4308019109191</td><td>27.66623518934185</td><td>29.374130743163928</td><td>0.45815637826563893</td><td>112.04190369688604</td><td>0.668551784754187</td><td>0.6256923350936593</td><td>-0.14509645873386195</td><td>-0.014436787544179151</td><td>0.016383084308213072</td><td>-0.0027609287351941197</td><td>0.8792033883295538</td><td>0.46666735243328233</td><td>-4.151922453010659e-06</td></tr>\n",
       "<tr><td>(2018 RC3)</td><td>58412.71526264539</td><td>135.9926123550023</td><td>-13.41687699087674</td><td>0.46468744122288586</td><td>-0.10737417214118011</td><td>94.13221044860006</td><td>68.28569278270436</td><td>0.9271402029099085</td><td>0.30145427826961935</td><td>25.283576982804217</td><td>103.01084201785612</td><td>142.97257043973593</td><td>-28.79656414484427</td><td>114.97285128366586</td><td>-28.796530635170956</td><td>43.16022088814164</td><td>-9.01093497300773</td><td>15.16050173207158</td><td>-9.01090146333442</td><td>28.783619662484682</td><td>36.36657602181653</td><td>32.2258514067795</td><td>0.45812987239544534</td><td>112.03732483634542</td><td>0.6679500586373741</td><td>0.6263747367573558</td><td>-0.1452114464162797</td><td>-0.014447126126810407</td><td>0.01637339826028707</td><td>-0.00275868269790908</td><td>0.8788535566639535</td><td>0.46728919941937336</td><td>-5.821407717543359e-07</td></tr>\n",
       "</table>"
      ],
      "text/plain": [
       "<QTable length=216>\n",
       "        targetname               MJD        ...           obsz         \n",
       "                                  d         ...            AU          \n",
       "          str26                float64      ...         float64        \n",
       "------------------------- ----------------- ... -----------------------\n",
       "12893 Mommert (1998 QS55)  58409.7569293119 ...  2.8391928750814976e-06\n",
       "12893 Mommert (1998 QS55) 58409.79859597841 ...   6.351074809646251e-06\n",
       "12893 Mommert (1998 QS55) 58409.84026264539 ...   9.484859608027696e-06\n",
       "12893 Mommert (1998 QS55)  58409.8819293119 ...   1.202557299476159e-05\n",
       "12893 Mommert (1998 QS55) 58409.92359597841 ...  1.3798874306109044e-05\n",
       "12893 Mommert (1998 QS55) 58409.96526264539 ...   1.468300201565298e-05\n",
       "12893 Mommert (1998 QS55)  58410.0069293119 ...  1.4617116697313026e-05\n",
       "12893 Mommert (1998 QS55) 58410.04859597841 ...  1.3605469663169334e-05\n",
       "12893 Mommert (1998 QS55) 58410.09026264539 ...   1.171711145966925e-05\n",
       "                      ...               ... ...                     ...\n",
       "               (2018 RC3) 58412.34026264539 ...  -8.667693898817275e-06\n",
       "               (2018 RC3)  58412.3819293119 ... -1.1107243903296649e-05\n",
       "               (2018 RC3) 58412.42359597841 ... -1.2755782310386321e-05\n",
       "               (2018 RC3) 58412.46526264539 ... -1.3501065255910882e-05\n",
       "               (2018 RC3)  58412.5069293119 ... -1.3292751033039396e-05\n",
       "               (2018 RC3) 58412.54859597841 ... -1.2145849654532359e-05\n",
       "               (2018 RC3) 58412.59026264539 ... -1.0139694406080535e-05\n",
       "               (2018 RC3)  58412.6319293119 ...  -7.412506155879406e-06\n",
       "               (2018 RC3) 58412.67359597841 ...  -4.151922453010659e-06\n",
       "               (2018 RC3) 58412.71526264539 ...  -5.821407717543359e-07"
      ]
     },
     "execution_count": 6,
     "metadata": {},
     "output_type": "execute_result"
    }
   ],
   "source": [
    "from sbpy.data import Ephem, Orbit\n",
    "from astropy.time import Time\n",
    "from numpy import arange\n",
    "\n",
    "orbits = Orbit.from_horizons(['12893', '3552', '2018 RC3'])\n",
    "epochs = Time.now().jd + arange(0, 3, 1/24)\n",
    "eph = Ephem.from_oo(orbits, epochs, location='G37')\n",
    "\n",
    "eph.table"
   ]
  },
  {
   "cell_type": "markdown",
   "metadata": {},
   "source": [
    "We can compare the calculated ephemerides to ephemerides provided by JPL Horizons to check their accuracy by calculating the maximum absolute residuals in RA, Dec, and heliocentric distance (r):"
   ]
  },
  {
   "cell_type": "code",
   "execution_count": 7,
   "metadata": {},
   "outputs": [
    {
     "name": "stdout",
     "output_type": "stream",
     "text": [
      "RA: 0.018232642582916014 arcsec\n",
      "DEC 0.01812717567730715 arcsec\n",
      "r: 13.00534292085884 km\n"
     ]
    }
   ],
   "source": [
    "import numpy as np\n",
    "eph_horizons = Ephem.from_horizons(['12893', '3552', '2018 RC3'], epochs=epochs, location='G37')\n",
    "\n",
    "print('RA max residual:', np.max(np.fabs(eph['RA']-eph_horizons['RA']).to('arcsec')))\n",
    "print('DEC max residual', np.max(np.fabs(eph['DEC']-eph_horizons['DEC']).to('arcsec')))\n",
    "print('r max residual:', np.max(np.fabs(eph['r']-eph_horizons['r']).to('km')))"
   ]
  },
  {
   "cell_type": "markdown",
   "metadata": {},
   "source": [
    "Querying Ephemerides from the Minor Planet Center\n",
    "======================\n",
    "\n",
    "Ephemerides from the [Minor Planet Center](http://minorplanetcenter.net) can be queried using the function [sbpy.data.Ephem.from_mpc()](https://sbpy.readthedocs.io/en/latest/api/sbpy.data.Ephem.html#sbpy.data.Ephem.from_mpc), which uses [astroquery.mpc](https://astroquery.readthedocs.io/en/latest/mpc/mpc.html) under the hood and uses the same syntax as [sbpy.data.Ephem.from_horizons](https://sbpy.readthedocs.io/en/latest/api/sbpy.data.Ephem.html#sbpy.data.Ephem.from_horizons). \n",
    "\n",
    "The following example compares ephemerides for asteroid Ceres for a given date and observer location from JPL Horizons and the Minor Planet Center:"
   ]
  },
  {
   "cell_type": "code",
   "execution_count": 3,
   "metadata": {},
   "outputs": [
    {
     "name": "stdout",
     "output_type": "stream",
     "text": [
      "RA residual: 0.22799999996152565 arcsec\n",
      "DEC residual 0.03200000000020964 arcsec\n",
      "r residual: 49377.70036691681 km\n"
     ]
    }
   ],
   "source": [
    "from sbpy.data import Ephem\n",
    "import numpy as np\n",
    "\n",
    "ceres_horizons = Ephem.from_horizons('Ceres', epochs=2451200.5, location=500)\n",
    "ceres_mpc = Ephem.from_mpc('Ceres', epochs=2451200.5, location=500)\n",
    "\n",
    "print('RA residual:', np.max(np.fabs(ceres_mpc['RA']-ceres_horizons['RA']).to('arcsec')))\n",
    "print('DEC residual', np.max(np.fabs(ceres_mpc['DEC']-ceres_horizons['DEC']).to('arcsec')))\n",
    "print('r residual:', np.max(np.fabs(ceres_mpc['r']-ceres_horizons['r']).to('km')))"
   ]
  },
  {
   "cell_type": "code",
   "execution_count": null,
   "metadata": {},
   "outputs": [],
   "source": []
  }
 ],
 "metadata": {
  "kernelspec": {
   "display_name": "Python 3",
   "language": "python",
   "name": "python3"
  },
  "language_info": {
   "codemirror_mode": {
    "name": "ipython",
    "version": 3
   },
   "file_extension": ".py",
   "mimetype": "text/x-python",
   "name": "python",
   "nbconvert_exporter": "python",
   "pygments_lexer": "ipython3",
   "version": "3.6.4"
  }
 },
 "nbformat": 4,
 "nbformat_minor": 2
}
