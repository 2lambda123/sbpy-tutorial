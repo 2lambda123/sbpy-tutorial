{
 "cells": [
  {
   "cell_type": "markdown",
   "metadata": {},
   "source": [
    "General concepts of working with Orbit, Ephem, and Phys objects\n",
    "===============================================================\n",
    "\n",
    "The classes Orbit, Ephem, and Phys are all derived from the same base class ([DataClass](https://sbpy.readthedocs.io/en/latest/api/sbpy.data.DataClass.html#sbpy.data.DataClass)), meaning that they can all be used in the same way. \n",
    "\n",
    "The core of [DataClass](https://sbpy.readthedocs.io/en/latest/api/sbpy.data.DataClass.html#sbpy.data.DataClass) is an astropy [QTable](http://docs.astropy.org/en/stable/api/astropy.table.QTable.html#astropy.table.QTable) object, which is an astropy [Table](http://docs.astropy.org/en/stable/table/) that is aware of [units](http://docs.astropy.org/en/stable/units/). [DataClass](https://sbpy.readthedocs.io/en/latest/api/sbpy.data.DataClass.html#sbpy.data.DataClass) provides a number of convenience functions that make it easy to create and modify the underlying [QTable](http://docs.astropy.org/en/stable/api/astropy.table.QTable.html#astropy.table.QTable) object. If these convenience functions do not cover what you are trying to do, you can directly address and modify the [QTable](http://docs.astropy.org/en/stable/api/astropy.table.QTable.html#astropy.table.QTable) object.\n",
    "\n",
    "For some introductional examples on how to create, access, and modify [DataClass](https://sbpy.readthedocs.io/en/latest/api/sbpy.data.DataClass.html#sbpy.data.DataClass) objects, please have a look at the [documentation](https://sbpy.readthedocs.io/en/latest/sbpy/data.html).\n",
    "\n",
    "In the following sections, we provide some examples that are close to real use cases."
   ]
  },
  {
   "cell_type": "markdown",
   "metadata": {},
   "source": [
    "Adding a column and converting units\n",
    "---------------------------\n",
    "\n",
    "We obtain ephemerides for our target asteroid from JPL Horizons."
   ]
  },
  {
   "cell_type": "code",
   "execution_count": 1,
   "metadata": {},
   "outputs": [
    {
     "data": {
      "text/html": [
       "<i>QTable masked=True length=6</i>\n",
       "<table id=\"table139880156332216\" class=\"table-striped table-bordered table-condensed\">\n",
       "<thead><tr><th>targetname</th><th>datetime_str</th><th>datetime_jd</th><th>H</th><th>G</th><th>solar_presence</th><th>flags</th><th>RA</th><th>DEC</th><th>RA_app</th><th>DEC_app</th><th>RA_rate</th><th>DEC_rate</th><th>AZ</th><th>EL</th><th>AZ_rate</th><th>EL_rate</th><th>sat_X</th><th>sat_Y</th><th>sat_PANG</th><th>siderealtime</th><th>airmass</th><th>magextinct</th><th>V</th><th>illumination</th><th>illum_defect</th><th>sat_sep</th><th>sat_vis</th><th>ang_width</th><th>PDObsLon</th><th>PDObsLat</th><th>PDSunLon</th><th>PDSunLat</th><th>SubSol_ang</th><th>SubSol_dist</th><th>NPole_ang</th><th>NPole_dist</th><th>EclLon</th><th>EclLat</th><th>r</th><th>r_rate</th><th>delta</th><th>delta_rate</th><th>lighttime</th><th>vel_sun</th><th>vel_obs</th><th>elong</th><th>elongFlag</th><th>alpha</th><th>lunar_elong</th><th>lunar_illum</th><th>sat_alpha</th><th>sunTargetPA</th><th>velocityPA</th><th>OrbPlaneAng</th><th>constellation</th><th>TDB-UT</th><th>ObsEclLon</th><th>ObsEclLat</th><th>NPole_RA</th><th>NPole_DEC</th><th>GlxLon</th><th>GlxLat</th><th>solartime</th><th>earth_lighttime</th><th>RA_3sigma</th><th>DEC_3sigma</th><th>SMAA_3sigma</th><th>SMIA_3sigma</th><th>Theta_3sigma</th><th>Area_3sigma</th><th>RSS_3sigma</th><th>r_3sigma</th><th>r_rate_3sigma</th><th>SBand_3sigma</th><th>XBand_3sigma</th><th>DoppDelay_3sigma</th><th>true_anom</th><th>hour_angle</th><th>alpha_true</th><th>PABLon</th><th>PABLat</th><th>timescale</th></tr></thead>\n",
       "<thead><tr><th></th><th></th><th>d</th><th>mag</th><th></th><th></th><th></th><th>deg</th><th>deg</th><th>deg</th><th>deg</th><th>arcsec / h</th><th>arcsec / h</th><th>deg</th><th>deg</th><th>arcsec / min</th><th>arcsec / min</th><th>arcsec</th><th>arcsec</th><th>deg</th><th></th><th></th><th>mag</th><th>mag</th><th>%</th><th>arcsec</th><th>arcsec</th><th></th><th>arcsec</th><th>deg</th><th>deg</th><th>deg</th><th>deg</th><th>deg</th><th>arcsec</th><th>deg</th><th>arcsec</th><th>deg</th><th>deg</th><th>AU</th><th>km / s</th><th>AU</th><th>km / s</th><th>min</th><th>km / s</th><th>km / s</th><th>deg</th><th></th><th>deg</th><th>deg</th><th>%</th><th>deg</th><th>deg</th><th>deg</th><th>deg</th><th></th><th>s</th><th>deg</th><th>deg</th><th>deg</th><th>deg</th><th>deg</th><th>deg</th><th></th><th>min</th><th>arcsec</th><th>arcsec</th><th>arcsec</th><th>arcsec</th><th>deg</th><th>arcsec2</th><th>arcsec</th><th>km</th><th>km / s</th><th>Hz</th><th>Hz</th><th>s</th><th>deg</th><th></th><th>deg</th><th>deg</th><th>deg</th><th></th></tr></thead>\n",
       "<thead><tr><th>str10</th><th>str17</th><th>float64</th><th>float64</th><th>float64</th><th>str1</th><th>str1</th><th>float64</th><th>float64</th><th>float64</th><th>float64</th><th>float64</th><th>float64</th><th>float64</th><th>float64</th><th>float64</th><th>float64</th><th>float64</th><th>float64</th><th>float64</th><th>float64</th><th>float64</th><th>float64</th><th>float64</th><th>float64</th><th>float64</th><th>float64</th><th>str1</th><th>float64</th><th>float64</th><th>float64</th><th>float64</th><th>float64</th><th>float64</th><th>float64</th><th>float64</th><th>float64</th><th>float64</th><th>float64</th><th>float64</th><th>float64</th><th>float64</th><th>float64</th><th>float64</th><th>float64</th><th>float64</th><th>float64</th><th>str2</th><th>float64</th><th>float64</th><th>float64</th><th>float64</th><th>float64</th><th>float64</th><th>float64</th><th>str3</th><th>float64</th><th>float64</th><th>float64</th><th>float64</th><th>float64</th><th>float64</th><th>float64</th><th>float64</th><th>float64</th><th>float64</th><th>float64</th><th>float64</th><th>float64</th><th>float64</th><th>float64</th><th>float64</th><th>float64</th><th>float64</th><th>float64</th><th>float64</th><th>float64</th><th>float64</th><th>float64</th><th>float64</th><th>float64</th><th>float64</th><th>str3</th></tr></thead>\n",
       "<tr><td>(2018 RE3)</td><td>2018-Sep-01 12:00</td><td>2458363.0</td><td>27.3</td><td>0.15</td><td></td><td>m</td><td>336.95173</td><td>0.97543</td><td>337.19193</td><td>1.07232</td><td>-62.6556</td><td>36.73963</td><td>238.9523</td><td>56.8561</td><td>535.08</td><td>-727.83</td><td>629238.4</td><td>-25629.9</td><td>20.303</td><td>0.3419203807</td><td>1.193</td><td>0.13</td><td>22.37</td><td>99.355</td><td>0.0</td><td>612474.9</td><td>*</td><td>0.0</td><td>0.0</td><td>0.0</td><td>0.0</td><td>0.0</td><td>339.91</td><td>0.0</td><td>0.0</td><td>0.0</td><td>338.7724</td><td>0.6558</td><td>1.080246480626</td><td>-10.9442421</td><td>0.07201126545981</td><td>-10.3762343</td><td>0.598899</td><td>31.17143</td><td>10.42967</td><td>170.1319</td><td>/T</td><td>9.2133</td><td>71.4</td><td>66.8</td><td>0.6547</td><td>159.882</td><td>246.752</td><td>-9.20362</td><td>Aqr</td><td>69.182591</td><td>339.3053857</td><td>9.8643952</td><td>0.0</td><td>0.0</td><td>66.187038</td><td>-45.481247</td><td>1.6351407395</td><td>0.000355</td><td>1.147</td><td>1.194</td><td>1.556</td><td>0.567</td><td>-46.495</td><td>5.54</td><td>1.656</td><td>25272.6659</td><td>0.0248138</td><td>393.95</td><td>1431.79</td><td>0.168601</td><td>275.4816</td><td>1.862458292</td><td>9.2132</td><td>338.9039</td><td>5.2605</td><td>UTC</td></tr>\n",
       "<tr><td>(2018 RE3)</td><td>2018-Sep-06 12:00</td><td>2458368.0</td><td>27.3</td><td>0.15</td><td></td><td></td><td>334.92564</td><td>2.96474</td><td>335.16448</td><td>3.06039</td><td>-144.843</td><td>97.00795</td><td>248.278</td><td>52.0563</td><td>438.58</td><td>-790.02</td><td>608405.1</td><td>-11847.2</td><td>46.843</td><td>0.6704726998</td><td>1.267</td><td>0.138</td><td>21.28</td><td>98.689</td><td>0.0</td><td>598721.5</td><td>*</td><td>0.0</td><td>0.0</td><td>0.0</td><td>0.0</td><td>0.0</td><td>313.45</td><td>0.0</td><td>0.0</td><td>0.0</td><td>343.3747</td><td>0.495</td><td>1.048792304319</td><td>-10.8271594</td><td>0.04189463679787</td><td>-10.0344392</td><td>0.348427</td><td>31.9528</td><td>10.14182</td><td>166.3115</td><td>/T</td><td>13.1465</td><td>140.2</td><td>14.1</td><td>0.5394</td><td>133.443</td><td>244.746</td><td>-11.75962</td><td>Peg</td><td>69.182518</td><td>338.1389549</td><td>12.4620776</td><td>0.0</td><td>0.0</td><td>66.363806</td><td>-42.645458</td><td>1.6625138321</td><td>0.000355</td><td>0.878</td><td>0.876</td><td>1.121</td><td>0.53</td><td>-44.881</td><td>3.73</td><td>1.24</td><td>14698.3858</td><td>0.024156</td><td>383.54</td><td>1393.94</td><td>0.098057</td><td>280.0861</td><td>2.326174279</td><td>13.1488</td><td>340.6555</td><td>6.4863</td><td>UTC</td></tr>\n",
       "<tr><td>(2018 RE3)</td><td>2018-Sep-11 12:00</td><td>2458373.0</td><td>27.3</td><td>0.15</td><td></td><td></td><td>323.7034</td><td>13.42585</td><td>323.92995</td><td>13.51197</td><td>-1184.37</td><td>952.1053</td><td>270.9478</td><td>40.8584</td><td>242.67</td><td>-863.93</td><td>553839.9</td><td>32562.78</td><td>54.45</td><td>0.9990141954</td><td>1.526</td><td>0.166</td><td>19.21</td><td>92.936</td><td>0.0</td><td>535684.1</td><td>*</td><td>0.0</td><td>0.0</td><td>0.0</td><td>0.0</td><td>0.0</td><td>303.47</td><td>0.0</td><td>0.0</td><td>0.0</td><td>348.2595</td><td>0.3205</td><td>1.017784866054</td><td>-10.6370306</td><td>0.01285453701319</td><td>-9.1794149</td><td>0.106908</td><td>32.7566</td><td>9.98757</td><td>148.8011</td><td>/T</td><td>30.8237</td><td>129.6</td><td>4.4</td><td>0.3719</td><td>123.507</td><td>233.175</td><td>-25.29035</td><td>Peg</td><td>69.182458</td><td>331.1854466</td><td>26.2353386</td><td>0.0</td><td>0.0</td><td>66.958605</td><td>-27.406584</td><td>1.6912252381</td><td>0.000355</td><td>1.722</td><td>0.752</td><td>1.799</td><td>0.544</td><td>-17.609</td><td>6.15</td><td>1.879</td><td>4493.1707</td><td>0.0222909</td><td>354.37</td><td>1287.92</td><td>0.029975</td><td>284.987</td><td>3.403684468</td><td>30.8262</td><td>340.0626</td><td>13.4255</td><td>UTC</td></tr>\n",
       "<tr><td>(2018 RE3)</td><td>2018-Sep-16 12:00</td><td>2458378.0</td><td>27.3</td><td>0.15</td><td></td><td></td><td>170.05247</td><td>11.50198</td><td>170.28638</td><td>11.40285</td><td>-429.792</td><td>-484.058</td><td>45.5732</td><td>-47.2685</td><td>654.97</td><td>605.32</td><td>-13722.5</td><td>31869.96</td><td>337.042</td><td>1.3275570528</td><td>999.0</td><td>0.0</td><td>36.0</td><td>0.73</td><td>0.0</td><td>34658.36</td><td>*</td><td>0.0</td><td>0.0</td><td>0.0</td><td>0.0</td><td>0.0</td><td>156.58</td><td>0.0</td><td>0.0</td><td>0.0</td><td>353.4521</td><td>0.1225</td><td>0.987477666911</td><td>-10.3069656</td><td>0.01819643837712</td><td>9.6748589</td><td>0.151335</td><td>33.59345</td><td>9.96172</td><td>9.6273</td><td>/L</td><td>170.1962</td><td>90.6</td><td>44.9</td><td>0.1807</td><td>336.562</td><td>107.76</td><td>-7.04649</td><td>Leo</td><td>69.182408</td><td>166.5888996</td><td>6.6392146</td><td>0.0</td><td>0.0</td><td>244.602231</td><td>63.486892</td><td>1.7207604095</td><td>0.000355</td><td>9.288</td><td>9.672</td><td>13.38</td><td>0.878</td><td>46.17</td><td>73.85</td><td>13.409</td><td>6395.1883</td><td>0.02341</td><td>369.41</td><td>1342.59</td><td>0.042664</td><td>290.6062</td><td>-10.024868222</td><td>170.2003</td><td>76.7926</td><td>43.5756</td><td>UTC</td></tr>\n",
       "<tr><td>(2018 RE3)</td><td>2018-Sep-21 12:00</td><td>2458383.0</td><td>27.3</td><td>0.15</td><td></td><td>m</td><td>163.23806</td><td>5.03743</td><td>163.47159</td><td>4.94089</td><td>-39.095</td><td>-72.7217</td><td>63.062</td><td>-42.3874</td><td>486.73</td><td>756.75</td><td>-54402.0</td><td>15579.69</td><td>286.274</td><td>1.6561057404</td><td>999.0</td><td>0.0</td><td>33.0</td><td>2.05</td><td>0.0</td><td>56517.62</td><td>*</td><td>0.0</td><td>0.0</td><td>0.0</td><td>0.0</td><td>0.0</td><td>105.54</td><td>0.0</td><td>0.0</td><td>0.0</td><td>358.9689</td><td>-0.0956</td><td>0.958310156759</td><td>-9.8776568</td><td>0.04756413980489</td><td>10.0591377</td><td>0.395579</td><td>34.39355</td><td>10.09021</td><td>15.6993</td><td>/L</td><td>163.5317</td><td>153.9</td><td>87.5</td><td>0.7752</td><td>285.51</td><td>111.106</td><td>1.37508</td><td>Leo</td><td>69.182368</td><td>162.8739746</td><td>-1.9314537</td><td>0.0</td><td>0.0</td><td>245.675006</td><td>54.16449</td><td>1.7504974205</td><td>0.000355</td><td>10.237</td><td>10.013</td><td>14.303</td><td>0.691</td><td>44.362</td><td>62.12</td><td>14.32</td><td>16737.0845</td><td>0.0244418</td><td>387.27</td><td>1407.5</td><td>0.111658</td><td>296.1295</td><td>-9.242000071</td><td>163.5372</td><td>80.6791</td><td>-7.097</td><td>UTC</td></tr>\n",
       "<tr><td>(2018 RE3)</td><td>2018-Sep-26 12:00</td><td>2458388.0</td><td>27.3</td><td>0.15</td><td></td><td>m</td><td>161.88821</td><td>3.46444</td><td>162.12133</td><td>3.3686</td><td>0.090585</td><td>-28.8419</td><td>68.9881</td><td>-37.7867</td><td>428.84</td><td>792.29</td><td>-75410.3</td><td>16923.16</td><td>282.695</td><td>1.9846434931</td><td>999.0</td><td>0.0</td><td>32.0</td><td>4.048</td><td>0.0</td><td>77273.34</td><td>*</td><td>0.0</td><td>0.0</td><td>0.0</td><td>0.0</td><td>0.0</td><td>102.32</td><td>0.0</td><td>0.0</td><td>0.0</td><td>4.8234</td><td>-0.326</td><td>0.93054697091</td><td>-9.3295765</td><td>0.07789742321353</td><td>10.3530357</td><td>0.647853</td><td>35.18622</td><td>10.36291</td><td>21.4648</td><td>/L</td><td>156.7805</td><td>141.9</td><td>97.9</td><td>1.7611</td><td>282.288</td><td>112.703</td><td>3.31585</td><td>Sex</td><td>69.182339</td><td>162.2258283</td><td>-3.8978396</td><td>0.0</td><td>0.0</td><td>246.150738</td><td>52.114055</td><td>1.7796898204</td><td>0.000355</td><td>10.677</td><td>9.89</td><td>14.54</td><td>0.651</td><td>42.8</td><td>59.49</td><td>14.554</td><td>27436.6771</td><td>0.0252371</td><td>400.37</td><td>1455.12</td><td>0.183038</td><td>301.9874</td><td>-8.823444879</td><td>156.7857</td><td>83.0692</td><td>-10.5497</td><td>UTC</td></tr>\n",
       "</table>"
      ],
      "text/plain": [
       "<QTable masked=True length=6>\n",
       "targetname    datetime_str   datetime_jd    H    ...  PABLon   PABLat  timescale\n",
       "                                  d        mag   ...   deg      deg             \n",
       "  str10          str17         float64   float64 ... float64  float64     str3  \n",
       "---------- ----------------- ----------- ------- ... -------- -------- ---------\n",
       "(2018 RE3) 2018-Sep-01 12:00   2458363.0    27.3 ... 338.9039   5.2605       UTC\n",
       "(2018 RE3) 2018-Sep-06 12:00   2458368.0    27.3 ... 340.6555   6.4863       UTC\n",
       "(2018 RE3) 2018-Sep-11 12:00   2458373.0    27.3 ... 340.0626  13.4255       UTC\n",
       "(2018 RE3) 2018-Sep-16 12:00   2458378.0    27.3 ...  76.7926  43.5756       UTC\n",
       "(2018 RE3) 2018-Sep-21 12:00   2458383.0    27.3 ...  80.6791   -7.097       UTC\n",
       "(2018 RE3) 2018-Sep-26 12:00   2458388.0    27.3 ...  83.0692 -10.5497       UTC"
      ]
     },
     "execution_count": 1,
     "metadata": {},
     "output_type": "execute_result"
    }
   ],
   "source": [
    "from astropy.time import Time\n",
    "from sbpy.data import Ephem\n",
    "\n",
    "epoch1 = Time('2018-09-01 12:00', scale='utc')\n",
    "epoch2 = Time('2018-09-30 12:00', scale='utc')\n",
    "eph = Ephem.from_horizons('2018 RE3',\n",
    "                          location='568',\n",
    "                          epochs={'start': epoch1,\n",
    "                                  'stop': epoch2,\n",
    "                                  'step': '5d'},\n",
    "                          skip_daylight=True)\n",
    "eph.table"
   ]
  },
  {
   "cell_type": "markdown",
   "metadata": {},
   "source": [
    "Sky motion rates are provided for both RA and Dec in units of arcsec per hour:"
   ]
  },
  {
   "cell_type": "code",
   "execution_count": 2,
   "metadata": {},
   "outputs": [
    {
     "name": "stdout",
     "output_type": "stream",
     "text": [
      " RA_rate    DEC_rate \n",
      "arcsec / h arcsec / h\n",
      "---------- ----------\n",
      "  -62.6556   36.73963\n",
      "  -144.843   97.00795\n",
      "  -1184.37   952.1053\n",
      "  -429.792   -484.058\n",
      "   -39.095   -72.7217\n",
      "  0.090585   -28.8419\n"
     ]
    }
   ],
   "source": [
    "print(eph['RA_rate', 'DEC_rate'])"
   ]
  },
  {
   "cell_type": "markdown",
   "metadata": {},
   "source": [
    "Let's assume that we are interested in the absolute sky motion in units of arcsec per second. It would be handy to add a column to `eph` that contains this quantity. This can be easily done using the [add_column](https://sbpy.readthedocs.io/en/latest/api/sbpy.data.DataClass.html#sbpy.data.DataClass.add_column) function. Finally, we want to print a table containing epoch, the distance to the observer, and the corresponding absolute sky motion:"
   ]
  },
  {
   "cell_type": "code",
   "execution_count": 3,
   "metadata": {},
   "outputs": [
    {
     "data": {
      "text/html": [
       "<i>QTable masked=True length=6</i>\n",
       "<table id=\"table139879897597152\" class=\"table-striped table-bordered table-condensed\">\n",
       "<thead><tr><th>datetime_str</th><th>delta</th><th>abs_rate</th></tr></thead>\n",
       "<thead><tr><th></th><th>AU</th><th>arcsec / s</th></tr></thead>\n",
       "<thead><tr><th>str17</th><th>float64</th><th>float64</th></tr></thead>\n",
       "<tr><td>2018-Sep-01 12:00</td><td>0.07201126545981</td><td>0.020175779667146194</td></tr>\n",
       "<tr><td>2018-Sep-06 12:00</td><td>0.04189463679787</td><td>0.04842427349261143</td></tr>\n",
       "<tr><td>2018-Sep-11 12:00</td><td>0.01285453701319</td><td>0.4221159222171138</td></tr>\n",
       "<tr><td>2018-Sep-16 12:00</td><td>0.01819643837712</td><td>0.1798132842091663</td></tr>\n",
       "<tr><td>2018-Sep-21 12:00</td><td>0.04756413980489</td><td>0.022934529529610993</td></tr>\n",
       "<tr><td>2018-Sep-26 12:00</td><td>0.07789742321353</td><td>0.008011678403266262</td></tr>\n",
       "</table>"
      ],
      "text/plain": [
       "<QTable masked=True length=6>\n",
       "   datetime_str        delta             abs_rate      \n",
       "                         AU             arcsec / s     \n",
       "      str17           float64            float64       \n",
       "----------------- ---------------- --------------------\n",
       "2018-Sep-01 12:00 0.07201126545981 0.020175779667146194\n",
       "2018-Sep-06 12:00 0.04189463679787  0.04842427349261143\n",
       "2018-Sep-11 12:00 0.01285453701319   0.4221159222171138\n",
       "2018-Sep-16 12:00 0.01819643837712   0.1798132842091663\n",
       "2018-Sep-21 12:00 0.04756413980489 0.022934529529610993\n",
       "2018-Sep-26 12:00 0.07789742321353 0.008011678403266262"
      ]
     },
     "execution_count": 3,
     "metadata": {},
     "output_type": "execute_result"
    }
   ],
   "source": [
    "import numpy as np\n",
    "eph.add_column(np.sqrt(eph['RA_rate']**2 + eph['DEC_rate']**2).to('arcsec/second'), name='abs_rate')\n",
    "eph['datetime_str', 'delta', 'abs_rate']"
   ]
  },
  {
   "cell_type": "markdown",
   "metadata": {},
   "source": [
    "The function [add_column](https://sbpy.readthedocs.io/en/latest/api/sbpy.data.DataClass.html#sbpy.data.DataClass.add_column) takes two parameters: the data in form of a list or an array, and the name of the new column. The data that we provide here consists of two parts. We derive the absolute sky motion as the geometric sum of the RA and Dec rates (`np.sqrt(eph['RA_rate']**2 + eph['DEC_rate']**2)`). Remember that each of these rates is in units of arcsec per hour. In order to convert the rates to arcsec per sec, we have to apply `.to('arcsec/second')` to this array. Finally, we assign a name to this new column."
   ]
  },
  {
   "cell_type": "markdown",
   "metadata": {},
   "source": [
    "Filtering table content\n",
    "-----------------------\n",
    "\n",
    "We have a list of 5 asteroids that we would like to observe on the night of 2018-09-12 at the Discovery Channel telescope. However, we don't want to observe these asteroids when they have an absolute sky motion rate faster than 0.1 arcsec/s and when the Moon is up."
   ]
  },
  {
   "cell_type": "code",
   "execution_count": 4,
   "metadata": {},
   "outputs": [
    {
     "name": "stdout",
     "output_type": "stream",
     "text": [
      "345\n"
     ]
    }
   ],
   "source": [
    "import numpy as np\n",
    "import astropy.units as u\n",
    "from astropy.time import Time\n",
    "from sbpy.data import Ephem\n",
    "\n",
    "# target list\n",
    "targets = ['2018 RR4', '2018 RE3', '2018 RC4', '2018 RQ2', '2018 RC1']\n",
    "\n",
    "epoch1 = Time('2018-09-13 00:00', scale='utc')\n",
    "epoch2 = Time('2018-09-14 00:00', scale='utc')\n",
    "eph = Ephem.from_horizons(targets,\n",
    "                          location='G37',\n",
    "                          epochs={'start': epoch1,\n",
    "                                  'stop': epoch2,\n",
    "                                  'step': '10m'},\n",
    "                          skip_daylight=True)\n",
    "print(len(eph.table))"
   ]
  },
  {
   "cell_type": "markdown",
   "metadata": {},
   "source": [
    "A total of 345 ephemerides have been queried for the 5 asteroids. Now we apply the absolute sky motion rate (see example above) and moon filters; if the moon is up, `eph['flags']` will be set to `'m'` (see https://ssd.jpl.nasa.gov/?horizons_doc&table_quantities#table_quantities):"
   ]
  },
  {
   "cell_type": "code",
   "execution_count": 5,
   "metadata": {},
   "outputs": [
    {
     "data": {
      "text/html": [
       "<i>QTable masked=True length=55</i>\n",
       "<table id=\"table139880713356960\" class=\"table-striped table-bordered table-condensed\">\n",
       "<thead><tr><th>targetname</th><th>datetime_str</th><th>datetime_jd</th><th>H</th><th>G</th><th>solar_presence</th><th>flags</th><th>RA</th><th>DEC</th><th>RA_app</th><th>DEC_app</th><th>RA_rate</th><th>DEC_rate</th><th>AZ</th><th>EL</th><th>AZ_rate</th><th>EL_rate</th><th>sat_X</th><th>sat_Y</th><th>sat_PANG</th><th>siderealtime</th><th>airmass</th><th>magextinct</th><th>V</th><th>illumination</th><th>illum_defect</th><th>sat_sep</th><th>sat_vis</th><th>ang_width</th><th>PDObsLon</th><th>PDObsLat</th><th>PDSunLon</th><th>PDSunLat</th><th>SubSol_ang</th><th>SubSol_dist</th><th>NPole_ang</th><th>NPole_dist</th><th>EclLon</th><th>EclLat</th><th>r</th><th>r_rate</th><th>delta</th><th>delta_rate</th><th>lighttime</th><th>vel_sun</th><th>vel_obs</th><th>elong</th><th>elongFlag</th><th>alpha</th><th>lunar_elong</th><th>lunar_illum</th><th>sat_alpha</th><th>sunTargetPA</th><th>velocityPA</th><th>OrbPlaneAng</th><th>constellation</th><th>TDB-UT</th><th>ObsEclLon</th><th>ObsEclLat</th><th>NPole_RA</th><th>NPole_DEC</th><th>GlxLon</th><th>GlxLat</th><th>solartime</th><th>earth_lighttime</th><th>RA_3sigma</th><th>DEC_3sigma</th><th>SMAA_3sigma</th><th>SMIA_3sigma</th><th>Theta_3sigma</th><th>Area_3sigma</th><th>RSS_3sigma</th><th>r_3sigma</th><th>r_rate_3sigma</th><th>SBand_3sigma</th><th>XBand_3sigma</th><th>DoppDelay_3sigma</th><th>true_anom</th><th>hour_angle</th><th>alpha_true</th><th>PABLon</th><th>PABLat</th><th>timescale</th></tr></thead>\n",
       "<thead><tr><th></th><th></th><th>d</th><th>mag</th><th></th><th></th><th></th><th>deg</th><th>deg</th><th>deg</th><th>deg</th><th>arcsec / h</th><th>arcsec / h</th><th>deg</th><th>deg</th><th>arcsec / min</th><th>arcsec / min</th><th>arcsec</th><th>arcsec</th><th>deg</th><th></th><th></th><th>mag</th><th>mag</th><th>%</th><th>arcsec</th><th>arcsec</th><th></th><th>arcsec</th><th>deg</th><th>deg</th><th>deg</th><th>deg</th><th>deg</th><th>arcsec</th><th>deg</th><th>arcsec</th><th>deg</th><th>deg</th><th>AU</th><th>km / s</th><th>AU</th><th>km / s</th><th>min</th><th>km / s</th><th>km / s</th><th>deg</th><th></th><th>deg</th><th>deg</th><th>%</th><th>deg</th><th>deg</th><th>deg</th><th>deg</th><th></th><th>s</th><th>deg</th><th>deg</th><th>deg</th><th>deg</th><th>deg</th><th>deg</th><th></th><th>min</th><th>arcsec</th><th>arcsec</th><th>arcsec</th><th>arcsec</th><th>deg</th><th>arcsec2</th><th>arcsec</th><th>km</th><th>km / s</th><th>Hz</th><th>Hz</th><th>s</th><th>deg</th><th></th><th>deg</th><th>deg</th><th>deg</th><th></th></tr></thead>\n",
       "<thead><tr><th>str10</th><th>str17</th><th>float64</th><th>float64</th><th>float64</th><th>str1</th><th>str1</th><th>float64</th><th>float64</th><th>float64</th><th>float64</th><th>float64</th><th>float64</th><th>float64</th><th>float64</th><th>float64</th><th>float64</th><th>float64</th><th>float64</th><th>float64</th><th>float64</th><th>float64</th><th>float64</th><th>float64</th><th>float64</th><th>float64</th><th>float64</th><th>str1</th><th>float64</th><th>float64</th><th>float64</th><th>float64</th><th>float64</th><th>float64</th><th>float64</th><th>float64</th><th>float64</th><th>float64</th><th>float64</th><th>float64</th><th>float64</th><th>float64</th><th>float64</th><th>float64</th><th>float64</th><th>float64</th><th>float64</th><th>str2</th><th>float64</th><th>float64</th><th>float64</th><th>float64</th><th>float64</th><th>float64</th><th>float64</th><th>str3</th><th>float64</th><th>float64</th><th>float64</th><th>float64</th><th>float64</th><th>float64</th><th>float64</th><th>float64</th><th>float64</th><th>float64</th><th>float64</th><th>float64</th><th>float64</th><th>float64</th><th>float64</th><th>float64</th><th>float64</th><th>float64</th><th>float64</th><th>float64</th><th>float64</th><th>float64</th><th>float64</th><th>float64</th><th>float64</th><th>float64</th><th>str3</th></tr></thead>\n",
       "<tr><td>(2018 RC1)</td><td>2018-Sep-13 04:00</td><td>2458374.666666667</td><td>26.2</td><td>0.15</td><td></td><td></td><td>348.86634</td><td>4.40355</td><td>349.10606</td><td>4.50662</td><td>215.1765</td><td>-34.9955</td><td>112.7297</td><td>36.0393</td><td>582.58</td><td>680.86</td><td>639353.4</td><td>2434.566</td><td>13.524</td><td>20.045171878</td><td>1.696</td><td>0.259</td><td>20.04</td><td>99.486</td><td>0.0</td><td>617133.3</td><td>*</td><td>0.0</td><td>0.0</td><td>0.0</td><td>0.0</td><td>0.0</td><td>346.47</td><td>0.0</td><td>0.0</td><td>0.0</td><td>350.1328</td><td>0.3468</td><td>1.048789694574</td><td>-0.5637906</td><td>0.04294028517575</td><td>-0.531611</td><td>0.357123</td><td>31.444</td><td>1.95938</td><td>171.4259</td><td>/T</td><td>8.2243</td><td>135.1</td><td>14.6</td><td>0.3506</td><td>166.407</td><td>248.903</td><td>-8.14265</td><td>Psc</td><td>69.182438</td><td>351.7686515</td><td>8.45459</td><td>0.0</td><td>0.0</td><td>82.97106</td><td>-50.867624</td><td>20.6378180929</td><td>0.000354</td><td>0.361</td><td>0.308</td><td>0.362</td><td>0.307</td><td>-8.49</td><td>0.7</td><td>0.475</td><td>14943.0454</td><td>0.0005703</td><td>9.06</td><td>32.93</td><td>0.099689</td><td>352.912</td><td>-3.228565734</td><td>8.2233</td><td>350.8126</td><td>4.4012</td><td>UTC</td></tr>\n",
       "<tr><td>(2018 RC1)</td><td>2018-Sep-13 04:10</td><td>2458374.673611111</td><td>26.2</td><td>0.15</td><td></td><td></td><td>348.87629</td><td>4.40193</td><td>349.11603</td><td>4.505</td><td>213.7807</td><td>-35.1118</td><td>114.7767</td><td>37.9161</td><td>594.81</td><td>670.24</td><td>639368.6</td><td>2438.305</td><td>13.507</td><td>20.2122948502</td><td>1.624</td><td>0.248</td><td>20.04</td><td>99.487</td><td>0.0</td><td>617151.4</td><td>*</td><td>0.0</td><td>0.0</td><td>0.0</td><td>0.0</td><td>0.0</td><td>346.49</td><td>0.0</td><td>0.0</td><td>0.0</td><td>350.1397</td><td>0.3466</td><td>1.048787434427</td><td>-0.5632513</td><td>0.04293817681952</td><td>-0.5196528</td><td>0.357106</td><td>31.44406</td><td>1.94476</td><td>171.4309</td><td>/T</td><td>8.2195</td><td>135.0</td><td>14.6</td><td>0.3504</td><td>166.424</td><td>248.903</td><td>-8.13756</td><td>Psc</td><td>69.182438</td><td>351.7772288</td><td>8.4491778</td><td>0.0</td><td>0.0</td><td>82.982478</td><td>-50.874649</td><td>20.804522035</td><td>0.000354</td><td>0.36</td><td>0.308</td><td>0.362</td><td>0.307</td><td>-8.835</td><td>0.7</td><td>0.474</td><td>14942.7043</td><td>0.0005688</td><td>9.03</td><td>32.84</td><td>0.099687</td><td>352.9189</td><td>-3.06210693</td><td>8.2185</td><td>350.8204</td><td>4.3984</td><td>UTC</td></tr>\n",
       "<tr><td>(2018 RC1)</td><td>2018-Sep-13 04:20</td><td>2458374.680555556</td><td>26.2</td><td>0.15</td><td></td><td></td><td>348.88619</td><td>4.4003</td><td>349.12593</td><td>4.50337</td><td>212.4429</td><td>-35.2328</td><td>116.9217</td><td>39.7615</td><td>608.15</td><td>658.19</td><td>639383.5</td><td>2442.023</td><td>13.49</td><td>20.3794178224</td><td>1.56</td><td>0.238</td><td>20.04</td><td>99.487</td><td>0.0</td><td>617169.4</td><td>*</td><td>0.0</td><td>0.0</td><td>0.0</td><td>0.0</td><td>0.0</td><td>346.5</td><td>0.0</td><td>0.0</td><td>0.0</td><td>350.1465</td><td>0.3463</td><td>1.048785176444</td><td>-0.562712</td><td>0.0429361174722</td><td>-0.5071759</td><td>0.357089</td><td>31.44412</td><td>1.93052</td><td>171.436</td><td>/T</td><td>8.2147</td><td>134.9</td><td>14.7</td><td>0.3502</td><td>166.441</td><td>248.903</td><td>-8.13248</td><td>Psc</td><td>69.182438</td><td>351.7857448</td><td>8.4437855</td><td>0.0</td><td>0.0</td><td>82.993812</td><td>-50.881641</td><td>20.9712257834</td><td>0.000354</td><td>0.36</td><td>0.308</td><td>0.362</td><td>0.307</td><td>-9.157</td><td>0.7</td><td>0.474</td><td>14942.3642</td><td>0.0005673</td><td>9.01</td><td>32.74</td><td>0.099685</td><td>352.9257</td><td>-2.895643887</td><td>8.2137</td><td>350.8281</td><td>4.3956</td><td>UTC</td></tr>\n",
       "<tr><td>(2018 RC1)</td><td>2018-Sep-13 04:30</td><td>2458374.6875</td><td>26.2</td><td>0.15</td><td></td><td></td><td>348.89602</td><td>4.39866</td><td>349.13576</td><td>4.50174</td><td>211.1656</td><td>-35.3582</td><td>119.1755</td><td>41.5713</td><td>622.64</td><td>644.54</td><td>639398.2</td><td>2445.721</td><td>13.474</td><td>20.5465407947</td><td>1.504</td><td>0.229</td><td>20.04</td><td>99.488</td><td>0.0</td><td>617187.4</td><td>*</td><td>0.0</td><td>0.0</td><td>0.0</td><td>0.0</td><td>0.0</td><td>346.52</td><td>0.0</td><td>0.0</td><td>0.0</td><td>350.1534</td><td>0.3461</td><td>1.048782920623</td><td>-0.5621727</td><td>0.04293410916912</td><td>-0.4942029</td><td>0.357072</td><td>31.44418</td><td>1.91671</td><td>171.441</td><td>/T</td><td>8.2099</td><td>134.8</td><td>14.7</td><td>0.35</td><td>166.457</td><td>248.903</td><td>-8.12742</td><td>Psc</td><td>69.182438</td><td>351.7942021</td><td>8.4384119</td><td>0.0</td><td>0.0</td><td>83.005066</td><td>-50.888602</td><td>21.1379293454</td><td>0.000354</td><td>0.361</td><td>0.308</td><td>0.362</td><td>0.307</td><td>-9.437</td><td>0.7</td><td>0.475</td><td>14942.025</td><td>0.0005659</td><td>8.98</td><td>32.65</td><td>0.099682</td><td>352.9325</td><td>-2.729176786</td><td>8.209</td><td>350.8357</td><td>4.3928</td><td>UTC</td></tr>\n",
       "<tr><td>(2018 RC1)</td><td>2018-Sep-13 04:40</td><td>2458374.694444444</td><td>26.2</td><td>0.15</td><td></td><td></td><td>348.9058</td><td>4.39702</td><td>349.14554</td><td>4.5001</td><td>209.9514</td><td>-35.4878</td><td>121.5493</td><td>43.3406</td><td>638.29</td><td>629.07</td><td>639412.7</td><td>2449.397</td><td>13.458</td><td>20.713663767</td><td>1.455</td><td>0.222</td><td>20.04</td><td>99.488</td><td>0.0</td><td>617205.4</td><td>*</td><td>0.0</td><td>0.0</td><td>0.0</td><td>0.0</td><td>0.0</td><td>346.54</td><td>0.0</td><td>0.0</td><td>0.0</td><td>350.1603</td><td>0.3458</td><td>1.048780666966</td><td>-0.5616334</td><td>0.04293215385419</td><td>-0.4807568</td><td>0.357056</td><td>31.44423</td><td>1.90336</td><td>171.4459</td><td>/T</td><td>8.2051</td><td>134.7</td><td>14.8</td><td>0.3498</td><td>166.473</td><td>248.903</td><td>-8.12238</td><td>Psc</td><td>69.182438</td><td>351.8026032</td><td>8.4330556</td><td>0.0</td><td>0.0</td><td>83.016243</td><td>-50.895533</td><td>21.3046327288</td><td>0.000354</td><td>0.362</td><td>0.308</td><td>0.363</td><td>0.307</td><td>-9.659</td><td>0.7</td><td>0.475</td><td>14941.6868</td><td>0.0005644</td><td>8.96</td><td>32.56</td><td>0.09968</td><td>352.9393</td><td>-2.56270582</td><td>8.2042</td><td>350.8434</td><td>4.3899</td><td>UTC</td></tr>\n",
       "<tr><td>(2018 RC1)</td><td>2018-Sep-13 04:50</td><td>2458374.701388889</td><td>26.2</td><td>0.15</td><td></td><td></td><td>348.91552</td><td>4.39537</td><td>349.15527</td><td>4.49845</td><td>208.8026</td><td>-35.6214</td><td>124.0554</td><td>45.0642</td><td>655.11</td><td>611.57</td><td>639427.0</td><td>2453.05</td><td>13.442</td><td>20.8807867393</td><td>1.411</td><td>0.215</td><td>20.04</td><td>99.489</td><td>0.0</td><td>617223.3</td><td>*</td><td>0.0</td><td>0.0</td><td>0.0</td><td>0.0</td><td>0.0</td><td>346.55</td><td>0.0</td><td>0.0</td><td>0.0</td><td>350.1672</td><td>0.3455</td><td>1.048778415472</td><td>-0.561094</td><td>0.04293025337619</td><td>-0.466862</td><td>0.35704</td><td>31.44429</td><td>1.89052</td><td>171.4509</td><td>/T</td><td>8.2003</td><td>134.6</td><td>14.9</td><td>0.3496</td><td>166.489</td><td>248.902</td><td>-8.11735</td><td>Psc</td><td>69.182438</td><td>351.8109507</td><td>8.4277152</td><td>0.0</td><td>0.0</td><td>83.027347</td><td>-50.902437</td><td>21.4713359415</td><td>0.000354</td><td>0.363</td><td>0.308</td><td>0.365</td><td>0.306</td><td>-9.809</td><td>0.7</td><td>0.477</td><td>14941.3495</td><td>0.0005629</td><td>8.93</td><td>32.47</td><td>0.099678</td><td>352.9461</td><td>-2.396231186</td><td>8.1994</td><td>350.851</td><td>4.3871</td><td>UTC</td></tr>\n",
       "<tr><td>(2018 RC1)</td><td>2018-Sep-13 05:00</td><td>2458374.708333333</td><td>26.2</td><td>0.15</td><td></td><td></td><td>348.92519</td><td>4.39371</td><td>349.16494</td><td>4.4968</td><td>207.7213</td><td>-35.7587</td><td>126.7065</td><td>46.7361</td><td>673.06</td><td>591.78</td><td>639441.1</td><td>2456.681</td><td>13.427</td><td>21.0479097117</td><td>1.371</td><td>0.209</td><td>20.04</td><td>99.489</td><td>0.0</td><td>617241.3</td><td>*</td><td>0.0</td><td>0.0</td><td>0.0</td><td>0.0</td><td>0.0</td><td>346.57</td><td>0.0</td><td>0.0</td><td>0.0</td><td>350.1741</td><td>0.3453</td><td>1.048776166141</td><td>-0.5605547</td><td>0.04292840948519</td><td>-0.4525434</td><td>0.357025</td><td>31.44435</td><td>1.87821</td><td>171.4559</td><td>/T</td><td>8.1956</td><td>134.6</td><td>14.9</td><td>0.3493</td><td>166.504</td><td>248.902</td><td>-8.11234</td><td>Psc</td><td>69.182438</td><td>351.8192476</td><td>8.4223895</td><td>0.0</td><td>0.0</td><td>83.038381</td><td>-50.909315</td><td>21.6380389918</td><td>0.000354</td><td>0.366</td><td>0.308</td><td>0.367</td><td>0.306</td><td>-9.88</td><td>0.71</td><td>0.478</td><td>14941.0133</td><td>0.0005614</td><td>8.91</td><td>32.37</td><td>0.099676</td><td>352.9529</td><td>-2.229753091</td><td>8.1946</td><td>350.8586</td><td>4.3844</td><td>UTC</td></tr>\n",
       "<tr><td>(2018 RC1)</td><td>2018-Sep-13 05:10</td><td>2458374.715277778</td><td>26.2</td><td>0.15</td><td></td><td></td><td>348.93481</td><td>4.39205</td><td>349.17457</td><td>4.49514</td><td>206.7098</td><td>-35.8994</td><td>129.5157</td><td>48.3495</td><td>692.11</td><td>569.42</td><td>639455.1</td><td>2460.287</td><td>13.412</td><td>21.2150326841</td><td>1.337</td><td>0.204</td><td>20.04</td><td>99.49</td><td>0.0</td><td>617259.2</td><td>*</td><td>0.0</td><td>0.0</td><td>0.0</td><td>0.0</td><td>0.0</td><td>346.58</td><td>0.0</td><td>0.0</td><td>0.0</td><td>350.181</td><td>0.345</td><td>1.048773918973</td><td>-0.5600153</td><td>0.04292662382926</td><td>-0.4378269</td><td>0.35701</td><td>31.44441</td><td>1.86646</td><td>171.4609</td><td>/T</td><td>8.1908</td><td>134.5</td><td>15.0</td><td>0.3491</td><td>166.519</td><td>248.902</td><td>-8.10733</td><td>Psc</td><td>69.182438</td><td>351.8274966</td><td>8.417077</td><td>0.0</td><td>0.0</td><td>83.04935</td><td>-50.916169</td><td>21.8047418885</td><td>0.000354</td><td>0.368</td><td>0.308</td><td>0.37</td><td>0.306</td><td>-9.867</td><td>0.71</td><td>0.48</td><td>14940.6779</td><td>0.00056</td><td>8.88</td><td>32.28</td><td>0.099673</td><td>352.9597</td><td>-2.063271746</td><td>8.1899</td><td>350.8662</td><td>4.3816</td><td>UTC</td></tr>\n",
       "<tr><td>(2018 RC1)</td><td>2018-Sep-13 05:20</td><td>2458374.722222222</td><td>26.2</td><td>0.15</td><td></td><td></td><td>348.94439</td><td>4.39038</td><td>349.18415</td><td>4.49348</td><td>205.7699</td><td>-36.0434</td><td>132.4965</td><td>49.8969</td><td>712.13</td><td>544.2</td><td>639468.8</td><td>2463.87</td><td>13.397</td><td>21.3821556565</td><td>1.306</td><td>0.199</td><td>20.04</td><td>99.491</td><td>0.0</td><td>617277.0</td><td>*</td><td>0.0</td><td>0.0</td><td>0.0</td><td>0.0</td><td>0.0</td><td>346.6</td><td>0.0</td><td>0.0</td><td>0.0</td><td>350.1878</td><td>0.3448</td><td>1.048771673969</td><td>-0.559476</td><td>0.04292489795128</td><td>-0.4227391</td><td>0.356995</td><td>31.44447</td><td>1.85532</td><td>171.4658</td><td>/T</td><td>8.1861</td><td>134.4</td><td>15.0</td><td>0.3489</td><td>166.533</td><td>248.902</td><td>-8.10234</td><td>Psc</td><td>69.182438</td><td>351.8357008</td><td>8.4117763</td><td>0.0</td><td>0.0</td><td>83.060257</td><td>-50.923002</td><td>21.9714446403</td><td>0.000354</td><td>0.372</td><td>0.308</td><td>0.374</td><td>0.306</td><td>-9.775</td><td>0.72</td><td>0.483</td><td>14940.3436</td><td>0.0005585</td><td>8.86</td><td>32.19</td><td>0.099671</td><td>352.9666</td><td>-1.896787371</td><td>8.1851</td><td>350.8737</td><td>4.3788</td><td>UTC</td></tr>\n",
       "<tr><td>...</td><td>...</td><td>...</td><td>...</td><td>...</td><td>...</td><td>...</td><td>...</td><td>...</td><td>...</td><td>...</td><td>...</td><td>...</td><td>...</td><td>...</td><td>...</td><td>...</td><td>...</td><td>...</td><td>...</td><td>...</td><td>...</td><td>...</td><td>...</td><td>...</td><td>...</td><td>...</td><td>...</td><td>...</td><td>...</td><td>...</td><td>...</td><td>...</td><td>...</td><td>...</td><td>...</td><td>...</td><td>...</td><td>...</td><td>...</td><td>...</td><td>...</td><td>...</td><td>...</td><td>...</td><td>...</td><td>...</td><td>...</td><td>...</td><td>...</td><td>...</td><td>...</td><td>...</td><td>...</td><td>...</td><td>...</td><td>...</td><td>...</td><td>...</td><td>...</td><td>...</td><td>...</td><td>...</td><td>...</td><td>...</td><td>...</td><td>...</td><td>...</td><td>...</td><td>...</td><td>...</td><td>...</td><td>...</td><td>...</td><td>...</td><td>...</td><td>...</td><td>...</td><td>...</td><td>...</td><td>...</td><td>...</td><td>...</td></tr>\n",
       "<tr><td>(2018 RC1)</td><td>2018-Sep-13 11:30</td><td>2458374.979166667</td><td>26.2</td><td>0.15</td><td></td><td></td><td>349.30026</td><td>4.32374</td><td>349.54006</td><td>4.42696</td><td>225.608</td><td>-41.1726</td><td>258.2596</td><td>23.8177</td><td>528.68</td><td>-723.42</td><td>639981.3</td><td>2578.285</td><td>12.84</td><td>3.5657056618</td><td>2.461</td><td>0.375</td><td>20.03</td><td>99.513</td><td>0.0</td><td>617954.8</td><td>*</td><td>0.0</td><td>0.0</td><td>0.0</td><td>0.0</td><td>0.0</td><td>347.15</td><td>0.0</td><td>0.0</td><td>0.0</td><td>350.4426</td><td>0.3354</td><td>1.048690130008</td><td>-0.5395126</td><td>0.04290634766441</td><td>0.1257177</td><td>0.356841</td><td>31.44656</td><td>1.98638</td><td>171.6541</td><td>/T</td><td>8.0056</td><td>130.5</td><td>17.7</td><td>0.3412</td><td>167.089</td><td>248.898</td><td>-7.91234</td><td>Psc</td><td>69.182437</td><td>352.1385845</td><td>8.2104979</td><td>0.0</td><td>0.0</td><td>83.463712</td><td>-51.179926</td><td>4.1394390954</td><td>0.000354</td><td>0.737</td><td>0.305</td><td>0.737</td><td>0.305</td><td>-1.178</td><td>1.41</td><td>0.798</td><td>14928.649</td><td>0.000504</td><td>7.91</td><td>28.75</td><td>0.099593</td><td>353.2188</td><td>4.263034876</td><td>8.0045</td><td>351.1526</td><td>4.2735</td><td>UTC</td></tr>\n",
       "<tr><td>(2018 RC1)</td><td>2018-Sep-13 11:40</td><td>2458374.986111111</td><td>26.2</td><td>0.15</td><td></td><td></td><td>349.31078</td><td>4.32183</td><td>349.55058</td><td>4.42505</td><td>227.3635</td><td>-41.2439</td><td>259.8446</td><td>21.8027</td><td>523.33</td><td>-727.27</td><td>639998.4</td><td>2580.972</td><td>12.818</td><td>3.7328286356</td><td>2.672</td><td>0.407</td><td>20.03</td><td>99.513</td><td>0.0</td><td>617974.2</td><td>*</td><td>0.0</td><td>0.0</td><td>0.0</td><td>0.0</td><td>0.0</td><td>347.18</td><td>0.0</td><td>0.0</td><td>0.0</td><td>350.4495</td><td>0.3352</td><td>1.04868796724</td><td>-0.5389729</td><td>0.04290686745362</td><td>0.1333711</td><td>0.356846</td><td>31.44661</td><td>2.00191</td><td>171.6595</td><td>/T</td><td>8.0004</td><td>130.4</td><td>17.7</td><td>0.341</td><td>167.111</td><td>248.898</td><td>-7.90678</td><td>Psc</td><td>69.182437</td><td>352.1475519</td><td>8.2046033</td><td>0.0</td><td>0.0</td><td>83.475754</td><td>-51.187445</td><td>4.3061439337</td><td>0.000354</td><td>0.744</td><td>0.305</td><td>0.744</td><td>0.305</td><td>-1.057</td><td>1.43</td><td>0.804</td><td>14928.3516</td><td>0.0005025</td><td>7.88</td><td>28.65</td><td>0.099591</td><td>353.2256</td><td>4.429456927</td><td>7.9994</td><td>351.1605</td><td>4.2704</td><td>UTC</td></tr>\n",
       "<tr><td>(2018 RC1)</td><td>2018-Sep-13 11:50</td><td>2458374.993055556</td><td>26.2</td><td>0.15</td><td>A</td><td></td><td>349.32137</td><td>4.31992</td><td>349.56117</td><td>4.42314</td><td>229.1523</td><td>-41.3093</td><td>261.3927</td><td>19.7779</td><td>518.77</td><td>-730.49</td><td>640015.9</td><td>2583.648</td><td>12.796</td><td>3.8999516094</td><td>2.927</td><td>0.446</td><td>20.03</td><td>99.514</td><td>0.0</td><td>617993.7</td><td>*</td><td>0.0</td><td>0.0</td><td>0.0</td><td>0.0</td><td>0.0</td><td>347.2</td><td>0.0</td><td>0.0</td><td>0.0</td><td>350.4564</td><td>0.3349</td><td>1.048685806636</td><td>-0.5384332</td><td>0.0429074166172</td><td>0.1403635</td><td>0.35685</td><td>31.44667</td><td>2.01769</td><td>171.6649</td><td>/T</td><td>7.9952</td><td>130.3</td><td>17.8</td><td>0.3408</td><td>167.133</td><td>248.898</td><td>-7.90118</td><td>Psc</td><td>69.182437</td><td>352.1565939</td><td>8.1986732</td><td>0.0</td><td>0.0</td><td>83.487905</td><td>-51.195013</td><td>4.4728489987</td><td>0.000354</td><td>0.75</td><td>0.305</td><td>0.75</td><td>0.305</td><td>-0.937</td><td>1.44</td><td>0.81</td><td>14928.0551</td><td>0.0005009</td><td>7.86</td><td>28.55</td><td>0.099589</td><td>353.2324</td><td>4.595873497</td><td>7.9942</td><td>351.1685</td><td>4.2673</td><td>UTC</td></tr>\n",
       "<tr><td>(2018 RC1)</td><td>2018-Sep-13 12:00</td><td>2458375.0</td><td>26.2</td><td>0.15</td><td>A</td><td></td><td>349.33205</td><td>4.318</td><td>349.57185</td><td>4.42123</td><td>230.9711</td><td>-41.3685</td><td>262.909</td><td>17.7449</td><td>514.98</td><td>-733.13</td><td>640033.7</td><td>2586.313</td><td>12.773</td><td>4.0670745833</td><td>3.242</td><td>0.494</td><td>20.03</td><td>99.515</td><td>0.0</td><td>618013.2</td><td>*</td><td>0.0</td><td>0.0</td><td>0.0</td><td>0.0</td><td>0.0</td><td>347.22</td><td>0.0</td><td>0.0</td><td>0.0</td><td>350.4632</td><td>0.3347</td><td>1.048683648198</td><td>-0.5378934</td><td>0.04290799247975</td><td>0.1466829</td><td>0.356855</td><td>31.44672</td><td>2.03369</td><td>171.6703</td><td>/T</td><td>7.99</td><td>130.1</td><td>17.9</td><td>0.3406</td><td>167.156</td><td>248.898</td><td>-7.89556</td><td>Psc</td><td>69.182437</td><td>352.1657121</td><td>8.1927075</td><td>0.0</td><td>0.0</td><td>83.500167</td><td>-51.202628</td><td>4.6395542955</td><td>0.000354</td><td>0.755</td><td>0.305</td><td>0.755</td><td>0.305</td><td>-0.82</td><td>1.45</td><td>0.815</td><td>14927.7597</td><td>0.0004994</td><td>7.83</td><td>28.46</td><td>0.099587</td><td>353.2392</td><td>4.762284487</td><td>7.989</td><td>351.1765</td><td>4.2642</td><td>UTC</td></tr>\n",
       "<tr><td>(2018 RC1)</td><td>2018-Sep-13 12:10</td><td>2458375.006944444</td><td>26.2</td><td>0.15</td><td>A</td><td></td><td>349.34282</td><td>4.31608</td><td>349.58262</td><td>4.41931</td><td>232.8164</td><td>-41.4216</td><td>264.3982</td><td>15.7054</td><td>511.93</td><td>-735.23</td><td>640051.8</td><td>2588.968</td><td>12.75</td><td>4.2341975572</td><td>3.637</td><td>0.555</td><td>20.03</td><td>99.515</td><td>0.0</td><td>618032.8</td><td>*</td><td>0.0</td><td>0.0</td><td>0.0</td><td>0.0</td><td>0.0</td><td>347.24</td><td>0.0</td><td>0.0</td><td>0.0</td><td>350.4701</td><td>0.3344</td><td>1.048681491924</td><td>-0.5373536</td><td>0.04290859232088</td><td>0.1523189</td><td>0.35686</td><td>31.44678</td><td>2.04988</td><td>171.6758</td><td>/T</td><td>7.9847</td><td>130.0</td><td>18.0</td><td>0.3404</td><td>167.179</td><td>248.898</td><td>-7.8899</td><td>Psc</td><td>69.182437</td><td>352.1749077</td><td>8.1867058</td><td>0.0</td><td>0.0</td><td>83.512543</td><td>-51.210293</td><td>4.8062598283</td><td>0.000354</td><td>0.76</td><td>0.305</td><td>0.76</td><td>0.305</td><td>-0.705</td><td>1.46</td><td>0.819</td><td>14927.4652</td><td>0.0004978</td><td>7.8</td><td>28.36</td><td>0.099585</td><td>353.246</td><td>4.92868981</td><td>7.9837</td><td>351.1845</td><td>4.2611</td><td>UTC</td></tr>\n",
       "<tr><td>(2018 RC1)</td><td>2018-Sep-13 12:20</td><td>2458375.013888889</td><td>26.2</td><td>0.15</td><td>N</td><td></td><td>349.35367</td><td>4.31416</td><td>349.59347</td><td>4.41739</td><td>234.6848</td><td>-41.4684</td><td>265.8648</td><td>13.6608</td><td>509.61</td><td>-736.81</td><td>640070.2</td><td>2591.615</td><td>12.726</td><td>4.4013205312</td><td>4.147</td><td>0.632</td><td>20.03</td><td>99.516</td><td>0.0</td><td>618052.5</td><td>*</td><td>0.0</td><td>0.0</td><td>0.0</td><td>0.0</td><td>0.0</td><td>347.27</td><td>0.0</td><td>0.0</td><td>0.0</td><td>350.477</td><td>0.3341</td><td>1.048679337816</td><td>-0.5368139</td><td>0.04290921338034</td><td>0.1572622</td><td>0.356865</td><td>31.44683</td><td>2.06621</td><td>171.6813</td><td>/T</td><td>7.9795</td><td>129.9</td><td>18.0</td><td>0.3402</td><td>167.203</td><td>248.898</td><td>-7.8842</td><td>Psc</td><td>69.182437</td><td>352.1841819</td><td>8.180668</td><td>0.0</td><td>0.0</td><td>83.525033</td><td>-51.218007</td><td>4.9729656014</td><td>0.000354</td><td>0.764</td><td>0.305</td><td>0.764</td><td>0.305</td><td>-0.592</td><td>1.46</td><td>0.823</td><td>14927.1718</td><td>0.0004962</td><td>7.78</td><td>28.26</td><td>0.099583</td><td>353.2528</td><td>5.095089389</td><td>7.9785</td><td>351.1926</td><td>4.2579</td><td>UTC</td></tr>\n",
       "<tr><td>(2018 RC1)</td><td>2018-Sep-13 12:30</td><td>2458375.020833333</td><td>26.2</td><td>0.15</td><td>N</td><td></td><td>349.36461</td><td>4.31224</td><td>349.60441</td><td>4.41547</td><td>236.5727</td><td>-41.5089</td><td>267.3132</td><td>11.6125</td><td>507.99</td><td>-737.89</td><td>640088.9</td><td>2594.255</td><td>12.701</td><td>4.5684435051</td><td>4.826</td><td>0.736</td><td>20.03</td><td>99.517</td><td>0.0</td><td>618072.3</td><td>*</td><td>0.0</td><td>0.0</td><td>0.0</td><td>0.0</td><td>0.0</td><td>347.29</td><td>0.0</td><td>0.0</td><td>0.0</td><td>350.4839</td><td>0.3339</td><td>1.048677185872</td><td>-0.5362741</td><td>0.0429098528633</td><td>0.1615048</td><td>0.35687</td><td>31.44689</td><td>2.08265</td><td>171.6868</td><td>/T</td><td>7.9742</td><td>129.8</td><td>18.1</td><td>0.3399</td><td>167.227</td><td>248.898</td><td>-7.87848</td><td>Psc</td><td>69.182437</td><td>352.1935359</td><td>8.1745938</td><td>0.0</td><td>0.0</td><td>83.537641</td><td>-51.22577</td><td>5.1396716182</td><td>0.000354</td><td>0.768</td><td>0.305</td><td>0.768</td><td>0.305</td><td>-0.48</td><td>1.47</td><td>0.826</td><td>14926.8794</td><td>0.0004946</td><td>7.75</td><td>28.17</td><td>0.099581</td><td>353.2597</td><td>5.261483156</td><td>7.9732</td><td>351.2007</td><td>4.2548</td><td>UTC</td></tr>\n",
       "<tr><td>(2018 RC1)</td><td>2018-Sep-13 12:40</td><td>2458375.027777778</td><td>26.2</td><td>0.15</td><td>N</td><td></td><td>349.37564</td><td>4.31031</td><td>349.61543</td><td>4.41355</td><td>238.4765</td><td>-41.543</td><td>268.7473</td><td>9.5618</td><td>507.05</td><td>-738.5</td><td>640108.0</td><td>2596.888</td><td>12.676</td><td>4.7355664791</td><td>5.771</td><td>0.88</td><td>20.03</td><td>99.517</td><td>0.0</td><td>618092.1</td><td>*</td><td>0.0</td><td>0.0</td><td>0.0</td><td>0.0</td><td>0.0</td><td>347.32</td><td>0.0</td><td>0.0</td><td>0.0</td><td>350.4908</td><td>0.3336</td><td>1.048675036093</td><td>-0.5357343</td><td>0.04291050794564</td><td>0.16504</td><td>0.356876</td><td>31.44694</td><td>2.09917</td><td>171.6923</td><td>/T</td><td>7.9689</td><td>129.7</td><td>18.2</td><td>0.3397</td><td>167.253</td><td>248.898</td><td>-7.87272</td><td>Psc</td><td>69.182437</td><td>352.2029703</td><td>8.1684833</td><td>0.0</td><td>0.0</td><td>83.550367</td><td>-51.233583</td><td>5.3063778818</td><td>0.000354</td><td>0.771</td><td>0.305</td><td>0.771</td><td>0.305</td><td>-0.37</td><td>1.48</td><td>0.829</td><td>14926.588</td><td>0.000493</td><td>7.72</td><td>28.07</td><td>0.099579</td><td>353.2665</td><td>5.427871058</td><td>7.9679</td><td>351.2089</td><td>4.2516</td><td>UTC</td></tr>\n",
       "<tr><td>(2018 RC1)</td><td>2018-Sep-13 12:50</td><td>2458375.034722222</td><td>26.2</td><td>0.15</td><td>C</td><td></td><td>349.38675</td><td>4.30838</td><td>349.62655</td><td>4.41163</td><td>240.3927</td><td>-41.5707</td><td>270.1711</td><td>7.5101</td><td>506.79</td><td>-738.65</td><td>640127.4</td><td>2599.516</td><td>12.65</td><td>4.9026894532</td><td>7.159</td><td>1.091</td><td>20.03</td><td>99.518</td><td>0.0</td><td>618112.1</td><td>*</td><td>0.0</td><td>0.0</td><td>0.0</td><td>0.0</td><td>0.0</td><td>347.34</td><td>0.0</td><td>0.0</td><td>0.0</td><td>350.4977</td><td>0.3334</td><td>1.04867288848</td><td>-0.5351945</td><td>0.04291117577934</td><td>0.1678626</td><td>0.356881</td><td>31.447</td><td>2.11574</td><td>171.6978</td><td>/T</td><td>7.9636</td><td>129.6</td><td>18.3</td><td>0.3395</td><td>167.278</td><td>248.898</td><td>-7.86692</td><td>Psc</td><td>69.182437</td><td>352.2124861</td><td>8.1623364</td><td>0.0</td><td>0.0</td><td>83.563213</td><td>-51.241446</td><td>5.4730843949</td><td>0.000354</td><td>0.773</td><td>0.305</td><td>0.773</td><td>0.305</td><td>-0.261</td><td>1.48</td><td>0.831</td><td>14926.2976</td><td>0.0004914</td><td>7.7</td><td>27.97</td><td>0.099578</td><td>353.2733</td><td>5.594253049</td><td>7.9626</td><td>351.2171</td><td>4.2484</td><td>UTC</td></tr>\n",
       "<tr><td>(2018 RC1)</td><td>2018-Sep-13 13:00</td><td>2458375.041666667</td><td>26.2</td><td>0.15</td><td>C</td><td></td><td>349.39796</td><td>4.30645</td><td>349.63775</td><td>4.4097</td><td>242.3176</td><td>-41.5919</td><td>271.5884</td><td>5.4586</td><td>507.18</td><td>-738.34</td><td>640147.1</td><td>2602.14</td><td>12.624</td><td>5.0698124273</td><td>9.364</td><td>1.428</td><td>20.03</td><td>99.519</td><td>0.0</td><td>618132.0</td><td>*</td><td>0.0</td><td>0.0</td><td>0.0</td><td>0.0</td><td>0.0</td><td>347.37</td><td>0.0</td><td>0.0</td><td>0.0</td><td>350.5046</td><td>0.3331</td><td>1.048670743031</td><td>-0.5346547</td><td>0.04291185349788</td><td>0.1699686</td><td>0.356887</td><td>31.44705</td><td>2.13232</td><td>171.7033</td><td>/T</td><td>7.9583</td><td>129.5</td><td>18.4</td><td>0.3393</td><td>167.305</td><td>248.898</td><td>-7.8611</td><td>Psc</td><td>69.182437</td><td>352.2220837</td><td>8.1561532</td><td>0.0</td><td>0.0</td><td>83.576179</td><td>-51.249358</td><td>5.6397911597</td><td>0.000354</td><td>0.775</td><td>0.305</td><td>0.775</td><td>0.305</td><td>-0.154</td><td>1.48</td><td>0.832</td><td>14926.0082</td><td>0.0004898</td><td>7.67</td><td>27.88</td><td>0.099576</td><td>353.2801</td><td>5.760629097</td><td>7.9572</td><td>351.2253</td><td>4.2452</td><td>UTC</td></tr>\n",
       "</table>"
      ],
      "text/plain": [
       "<QTable masked=True length=55>\n",
       "targetname    datetime_str      datetime_jd    ...  PABLon   PABLat timescale\n",
       "                                     d         ...   deg      deg            \n",
       "  str10          str17            float64      ... float64  float64    str3  \n",
       "---------- ----------------- ----------------- ... -------- ------- ---------\n",
       "(2018 RC1) 2018-Sep-13 04:00 2458374.666666667 ... 350.8126  4.4012       UTC\n",
       "(2018 RC1) 2018-Sep-13 04:10 2458374.673611111 ... 350.8204  4.3984       UTC\n",
       "(2018 RC1) 2018-Sep-13 04:20 2458374.680555556 ... 350.8281  4.3956       UTC\n",
       "(2018 RC1) 2018-Sep-13 04:30      2458374.6875 ... 350.8357  4.3928       UTC\n",
       "(2018 RC1) 2018-Sep-13 04:40 2458374.694444444 ... 350.8434  4.3899       UTC\n",
       "(2018 RC1) 2018-Sep-13 04:50 2458374.701388889 ...  350.851  4.3871       UTC\n",
       "(2018 RC1) 2018-Sep-13 05:00 2458374.708333333 ... 350.8586  4.3844       UTC\n",
       "(2018 RC1) 2018-Sep-13 05:10 2458374.715277778 ... 350.8662  4.3816       UTC\n",
       "(2018 RC1) 2018-Sep-13 05:20 2458374.722222222 ... 350.8737  4.3788       UTC\n",
       "       ...               ...               ... ...      ...     ...       ...\n",
       "(2018 RC1) 2018-Sep-13 11:30 2458374.979166667 ... 351.1526  4.2735       UTC\n",
       "(2018 RC1) 2018-Sep-13 11:40 2458374.986111111 ... 351.1605  4.2704       UTC\n",
       "(2018 RC1) 2018-Sep-13 11:50 2458374.993055556 ... 351.1685  4.2673       UTC\n",
       "(2018 RC1) 2018-Sep-13 12:00         2458375.0 ... 351.1765  4.2642       UTC\n",
       "(2018 RC1) 2018-Sep-13 12:10 2458375.006944444 ... 351.1845  4.2611       UTC\n",
       "(2018 RC1) 2018-Sep-13 12:20 2458375.013888889 ... 351.1926  4.2579       UTC\n",
       "(2018 RC1) 2018-Sep-13 12:30 2458375.020833333 ... 351.2007  4.2548       UTC\n",
       "(2018 RC1) 2018-Sep-13 12:40 2458375.027777778 ... 351.2089  4.2516       UTC\n",
       "(2018 RC1) 2018-Sep-13 12:50 2458375.034722222 ... 351.2171  4.2484       UTC\n",
       "(2018 RC1) 2018-Sep-13 13:00 2458375.041666667 ... 351.2253  4.2452       UTC"
      ]
     },
     "execution_count": 5,
     "metadata": {},
     "output_type": "execute_result"
    }
   ],
   "source": [
    "eph = eph[np.sqrt(eph['RA_rate']**2 + eph['DEC_rate']**2).to('arcsec/second') < 0.1*u.arcsec/u.second]\n",
    "eph = eph[eph['flags'] != 'm'] \n",
    "\n",
    "eph"
   ]
  },
  {
   "cell_type": "markdown",
   "metadata": {},
   "source": [
    "As it turns out, only asteroid 2018 RC1 is observable under these conditions."
   ]
  }
 ],
 "metadata": {
  "kernelspec": {
   "display_name": "Python 3",
   "language": "python",
   "name": "python3"
  },
  "language_info": {
   "codemirror_mode": {
    "name": "ipython",
    "version": 3
   },
   "file_extension": ".py",
   "mimetype": "text/x-python",
   "name": "python",
   "nbconvert_exporter": "python",
   "pygments_lexer": "ipython3",
   "version": "3.6.4"
  }
 },
 "nbformat": 4,
 "nbformat_minor": 2
}
