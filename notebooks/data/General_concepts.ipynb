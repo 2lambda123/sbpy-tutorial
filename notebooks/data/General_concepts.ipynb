{
 "cells": [
  {
   "cell_type": "markdown",
   "metadata": {},
   "source": [
    "General concepts of working with Orbit, Ephem, and Phys objects\n",
    "===============================================================\n",
    "\n",
    "The classes Orbit, Ephem, and Phys are all derived from the same base class ([DataClass](https://sbpy.readthedocs.io/en/latest/api/sbpy.data.DataClass.html#sbpy.data.DataClass)), meaning that they can all be used in the same way. \n",
    "\n",
    "The core of [DataClass](https://sbpy.readthedocs.io/en/latest/api/sbpy.data.DataClass.html#sbpy.data.DataClass) is an astropy [QTable](http://docs.astropy.org/en/stable/api/astropy.table.QTable.html#astropy.table.QTable) object, which is an astropy [Table](http://docs.astropy.org/en/stable/table/) that is aware of [units](http://docs.astropy.org/en/stable/units/). [DataClass](https://sbpy.readthedocs.io/en/latest/api/sbpy.data.DataClass.html#sbpy.data.DataClass) provides a number of convenience functions that make it easy to create and modify the underlying [QTable](http://docs.astropy.org/en/stable/api/astropy.table.QTable.html#astropy.table.QTable) object. If these convenience functions do not cover what you are trying to do, you can directly address and modify the [QTable](http://docs.astropy.org/en/stable/api/astropy.table.QTable.html#astropy.table.QTable) object.\n",
    "\n",
    "For some introductional examples on how to create, access, and modify [DataClass](https://sbpy.readthedocs.io/en/latest/api/sbpy.data.DataClass.html#sbpy.data.DataClass) objects, please have a look at the [documentation](https://sbpy.readthedocs.io/en/latest/sbpy/data.html).\n",
    "\n",
    "In the following sections, we provide some examples that are close to real use cases."
   ]
  },
  {
   "cell_type": "markdown",
   "metadata": {},
   "source": [
    "Adding a column and converting units\n",
    "---------------------------\n",
    "\n",
    "We obtain ephemerides for our target asteroid from JPL Horizons."
   ]
  },
  {
   "cell_type": "code",
   "execution_count": 1,
   "metadata": {},
   "outputs": [
    {
     "name": "stdout",
     "output_type": "stream",
     "text": [
      "targetname    datetime_str   datetime_jd   H    ... alpha_true  PABLon   PABLat \n",
      "                                  d       mag   ...    deg       deg      deg   \n",
      "---------- ----------------- ----------- ------ ... ---------- -------- --------\n",
      "(2018 RE3) 2018-Sep-01 12:00   2458363.0 27.149 ...     9.2118  338.904   5.2608\n",
      "(2018 RE3) 2018-Sep-06 12:00   2458368.0 27.149 ...    13.1477 340.6554   6.4865\n",
      "(2018 RE3) 2018-Sep-11 12:00   2458373.0 27.149 ...    30.8255 340.0625  13.4257\n",
      "(2018 RE3) 2018-Sep-16 12:00   2458378.0 27.149 ...   170.1979  76.7881  43.6054\n",
      "(2018 RE3) 2018-Sep-21 12:00   2458383.0 27.149 ...   163.5381  80.6809  -7.0835\n",
      "(2018 RE3) 2018-Sep-26 12:00   2458388.0 27.149 ...   156.7853  83.0719 -10.5409\n"
     ]
    }
   ],
   "source": [
    "from astropy.time import Time\n",
    "from sbpy.data import Ephem\n",
    "\n",
    "epoch1 = Time('2018-09-01 12:00', scale='utc')\n",
    "epoch2 = Time('2018-09-30 12:00', scale='utc')\n",
    "eph = Ephem.from_horizons('2018 RE3',\n",
    "                          location='568',\n",
    "                          epochs={'start': epoch1,\n",
    "                                  'stop': epoch2,\n",
    "                                  'step': '5d'},\n",
    "                          skip_daylight=True)\n",
    "print(eph.table)"
   ]
  },
  {
   "cell_type": "markdown",
   "metadata": {},
   "source": [
    "Sky motion rates are provided for both RA and Dec in units of arcsec per hour:"
   ]
  },
  {
   "cell_type": "code",
   "execution_count": 2,
   "metadata": {},
   "outputs": [
    {
     "name": "stdout",
     "output_type": "stream",
     "text": [
      " RA_rate    DEC_rate \n",
      "arcsec / h arcsec / h\n",
      "---------- ----------\n",
      "  -62.6186   36.74156\n",
      "  -144.784    97.0164\n",
      "  -1184.16   952.1415\n",
      "  -430.016   -484.145\n",
      "   -39.151   -72.7347\n",
      "  0.061824   -28.8482\n"
     ]
    }
   ],
   "source": [
    "print(eph['RA_rate', 'DEC_rate'])"
   ]
  },
  {
   "cell_type": "markdown",
   "metadata": {},
   "source": [
    "Let's assume that we are interested in the absolute sky motion in units of arcsec per second. It would be handy to add a column to `eph` that contains this quantity. This can be easily done using the [add_column](https://sbpy.readthedocs.io/en/latest/api/sbpy.data.DataClass.html#sbpy.data.DataClass.add_column) function. Finally, we want to print a table containing epoch, the distance to the observer, and the corresponding absolute sky motion:"
   ]
  },
  {
   "cell_type": "code",
   "execution_count": 3,
   "metadata": {},
   "outputs": [
    {
     "name": "stdout",
     "output_type": "stream",
     "text": [
      "   datetime_str        delta             abs_rate      \n",
      "                         AU             arcsec / s     \n",
      "----------------- ---------------- --------------------\n",
      "2018-Sep-01 12:00 0.07211862315233 0.020167185670536096\n",
      "2018-Sep-06 12:00 0.04195739080355   0.0484119639178449\n",
      "2018-Sep-11 12:00 0.01287432734201  0.42207676054461973\n",
      "2018-Sep-16 12:00 0.01822288335488  0.17987267043099792\n",
      "2018-Sep-21 12:00 0.04763409103743 0.022945078994941484\n",
      "2018-Sep-26 12:00 0.07801247284629 0.008013407290781224\n"
     ]
    }
   ],
   "source": [
    "import numpy as np\n",
    "eph.add_column(np.sqrt(eph['RA_rate']**2 + eph['DEC_rate']**2).to('arcsec/second'), name='abs_rate')\n",
    "print(eph['datetime_str', 'delta', 'abs_rate'])"
   ]
  },
  {
   "cell_type": "markdown",
   "metadata": {},
   "source": [
    "The function [add_column](https://sbpy.readthedocs.io/en/latest/api/sbpy.data.DataClass.html#sbpy.data.DataClass.add_column) takes two parameters: the data in form of a list or an array, and the name of the new column. The data that we provide here consists of two parts. We derive the absolute sky motion as the geometric sum of the RA and Dec rates (`np.sqrt(eph['RA_rate']**2 + eph['DEC_rate']**2)`). Remember that each of these rates is in units of arcsec per hour. In order to convert the rates to arcsec per sec, we have to apply `.to('arcsec/second')` to this array. Finally, we assign a name to this new column."
   ]
  },
  {
   "cell_type": "markdown",
   "metadata": {},
   "source": [
    "Filtering table content\n",
    "-----------------------\n",
    "\n",
    "We have a list of 5 asteroids that we would like to observe on the night of 2018-09-12 at the Discovery Channel telescope. However, we don't want to observe these asteroids when they have an absolute sky motion rate faster than 0.1 arcsec/s and when the Moon is up."
   ]
  },
  {
   "cell_type": "code",
   "execution_count": 4,
   "metadata": {},
   "outputs": [
    {
     "name": "stdout",
     "output_type": "stream",
     "text": [
      "345\n"
     ]
    }
   ],
   "source": [
    "import numpy as np\n",
    "import astropy.units as u\n",
    "from astropy.time import Time\n",
    "from sbpy.data import Ephem\n",
    "\n",
    "# target list\n",
    "targets = ['2018 RR4', '2018 RE3', '2018 RC4', '2018 RQ2', '2018 RC1']\n",
    "\n",
    "epoch1 = Time('2018-09-13 00:00', scale='utc')\n",
    "epoch2 = Time('2018-09-14 00:00', scale='utc')\n",
    "eph = Ephem.from_horizons(targets,\n",
    "                          location='G37',\n",
    "                          epochs={'start': epoch1,\n",
    "                                  'stop': epoch2,\n",
    "                                  'step': '10m'},\n",
    "                          skip_daylight=True)\n",
    "print(len(eph.table))"
   ]
  },
  {
   "cell_type": "markdown",
   "metadata": {},
   "source": [
    "A total of 345 ephemerides have been queried for the 5 asteroids. Now we apply the absolute sky motion rate (see example above) and moon filters; if the moon is up, `eph['flags']` will be set to `'m'` (see https://ssd.jpl.nasa.gov/?horizons_doc&table_quantities#table_quantities):"
   ]
  },
  {
   "cell_type": "code",
   "execution_count": 5,
   "metadata": {},
   "outputs": [
    {
     "name": "stdout",
     "output_type": "stream",
     "text": [
      "targetname    datetime_str      datetime_jd    ... alpha_true  PABLon  PABLat\n",
      "                                     d         ...    deg       deg     deg  \n",
      "---------- ----------------- ----------------- ... ---------- -------- ------\n",
      "(2018 RC1) 2018-Sep-13 04:00 2458374.666666667 ...     8.2231 350.8126 4.4013\n",
      "(2018 RC1) 2018-Sep-13 04:10 2458374.673611111 ...     8.2183 350.8203 4.3985\n",
      "(2018 RC1) 2018-Sep-13 04:20 2458374.680555556 ...     8.2135  350.828 4.3957\n",
      "(2018 RC1) 2018-Sep-13 04:30      2458374.6875 ...     8.2087 350.8357 4.3929\n",
      "(2018 RC1) 2018-Sep-13 04:40 2458374.694444444 ...     8.2039 350.8434 4.3901\n",
      "(2018 RC1) 2018-Sep-13 04:50 2458374.701388889 ...     8.1992  350.851 4.3873\n",
      "(2018 RC1) 2018-Sep-13 05:00 2458374.708333333 ...     8.1944 350.8586 4.3845\n",
      "(2018 RC1) 2018-Sep-13 05:10 2458374.715277778 ...     8.1896 350.8661 4.3817\n",
      "(2018 RC1) 2018-Sep-13 05:20 2458374.722222222 ...     8.1849 350.8737 4.3789\n",
      "(2018 RC1) 2018-Sep-13 05:30 2458374.729166667 ...     8.1801 350.8812 4.3761\n",
      "       ...               ...               ... ...        ...      ...    ...\n",
      "(2018 RC1) 2018-Sep-13 11:30 2458374.979166667 ...     8.0043 351.1526 4.2736\n",
      "(2018 RC1) 2018-Sep-13 11:40 2458374.986111111 ...     7.9991 351.1605 4.2705\n",
      "(2018 RC1) 2018-Sep-13 11:50 2458374.993055556 ...     7.9939 351.1685 4.2674\n",
      "(2018 RC1) 2018-Sep-13 12:00         2458375.0 ...     7.9887 351.1765 4.2643\n",
      "(2018 RC1) 2018-Sep-13 12:10 2458375.006944444 ...     7.9835 351.1845 4.2612\n",
      "(2018 RC1) 2018-Sep-13 12:20 2458375.013888889 ...     7.9782 351.1926  4.258\n",
      "(2018 RC1) 2018-Sep-13 12:30 2458375.020833333 ...     7.9729 351.2007 4.2549\n",
      "(2018 RC1) 2018-Sep-13 12:40 2458375.027777778 ...     7.9676 351.2089 4.2517\n",
      "(2018 RC1) 2018-Sep-13 12:50 2458375.034722222 ...     7.9623 351.2171 4.2485\n",
      "(2018 RC1) 2018-Sep-13 13:00 2458375.041666667 ...      7.957 351.2253 4.2453\n",
      "Length = 55 rows\n"
     ]
    }
   ],
   "source": [
    "eph = eph[np.sqrt(eph['RA_rate']**2 + eph['DEC_rate']**2).to('arcsec/second') < 0.1*u.arcsec/u.second]\n",
    "eph = eph[eph['flags'] != 'm'] \n",
    "\n",
    "print(eph)"
   ]
  },
  {
   "cell_type": "markdown",
   "metadata": {},
   "source": [
    "As it turns out, only asteroid 2018 RC1 is observable under these conditions."
   ]
  }
 ],
 "metadata": {
  "kernelspec": {
   "display_name": "Python 3",
   "language": "python",
   "name": "python3"
  },
  "language_info": {
   "codemirror_mode": {
    "name": "ipython",
    "version": 3
   },
   "file_extension": ".py",
   "mimetype": "text/x-python",
   "name": "python",
   "nbconvert_exporter": "python",
   "pygments_lexer": "ipython3",
   "version": "3.6.4"
  }
 },
 "nbformat": 4,
 "nbformat_minor": 2
}
