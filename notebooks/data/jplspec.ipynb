{
 "cells": [
  {
   "cell_type": "markdown",
   "metadata": {},
   "source": [
    "JPLSpec\n",
    "====\n",
    "\n",
    "The astroquery module JPLSpec provides functionalities to query the <a href=\"https://spec.jpl.nasa.gov/ftp/pub/catalog/catform.html\"> JPL molecular spectral catalog </a> and access the metadata of this catalog. The query module imitates the catalog's online browser form and returns an astropy table with the results. What sets apart the JPL molecular spectral catalog from other catalogs is the availability of the partition functions at certain temperatures, from which the partition functions at other temperatures can be interpolated. Another useful thing about the JPL Spectral catalog is that the documentation includes straightforward derivations of other molecular constants using the data obtained from the catalog.  \n",
    "\n",
    "The following examples show the query functionality of JPLSpec. This example queries the transition lines and molecular data of CO from frequencies 100-1000 GHz.\n",
    "\n",
    "*The `molecule` parameter is the molecule you desire to search, which can be either be the catalog tag, the exact name, or a regex (for the regex search the parameter `parse_name_locally` has to be set to True, default is False)*\n"
   ]
  },
  {
   "cell_type": "code",
   "execution_count": 1,
   "metadata": {
    "collapsed": true
   },
   "outputs": [],
   "source": [
    "from astroquery.jplspec import JPLSpec\n",
    "import astropy.units as u\n",
    "from sbpy.data import Phys"
   ]
  },
  {
   "cell_type": "code",
   "execution_count": 2,
   "metadata": {
    "collapsed": false
   },
   "outputs": [
    {
     "name": "stdout",
     "output_type": "stream",
     "text": [
      "    FREQ     ERR    LGINT   DR   ELO   GUP  TAG   QNFMT QN' QN\"\n",
      "    MHz      MHz   MHz nm2      1 / cm                         \n",
      "----------- ------ ------- --- ------- --- ------ ----- --- ---\n",
      "115271.2018 0.0005 -5.0105   2     0.0   3 -28001   101   1   0\n",
      "   230538.0 0.0005 -4.1197   2   3.845   5 -28001   101   2   1\n",
      "345795.9899 0.0005 -3.6118   2  11.535   7 -28001   101   3   2\n",
      "461040.7682 0.0005 -3.2657   2 23.0695   9 -28001   101   4   3\n",
      "576267.9305 0.0005 -3.0118   2 38.4481  11 -28001   101   5   4\n",
      "691473.0763 0.0005 -2.8193   2 57.6704  13 -28001   101   6   5\n",
      " 806651.806  0.005 -2.6716   2 80.7354  15 -28001   101   7   6\n"
     ]
    }
   ],
   "source": [
    "response = JPLSpec.query_lines(min_frequency=100 * u.GHz, \n",
    "                               max_frequency=1000 * u.GHz, #cutoff frequencies of search, given in any unit of Hz\n",
    "                               min_strength=-500, #minimum strength in catalog units, the default is -500\n",
    "                               molecule= \"28001 CO\", #molecule identifier: the catalog species name\n",
    "                               max_lines = 7) #max number of search results you want saved/shown\n",
    "\n",
    "print(response)"
   ]
  },
  {
   "cell_type": "markdown",
   "metadata": {},
   "source": [
    "In the three examples below, a regular expression will be used as the molecular identifier to perform the query instead of the catalog species tag. I will explain with inline comments what the regular expression used does in each example."
   ]
  },
  {
   "cell_type": "code",
   "execution_count": 3,
   "metadata": {
    "collapsed": false
   },
   "outputs": [
    {
     "name": "stdout",
     "output_type": "stream",
     "text": [
      "    FREQ     ERR    LGINT   DR   ELO   GUP  TAG   QNFMT QN' QN\"\n",
      "    MHz      MHz   MHz nm2      1 / cm                         \n",
      "----------- ------ ------- --- ------- --- ------ ----- --- ---\n",
      "115271.2018 0.0005 -5.0105   2     0.0   3 -28001   101   1   0\n",
      "   230538.0 0.0005 -4.1197   2   3.845   5 -28001   101   2   1\n",
      "345795.9899 0.0005 -3.6118   2  11.535   7 -28001   101   3   2\n",
      "461040.7682 0.0005 -3.2657   2 23.0695   9 -28001   101   4   3\n",
      "576267.9305 0.0005 -3.0118   2 38.4481  11 -28001   101   5   4\n",
      "691473.0763 0.0005 -2.8193   2 57.6704  13 -28001   101   6   5\n",
      " 806651.806  0.005 -2.6716   2 80.7354  15 -28001   101   7   6\n"
     ]
    }
   ],
   "source": [
    "response = JPLSpec.query_lines(min_frequency=100 * u.GHz, \n",
    "                               max_frequency=1000 * u.GHz,\n",
    "                               min_strength=-500,\n",
    "                               molecule= \"CO$\", #'$' ensures regex search only matches exactly 'CO' and not i.e.'CO2'\n",
    "                               parse_name_locally=True, #in order to process the molecule parameter as a regex\n",
    "                               max_lines = 7)\n",
    "\n",
    "print(response)"
   ]
  },
  {
   "cell_type": "code",
   "execution_count": 4,
   "metadata": {
    "collapsed": false
   },
   "outputs": [
    {
     "name": "stdout",
     "output_type": "stream",
     "text": [
      "    FREQ     ERR    LGINT    DR    ELO    GUP  TAG   QNFMT   QN'      QN\"   \n",
      "    MHz      MHz   MHz nm2        1 / cm                                    \n",
      "----------- ------ -------- --- --------- --- ------ ----- -------- --------\n",
      "115542.5692 0.6588 -13.2595   3 4606.1683  35  18003  1404 17 810 0 18 513 0\n",
      " 139614.293   0.15  -9.3636   3 3080.1788  87 -18003  1404 14 6 9 0 15 312 0\n",
      " 177317.068   0.15 -10.3413   3 3437.2774  31 -18003  1404 15 610 0 16 313 0\n",
      " 183310.087  0.001  -3.6463   3  136.1639   7 -18003  1404  3 1 3 0  2 2 0 0\n",
      " 247440.096   0.15  -9.0097   3 2872.5806  29 -18003  1404 14 410 0 15 313 0\n",
      " 259952.182    0.2   -8.669   3 2739.4286  27 -18003  1404 13 6 8 0 14 311 0\n",
      "266574.0983 1.8473 -14.1089   3 5739.2279 129  18003  1404 21 417 0 20 714 0\n",
      "289008.0871 2.7396 -15.1447   3 6167.7109 129  18003  1404 21 615 0 20 912 0\n",
      "294805.1937 4.1586 -16.0382   3 6707.3362 135  18003  1404 22 716 0 23 419 0\n",
      " 321225.677 0.0006  -5.0909   3 1282.9191  63 -18003  1404 10 2 9 0  9 3 6 0\n",
      "        ...    ...      ... ...       ... ...    ...   ...      ...      ...\n",
      " 489069.276    0.1  -2.8162   3   109.168  11 -31005   304  6 2 4 5  5 2 3 4\n",
      " 489069.276    0.1  -4.2854   3   109.168  11 -31005   304  6 2 4 5  5 2 3 5\n",
      " 489069.276    0.1  -4.2854   3   109.168  13 -31005   304  6 2 4 6  5 2 3 6\n",
      " 489069.276    0.1  -6.4407   3   109.168  11 -31005   304  6 2 4 5  5 2 3 6\n",
      "498025.3113 0.1412  -4.1258   3   58.6555  11  31005   304  6 1 5 5  5 1 4 5\n",
      " 498027.587    0.1  -2.5073   3   58.6554  15 -31005   304  6 1 5 7  5 1 4 6\n",
      " 498027.587    0.1  -2.5817   3   58.6555  13 -31005   304  6 1 5 6  5 1 4 5\n",
      " 498027.587    0.1  -2.6566   3   58.6554  11 -31005   304  6 1 5 5  5 1 4 4\n",
      " 498027.587    0.1  -6.2811   3   58.6554  11 -31005   304  6 1 5 5  5 1 4 6\n",
      "498029.6198 0.1296  -4.1258   3   58.6554  13  31005   304  6 1 5 6  5 1 4 6\n",
      "Length = 834 rows\n"
     ]
    }
   ],
   "source": [
    "response1 = JPLSpec.query_lines(min_frequency=100 * u.GHz, \n",
    "                               max_frequency=500 * u.GHz,\n",
    "                               min_strength=-500,\n",
    "                               molecule= \"^H.O$\", #matches any word that starts with an H, ends with an O, and contains any character in between\n",
    "                               parse_name_locally=True) #in order to process the molecule parameter as a regex\n",
    "\n",
    "print(response1)"
   ]
  },
  {
   "cell_type": "code",
   "execution_count": 5,
   "metadata": {
    "collapsed": false
   },
   "outputs": [
    {
     "name": "stdout",
     "output_type": "stream",
     "text": [
      "    FREQ      ERR    LGINT    DR    ELO    GUP  TAG   QNFMT   QN'      QN\"   \n",
      "    MHz       MHz   MHz nm2        1 / cm                                    \n",
      "----------- ------- -------- --- --------- --- ------ ----- -------- --------\n",
      "115542.5692  0.6588 -13.2595   3 4606.1683  35  18003  1404 17 810 0 18 513 0\n",
      " 139614.293    0.15  -9.3636   3 3080.1788  87 -18003  1404 14 6 9 0 15 312 0\n",
      " 177317.068    0.15 -10.3413   3 3437.2774  31 -18003  1404 15 610 0 16 313 0\n",
      " 183310.087   0.001  -3.6463   3  136.1639   7 -18003  1404  3 1 3 0  2 2 0 0\n",
      " 247440.096    0.15  -9.0097   3 2872.5806  29 -18003  1404 14 410 0 15 313 0\n",
      " 259952.182     0.2   -8.669   3 2739.4286  27 -18003  1404 13 6 8 0 14 311 0\n",
      "266574.0983  1.8473 -14.1089   3 5739.2279 129  18003  1404 21 417 0 20 714 0\n",
      "289008.0871  2.7396 -15.1447   3 6167.7109 129  18003  1404 21 615 0 20 912 0\n",
      "294805.1937  4.1586 -16.0382   3 6707.3362 135  18003  1404 22 716 0 23 419 0\n",
      " 321225.677  0.0006  -5.0909   3 1282.9191  63 -18003  1404 10 2 9 0  9 3 6 0\n",
      "        ...     ...      ... ...       ... ...    ...   ...      ...      ...\n",
      "561944.1772  0.6109   -3.846   3  630.3054  17  21001   303    8 2 6    9 1 9\n",
      "566517.0414  0.5415  -2.9926   3  381.9187  13  21001   303    6 2 4    6 2 5\n",
      "569738.5309  0.8023  -2.9891   3  677.1191  17  21001   303    8 3 6    7 4 3\n",
      "572004.2333   0.625  -5.4468   3  629.9699  17  21001   303    8 2 6    9 0 9\n",
      "592405.7182  0.1678  -1.0888   3   45.8986   5  21001   303    2 1 1    2 0 2\n",
      "609743.7441  2.1508  -3.9953   3 1072.6886  17  21001   303    8 6 3    9 5 4\n",
      "613024.9199  2.1172  -3.9906   3 1072.5798  17  21001   303    8 6 2    9 5 5\n",
      "636176.0048   0.905   -2.521   3  465.5834  15  21001   303    7 2 6    6 3 3\n",
      "640077.3041  9.6846  -5.5672   3  1017.975  23  21001   303   11 110   10 3 7\n",
      "659496.7216 47.0997  -6.6933   3 1586.9733  27  21001   303   13 310   12 5 7\n",
      "Length = 223 rows\n"
     ]
    }
   ],
   "source": [
    "response2 = JPLSpec.query_lines(min_frequency=100 * u.GHz, \n",
    "                               max_frequency=700 * u.GHz,\n",
    "                               min_strength=-500,\n",
    "                               molecule= \"^H[2D]O(-\\d\\d|)$\", #matches any H2O and HDO isotopes\n",
    "                               parse_name_locally=True) #in order to process the molecule parameter as a regex\n",
    "\n",
    "print(response2)"
   ]
  },
  {
   "cell_type": "markdown",
   "metadata": {},
   "source": [
    "Some columns are automatically outputted as ``astropy.units.quantity`` type, this means that they are values with assigned units and through the functionalities of ``astropy.units`` they can be manipulated. The units of the columns of the query can be displayed by calling ``response.info``, where ``response`` is what you named your results from the query:"
   ]
  },
  {
   "cell_type": "code",
   "execution_count": 6,
   "metadata": {
    "collapsed": false
   },
   "outputs": [
    {
     "name": "stdout",
     "output_type": "stream",
     "text": [
      "<Table length=7>\n",
      " name  dtype    unit \n",
      "----- ------- -------\n",
      " FREQ float64     MHz\n",
      "  ERR float64     MHz\n",
      "LGINT float64 MHz nm2\n",
      "   DR   int64        \n",
      "  ELO float64  1 / cm\n",
      "  GUP   int64        \n",
      "  TAG   int64        \n",
      "QNFMT   int64        \n",
      "  QN'   int64        \n",
      "  QN\"   int64        \n",
      "\n"
     ]
    }
   ],
   "source": [
    "print(response.info) #print metadata of Frequency column from response query"
   ]
  },
  {
   "cell_type": "markdown",
   "metadata": {},
   "source": [
    "Having this information comes in handy for converting to other units easily, an example using the data queried from above is shown below:"
   ]
  },
  {
   "cell_type": "code",
   "execution_count": 7,
   "metadata": {
    "collapsed": false
   },
   "outputs": [
    {
     "name": "stdout",
     "output_type": "stream",
     "text": [
      "[115.2712018 230.538     345.7959899 461.0407682 576.2679305 691.4730763\n",
      " 806.651806 ] GHz\n"
     ]
    }
   ],
   "source": [
    "convert = response['FREQ'].to('GHz') #draws out the first frequency found in 'FREQ' column and converts to GHz\n",
    "\n",
    "print(convert)"
   ]
  },
  {
   "cell_type": "markdown",
   "metadata": {},
   "source": [
    "Partition Functions\n",
    "------------------\n",
    "\n",
    "Obtaining the partition functions at certain temperatures for a specific molecule is possible with a search in one of the catalog's files: `catdir.cat`, which is installed locally along with the package. \n",
    "\n",
    "The resulting partition functions are found under the `QLOG#` results.\n",
    "\n",
    "To find a certain molecule one can use `astropy.Table` indexing, one can search by exact tag number (i.e. 28001) or by ASCII name of the species (i.e. 'CO')\n",
    "\n",
    "The following examples show how to access and search for a molecule in this catalog file, and even how to access metadata to find out the temperature for a specific partition function of interest."
   ]
  },
  {
   "cell_type": "code",
   "execution_count": 8,
   "metadata": {
    "collapsed": false
   },
   "outputs": [
    {
     "name": "stdout",
     "output_type": "stream",
     "text": [
      " TAG  NAME NLINE QLOG1  QLOG2  QLOG3 QLOG4  QLOG5  QLOG6  QLOG7  VER\n",
      "----- ---- ----- ------ ------ ----- ------ ------ ------ ------ ---\n",
      "18003  H2O  1376 2.2507 2.0645 1.804 1.3649 0.9335 0.4819 0.0994  6*\n",
      "{'Temperature (K)': 300}\n"
     ]
    }
   ],
   "source": [
    "cat = JPLSpec.get_species_table() \n",
    "\n",
    "mol = cat[cat['NAME'] == 'H2O'] #saving information only for a specific molecule of interest using ASCII Name\n",
    "\n",
    "print(mol)\n",
    "\n",
    "temp = mol['QLOG1'].meta #access the temperature of the partition function of interest from the column metadata\n",
    "\n",
    "print(temp)"
   ]
  },
  {
   "cell_type": "markdown",
   "metadata": {},
   "source": [
    "This is a key functionality of JPLSpec, since the  partition functions are readily accessible. Through curve-fitting/interpolation, the partition functions can be calculated at any temperature, as seen below:"
   ]
  },
  {
   "cell_type": "code",
   "execution_count": 9,
   "metadata": {
    "collapsed": false
   },
   "outputs": [
    {
     "name": "stdout",
     "output_type": "stream",
     "text": [
      "74.41721685721285\n"
     ]
    }
   ],
   "source": [
    "temp = cat.meta['Temperature (K)'] #obtain the list of all available temperatures from the table metadata\n",
    "\n",
    "part = list(mol['QLOG1','QLOG2','QLOG3', 'QLOG4', 'QLOG5','QLOG6',\n",
    "                'QLOG7'][0]) #obtain the list of partition functions from the table results\n",
    "\n",
    "import numpy as np\n",
    "from scipy.optimize import curve_fit #or your fitting algorithm of preference (interp1d works too)\n",
    "\n",
    "def f(T,a):#model function for nonlinear molecules like in our case: H2O\n",
    "    return np.log10(a*T**(1.5)) #for linear molecules, the dependence is expected to be linear in the log scale.\n",
    "\n",
    "param, cov = curve_fit(f,temp,part,bounds=(0.00001, np.inf)) #this is all scipy.optimize: performs the fit & returns parameters and covariance\n",
    "\n",
    "part160 = 10**(f(160.,param[0])) #partition function at temp = 160 with the new fit parameters; get rid of log base 10. \n",
    "\n",
    "print(part160) \n"
   ]
  },
  {
   "cell_type": "markdown",
   "metadata": {},
   "source": [
    "You can also give a range to the function and plot your partition function and its curve fit:"
   ]
  },
  {
   "cell_type": "code",
   "execution_count": 10,
   "metadata": {
    "collapsed": false
   },
   "outputs": [
    {
     "data": {
      "image/png": "[encoded data removed]",
      "text/plain": [
       "<matplotlib.figure.Figure at 0x118c61b70>"
      ]
     },
     "metadata": {},
     "output_type": "display_data"
    }
   ],
   "source": [
    "import matplotlib.pyplot as plt #for plotting\n",
    "\n",
    "tl = np.linspace(5,305) #set up a range of x values, Temperatures in this case. \n",
    "pl = f(tl,param[0]) #obtain partition function values for each temperature given. \n",
    "plt.scatter(temp,part,c='r') #plot a scaterplot of the original data\n",
    "plt.plot(tl,pl,'k') #plot the curve fit on top of the data\n",
    "plt.title('Partition Function vs Temperature') #name the graph\n",
    "plt.xlabel('Log10 of Temperature Function') #labels\n",
    "plt.ylabel('Log10 of Partition Function')\n",
    "plt.show()"
   ]
  },
  {
   "cell_type": "markdown",
   "metadata": {},
   "source": [
    "This astroquery module is useful for the calculations of values such as the production rates in sbpy. The `sbpy.data.Phys` function from_jplspec is used to extract data from this module and add it into an sbpy data frame for further use. The following example shows how this works:"
   ]
  },
  {
   "cell_type": "code",
   "execution_count": 11,
   "metadata": {
    "collapsed": false
   },
   "outputs": [],
   "source": [
    "temp_estimate = 47. * u.K # kinetic temperature\n",
    "\n",
    "mol_tag = 28001 # JPLSpec unique identifier\n",
    "\n",
    "transition_freq = (345.7 * u.GHz).to('MHz') # Transition frequency\n",
    "\n",
    "mol_data = Phys.from_jplspec(temp_estimate, transition_freq, mol_tag) # build Phys object"
   ]
  },
  {
   "cell_type": "markdown",
   "metadata": {},
   "source": [
    "Once the phys object has been created, one can access all the information given by `astroquery.jplspec` as well as the partition function at the desired temperature:"
   ]
  },
  {
   "cell_type": "code",
   "execution_count": 12,
   "metadata": {
    "collapsed": false
   },
   "outputs": [
    {
     "name": "stdout",
     "output_type": "stream",
     "text": [
      "[2.29136526e-22] J\n",
      "degfreedom\n",
      "----------\n",
      "         2\n",
      "      partfn     \n",
      "-----------------\n",
      "17.05551276908476\n"
     ]
    }
   ],
   "source": [
    "print(mol_data['elo_j']) # print energy of lower level\n",
    "print(mol_data['degfr']) # print degrees of freedom\n",
    "print(mol_data['partfn']) # print interpolated partition function at desired temp"
   ]
  },
  {
   "cell_type": "markdown",
   "metadata": {},
   "source": [
    "Regular expressions can also be used as molecule identifiers since `astroquery.jplspec` provides the functionality. \n",
    "It is important to understand regular expressions and how to use them in a way that gets the user exactly what they\n",
    "want. If the user is unfamiliar with regular expressions, using the JPL Spectral catalog unique identifier is\n",
    "the best course of action. \n",
    "\n",
    "Hint: in regular expressions, putting something between '^' and '\\$' will match the \n",
    "literal text in between. This is useful to remember in order to avoid matching unnecessary terms.\n",
    "i.e. using 'co' will match 'co', 'co2', 'hco' so you would want to input '^co$' to avoid such nuances"
   ]
  },
  {
   "cell_type": "code",
   "execution_count": 13,
   "metadata": {
    "collapsed": false
   },
   "outputs": [
    {
     "name": "stdout",
     "output_type": "stream",
     "text": [
      "[2.29136526e-22] J\n",
      "degfreedom\n",
      "----------\n",
      "         2\n",
      "      partfn     \n",
      "-----------------\n",
      "17.05551276908476\n"
     ]
    }
   ],
   "source": [
    "mol_tag = '^CO$'\n",
    "\n",
    "mol_data = Phys.from_jplspec(temp_estimate, transition_freq, mol_tag) # build Phys object\n",
    "\n",
    "print(mol_data['elo_j']) # print energy of lower level\n",
    "print(mol_data['degfr']) # print degrees of freedom\n",
    "print(mol_data['partfn']) # print interpolated partition function at desired temp"
   ]
  }
 ],
 "metadata": {
  "kernelspec": {
   "display_name": "Python 3",
   "language": "python",
   "name": "python3"
  },
  "language_info": {
   "codemirror_mode": {
    "name": "ipython",
    "version": 3
   },
   "file_extension": ".py",
   "mimetype": "text/x-python",
   "name": "python",
   "nbconvert_exporter": "python",
   "pygments_lexer": "ipython3",
   "version": "3.6.8"
  }
 },
 "nbformat": 4,
 "nbformat_minor": 2
}
