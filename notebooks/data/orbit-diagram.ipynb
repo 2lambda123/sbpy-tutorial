{
 "cells": [
  {
   "cell_type": "code",
   "execution_count": 2,
   "metadata": {},
   "outputs": [],
   "source": [
    "import matplotlib.pyplot as plt\n",
    "from astropy.time import Time\n",
    "from sbpy.data import Orbit"
   ]
  },
  {
   "cell_type": "code",
   "execution_count": 3,
   "metadata": {},
   "outputs": [],
   "source": [
    "obs_dates = {\n",
    "    'spitzer': Time(['2007-12-08', '2008-01-17', '2008-04-24', \n",
    "                     '2008-05-24', '2008-07-02']),\n",
    "    'bass': Time('2018-12-10')\n",
    "}"
   ]
  },
  {
   "cell_type": "code",
   "execution_count": 17,
   "metadata": {},
   "outputs": [],
   "source": [
    "comet = Orbit.from_horizons(\n",
    "        '46P', 'designation', epochs=(obs_dates['spitzer'].jd.mean(), obs_dates['bass']),\n",
    "        closest_apparition=True)\n",
    "planets = Orbit.from_horizons((399, 599), 'majorbody', epochs=obs_dates['bass'])"
   ]
  }
 ],
 "metadata": {
  "kernelspec": {
   "display_name": "Python 3",
   "language": "python",
   "name": "python3"
  },
  "language_info": {
   "codemirror_mode": {
    "name": "ipython",
    "version": 3
   },
   "file_extension": ".py",
   "mimetype": "text/x-python",
   "name": "python",
   "nbconvert_exporter": "python",
   "pygments_lexer": "ipython3",
   "version": "3.6.8"
  }
 },
 "nbformat": 4,
 "nbformat_minor": 2
}
