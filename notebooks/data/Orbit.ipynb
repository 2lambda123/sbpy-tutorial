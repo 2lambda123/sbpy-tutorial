{
 "cells": [
  {
   "cell_type": "markdown",
   "metadata": {},
   "source": [
    "sbpy.data.Orbit Example Notebooks\n",
    "=================================\n",
    "\n",
    "[sbpy.data.Orbit](https://sbpy.readthedocs.io/en/latest/api/sbpy.data.Orbit.html#sbpy.data.Orbit) provides functionality to query, propagate, transform, modify, and store orbital element information."
   ]
  },
  {
   "cell_type": "markdown",
   "metadata": {},
   "source": [
    "Querying Orbital Elements from JPL Horizons\n",
    "--------------------------------------------\n",
    "\n",
    "Query the orbital elements of an asteroid and a comet using [sbpy.data.Orbit.from_horizons](https://sbpy.readthedocs.io/en/latest/api/sbpy.data.Orbit.html#sbpy.data.Orbit.from_horizons) using the current epoch:"
   ]
  },
  {
   "cell_type": "code",
   "execution_count": 1,
   "metadata": {},
   "outputs": [
    {
     "data": {
      "text/html": [
       "<i>QTable masked=True length=2</i>\n",
       "<table id=\"table140683632327312\" class=\"table-striped table-bordered table-condensed\">\n",
       "<thead><tr><th>targetname</th><th>datetime_jd</th><th>datetime_str</th><th>H</th><th>G</th><th>e</th><th>q</th><th>incl</th><th>Omega</th><th>w</th><th>Tp_jd</th><th>n</th><th>M</th><th>nu</th><th>a</th><th>Q</th><th>P</th><th>M1</th><th>M2</th><th>k1</th><th>k2</th><th>phasecoeff</th><th>timescale</th></tr></thead>\n",
       "<thead><tr><th></th><th>d</th><th></th><th>mag</th><th></th><th></th><th>AU</th><th>deg</th><th>deg</th><th>deg</th><th>d</th><th>deg / d</th><th>deg</th><th>deg</th><th>AU</th><th>AU</th><th>d</th><th>mag</th><th>mag</th><th></th><th></th><th>mag / deg</th><th></th></tr></thead>\n",
       "<thead><tr><th>str26</th><th>float64</th><th>str30</th><th>float64</th><th>float64</th><th>float64</th><th>float64</th><th>float64</th><th>float64</th><th>float64</th><th>float64</th><th>float64</th><th>float64</th><th>float64</th><th>float64</th><th>float64</th><th>float64</th><th>float64</th><th>float64</th><th>float64</th><th>float64</th><th>float64</th><th>str2</th></tr></thead>\n",
       "<tr><td>3552 Don Quixote (1983 SA)</td><td>2458410.730872227</td><td>A.D. 2018-Oct-19 05:32:27.3604</td><td>12.9</td><td>0.15</td><td>0.7087862763535184</td><td>1.240062605802991</td><td>31.08241748494065</td><td>350.0118849903606</td><td>316.4381199080649</td><td>2458246.08711182</td><td>0.1121647552328742</td><td>18.46722708669299</td><td>95.94169284903194</td><td>4.258256068001668</td><td>7.276449530200344</td><td>3209.564352479309</td><td>0.0</td><td>0.0</td><td>--</td><td>--</td><td>0.0</td><td>TT</td></tr>\n",
       "<tr><td>259P/Garradd</td><td>2458410.730872227</td><td>A.D. 2018-Oct-19 05:32:27.3604</td><td>0.0</td><td>--</td><td>0.3379290604987735</td><td>1.808782236674008</td><td>15.8892364734916</td><td>51.48234438815721</td><td>257.5196386084698</td><td>2457969.609779589</td><td>0.2182636612184428</td><td>96.2807047198185</td><td>130.8726871463021</td><td>2.732006691060418</td><td>3.655231145446827</td><td>1649.381294120713</td><td>13.7</td><td>18.9</td><td>22.0</td><td>5.0</td><td>0.03</td><td>TT</td></tr>\n",
       "</table>"
      ],
      "text/plain": [
       "<QTable masked=True length=2>\n",
       "        targetname            datetime_jd    ... phasecoeff timescale\n",
       "                                   d         ... mag / deg           \n",
       "          str26                 float64      ...  float64      str2  \n",
       "-------------------------- ----------------- ... ---------- ---------\n",
       "3552 Don Quixote (1983 SA) 2458410.730872227 ...        0.0        TT\n",
       "              259P/Garradd 2458410.730872227 ...       0.03        TT"
      ]
     },
     "execution_count": 1,
     "metadata": {},
     "output_type": "execute_result"
    }
   ],
   "source": [
    "from sbpy.data import Orbit\n",
    "\n",
    "orb = Orbit.from_horizons(['3552', '259P'])\n",
    "orb.table"
   ]
  },
  {
   "cell_type": "markdown",
   "metadata": {},
   "source": [
    "Orbit Transformations using OpenOrb\n",
    "-----------------------------------\n",
    "\n",
    "`sbpy.data.Orbit.oo_transform` provides a way to transform orbital elements between different definitions: Keplerian (`'KEP'`), cometary (`'COM'`), and cartesian (`'CART'`) among others. This function requires [pyoorb](https://github.com/oorb/oorb/tree/master/python) to be installed.\n",
    "\n",
    "You can use the following code snippet to do orbit transformations locally on your computer:"
   ]
  },
  {
   "cell_type": "code",
   "execution_count": 2,
   "metadata": {},
   "outputs": [
    {
     "name": "stdout",
     "output_type": "stream",
     "text": [
      "Keplerian orbit:\n",
      " targetname    datetime_jd    ...         P         timescale\n",
      "                   d         ...         d                  \n",
      "---------- ----------------- ... ----------------- ---------\n",
      "   1 Ceres 2458410.730907195 ... 1681.545032443927        TT \n",
      "\n",
      "\n",
      "Cometary orbit:\n",
      "    id           q                  e          ...  H    G   timescale\n",
      "                AU                            ... mag                \n",
      "------- ----------------- ------------------- ... ---- ---- ---------\n",
      "1 Ceres 2.558122901563178 0.07562536030754004 ... 3.34 0.12        TT \n",
      "\n",
      "\n",
      "Cartesian orbit:\n",
      "    id            x                   y          ...  H    G   timescale\n",
      "                 AU                  AU         ... mag                \n",
      "------- ------------------- ------------------- ... ---- ---- ---------\n",
      "1 Ceres -2.4623991403065046 -0.7396494086769493 ... 3.34 0.12        TT \n",
      "\n",
      "\n"
     ]
    }
   ],
   "source": [
    "from sbpy.data import Orbit\n",
    "\n",
    "orbit = Orbit.from_horizons('Ceres')\n",
    "\n",
    "com = Orbit.oo_transform(orbit, 'COM') # to cometary orbit\n",
    "cart = Orbit.oo_transform(orbit, 'CART') # to cartesian orbit\n",
    "\n",
    "print('Keplerian orbit:\\n', orbit.table, '\\n\\n')\n",
    "print('Cometary orbit:\\n', com.table, '\\n\\n')\n",
    "print('Cartesian orbit:\\n', cart.table, '\\n\\n')\n"
   ]
  },
  {
   "cell_type": "markdown",
   "metadata": {},
   "source": [
    "Propagating Orbits with OpenOrb\n",
    "------------------------------------\n",
    "\n",
    "You can use the following code snippet using `sbpy.data.Orbit.oo_propagate` to propagate the orbit of Ceres 100 years into the future:"
   ]
  },
  {
   "cell_type": "code",
   "execution_count": 3,
   "metadata": {},
   "outputs": [
    {
     "name": "stdout",
     "output_type": "stream",
     "text": [
      "Current orbit:\n",
      "         a                incl      \n",
      "        AU               deg       \n",
      "----------------- -----------------\n",
      "2.767409221113385 10.59362312314777 \n",
      "\n",
      "\n",
      "Future orbit:\n",
      "         a                 incl       \n",
      "        AU                deg        \n",
      "------------------ ------------------\n",
      "2.7666783708393687 10.586581551573762 \n",
      "\n",
      "\n"
     ]
    }
   ],
   "source": [
    "from sbpy.data import Orbit\n",
    "from astropy.time import Time\n",
    "\n",
    "orbit = Orbit.from_horizons('Ceres')\n",
    "\n",
    "new_orbit = orbit.oo_propagate(2454531.2313)\n",
    "\n",
    "print('Current orbit:\\n', orbit['a', 'i'], '\\n\\n')\n",
    "print('Future orbit:\\n', new_orbit['a', 'i'], '\\n\\n')"
   ]
  },
  {
   "cell_type": "code",
   "execution_count": null,
   "metadata": {},
   "outputs": [],
   "source": []
  }
 ],
 "metadata": {
  "kernelspec": {
   "display_name": "Python 3",
   "language": "python",
   "name": "python3"
  },
  "language_info": {
   "codemirror_mode": {
    "name": "ipython",
    "version": 3
   },
   "file_extension": ".py",
   "mimetype": "text/x-python",
   "name": "python",
   "nbconvert_exporter": "python",
   "pygments_lexer": "ipython3",
   "version": "3.6.4"
  }
 },
 "nbformat": 4,
 "nbformat_minor": 2
}
