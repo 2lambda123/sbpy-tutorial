{
 "cells": [
  {
   "cell_type": "markdown",
   "metadata": {},
   "source": [
    "sbpy.data.Orbit Example Notebooks\n",
    "=================================\n",
    "\n",
    "[sbpy.data.Orbit](https://sbpy.readthedocs.io/en/latest/api/sbpy.data.Orbit.html#sbpy.data.Orbit) provides functionality to query, propagate, transform, modify, and store orbital element information."
   ]
  },
  {
   "cell_type": "markdown",
   "metadata": {},
   "source": [
    "Querying Orbital Elements from JPL Horizons\n",
    "--------------------------------------------\n",
    "\n",
    "Query the orbital elements of an asteroid and a comet using [sbpy.data.Orbit.from_horizons](https://sbpy.readthedocs.io/en/latest/api/sbpy.data.Orbit.html#sbpy.data.Orbit.from_horizons) using the current epoch:"
   ]
  },
  {
   "cell_type": "code",
   "execution_count": 1,
   "metadata": {},
   "outputs": [
    {
     "name": "stdout",
     "output_type": "stream",
     "text": [
      "        targetname            datetime_jd    ...  k2 phasecoeff\n",
      "                                   d         ...     mag / deg \n",
      "-------------------------- ----------------- ... --- ----------\n",
      "3552 Don Quixote (1983 SA) 2458377.524193173 ...  --        0.0\n",
      "              259P/Garradd 2458377.524193173 ... 5.0       0.03\n"
     ]
    }
   ],
   "source": [
    "from sbpy.data import Orbit\n",
    "\n",
    "orb = Orbit.from_horizons(['3552', '259P'])\n",
    "print(orb.table)"
   ]
  },
  {
   "cell_type": "markdown",
   "metadata": {},
   "source": [
    "Orbit Transformations using OpenOrb\n",
    "-----------------------------------\n",
    "\n",
    "`sbpy.data.Orbit.oo_transform` provides a way to transform orbital elements between different definitions: Keplerian (`'KEP'`), cometary (`'COM'`), and cartesian (`'CART'`) among others. This function requires [pyoorb](https://github.com/oorb/oorb/tree/master/python) to be installed.\n",
    "\n",
    "Due to a slight complication, it is currently not possible to run `from_oo` in a jupyter notebook. We are working on this problem.\n",
    "\n",
    "You can use the following code snippet to do orbit transformations locally on your computer:"
   ]
  },
  {
   "cell_type": "code",
   "execution_count": 2,
   "metadata": {},
   "outputs": [],
   "source": [
    "from sbpy.data import Orbit\n",
    "\n",
    "orbit = Orbit.from_horizons('Ceres')\n",
    "\n",
    "com = Orbit.oo_transform(orbit, 'COM') # to cometary orbit\n",
    "cart = Orbit.oo_transform(orbit, 'CART') # to cartesian orbit"
   ]
  },
  {
   "cell_type": "markdown",
   "metadata": {},
   "source": [
    "Propagating Orbits with OpenOrb\n",
    "------------------------------------\n",
    "\n",
    "You can use the following code snippet using `sbpy.data.Orbit.oo_propagate` to propagate the orbit of Ceres 100 years into the future:"
   ]
  },
  {
   "cell_type": "code",
   "execution_count": 3,
   "metadata": {},
   "outputs": [],
   "source": [
    "from sbpy.data import Orbit\n",
    "from astropy.time import Time\n",
    "\n",
    "orbit = Orbit.from_horizons('Ceres')\n",
    "\n",
    "new_orbit = orbit.oo_propagate(2454531.2313)"
   ]
  }
 ],
 "metadata": {
  "kernelspec": {
   "display_name": "Python 3",
   "language": "python",
   "name": "python3"
  },
  "language_info": {
   "codemirror_mode": {
    "name": "ipython",
    "version": 3
   },
   "file_extension": ".py",
   "mimetype": "text/x-python",
   "name": "python",
   "nbconvert_exporter": "python",
   "pygments_lexer": "ipython3",
   "version": "3.6.4"
  }
 },
 "nbformat": 4,
 "nbformat_minor": 2
}
