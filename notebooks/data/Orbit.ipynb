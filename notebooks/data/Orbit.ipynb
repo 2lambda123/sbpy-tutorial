{
 "cells": [
  {
   "cell_type": "markdown",
   "metadata": {},
   "source": [
    "sbpy.data.Orbit Example Notebooks\n",
    "=================================\n",
    "\n",
    "[sbpy.data.Orbit](https://sbpy.readthedocs.io/en/latest/api/sbpy.data.Orbit.html#sbpy.data.Orbit) provides functionality to query, propagate, transform, modify, and store orbital element information."
   ]
  },
  {
   "cell_type": "markdown",
   "metadata": {},
   "source": [
    "Querying Orbital Elements from JPL Horizons\n",
    "--------------------------------------------\n",
    "\n",
    "Query the orbital elements of an asteroid and a comet using [sbpy.data.Orbit.from_horizons](https://sbpy.readthedocs.io/en/latest/api/sbpy.data.Orbit.html#sbpy.data.Orbit.from_horizons) using the current epoch:"
   ]
  },
  {
   "cell_type": "code",
   "execution_count": 1,
   "metadata": {},
   "outputs": [
    {
     "data": {
      "text/html": [
       "<i>QTable masked=True length=2</i>\n",
       "<table id=\"table140085114507896\" class=\"table-striped table-bordered table-condensed\">\n",
       "<thead><tr><th>targetname</th><th>H</th><th>G</th><th>e</th><th>q</th><th>incl</th><th>Omega</th><th>w</th><th>n</th><th>M</th><th>nu</th><th>a</th><th>Q</th><th>P</th><th>M1</th><th>M2</th><th>k1</th><th>k2</th><th>phasecoeff</th><th>epoch</th><th>Tp</th></tr></thead>\n",
       "<thead><tr><th></th><th>mag</th><th></th><th></th><th>AU</th><th>deg</th><th>deg</th><th>deg</th><th>deg / d</th><th>deg</th><th>deg</th><th>AU</th><th>AU</th><th>d</th><th>mag</th><th>mag</th><th></th><th></th><th>mag / deg</th><th></th><th></th></tr></thead>\n",
       "<thead><tr><th>str26</th><th>float64</th><th>float64</th><th>float64</th><th>float64</th><th>float64</th><th>float64</th><th>float64</th><th>float64</th><th>float64</th><th>float64</th><th>float64</th><th>float64</th><th>float64</th><th>float64</th><th>float64</th><th>float64</th><th>float64</th><th>float64</th><th>object</th><th>object</th></tr></thead>\n",
       "<tr><td>3552 Don Quixote (1983 SA)</td><td>12.9</td><td>0.15</td><td>0.708873006021498</td><td>1.240029663332951</td><td>31.0809810836854</td><td>349.9948948589314</td><td>316.4587109305686</td><td>0.1121191190384676</td><td>51.04274848127401</td><td>136.2895122338643</td><td>4.259411490452586</td><td>7.278793317572221</td><td>3210.870751459306</td><td>0.0</td><td>0.0</td><td>--</td><td>--</td><td>0.0</td><td>2458701.378580046</td><td>2458246.123946233</td></tr>\n",
       "<tr><td>259P/Garradd</td><td>0.0</td><td>--</td><td>0.3381477336373441</td><td>1.807978280713503</td><td>15.88818369981303</td><td>51.47712719625085</td><td>257.524828671915</td><td>0.2183010632311895</td><td>159.7041096196691</td><td>169.2697697891138</td><td>2.731694628243273</td><td>3.655410975773044</td><td>1649.098701909417</td><td>13.7</td><td>18.9</td><td>22.0</td><td>5.0</td><td>0.03</td><td>2458701.378580046</td><td>2457969.801247092</td></tr>\n",
       "</table>"
      ],
      "text/plain": [
       "<QTable masked=True length=2>\n",
       "        targetname            H    ...       epoch               Tp       \n",
       "                             mag   ...                                    \n",
       "          str26            float64 ...       object            object     \n",
       "-------------------------- ------- ... ----------------- -----------------\n",
       "3552 Don Quixote (1983 SA)    12.9 ... 2458701.378580046 2458246.123946233\n",
       "              259P/Garradd     0.0 ... 2458701.378580046 2457969.801247092"
      ]
     },
     "execution_count": 1,
     "metadata": {},
     "output_type": "execute_result"
    }
   ],
   "source": [
    "from sbpy.data import Orbit\n",
    "\n",
    "orb = Orbit.from_horizons(['3552', '259P'])\n",
    "orb.table"
   ]
  },
  {
   "cell_type": "markdown",
   "metadata": {},
   "source": [
    "Orbit Transformations using OpenOrb\n",
    "-----------------------------------\n",
    "\n",
    "`sbpy.data.Orbit.oo_transform` provides a way to transform orbital elements between different definitions: Keplerian (`'KEP'`), cometary (`'COM'`), and cartesian (`'CART'`) among others. This function requires [pyoorb](https://github.com/oorb/oorb/tree/master/python) to be installed.\n",
    "\n",
    "You can use the following code snippet to do orbit transformations locally on your computer:"
   ]
  },
  {
   "cell_type": "code",
   "execution_count": 2,
   "metadata": {},
   "outputs": [
    {
     "name": "stdout",
     "output_type": "stream",
     "text": [
      "Keplerian orbit:\n",
      " targetname  H    G   ...         P              epoch              Tp       \n",
      "           mag       ...         d                                          \n",
      "---------- ---- ---- ... ----------------- ---------------- ----------------\n",
      "   1 Ceres 3.34 0.12 ... 1683.795566269366 2458701.37858976 2458239.63526403 \n",
      "\n",
      "\n",
      "Cometary orbit:\n",
      "    id           q                  e          ... epoch_scale  H    G  \n",
      "                AU                            ...             mag      \n",
      "------- ----------------- ------------------- ... ----------- ---- ----\n",
      "1 Ceres 2.558579007301848 0.07628454695693329 ...         3.0 3.34 0.12 \n",
      "\n",
      "\n",
      "Cartesian orbit:\n",
      "    id            x                  y          ... epoch_scale  H    G  \n",
      "                 AU                 AU         ...             mag      \n",
      "------- ------------------- ------------------ ... ----------- ---- ----\n",
      "1 Ceres -0.4269592679330797 -2.784787072865794 ...         3.0 3.34 0.12 \n",
      "\n",
      "\n"
     ]
    }
   ],
   "source": [
    "from sbpy.data import Orbit\n",
    "\n",
    "orbit = Orbit.from_horizons('Ceres')\n",
    "\n",
    "com = Orbit.oo_transform(orbit, 'COM') # to cometary orbit\n",
    "cart = Orbit.oo_transform(orbit, 'CART') # to cartesian orbit\n",
    "\n",
    "print('Keplerian orbit:\\n', orbit.table, '\\n\\n')\n",
    "print('Cometary orbit:\\n', com.table, '\\n\\n')\n",
    "print('Cartesian orbit:\\n', cart.table, '\\n\\n')\n"
   ]
  },
  {
   "cell_type": "markdown",
   "metadata": {},
   "source": [
    "Propagating Orbits with OpenOrb\n",
    "------------------------------------\n",
    "\n",
    "You can use the following code snippet using `sbpy.data.Orbit.oo_propagate` to propagate the orbit of Ceres 100 years into the future:"
   ]
  },
  {
   "cell_type": "code",
   "execution_count": 3,
   "metadata": {},
   "outputs": [
    {
     "name": "stdout",
     "output_type": "stream",
     "text": [
      "Current orbit:\n",
      " <QTable length=1>\n",
      "        a                incl      \n",
      "        AU               deg       \n",
      "     float64           float64     \n",
      "----------------- -----------------\n",
      "2.769877887064962 10.59378314031339 \n",
      "\n",
      "\n",
      "Future orbit:\n",
      " <QTable length=1>\n",
      "        a                 incl       \n",
      "        AU                deg        \n",
      "     float64            float64      \n",
      "------------------ ------------------\n",
      "2.7666783768511665 10.586581269551031 \n",
      "\n",
      "\n"
     ]
    }
   ],
   "source": [
    "from sbpy.data import Orbit\n",
    "from astropy.time import Time\n",
    "\n",
    "orbit = Orbit.from_horizons('Ceres')\n",
    "\n",
    "new_orbit = orbit.oo_propagate(Time(2454531.2313, format='jd'))\n",
    "\n",
    "print('Current orbit:\\n', orbit['a', 'i'], '\\n\\n')\n",
    "print('Future orbit:\\n', new_orbit['a', 'i'], '\\n\\n')"
   ]
  }
 ],
 "metadata": {
  "kernelspec": {
   "display_name": "Python 3",
   "language": "python",
   "name": "python3"
  },
  "language_info": {
   "codemirror_mode": {
    "name": "ipython",
    "version": 3
   },
   "file_extension": ".py",
   "mimetype": "text/x-python",
   "name": "python",
   "nbconvert_exporter": "python",
   "pygments_lexer": "ipython3",
   "version": "3.6.8"
  }
 },
 "nbformat": 4,
 "nbformat_minor": 2
}
