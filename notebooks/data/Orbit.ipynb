{
 "cells": [
  {
   "cell_type": "markdown",
   "metadata": {},
   "source": [
    "sbpy.data.Orbit Example Notebooks\n",
    "=================================\n",
    "\n",
    "[sbpy.data.Orbit](https://sbpy.readthedocs.io/en/latest/api/sbpy.data.Orbit.html#sbpy.data.Orbit) provides functionality to query, propagate, transform, modify, and store orbital element information."
   ]
  },
  {
   "cell_type": "markdown",
   "metadata": {},
   "source": [
    "Querying Orbital Elements from JPL Horizons\n",
    "--------------------------------------------\n",
    "\n",
    "Query the orbital elements of an asteroid and a comet using [sbpy.data.Orbit.from_horizons](https://sbpy.readthedocs.io/en/latest/api/sbpy.data.Orbit.html#sbpy.data.Orbit.from_horizons) using the current epoch:"
   ]
  },
  {
   "cell_type": "code",
   "execution_count": 1,
   "metadata": {},
   "outputs": [
    {
     "data": {
      "text/html": [
       "<i>QTable masked=True length=2</i>\n",
       "<table id=\"table139939734386336\" class=\"table-striped table-bordered table-condensed\">\n",
       "<thead><tr><th>targetname</th><th>H</th><th>G</th><th>e</th><th>q</th><th>incl</th><th>Omega</th><th>w</th><th>n</th><th>M</th><th>nu</th><th>a</th><th>Q</th><th>P</th><th>M1</th><th>M2</th><th>k1</th><th>k2</th><th>phasecoeff</th><th>epoch</th><th>Tp</th></tr></thead>\n",
       "<thead><tr><th></th><th>mag</th><th></th><th></th><th>AU</th><th>deg</th><th>deg</th><th>deg</th><th>deg / d</th><th>deg</th><th>deg</th><th>AU</th><th>AU</th><th>d</th><th>mag</th><th>mag</th><th></th><th></th><th>mag / deg</th><th></th><th></th></tr></thead>\n",
       "<thead><tr><th>str26</th><th>float64</th><th>float64</th><th>float64</th><th>float64</th><th>float64</th><th>float64</th><th>float64</th><th>float64</th><th>float64</th><th>float64</th><th>float64</th><th>float64</th><th>float64</th><th>float64</th><th>float64</th><th>float64</th><th>float64</th><th>float64</th><th>object</th><th>object</th></tr></thead>\n",
       "<tr><td>3552 Don Quixote (1983 SA)</td><td>12.9</td><td>0.15</td><td>0.7088735265301267</td><td>1.240029637552596</td><td>31.08098504413249</td><td>349.9947390801012</td><td>316.4589046504328</td><td>0.112118821846841</td><td>51.25263321761739</td><td>136.4314255875166</td><td>4.259419017353357</td><td>7.278808397154119</td><td>3210.879262464734</td><td>0.0</td><td>0.0</td><td>--</td><td>--</td><td>0.0</td><td>2458703.252170065</td><td>2458246.124344662</td></tr>\n",
       "<tr><td>259P/Garradd</td><td>0.0</td><td>--</td><td>0.3381492570689997</td><td>1.807972360755254</td><td>15.88817651796649</td><td>51.47706567945443</td><td>257.5249533974829</td><td>0.2183013817060264</td><td>160.1129373839696</td><td>169.4884422875637</td><td>2.73169197143855</td><td>3.655411582121847</td><td>1649.09629607746</td><td>13.7</td><td>18.9</td><td>22.0</td><td>5.0</td><td>0.03</td><td>2458703.252170065</td><td>2457969.803136748</td></tr>\n",
       "</table>"
      ],
      "text/plain": [
       "<QTable masked=True length=2>\n",
       "        targetname            H    ...       epoch               Tp       \n",
       "                             mag   ...                                    \n",
       "          str26            float64 ...       object            object     \n",
       "-------------------------- ------- ... ----------------- -----------------\n",
       "3552 Don Quixote (1983 SA)    12.9 ... 2458703.252170065 2458246.124344662\n",
       "              259P/Garradd     0.0 ... 2458703.252170065 2457969.803136748"
      ]
     },
     "execution_count": 1,
     "metadata": {},
     "output_type": "execute_result"
    }
   ],
   "source": [
    "from sbpy.data import Orbit\n",
    "\n",
    "orb = Orbit.from_horizons(['3552', '259P'])\n",
    "orb.table"
   ]
  },
  {
   "cell_type": "markdown",
   "metadata": {},
   "source": [
    "Orbit Transformations using OpenOrb\n",
    "-----------------------------------\n",
    "\n",
    "`sbpy.data.Orbit.oo_transform` provides a way to transform orbital elements between different definitions: Keplerian (`'KEP'`), cometary (`'COM'`), and cartesian (`'CART'`) among others. This function requires [pyoorb](https://github.com/oorb/oorb/tree/master/python) to be installed.\n",
    "\n",
    "You can use the following code snippet to do orbit transformations locally on your computer:"
   ]
  },
  {
   "cell_type": "code",
   "execution_count": 2,
   "metadata": {},
   "outputs": [
    {
     "name": "stdout",
     "output_type": "stream",
     "text": [
      "Keplerian orbit:\n",
      " targetname  H    G   ...         P               epoch               Tp       \n",
      "           mag       ...         d                                            \n",
      "---------- ---- ---- ... ----------------- ----------------- -----------------\n",
      "   1 Ceres 3.34 0.12 ... 1683.801515747967 2458703.252181881 2458239.648984397 \n",
      "\n",
      "\n",
      "Cometary orbit:\n",
      "    id           q                   e          ... epoch_scale  H    G  \n",
      "                AU                             ...             mag      \n",
      "------- ------------------ ------------------- ... ----------- ---- ----\n",
      "1 Ceres 2.5585684839252023 0.07629052204979339 ...         3.0 3.34 0.12 \n",
      "\n",
      "\n",
      "Cartesian orbit:\n",
      "    id            x                    y          ... epoch_scale  H    G  \n",
      "                 AU                   AU         ...             mag      \n",
      "------- -------------------- ------------------- ... ----------- ---- ----\n",
      "1 Ceres -0.40871763457121035 -2.7889382794721302 ...         3.0 3.34 0.12 \n",
      "\n",
      "\n"
     ]
    }
   ],
   "source": [
    "from sbpy.data import Orbit\n",
    "\n",
    "orbit = Orbit.from_horizons('Ceres')\n",
    "\n",
    "com = Orbit.oo_transform(orbit, 'COM') # to cometary orbit\n",
    "cart = Orbit.oo_transform(orbit, 'CART') # to cartesian orbit\n",
    "\n",
    "print('Keplerian orbit:\\n', orbit.table, '\\n\\n')\n",
    "print('Cometary orbit:\\n', com.table, '\\n\\n')\n",
    "print('Cartesian orbit:\\n', cart.table, '\\n\\n')\n"
   ]
  },
  {
   "cell_type": "markdown",
   "metadata": {},
   "source": [
    "Propagating Orbits with OpenOrb\n",
    "------------------------------------\n",
    "\n",
    "You can use the following code snippet using `sbpy.data.Orbit.oo_propagate` to propagate the orbit of Ceres 100 years into the future. This example will also produce a bibliography."
   ]
  },
  {
   "cell_type": "code",
   "execution_count": 3,
   "metadata": {},
   "outputs": [
    {
     "name": "stdout",
     "output_type": "stream",
     "text": [
      "Current orbit:\n",
      " <QTable length=1>\n",
      "        a               incl      \n",
      "        AU              deg       \n",
      "     float64          float64     \n",
      "----------------- ----------------\n",
      "2.769884411737029 10.5937657010036 \n",
      "\n",
      "\n",
      "Future orbit:\n",
      " <QTable length=1>\n",
      "        a                 incl       \n",
      "        AU                deg        \n",
      "     float64            float64      \n",
      "------------------ ------------------\n",
      "2.7666783768423975 10.586581269532852 \n",
      "\n",
      "\n"
     ]
    }
   ],
   "source": [
    "from sbpy.data import Orbit\n",
    "from astropy.time import Time\n",
    "from sbpy import bib\n",
    "\n",
    "bib.track()\n",
    "\n",
    "orbit = Orbit.from_horizons('Ceres')\n",
    "\n",
    "new_orbit = orbit.oo_propagate(Time(2454531.2313, format='jd'))\n",
    "\n",
    "print('Current orbit:\\n', orbit['a', 'i'], '\\n\\n')\n",
    "print('Future orbit:\\n', new_orbit['a', 'i'], '\\n\\n')"
   ]
  },
  {
   "cell_type": "code",
   "execution_count": 4,
   "metadata": {},
   "outputs": [
    {
     "name": "stdout",
     "output_type": "stream",
     "text": [
      "sbpy:\n",
      "  software: sbpy:\n",
      "      https://doi.org/10.21105/joss.01426\n",
      "sbpy.data.orbit.Orbit.from_horizons:\n",
      "  software: astroquery:\n",
      "      Ginsburg, Sipőcz, Brasseur et al. 2019, The Astronomical Journal, Vol 157, 3, 98\n",
      "  data source:\n",
      "      Giorgini, Yeomans, Chamberlin et al. 1996, AAS/Division for Planetary Sciences Meeting Abstracts #28, 25.04\n",
      "sbpy.data.orbit.Orbit.oo_propagate:\n",
      "  method:\n",
      "      Granvik, Virtanen, Oszkiewicz & Muinonen 2009, Meteoritics and Planetary Science, Vol 44, 12, 1853\n",
      "  software:\n",
      "      https://github.com/oorb/oorb\n",
      "\n"
     ]
    }
   ],
   "source": [
    "print(bib.to_text())"
   ]
  },
  {
   "cell_type": "code",
   "execution_count": null,
   "metadata": {},
   "outputs": [],
   "source": []
  }
 ],
 "metadata": {
  "kernelspec": {
   "display_name": "Python 3",
   "language": "python",
   "name": "python3"
  },
  "language_info": {
   "codemirror_mode": {
    "name": "ipython",
    "version": 3
   },
   "file_extension": ".py",
   "mimetype": "text/x-python",
   "name": "python",
   "nbconvert_exporter": "python",
   "pygments_lexer": "ipython3",
   "version": "3.6.8"
  }
 },
 "nbformat": 4,
 "nbformat_minor": 2
}
