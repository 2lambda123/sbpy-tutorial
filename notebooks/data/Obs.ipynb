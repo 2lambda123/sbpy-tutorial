{
 "cells": [
  {
   "cell_type": "markdown",
   "metadata": {},
   "source": [
    "sbpy.data.Obs Example Notebook\n",
    "=================================\n",
    "\n",
    "[sbpy.data.Obs](https://sbpy.readthedocs.io/en/latest/api/sbpy.data.Obs.html) provides functionality to deal with observational data. The following examples provide a brief introduction on how to use this sub-module."
   ]
  },
  {
   "cell_type": "markdown",
   "metadata": {},
   "source": [
    "Curating dense observations and plotting a lightcurve\n",
    "------------------------\n",
    "\n",
    "Dense observations are relatively short observational sequences in which one target is continuously monitored, e.g., to measure its brightness. This examples show how you can curate dense observations in an `Obs` object. The data will then be used to plot the target's lightcurve.  \n",
    "\n",
    "First, we need some data, namely the epochs of the observations and the measured magnitudes. Typically, this information would be extracted from a log file or some FITS image headers. In this case, we simply generate some synthetic epochs and magnitudes, the latter of which are modulated following a sine curve and some Gaussien noise has been added."
   ]
  },
  {
   "cell_type": "code",
   "execution_count": 1,
   "metadata": {},
   "outputs": [],
   "source": [
    "import numpy as np\n",
    "from astropy.time import Time\n",
    "import astropy.units as u\n",
    "\n",
    "# set random seed to make results reproduceable\n",
    "np.random.seed(42)\n",
    "\n",
    "epochs = Time(2451234 + np.linspace(0, 0.3, 100), format='jd')\n",
    "mag = (12.0 + 0.5*np.sin((epochs.jd-2451234)/0.05*np.pi)+np.random.normal(scale=0.2, size=100))*u.mag"
   ]
  },
  {
   "cell_type": "markdown",
   "metadata": {},
   "source": [
    "The `Obs` object can be built from a simple dictionary:"
   ]
  },
  {
   "cell_type": "code",
   "execution_count": 2,
   "metadata": {},
   "outputs": [],
   "source": [
    "from sbpy.data import Obs\n",
    "\n",
    "obs = Obs.from_dict({'epoch': epochs, 'mag': mag})"
   ]
  },
  {
   "cell_type": "code",
   "execution_count": 3,
   "metadata": {},
   "outputs": [
    {
     "data": {
      "text/plain": [
       "Text(0, 0.5, 'Magnitude')"
      ]
     },
     "execution_count": 3,
     "metadata": {},
     "output_type": "execute_result"
    },
    {
     "data": {
      "image/png": "[encoded data removed]",
      "text/plain": [
       "<Figure size 432x288 with 1 Axes>"
      ]
     },
     "metadata": {},
     "output_type": "display_data"
    }
   ],
   "source": [
    "%matplotlib inline\n",
    "import matplotlib.pyplot as plt\n",
    "\n",
    "plt.scatter(obs['epoch'].jd, obs['mag'])\n",
    "plt.ylim([13, 11])\n",
    "plt.xlabel('Time')\n",
    "plt.ylabel('Magnitude')"
   ]
  },
  {
   "cell_type": "markdown",
   "metadata": {},
   "source": [
    "This is a very simplistic example. In order to show you the full potential of `Obs`, consider the following example."
   ]
  },
  {
   "cell_type": "markdown",
   "metadata": {},
   "source": [
    "Curating sparse observations and plotting a phase curve\n",
    "------------------------------------\n",
    "\n",
    "Sparse observations are observations that are typically taken over a long period of time with varying spacing between individual data points in time. In this example, we simulate observations of asteroid `3552 Don Quixote` obtained from Maunakea on discrete nights and plot the phase curve of this asteroid."
   ]
  },
  {
   "cell_type": "markdown",
   "metadata": {},
   "source": [
    "Assume that observations were taken on these nights:"
   ]
  },
  {
   "cell_type": "code",
   "execution_count": 4,
   "metadata": {},
   "outputs": [],
   "source": [
    "from sbpy.data import Obs\n",
    "from astropy.time import Time\n",
    "\n",
    "epochs = Time(['2017-10-03', '2017-10-21', '2017-11-15', '2017-12-23', '2018-01-05', '2018-04-13'])\n",
    "\n",
    "obs = Obs.from_dict({'targetname': ['3552']*6, 'epoch': epochs}, meta={'observatory':'568'})"
   ]
  },
  {
   "cell_type": "markdown",
   "metadata": {},
   "source": [
    "We initialize `obs` with `epochs` and a 'targetname' column. The latter is required for the use of `supplement` later. We also add the observatory code in the meta data; this is not required, but comes in handy if you are dealing with a number of different `obs` objects.\n",
    "\n",
    "Magnitudes measured on these nights are as follows:"
   ]
  },
  {
   "cell_type": "code",
   "execution_count": 5,
   "metadata": {},
   "outputs": [],
   "source": [
    "mag = [[18.2, 18.4, 17.9, 18.3, 18.7],\n",
    "       [17.9, 18.1, 18.3],\n",
    "       [17.5, 18.2, 17.9, 17.8],\n",
    "       [16.9, 17.9, 17.4],\n",
    "       [17.5, 17.6],\n",
    "       [15.5, 15.9, 16.3, 15.7, 15.8]]"
   ]
  },
  {
   "cell_type": "markdown",
   "metadata": {},
   "source": [
    "Please note that each sub-list in `mag` refers to magnitudes measured on the corresponding nights defined in `epochs`. Also, no units are applied here for reasons explained below.\n",
    "\n",
    "This situation - to have observational data provided for discrete epochs - is rather common and can be cumbersome to handle if the goal is to create a `Obs` object in which each row contains the corresponding epoch and magnitude of one of the observations. It requires some skill and time to re-format the data in a form that can be used in the typical DataClass class methods.\n",
    "\n",
    "The [apply](https://sbpy.readthedocs.io/en/latest/api/sbpy.data.DataClass.html#sbpy.data.DataClass.apply) function has been designed to deal with this problem. This function re-formats an existing DataClass object and applies a new column to this object. The new data must be present as a sequence with the same length as there are rows in the DataClass object. If an element in the sequence is a sequence itself, the corresponding DataClass row is duplicated for each element in the sub-sequence. The result is a nicely formatted DataClass object.\n",
    "\n",
    "Let's have a look at how it works in this case. We want to apply the `mag` sequence on the `obs` object:"
   ]
  },
  {
   "cell_type": "code",
   "execution_count": 6,
   "metadata": {},
   "outputs": [
    {
     "data": {
      "text/plain": [
       "<QTable length=6>\n",
       "targetname          epoch         \n",
       "   str4             object        \n",
       "---------- -----------------------\n",
       "      3552 2017-10-03 00:00:00.000\n",
       "      3552 2017-10-21 00:00:00.000\n",
       "      3552 2017-11-15 00:00:00.000\n",
       "      3552 2017-12-23 00:00:00.000\n",
       "      3552 2018-01-05 00:00:00.000\n",
       "      3552 2018-04-13 00:00:00.000"
      ]
     },
     "execution_count": 6,
     "metadata": {},
     "output_type": "execute_result"
    }
   ],
   "source": [
    "obs"
   ]
  },
  {
   "cell_type": "code",
   "execution_count": 7,
   "metadata": {},
   "outputs": [
    {
     "data": {
      "text/plain": [
       "<QTable length=22>\n",
       "targetname          epoch            mag  \n",
       "                                     mag  \n",
       "   str4             object         float64\n",
       "---------- ----------------------- -------\n",
       "      3552 2017-10-03 00:00:00.000    18.2\n",
       "      3552 2017-10-03 00:00:00.000    18.4\n",
       "      3552 2017-10-03 00:00:00.000    17.9\n",
       "      3552 2017-10-03 00:00:00.000    18.3\n",
       "      3552 2017-10-03 00:00:00.000    18.7\n",
       "      3552 2017-10-21 00:00:00.000    17.9\n",
       "      3552 2017-10-21 00:00:00.000    18.1\n",
       "      3552 2017-10-21 00:00:00.000    18.3\n",
       "      3552 2017-11-15 00:00:00.000    17.5\n",
       "       ...                     ...     ...\n",
       "      3552 2017-12-23 00:00:00.000    16.9\n",
       "      3552 2017-12-23 00:00:00.000    17.9\n",
       "      3552 2017-12-23 00:00:00.000    17.4\n",
       "      3552 2018-01-05 00:00:00.000    17.5\n",
       "      3552 2018-01-05 00:00:00.000    17.6\n",
       "      3552 2018-04-13 00:00:00.000    15.5\n",
       "      3552 2018-04-13 00:00:00.000    15.9\n",
       "      3552 2018-04-13 00:00:00.000    16.3\n",
       "      3552 2018-04-13 00:00:00.000    15.7\n",
       "      3552 2018-04-13 00:00:00.000    15.8"
      ]
     },
     "execution_count": 7,
     "metadata": {},
     "output_type": "execute_result"
    }
   ],
   "source": [
    "obs.apply(mag, name='mag', unit='mag')\n",
    "obs"
   ]
  },
  {
   "cell_type": "markdown",
   "metadata": {},
   "source": [
    "Note how `apply` extended `obs` and duplicates the epochs that it was holding for each of the observations. Also note that `apply` requires a `name` and an optional `unit` for the data provided; the data itself (`mag`) are dimensionless in this case.\n",
    "\n",
    "Now we can plot the data."
   ]
  },
  {
   "cell_type": "code",
   "execution_count": 8,
   "metadata": {},
   "outputs": [
    {
     "data": {
      "text/plain": [
       "Text(0, 0.5, 'Magnitude')"
      ]
     },
     "execution_count": 8,
     "metadata": {},
     "output_type": "execute_result"
    },
    {
     "data": {
      "image/png": "[encoded data removed]",
      "text/plain": [
       "<Figure size 432x288 with 1 Axes>"
      ]
     },
     "metadata": {},
     "output_type": "display_data"
    }
   ],
   "source": [
    "%matplotlib inline\n",
    "import matplotlib.pyplot as plt\n",
    "\n",
    "plt.scatter(obs['epoch'].jd, obs['mag'])\n",
    "plt.ylim([19, 15])\n",
    "plt.xlabel('Time')\n",
    "plt.ylabel('Magnitude')"
   ]
  },
  {
   "cell_type": "markdown",
   "metadata": {},
   "source": [
    "This plot clearly shows the brightening of asteroid Don Quixote as a function of time.\n",
    "\n",
    "However, in order to get a real phase curve, we have to plot the reduced magnitude, which is corrected for distance effects, against the target's solar phase angle. Hence, we need the heliocentric distance, the distance from the observer, and the target's solar phase angle. \n",
    "\n",
    "These properties can be easily obtained using the [supplement](https://sbpy.readthedocs.io/en/latest/api/sbpy.data.Obs.html#sbpy.data.Obs.supplement) function that is part of the Obs class. This function supplements the data provided in an Obs object with ephemerides queried from one of the services available in [sbpy.data.Ephem](https://sbpy.readthedocs.io/en/latest/api/sbpy.data.Ephem.html#sbpy.data.Ephem). We choose the JPL Horizons system here:"
   ]
  },
  {
   "cell_type": "code",
   "execution_count": 9,
   "metadata": {},
   "outputs": [],
   "source": [
    "obs_sup = obs.supplement(service='jplhorizons', id_field='targetname', \n",
    "                         epoch_field='epoch', location=obs.meta['observatory'])"
   ]
  },
  {
   "cell_type": "markdown",
   "metadata": {},
   "source": [
    "The `id_field` and `epoch_field` keyword arguments define the field names for the target identifier and epoch, respectively.\n",
    "\n",
    "With the additional information, we can remove the distance module and plot the magnitudes as a function of solar phase angle."
   ]
  },
  {
   "cell_type": "code",
   "execution_count": 10,
   "metadata": {},
   "outputs": [
    {
     "data": {
      "text/plain": [
       "Text(0, 0.5, 'Reduced Magnitude')"
      ]
     },
     "execution_count": 10,
     "metadata": {},
     "output_type": "execute_result"
    },
    {
     "data": {
      "image/png": "[encoded data removed]",
      "text/plain": [
       "<Figure size 432x288 with 1 Axes>"
      ]
     },
     "metadata": {},
     "output_type": "display_data"
    }
   ],
   "source": [
    "plt.scatter(obs_sup['alpha'], obs_sup['mag']-5*np.log10(obs_sup['r'].to('au').value*obs_sup['delta'].to('au').value)*u.mag)\n",
    "plt.ylim([15, 12.5])\n",
    "plt.xlabel('Solar Phase Angle')\n",
    "plt.ylabel('Reduced Magnitude')"
   ]
  },
  {
   "cell_type": "markdown",
   "metadata": {},
   "source": [
    "This is our phase curve plot. Please have a look at the `sbpy.photometry` notebooks to learn how to perform phase curve fitting."
   ]
  },
  {
   "cell_type": "markdown",
   "metadata": {},
   "source": [
    "Retrieving observations from the Minor Planet Center\n",
    "------------------\n",
    "\n",
    "All observations of small bodies are collected at the [Minor Planet Center](https://minorplanetcenter.net/) and can be retrieved from their database. The following example shows how to retrieve and use such observations for asteroid 3552."
   ]
  },
  {
   "cell_type": "code",
   "execution_count": 11,
   "metadata": {},
   "outputs": [
    {
     "data": {
      "text/plain": [
       "<QTable masked=True length=1253>\n",
       "number  desig  discovery note1 ...         DEC           mag   band observatory\n",
       "                               ...         deg           mag                   \n",
       "int64    str7     str1    str1 ...       float64       float64 str1     str3   \n",
       "------ ------- --------- ----- ... ------------------- ------- ---- -----------\n",
       "  3552 1983 SA        --     6 ...  -5.219888888888889     0.0   --         688\n",
       "  3552 1983 SA        --     6 ...  -5.170138888888889     0.0   --         688\n",
       "  3552 1983 SA        --     ! ... -2.5810555555555554     0.0   --         675\n",
       "  3552 1983 SA        --     ! ...             -2.5685     0.0   --         675\n",
       "  3552 1983 SA         *    -- ...  11.328222222222221    14.0   --         026\n",
       "  3552 1983 SA        --    -- ...  12.618472222222223     0.0   --         026\n",
       "  3552 1983 SA        --    -- ...  14.390888888888888     0.0   --         026\n",
       "  3552 1983 SA        --    -- ...  14.403638888888889     0.0   --         026\n",
       "  3552 1983 SA        --    -- ...  14.905027777777779     0.0   --         026\n",
       "   ...     ...       ...   ... ...                 ...     ...  ...         ...\n",
       "  3552 1983 SA        --    -- ...   43.44608333333333   18.55    o         T08\n",
       "  3552 1983 SA        --    -- ...   43.44622222222222   18.63    o         T08\n",
       "  3552 1983 SA        --    -- ...   43.44602777777777   18.41    o         T08\n",
       "  3552 1983 SA        --    -- ...   43.55616666666666   18.68    o         T08\n",
       "  3552 1983 SA        --    -- ...   43.55622222222222   18.86    o         T08\n",
       "  3552 1983 SA        --    -- ...  43.556805555555556   18.64    o         T08\n",
       "  3552 1983 SA        --    -- ...  43.556527777777774   18.66    o         T08\n",
       "  3552 1983 SA        --    -- ...            43.55625   18.55    o         T08\n",
       "  3552 1983 SA        --    -- ...   43.55733333333333    18.7    o         T08\n",
       "  3552 1983 SA        --    -- ...   43.55683333333333   18.71    o         T08"
      ]
     },
     "execution_count": 11,
     "metadata": {},
     "output_type": "execute_result"
    }
   ],
   "source": [
    "from sbpy.data import Obs\n",
    "\n",
    "obs = Obs.from_mpc('3552')\n",
    "obs"
   ]
  },
  {
   "cell_type": "markdown",
   "metadata": {},
   "source": [
    "That's more than 1000 observations. In order to limit the data set, we only select observations obtained by either of the ATLAS telescopes (observatory codes `'T05'` and `'T08'`) using the `o` filter:"
   ]
  },
  {
   "cell_type": "code",
   "execution_count": 12,
   "metadata": {},
   "outputs": [],
   "source": [
    "atlas = Obs.from_table(obs[(obs['band'] == 'o') & ((obs['observatory'] == 'T05') | (obs['observatory'] == 'T08'))])"
   ]
  },
  {
   "cell_type": "markdown",
   "metadata": {},
   "source": [
    "Now we plot this rather homogeneous data set:"
   ]
  },
  {
   "cell_type": "code",
   "execution_count": 13,
   "metadata": {},
   "outputs": [
    {
     "data": {
      "text/plain": [
       "Text(0, 0.5, 'Magnitude')"
      ]
     },
     "execution_count": 13,
     "metadata": {},
     "output_type": "execute_result"
    },
    {
     "data": {
      "image/png": "[encoded data removed]",
      "text/plain": [
       "<Figure size 432x288 with 1 Axes>"
      ]
     },
     "metadata": {},
     "output_type": "display_data"
    }
   ],
   "source": [
    "plt.scatter(atlas['epoch'].jd, atlas['mag'])\n",
    "plt.ylim([19, 16])\n",
    "plt.xlabel('Time')\n",
    "plt.ylabel('Magnitude')"
   ]
  },
  {
   "cell_type": "code",
   "execution_count": null,
   "metadata": {},
   "outputs": [],
   "source": []
  }
 ],
 "metadata": {
  "kernelspec": {
   "display_name": "Python 3",
   "language": "python",
   "name": "python3"
  },
  "language_info": {
   "codemirror_mode": {
    "name": "ipython",
    "version": 3
   },
   "file_extension": ".py",
   "mimetype": "text/x-python",
   "name": "python",
   "nbconvert_exporter": "python",
   "pygments_lexer": "ipython3",
   "version": "3.6.8"
  }
 },
 "nbformat": 4,
 "nbformat_minor": 2
}
