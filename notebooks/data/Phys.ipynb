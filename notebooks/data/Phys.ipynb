{
 "cells": [
  {
   "cell_type": "markdown",
   "metadata": {},
   "source": [
    "sbpy.data.Phys Example Notebook\n",
    "=================================\n",
    "\n",
    "[sbpy.data.Phys](https://sbpy.readthedocs.io/en/latest/api/sbpy.data.Phys.html#sbpy.data.Phys) provides functionality to query and store small-body physical properties."
   ]
  },
  {
   "cell_type": "markdown",
   "metadata": {},
   "source": [
    "Querying Physical Properties from JPL SBDB\n",
    "--------------------------------------------\n",
    "\n",
    "Query the physical properties for a few asteroids:"
   ]
  },
  {
   "cell_type": "code",
   "execution_count": 1,
   "metadata": {
    "collapsed": false
   },
   "outputs": [
    {
     "name": "stdout",
     "output_type": "stream",
     "text": [
      "<TableColumns names=('targetname','H','H_sig','H_ref','H_note','G','G_sig','G_ref','G_note','diameter','diameter_sig','diameter_ref','diameter_note','extent','extent_sig','extent_ref','extent_note','GM','GM_sig','GM_ref','GM_note','density','density_sig','density_ref','density_note','rot_per','rot_per_sig','rot_per_ref','rot_per_note','albedo','albedo_sig','albedo_ref','albedo_note','BV','BV_sig','BV_ref','BV_note','UB','UB_sig','UB_ref','UB_note','spec_T','spec_T_sig','spec_T_ref','spec_T_note','spec_B','spec_B_sig','spec_B_ref','spec_B_note')>\n"
     ]
    }
   ],
   "source": [
    "from sbpy.data import Phys\n",
    "\n",
    "phys = Phys.from_sbdb(['433', 'Itokawa', '12893'])\n",
    "print(phys.column_names)"
   ]
  },
  {
   "cell_type": "markdown",
   "metadata": {},
   "source": [
    "We can calculate their volumes assuming spherical shapes:"
   ]
  },
  {
   "cell_type": "code",
   "execution_count": 2,
   "metadata": {
    "collapsed": false
   },
   "outputs": [
    {
     "data": {
      "text/plain": [
       "[('433 Eros (1898 DQ)', <Quantity 20003.90902611 km3>),\n",
       " ('25143 Itokawa (1998 SF36)', <Quantity 0.15053255 km3>),\n",
       " ('12893 Mommert (1998 QS55)', <Quantity 593.74735751 km3>)]"
      ]
     },
     "execution_count": 2,
     "metadata": {},
     "output_type": "execute_result"
    }
   ],
   "source": [
    "import numpy as np\n",
    "list(zip(phys['targetname'], 4/3*np.pi*phys['diameter']**3))"
   ]
  },
  {
   "cell_type": "markdown",
   "metadata": {},
   "source": [
    "Please keep in mind that physical properties information provided by SBDB is incomplete and scarce. Missing values are replaced with `nan`."
   ]
  },
  {
   "cell_type": "markdown",
   "metadata": {},
   "source": [
    "Querying Molecular Data from `astroquery.jplspec`\n",
    "==========================\n",
    "\n",
    "`sbpy.data.Phys` also contains a function to query molecular data that\n",
    "might be useful for various calculations such as production rate calculations.\n",
    "`sbpy.data.Phys.from_jplspec` queries the [JPL Molecular Spectroscopy Catalog](https://spec.jpl.nasa.gov/home.html) molecular properties, and stores the\n",
    "data in a `sbpy.data.Phys` object, offering the same functionality as all the\n",
    "other `sbpy.data` functions, including the use of `~astropy.units`. `sbpy.data.Phys.from_jplspec` also\n",
    "calculates the partition function at the desired temperature using log-space interpolation. For\n",
    "a briefing of how this is done look at the sbpy jplspec notebook: [jplspec notebook](jplspec.ipynb). The results\n",
    "from `sbpy.data.Phys.from_jplspec` include the following data:\n",
    "\n",
    "- Transition frequency\n",
    "- Temperature\n",
    "- Integrated line intensity at 300 K\n",
    "- Partition function at 300 K\n",
    "- Partition function at designated temperature\n",
    "- Upper state degeneracy\n",
    "- Upper level energy in Joules\n",
    "- Lower level energy in Joules\n",
    "- Degrees of freedom\n",
    "\n",
    "For the names of these fields and their alternatives, see [here](https://sbpy.readthedocs.io/en/latest/sbpy/data/fieldnames.html#id1)"
   ]
  },
  {
   "cell_type": "code",
   "execution_count": 5,
   "metadata": {
    "collapsed": true
   },
   "outputs": [],
   "source": [
    "import astropy.units as u"
   ]
  },
  {
   "cell_type": "code",
   "execution_count": 8,
   "metadata": {
    "collapsed": false
   },
   "outputs": [],
   "source": [
    "temp_estimate = 47. * u.K # kinetic temperature\n",
    "\n",
    "mol_tag = 28001 # JPLSpec unique identifier\n",
    "\n",
    "transition_freq = (345.7 * u.GHz).to('MHz') # Transition frequency\n",
    "\n",
    "mol_data = Phys.from_jplspec(temp_estimate, transition_freq, mol_tag) # build Phys object"
   ]
  },
  {
   "cell_type": "markdown",
   "metadata": {},
   "source": [
    "Once the phys object has been created, one can access all the information given by astroquery.jplspec as well as the partition function at the desired temperature:"
   ]
  },
  {
   "cell_type": "code",
   "execution_count": 9,
   "metadata": {
    "collapsed": false
   },
   "outputs": [
    {
     "name": "stdout",
     "output_type": "stream",
     "text": [
      "[2.29136526e-22] J\n",
      "degfreedom\n",
      "----------\n",
      "         2\n",
      "      partfn     \n",
      "-----------------\n",
      "17.05551276908476\n"
     ]
    }
   ],
   "source": [
    "print(mol_data['elo_j']) # print energy of lower level\n",
    "print(mol_data['degfr']) # print degrees of freedom\n",
    "print(mol_data['partfn']) # print interpolated partition function at desired temp"
   ]
  },
  {
   "cell_type": "markdown",
   "metadata": {},
   "source": [
    "Regular expressions can also be used as molecule identifiers since astroquery.jplspec provides the functionality. It is important to understand regular expressions and how to use them in a way that gets the user exactly what they want. If the user is unfamiliar with regular expressions, using the JPL Spectral catalog unique identifier is the best course of action.\n",
    "\n",
    "Hint: in regular expressions, putting something between '^' and '\\$' will match the literal text in between. This is useful to remember in order to avoid matching unnecessary terms. i.e. using 'co' will match 'co', 'co2', 'hco' so you would want to input '^co$' to avoid such nuances"
   ]
  },
  {
   "cell_type": "code",
   "execution_count": 10,
   "metadata": {
    "collapsed": false
   },
   "outputs": [
    {
     "name": "stdout",
     "output_type": "stream",
     "text": [
      "[2.29136526e-22] J\n",
      "degfreedom\n",
      "----------\n",
      "         2\n",
      "      partfn     \n",
      "-----------------\n",
      "17.05551276908476\n"
     ]
    }
   ],
   "source": [
    "mol_tag = '^CO$'\n",
    "\n",
    "mol_data = Phys.from_jplspec(temp_estimate, transition_freq, mol_tag) # build Phys object\n",
    "\n",
    "print(mol_data['elo_j']) # print energy of lower level\n",
    "print(mol_data['degfr']) # print degrees of freedom\n",
    "print(mol_data['partfn']) # print interpolated partition function at desired temp"
   ]
  }
 ],
 "metadata": {
  "kernelspec": {
   "display_name": "Python 3",
   "language": "python",
   "name": "python3"
  },
  "language_info": {
   "codemirror_mode": {
    "name": "ipython",
    "version": 3
   },
   "file_extension": ".py",
   "mimetype": "text/x-python",
   "name": "python",
   "nbconvert_exporter": "python",
   "pygments_lexer": "ipython3",
   "version": "3.6.8"
  }
 },
 "nbformat": 4,
 "nbformat_minor": 2
}
