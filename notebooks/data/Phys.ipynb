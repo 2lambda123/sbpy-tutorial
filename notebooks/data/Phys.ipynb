{
 "cells": [
  {
   "cell_type": "markdown",
   "metadata": {},
   "source": [
    "sbpy.data.Phys Example Notebook\n",
    "=================================\n",
    "\n",
    "[sbpy.data.Phys](https://sbpy.readthedocs.io/en/latest/api/sbpy.data.Phys.html#sbpy.data.Phys) provides functionality to query and store small-body physical properties."
   ]
  },
  {
   "cell_type": "markdown",
   "metadata": {},
   "source": [
    "Querying Physical Properties from JPL SBDB\n",
    "--------------------------------------------\n",
    "\n",
    "Query the physical properties for a few asteroids:"
   ]
  },
  {
   "cell_type": "code",
   "execution_count": 1,
   "metadata": {},
   "outputs": [
    {
     "name": "stdout",
     "output_type": "stream",
     "text": [
      "<TableColumns names=('targetname','H','H_sig','H_ref','H_note','G','G_sig','G_ref','G_note','diameter','diameter_sig','diameter_ref','diameter_note','extent','extent_sig','extent_ref','extent_note','GM','GM_sig','GM_ref','GM_note','density','density_sig','density_ref','density_note','rot_per','rot_per_sig','rot_per_ref','rot_per_note','albedo','albedo_sig','albedo_ref','albedo_note','BV','BV_sig','BV_ref','BV_note','UB','UB_sig','UB_ref','UB_note','spec_T','spec_T_sig','spec_T_ref','spec_T_note','spec_B','spec_B_sig','spec_B_ref','spec_B_note')>\n"
     ]
    }
   ],
   "source": [
    "from sbpy.data import Phys\n",
    "\n",
    "phys = Phys.from_sbdb(['433', 'Itokawa', '12893'])\n",
    "print(phys.column_names)"
   ]
  },
  {
   "cell_type": "markdown",
   "metadata": {},
   "source": [
    "We can calculate their volumes assumes spherical shapes:"
   ]
  },
  {
   "cell_type": "code",
   "execution_count": 2,
   "metadata": {},
   "outputs": [
    {
     "data": {
      "text/plain": [
       "[('433 Eros (1898 DQ)', <Quantity 20003.90902611 km3>),\n",
       " ('25143 Itokawa (1998 SF36)', <Quantity 0.15053255 km3>),\n",
       " ('12893 Mommert (1998 QS55)', <Quantity 593.74735751 km3>)]"
      ]
     },
     "execution_count": 2,
     "metadata": {},
     "output_type": "execute_result"
    }
   ],
   "source": [
    "import numpy as np\n",
    "list(zip(phys['targetname'], 4/3*np.pi*phys['diameter']**3))"
   ]
  },
  {
   "cell_type": "markdown",
   "metadata": {},
   "source": [
    "Please keep in mind that physical properties information provided by SBDB is incomplete and scarce. Missing values are replaced with `nan`."
   ]
  }
 ],
 "metadata": {
  "kernelspec": {
   "display_name": "Python 3",
   "language": "python",
   "name": "python3"
  },
  "language_info": {
   "codemirror_mode": {
    "name": "ipython",
    "version": 3
   },
   "file_extension": ".py",
   "mimetype": "text/x-python",
   "name": "python",
   "nbconvert_exporter": "python",
   "pygments_lexer": "ipython3",
   "version": "3.6.4"
  }
 },
 "nbformat": 4,
 "nbformat_minor": 2
}
